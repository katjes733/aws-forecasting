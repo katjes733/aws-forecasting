{
 "cells": [
  {
   "cell_type": "markdown",
   "metadata": {},
   "source": [
    "# Step 0: Initial setup"
   ]
  },
  {
   "cell_type": "markdown",
   "metadata": {},
   "source": [
    "**NOTE:** \n",
    "* Following tasks must be performed each time the notebook instance is started.\n",
    "* This is **NOT** required when the Kernel is restarted."
   ]
  },
  {
   "cell_type": "markdown",
   "metadata": {},
   "source": [
    "**NOTE:** Installation of `jupyter_bokeh` may take a while"
   ]
  },
  {
   "cell_type": "code",
   "execution_count": null,
   "metadata": {
    "tags": []
   },
   "outputs": [],
   "source": [
    "conda install -c conda-forge pyod jupyter_bokeh"
   ]
  },
  {
   "cell_type": "markdown",
   "metadata": {},
   "source": [
    "# Step 1: Basic setup"
   ]
  },
  {
   "cell_type": "markdown",
   "metadata": {},
   "source": [
    "**NOTE:** Start here when you restarted your Kernel **ONLY**."
   ]
  },
  {
   "cell_type": "markdown",
   "metadata": {},
   "source": [
    "## Step 1.1: Imports"
   ]
  },
  {
   "cell_type": "code",
   "execution_count": 1,
   "metadata": {
    "tags": []
   },
   "outputs": [
    {
     "data": {
      "text/html": [
       "    <style>\n",
       "        .bk-notebook-logo {\n",
       "            display: block;\n",
       "            width: 20px;\n",
       "            height: 20px;\n",
       "            background-image: url(data:image/png;base64,iVBORw0KGgoAAAANSUhEUgAAABQAAAAUCAYAAACNiR0NAAAABHNCSVQICAgIfAhkiAAAAAlwSFlzAAALEgAACxIB0t1+/AAAABx0RVh0U29mdHdhcmUAQWRvYmUgRmlyZXdvcmtzIENTNui8sowAAAOkSURBVDiNjZRtaJVlGMd/1/08zzln5zjP1LWcU9N0NkN8m2CYjpgQYQXqSs0I84OLIC0hkEKoPtiH3gmKoiJDU7QpLgoLjLIQCpEsNJ1vqUOdO7ppbuec5+V+rj4ctwzd8IIbbi6u+8f1539dt3A78eXC7QizUF7gyV1fD1Yqg4JWz84yffhm0qkFqBogB9rM8tZdtwVsPUhWhGcFJngGeWrPzHm5oaMmkfEg1usvLFyc8jLRqDOMru7AyC8saQr7GG7f5fvDeH7Ej8CM66nIF+8yngt6HWaKh7k49Soy9nXurCi1o3qUbS3zWfrYeQDTB/Qj6kX6Ybhw4B+bOYoLKCC9H3Nu/leUTZ1JdRWkkn2ldcCamzrcf47KKXdAJllSlxAOkRgyHsGC/zRday5Qld9DyoM4/q/rUoy/CXh3jzOu3bHUVZeU+DEn8FInkPBFlu3+nW3Nw0mk6vCDiWg8CeJaxEwuHS3+z5RgY+YBR6V1Z1nxSOfoaPa4LASWxxdNp+VWTk7+4vzaou8v8PN+xo+KY2xsw6une2frhw05CTYOmQvsEhjhWjn0bmXPjpE1+kplmmkP3suftwTubK9Vq22qKmrBhpY4jvd5afdRA3wGjFAgcnTK2s4hY0/GPNIb0nErGMCRxWOOX64Z8RAC4oCXdklmEvcL8o0BfkNK4lUg9HTl+oPlQxdNo3Mg4Nv175e/1LDGzZen30MEjRUtmXSfiTVu1kK8W4txyV6BMKlbgk3lMwYCiusNy9fVfvvwMxv8Ynl6vxoByANLTWplvuj/nF9m2+PDtt1eiHPBr1oIfhCChQMBw6Aw0UulqTKZdfVvfG7VcfIqLG9bcldL/+pdWTLxLUy8Qq38heUIjh4XlzZxzQm19lLFlr8vdQ97rjZVOLf8nclzckbcD4wxXMidpX30sFd37Fv/GtwwhzhxGVAprjbg0gCAEeIgwCZyTV2Z1REEW8O4py0wsjeloKoMr6iCY6dP92H6Vw/oTyICIthibxjm/DfN9lVz8IqtqKYLUXfoKVMVQVVJOElGjrnnUt9T9wbgp8AyYKaGlqingHZU/uG2NTZSVqwHQTWkx9hxjkpWDaCg6Ckj5qebgBVbT3V3NNXMSiWSDdGV3hrtzla7J+duwPOToIg42ChPQOQjspnSlp1V+Gjdged7+8UN5CRAV7a5EdFNwCjEaBR27b3W890TE7g24NAP/mMDXRWrGoFPQI9ls/MWO2dWFAar/xcOIImbbpA3zgAAAABJRU5ErkJggg==);\n",
       "        }\n",
       "    </style>\n",
       "    <div>\n",
       "        <a href=\"https://bokeh.org\" target=\"_blank\" class=\"bk-notebook-logo\"></a>\n",
       "        <span id=\"bc60e672-a63e-42bc-aabb-5c6e8899c2e8\">Loading BokehJS ...</span>\n",
       "    </div>\n"
      ]
     },
     "metadata": {},
     "output_type": "display_data"
    },
    {
     "data": {
      "application/javascript": [
       "'use strict';\n",
       "(function(root) {\n",
       "  function now() {\n",
       "    return new Date();\n",
       "  }\n",
       "\n",
       "  const force = true;\n",
       "\n",
       "  if (typeof root._bokeh_onload_callbacks === \"undefined\" || force === true) {\n",
       "    root._bokeh_onload_callbacks = [];\n",
       "    root._bokeh_is_loading = undefined;\n",
       "  }\n",
       "\n",
       "const JS_MIME_TYPE = 'application/javascript';\n",
       "  const HTML_MIME_TYPE = 'text/html';\n",
       "  const EXEC_MIME_TYPE = 'application/vnd.bokehjs_exec.v0+json';\n",
       "  const CLASS_NAME = 'output_bokeh rendered_html';\n",
       "\n",
       "  /**\n",
       "   * Render data to the DOM node\n",
       "   */\n",
       "  function render(props, node) {\n",
       "    const script = document.createElement(\"script\");\n",
       "    node.appendChild(script);\n",
       "  }\n",
       "\n",
       "  /**\n",
       "   * Handle when an output is cleared or removed\n",
       "   */\n",
       "  function handleClearOutput(event, handle) {\n",
       "    function drop(id) {\n",
       "      const view = Bokeh.index.get_by_id(id)\n",
       "      if (view != null) {\n",
       "        view.model.document.clear()\n",
       "        Bokeh.index.delete(view)\n",
       "      }\n",
       "    }\n",
       "\n",
       "    const cell = handle.cell;\n",
       "\n",
       "    const id = cell.output_area._bokeh_element_id;\n",
       "    const server_id = cell.output_area._bokeh_server_id;\n",
       "\n",
       "    // Clean up Bokeh references\n",
       "    if (id != null) {\n",
       "      drop(id)\n",
       "    }\n",
       "\n",
       "    if (server_id !== undefined) {\n",
       "      // Clean up Bokeh references\n",
       "      const cmd_clean = \"from bokeh.io.state import curstate; print(curstate().uuid_to_server['\" + server_id + \"'].get_sessions()[0].document.roots[0]._id)\";\n",
       "      cell.notebook.kernel.execute(cmd_clean, {\n",
       "        iopub: {\n",
       "          output: function(msg) {\n",
       "            const id = msg.content.text.trim()\n",
       "            drop(id)\n",
       "          }\n",
       "        }\n",
       "      });\n",
       "      // Destroy server and session\n",
       "      const cmd_destroy = \"import bokeh.io.notebook as ion; ion.destroy_server('\" + server_id + \"')\";\n",
       "      cell.notebook.kernel.execute(cmd_destroy);\n",
       "    }\n",
       "  }\n",
       "\n",
       "  /**\n",
       "   * Handle when a new output is added\n",
       "   */\n",
       "  function handleAddOutput(event, handle) {\n",
       "    const output_area = handle.output_area;\n",
       "    const output = handle.output;\n",
       "\n",
       "    // limit handleAddOutput to display_data with EXEC_MIME_TYPE content only\n",
       "    if ((output.output_type != \"display_data\") || (!Object.prototype.hasOwnProperty.call(output.data, EXEC_MIME_TYPE))) {\n",
       "      return\n",
       "    }\n",
       "\n",
       "    const toinsert = output_area.element.find(\".\" + CLASS_NAME.split(' ')[0]);\n",
       "\n",
       "    if (output.metadata[EXEC_MIME_TYPE][\"id\"] !== undefined) {\n",
       "      toinsert[toinsert.length - 1].firstChild.textContent = output.data[JS_MIME_TYPE];\n",
       "      // store reference to embed id on output_area\n",
       "      output_area._bokeh_element_id = output.metadata[EXEC_MIME_TYPE][\"id\"];\n",
       "    }\n",
       "    if (output.metadata[EXEC_MIME_TYPE][\"server_id\"] !== undefined) {\n",
       "      const bk_div = document.createElement(\"div\");\n",
       "      bk_div.innerHTML = output.data[HTML_MIME_TYPE];\n",
       "      const script_attrs = bk_div.children[0].attributes;\n",
       "      for (let i = 0; i < script_attrs.length; i++) {\n",
       "        toinsert[toinsert.length - 1].firstChild.setAttribute(script_attrs[i].name, script_attrs[i].value);\n",
       "        toinsert[toinsert.length - 1].firstChild.textContent = bk_div.children[0].textContent\n",
       "      }\n",
       "      // store reference to server id on output_area\n",
       "      output_area._bokeh_server_id = output.metadata[EXEC_MIME_TYPE][\"server_id\"];\n",
       "    }\n",
       "  }\n",
       "\n",
       "  function register_renderer(events, OutputArea) {\n",
       "\n",
       "    function append_mime(data, metadata, element) {\n",
       "      // create a DOM node to render to\n",
       "      const toinsert = this.create_output_subarea(\n",
       "        metadata,\n",
       "        CLASS_NAME,\n",
       "        EXEC_MIME_TYPE\n",
       "      );\n",
       "      this.keyboard_manager.register_events(toinsert);\n",
       "      // Render to node\n",
       "      const props = {data: data, metadata: metadata[EXEC_MIME_TYPE]};\n",
       "      render(props, toinsert[toinsert.length - 1]);\n",
       "      element.append(toinsert);\n",
       "      return toinsert\n",
       "    }\n",
       "\n",
       "    /* Handle when an output is cleared or removed */\n",
       "    events.on('clear_output.CodeCell', handleClearOutput);\n",
       "    events.on('delete.Cell', handleClearOutput);\n",
       "\n",
       "    /* Handle when a new output is added */\n",
       "    events.on('output_added.OutputArea', handleAddOutput);\n",
       "\n",
       "    /**\n",
       "     * Register the mime type and append_mime function with output_area\n",
       "     */\n",
       "    OutputArea.prototype.register_mime_type(EXEC_MIME_TYPE, append_mime, {\n",
       "      /* Is output safe? */\n",
       "      safe: true,\n",
       "      /* Index of renderer in `output_area.display_order` */\n",
       "      index: 0\n",
       "    });\n",
       "  }\n",
       "\n",
       "  // register the mime type if in Jupyter Notebook environment and previously unregistered\n",
       "  if (root.Jupyter !== undefined) {\n",
       "    const events = require('base/js/events');\n",
       "    const OutputArea = require('notebook/js/outputarea').OutputArea;\n",
       "\n",
       "    if (OutputArea.prototype.mime_types().indexOf(EXEC_MIME_TYPE) == -1) {\n",
       "      register_renderer(events, OutputArea);\n",
       "    }\n",
       "  }\n",
       "  if (typeof (root._bokeh_timeout) === \"undefined\" || force === true) {\n",
       "    root._bokeh_timeout = Date.now() + 5000;\n",
       "    root._bokeh_failed_load = false;\n",
       "  }\n",
       "\n",
       "  const NB_LOAD_WARNING = {'data': {'text/html':\n",
       "     \"<div style='background-color: #fdd'>\\n\"+\n",
       "     \"<p>\\n\"+\n",
       "     \"BokehJS does not appear to have successfully loaded. If loading BokehJS from CDN, this \\n\"+\n",
       "     \"may be due to a slow or bad network connection. Possible fixes:\\n\"+\n",
       "     \"</p>\\n\"+\n",
       "     \"<ul>\\n\"+\n",
       "     \"<li>re-rerun `output_notebook()` to attempt to load from CDN again, or</li>\\n\"+\n",
       "     \"<li>use INLINE resources instead, as so:</li>\\n\"+\n",
       "     \"</ul>\\n\"+\n",
       "     \"<code>\\n\"+\n",
       "     \"from bokeh.resources import INLINE\\n\"+\n",
       "     \"output_notebook(resources=INLINE)\\n\"+\n",
       "     \"</code>\\n\"+\n",
       "     \"</div>\"}};\n",
       "\n",
       "  function display_loaded(error = null) {\n",
       "    const el = document.getElementById(\"bc60e672-a63e-42bc-aabb-5c6e8899c2e8\");\n",
       "    if (el != null) {\n",
       "      const html = (() => {\n",
       "        if (typeof root.Bokeh === \"undefined\") {\n",
       "          if (error == null) {\n",
       "            return \"BokehJS is loading ...\";\n",
       "          } else {\n",
       "            return \"BokehJS failed to load.\";\n",
       "          }\n",
       "        } else {\n",
       "          const prefix = `BokehJS ${root.Bokeh.version}`;\n",
       "          if (error == null) {\n",
       "            return `${prefix} successfully loaded.`;\n",
       "          } else {\n",
       "            return `${prefix} <b>encountered errors</b> while loading and may not function as expected.`;\n",
       "          }\n",
       "        }\n",
       "      })();\n",
       "      el.innerHTML = html;\n",
       "\n",
       "      if (error != null) {\n",
       "        const wrapper = document.createElement(\"div\");\n",
       "        wrapper.style.overflow = \"auto\";\n",
       "        wrapper.style.height = \"5em\";\n",
       "        wrapper.style.resize = \"vertical\";\n",
       "        const content = document.createElement(\"div\");\n",
       "        content.style.fontFamily = \"monospace\";\n",
       "        content.style.whiteSpace = \"pre-wrap\";\n",
       "        content.style.backgroundColor = \"rgb(255, 221, 221)\";\n",
       "        content.textContent = error.stack ?? error.toString();\n",
       "        wrapper.append(content);\n",
       "        el.append(wrapper);\n",
       "      }\n",
       "    } else if (Date.now() < root._bokeh_timeout) {\n",
       "      setTimeout(() => display_loaded(error), 100);\n",
       "    }\n",
       "  }\n",
       "\n",
       "  function run_callbacks() {\n",
       "    try {\n",
       "      root._bokeh_onload_callbacks.forEach(function(callback) {\n",
       "        if (callback != null)\n",
       "          callback();\n",
       "      });\n",
       "    } finally {\n",
       "      delete root._bokeh_onload_callbacks\n",
       "    }\n",
       "    console.debug(\"Bokeh: all callbacks have finished\");\n",
       "  }\n",
       "\n",
       "  function load_libs(css_urls, js_urls, callback) {\n",
       "    if (css_urls == null) css_urls = [];\n",
       "    if (js_urls == null) js_urls = [];\n",
       "\n",
       "    root._bokeh_onload_callbacks.push(callback);\n",
       "    if (root._bokeh_is_loading > 0) {\n",
       "      console.debug(\"Bokeh: BokehJS is being loaded, scheduling callback at\", now());\n",
       "      return null;\n",
       "    }\n",
       "    if (js_urls == null || js_urls.length === 0) {\n",
       "      run_callbacks();\n",
       "      return null;\n",
       "    }\n",
       "    console.debug(\"Bokeh: BokehJS not loaded, scheduling load and callback at\", now());\n",
       "    root._bokeh_is_loading = css_urls.length + js_urls.length;\n",
       "\n",
       "    function on_load() {\n",
       "      root._bokeh_is_loading--;\n",
       "      if (root._bokeh_is_loading === 0) {\n",
       "        console.debug(\"Bokeh: all BokehJS libraries/stylesheets loaded\");\n",
       "        run_callbacks()\n",
       "      }\n",
       "    }\n",
       "\n",
       "    function on_error(url) {\n",
       "      console.error(\"failed to load \" + url);\n",
       "    }\n",
       "\n",
       "    for (let i = 0; i < css_urls.length; i++) {\n",
       "      const url = css_urls[i];\n",
       "      const element = document.createElement(\"link\");\n",
       "      element.onload = on_load;\n",
       "      element.onerror = on_error.bind(null, url);\n",
       "      element.rel = \"stylesheet\";\n",
       "      element.type = \"text/css\";\n",
       "      element.href = url;\n",
       "      console.debug(\"Bokeh: injecting link tag for BokehJS stylesheet: \", url);\n",
       "      document.body.appendChild(element);\n",
       "    }\n",
       "\n",
       "    for (let i = 0; i < js_urls.length; i++) {\n",
       "      const url = js_urls[i];\n",
       "      const element = document.createElement('script');\n",
       "      element.onload = on_load;\n",
       "      element.onerror = on_error.bind(null, url);\n",
       "      element.async = false;\n",
       "      element.src = url;\n",
       "      console.debug(\"Bokeh: injecting script tag for BokehJS library: \", url);\n",
       "      document.head.appendChild(element);\n",
       "    }\n",
       "  };\n",
       "\n",
       "  function inject_raw_css(css) {\n",
       "    const element = document.createElement(\"style\");\n",
       "    element.appendChild(document.createTextNode(css));\n",
       "    document.body.appendChild(element);\n",
       "  }\n",
       "\n",
       "  const js_urls = [\"https://cdn.bokeh.org/bokeh/release/bokeh-3.4.0.min.js\", \"https://cdn.bokeh.org/bokeh/release/bokeh-gl-3.4.0.min.js\", \"https://cdn.bokeh.org/bokeh/release/bokeh-widgets-3.4.0.min.js\", \"https://cdn.bokeh.org/bokeh/release/bokeh-tables-3.4.0.min.js\", \"https://cdn.bokeh.org/bokeh/release/bokeh-mathjax-3.4.0.min.js\"];\n",
       "  const css_urls = [];\n",
       "\n",
       "  const inline_js = [    function(Bokeh) {\n",
       "      Bokeh.set_log_level(\"info\");\n",
       "    },\n",
       "function(Bokeh) {\n",
       "    }\n",
       "  ];\n",
       "\n",
       "  function run_inline_js() {\n",
       "    if (root.Bokeh !== undefined || force === true) {\n",
       "      try {\n",
       "            for (let i = 0; i < inline_js.length; i++) {\n",
       "      inline_js[i].call(root, root.Bokeh);\n",
       "    }\n",
       "\n",
       "      } catch (error) {display_loaded(error);throw error;\n",
       "      }if (force === true) {\n",
       "        display_loaded();\n",
       "      }} else if (Date.now() < root._bokeh_timeout) {\n",
       "      setTimeout(run_inline_js, 100);\n",
       "    } else if (!root._bokeh_failed_load) {\n",
       "      console.log(\"Bokeh: BokehJS failed to load within specified timeout.\");\n",
       "      root._bokeh_failed_load = true;\n",
       "    } else if (force !== true) {\n",
       "      const cell = $(document.getElementById(\"bc60e672-a63e-42bc-aabb-5c6e8899c2e8\")).parents('.cell').data().cell;\n",
       "      cell.output_area.append_execute_result(NB_LOAD_WARNING)\n",
       "    }\n",
       "  }\n",
       "\n",
       "  if (root._bokeh_is_loading === 0) {\n",
       "    console.debug(\"Bokeh: BokehJS loaded, going straight to plotting\");\n",
       "    run_inline_js();\n",
       "  } else {\n",
       "    load_libs(css_urls, js_urls, function() {\n",
       "      console.debug(\"Bokeh: BokehJS plotting callback run at\", now());\n",
       "      run_inline_js();\n",
       "    });\n",
       "  }\n",
       "}(window));"
      ],
      "application/vnd.bokehjs_load.v0+json": "'use strict';\n(function(root) {\n  function now() {\n    return new Date();\n  }\n\n  const force = true;\n\n  if (typeof root._bokeh_onload_callbacks === \"undefined\" || force === true) {\n    root._bokeh_onload_callbacks = [];\n    root._bokeh_is_loading = undefined;\n  }\n\n\n  if (typeof (root._bokeh_timeout) === \"undefined\" || force === true) {\n    root._bokeh_timeout = Date.now() + 5000;\n    root._bokeh_failed_load = false;\n  }\n\n  const NB_LOAD_WARNING = {'data': {'text/html':\n     \"<div style='background-color: #fdd'>\\n\"+\n     \"<p>\\n\"+\n     \"BokehJS does not appear to have successfully loaded. If loading BokehJS from CDN, this \\n\"+\n     \"may be due to a slow or bad network connection. Possible fixes:\\n\"+\n     \"</p>\\n\"+\n     \"<ul>\\n\"+\n     \"<li>re-rerun `output_notebook()` to attempt to load from CDN again, or</li>\\n\"+\n     \"<li>use INLINE resources instead, as so:</li>\\n\"+\n     \"</ul>\\n\"+\n     \"<code>\\n\"+\n     \"from bokeh.resources import INLINE\\n\"+\n     \"output_notebook(resources=INLINE)\\n\"+\n     \"</code>\\n\"+\n     \"</div>\"}};\n\n  function display_loaded(error = null) {\n    const el = document.getElementById(\"bc60e672-a63e-42bc-aabb-5c6e8899c2e8\");\n    if (el != null) {\n      const html = (() => {\n        if (typeof root.Bokeh === \"undefined\") {\n          if (error == null) {\n            return \"BokehJS is loading ...\";\n          } else {\n            return \"BokehJS failed to load.\";\n          }\n        } else {\n          const prefix = `BokehJS ${root.Bokeh.version}`;\n          if (error == null) {\n            return `${prefix} successfully loaded.`;\n          } else {\n            return `${prefix} <b>encountered errors</b> while loading and may not function as expected.`;\n          }\n        }\n      })();\n      el.innerHTML = html;\n\n      if (error != null) {\n        const wrapper = document.createElement(\"div\");\n        wrapper.style.overflow = \"auto\";\n        wrapper.style.height = \"5em\";\n        wrapper.style.resize = \"vertical\";\n        const content = document.createElement(\"div\");\n        content.style.fontFamily = \"monospace\";\n        content.style.whiteSpace = \"pre-wrap\";\n        content.style.backgroundColor = \"rgb(255, 221, 221)\";\n        content.textContent = error.stack ?? error.toString();\n        wrapper.append(content);\n        el.append(wrapper);\n      }\n    } else if (Date.now() < root._bokeh_timeout) {\n      setTimeout(() => display_loaded(error), 100);\n    }\n  }\n\n  function run_callbacks() {\n    try {\n      root._bokeh_onload_callbacks.forEach(function(callback) {\n        if (callback != null)\n          callback();\n      });\n    } finally {\n      delete root._bokeh_onload_callbacks\n    }\n    console.debug(\"Bokeh: all callbacks have finished\");\n  }\n\n  function load_libs(css_urls, js_urls, callback) {\n    if (css_urls == null) css_urls = [];\n    if (js_urls == null) js_urls = [];\n\n    root._bokeh_onload_callbacks.push(callback);\n    if (root._bokeh_is_loading > 0) {\n      console.debug(\"Bokeh: BokehJS is being loaded, scheduling callback at\", now());\n      return null;\n    }\n    if (js_urls == null || js_urls.length === 0) {\n      run_callbacks();\n      return null;\n    }\n    console.debug(\"Bokeh: BokehJS not loaded, scheduling load and callback at\", now());\n    root._bokeh_is_loading = css_urls.length + js_urls.length;\n\n    function on_load() {\n      root._bokeh_is_loading--;\n      if (root._bokeh_is_loading === 0) {\n        console.debug(\"Bokeh: all BokehJS libraries/stylesheets loaded\");\n        run_callbacks()\n      }\n    }\n\n    function on_error(url) {\n      console.error(\"failed to load \" + url);\n    }\n\n    for (let i = 0; i < css_urls.length; i++) {\n      const url = css_urls[i];\n      const element = document.createElement(\"link\");\n      element.onload = on_load;\n      element.onerror = on_error.bind(null, url);\n      element.rel = \"stylesheet\";\n      element.type = \"text/css\";\n      element.href = url;\n      console.debug(\"Bokeh: injecting link tag for BokehJS stylesheet: \", url);\n      document.body.appendChild(element);\n    }\n\n    for (let i = 0; i < js_urls.length; i++) {\n      const url = js_urls[i];\n      const element = document.createElement('script');\n      element.onload = on_load;\n      element.onerror = on_error.bind(null, url);\n      element.async = false;\n      element.src = url;\n      console.debug(\"Bokeh: injecting script tag for BokehJS library: \", url);\n      document.head.appendChild(element);\n    }\n  };\n\n  function inject_raw_css(css) {\n    const element = document.createElement(\"style\");\n    element.appendChild(document.createTextNode(css));\n    document.body.appendChild(element);\n  }\n\n  const js_urls = [\"https://cdn.bokeh.org/bokeh/release/bokeh-3.4.0.min.js\", \"https://cdn.bokeh.org/bokeh/release/bokeh-gl-3.4.0.min.js\", \"https://cdn.bokeh.org/bokeh/release/bokeh-widgets-3.4.0.min.js\", \"https://cdn.bokeh.org/bokeh/release/bokeh-tables-3.4.0.min.js\", \"https://cdn.bokeh.org/bokeh/release/bokeh-mathjax-3.4.0.min.js\"];\n  const css_urls = [];\n\n  const inline_js = [    function(Bokeh) {\n      Bokeh.set_log_level(\"info\");\n    },\nfunction(Bokeh) {\n    }\n  ];\n\n  function run_inline_js() {\n    if (root.Bokeh !== undefined || force === true) {\n      try {\n            for (let i = 0; i < inline_js.length; i++) {\n      inline_js[i].call(root, root.Bokeh);\n    }\n\n      } catch (error) {display_loaded(error);throw error;\n      }if (force === true) {\n        display_loaded();\n      }} else if (Date.now() < root._bokeh_timeout) {\n      setTimeout(run_inline_js, 100);\n    } else if (!root._bokeh_failed_load) {\n      console.log(\"Bokeh: BokehJS failed to load within specified timeout.\");\n      root._bokeh_failed_load = true;\n    } else if (force !== true) {\n      const cell = $(document.getElementById(\"bc60e672-a63e-42bc-aabb-5c6e8899c2e8\")).parents('.cell').data().cell;\n      cell.output_area.append_execute_result(NB_LOAD_WARNING)\n    }\n  }\n\n  if (root._bokeh_is_loading === 0) {\n    console.debug(\"Bokeh: BokehJS loaded, going straight to plotting\");\n    run_inline_js();\n  } else {\n    load_libs(css_urls, js_urls, function() {\n      console.debug(\"Bokeh: BokehJS plotting callback run at\", now());\n      run_inline_js();\n    });\n  }\n}(window));"
     },
     "metadata": {},
     "output_type": "display_data"
    }
   ],
   "source": [
    "import sys\n",
    "import os\n",
    "from datetime import datetime\n",
    "from pathlib import Path\n",
    "\n",
    "# importing forecast notebook utility from notebooks/common directory\n",
    "sys.path.insert(0, os.path.abspath(\"./common/\"))\n",
    "import util\n",
    "import util.fcst_utils\n",
    "\n",
    "%reload_ext autoreload\n",
    "import boto3\n",
    "import pandas as pd\n",
    "import matplotlib.pyplot as plt\n",
    "%matplotlib inline \n",
    "plt.rcParams['figure.figsize'] = (15.0, 5.0)\n",
    "\n",
    "pd.options.mode.copy_on_write = True\n",
    "\n",
    "from bokeh.io import output_notebook\n",
    "from bokeh.plotting import show\n",
    "\n",
    "output_notebook()"
   ]
  },
  {
   "cell_type": "markdown",
   "metadata": {},
   "source": [
    "## Step 1.2: Setup variables"
   ]
  },
  {
   "cell_type": "code",
   "execution_count": 12,
   "metadata": {
    "tags": []
   },
   "outputs": [],
   "source": [
    "# Resource tag values\n",
    "owner = \"martin.macecek@rearc.io\"\n",
    "type = \"Internal\"\n",
    "usage = \"Playground\"\n",
    "\n",
    "# Custom variables\n",
    "prefix = \"mac-training\"\n",
    "role_name = f\"{prefix}-forecasting\"\n",
    "bucket_name = f\"{prefix}-bucket-275279264324-us-east-1\"\n",
    "path = \"forecasting/input\"\n",
    "data_key = f\"{path}/RIVN.csv\"\n",
    "future_data_key = f\"{path}/RIVN_20240513.csv\"\n",
    "prepared_data_key_prefix = \"forecasting/prepared/rivn\"\n",
    "item_id = \"RIVN\"\n",
    "target_column_name = \"close\"\n",
    "domain=\"RETAIL\"\n",
    "\n",
    "# Setup more variables\n",
    "s3_target_data_key = f\"s3://{bucket_name}/{prepared_data_key_prefix}.csv\"\n",
    "s3_related_data_key = f\"s3://{bucket_name}/{prepared_data_key_prefix}_rts.csv\"\n",
    "date_format = '%Y%m%d_%H%M%S'\n",
    "ui_date_format = '%a, %d %b %Y %H:%M:%S %Z'\n",
    "\n",
    "# Tags for resource tagging\n",
    "tags = [{'Key': 'Owner', 'Value': owner},\n",
    "        {'Key': 'Type', 'Value': type},\n",
    "        {'Key': 'Usage', 'Value': usage}]\n",
    "\n",
    "# Forecast\n",
    "# Forecast length in days (Units is defined below)\n",
    "FORECAST_LENGTH = 30\n",
    "\n",
    "# What is your forecast time unit granularity?\n",
    "# Choices are: ^Y|M|W|D|h|30min|15min|10min|5min|1min$\n",
    "DATASET_FREQUENCY = \"D\"\n",
    "DATASET_TIMESTAMP_FORMAT = \"yyyy-MM-dd\"\n",
    "# delimiter = ','\n",
    "\n",
    "# What name do you want to give this project?\n",
    "# We will use this same name for your Forecast Dataset Group name.\n",
    "PROJECT = 'rivn-forecast'\n",
    "DATA_VERSION = 9\n",
    "\n",
    "# Whether or not to use other features of target dataet (e.g. high, low, open...)\n",
    "USE_OTHER_FEATURES = True\n",
    "# Whether or not to use bank days, which creates another features indicating a trading day or not\n",
    "USE_BANK_DAY = False\n",
    "# Whether or not to fill missing data (typically non-trading days (weekends and holidays))\n",
    "FILL_MISSING_DATA = False"
   ]
  },
  {
   "cell_type": "markdown",
   "metadata": {},
   "source": [
    "## Step 1.3: API connectivity"
   ]
  },
  {
   "cell_type": "code",
   "execution_count": 3,
   "metadata": {
    "tags": []
   },
   "outputs": [
    {
     "name": "stdout",
     "output_type": "stream",
     "text": [
      "Account: 275279264324, Region: us-east-1\n"
     ]
    }
   ],
   "source": [
    "region = boto3.Session().region_name\n",
    "account_id = boto3.client('sts').get_caller_identity().get('Account')\n",
    "print(f\"Account: {account_id}, Region: {region}\")"
   ]
  },
  {
   "cell_type": "code",
   "execution_count": 4,
   "metadata": {
    "tags": []
   },
   "outputs": [],
   "source": [
    "# Connect API sessions\n",
    "session = boto3.Session(region_name=region) \n",
    "s3 = session.client(service_name='s3')\n",
    "forecast = session.client(service_name='forecast')\n",
    "forecastquery = session.client(service_name='forecastquery')"
   ]
  },
  {
   "cell_type": "markdown",
   "metadata": {},
   "source": [
    "## Step 1.4: AWS resources"
   ]
  },
  {
   "cell_type": "code",
   "execution_count": 5,
   "metadata": {
    "tags": []
   },
   "outputs": [
    {
     "name": "stdout",
     "output_type": "stream",
     "text": [
      "The role mac-training-forecasting exists, skipping creation...\n",
      "Done.\n",
      "Success! Role 'mac-training-forecasting' ready for use.\n"
     ]
    }
   ],
   "source": [
    "# Create or retrieve the role to provide to Amazon Forecast.\n",
    "role_arn = util.get_or_create_iam_role(role_name=role_name)\n",
    "\n",
    "# echo user inputs without account\n",
    "print(f\"Success! Role '{role_arn.split('/')[1]}' ready for use.\")"
   ]
  },
  {
   "cell_type": "code",
   "execution_count": 6,
   "metadata": {
    "tags": []
   },
   "outputs": [
    {
     "name": "stdout",
     "output_type": "stream",
     "text": [
      "Success! Bucket 'mac-training-bucket-275279264324-us-east-1' ready for use.\n"
     ]
    }
   ],
   "source": [
    "util.get_or_create_bucket(bucket_name, region=region)\n",
    "print(f\"Success! Bucket '{bucket_name}' ready for use.\")"
   ]
  },
  {
   "cell_type": "markdown",
   "metadata": {},
   "source": [
    "# Step 2: Data preparation"
   ]
  },
  {
   "cell_type": "code",
   "execution_count": 7,
   "metadata": {
    "tags": []
   },
   "outputs": [
    {
     "name": "stderr",
     "output_type": "stream",
     "text": [
      "/home/ec2-user/anaconda3/envs/python3/lib/python3.10/site-packages/fsspec/registry.py:275: UserWarning: Your installed version of s3fs is very old and known to cause\n",
      "severe performance issues, see also https://github.com/dask/dask/issues/10276\n",
      "\n",
      "To fix, you should specify a lower version bound on s3fs, or\n",
      "update the current installation.\n",
      "\n",
      "  warnings.warn(s3_msg)\n"
     ]
    },
    {
     "data": {
      "text/html": [
       "<div>\n",
       "<style scoped>\n",
       "    .dataframe tbody tr th:only-of-type {\n",
       "        vertical-align: middle;\n",
       "    }\n",
       "\n",
       "    .dataframe tbody tr th {\n",
       "        vertical-align: top;\n",
       "    }\n",
       "\n",
       "    .dataframe thead th {\n",
       "        text-align: right;\n",
       "    }\n",
       "</style>\n",
       "<table border=\"1\" class=\"dataframe\">\n",
       "  <thead>\n",
       "    <tr style=\"text-align: right;\">\n",
       "      <th></th>\n",
       "      <th>timestamp</th>\n",
       "      <th>close</th>\n",
       "      <th>open</th>\n",
       "      <th>high</th>\n",
       "      <th>low</th>\n",
       "      <th>item_id</th>\n",
       "    </tr>\n",
       "  </thead>\n",
       "  <tbody>\n",
       "    <tr>\n",
       "      <th>0</th>\n",
       "      <td>2024-05-13</td>\n",
       "      <td>10.90</td>\n",
       "      <td>10.04</td>\n",
       "      <td>11.19</td>\n",
       "      <td>10.04</td>\n",
       "      <td>RIVN</td>\n",
       "    </tr>\n",
       "    <tr>\n",
       "      <th>1</th>\n",
       "      <td>2024-05-10</td>\n",
       "      <td>9.99</td>\n",
       "      <td>10.20</td>\n",
       "      <td>10.40</td>\n",
       "      <td>9.84</td>\n",
       "      <td>RIVN</td>\n",
       "    </tr>\n",
       "    <tr>\n",
       "      <th>2</th>\n",
       "      <td>2024-05-09</td>\n",
       "      <td>10.22</td>\n",
       "      <td>10.25</td>\n",
       "      <td>10.47</td>\n",
       "      <td>10.04</td>\n",
       "      <td>RIVN</td>\n",
       "    </tr>\n",
       "    <tr>\n",
       "      <th>3</th>\n",
       "      <td>2024-05-08</td>\n",
       "      <td>10.27</td>\n",
       "      <td>9.51</td>\n",
       "      <td>10.28</td>\n",
       "      <td>9.25</td>\n",
       "      <td>RIVN</td>\n",
       "    </tr>\n",
       "    <tr>\n",
       "      <th>4</th>\n",
       "      <td>2024-05-07</td>\n",
       "      <td>10.25</td>\n",
       "      <td>11.14</td>\n",
       "      <td>11.22</td>\n",
       "      <td>10.07</td>\n",
       "      <td>RIVN</td>\n",
       "    </tr>\n",
       "  </tbody>\n",
       "</table>\n",
       "</div>"
      ],
      "text/plain": [
       "    timestamp  close   open   high    low item_id\n",
       "0  2024-05-13  10.90  10.04  11.19  10.04    RIVN\n",
       "1  2024-05-10   9.99  10.20  10.40   9.84    RIVN\n",
       "2  2024-05-09  10.22  10.25  10.47  10.04    RIVN\n",
       "3  2024-05-08  10.27   9.51  10.28   9.25    RIVN\n",
       "4  2024-05-07  10.25  11.14  11.22  10.07    RIVN"
      ]
     },
     "execution_count": 7,
     "metadata": {},
     "output_type": "execute_result"
    }
   ],
   "source": [
    "stock_df = util.prepare_data(\n",
    "    bucket_name,\n",
    "    data_key,\n",
    "    \"%m/%d/%Y\",\n",
    "    target_column_name,\n",
    "    item_id,\n",
    "    fill_missing_values=FILL_MISSING_DATA,\n",
    "    use_bank_day=USE_BANK_DAY)\n",
    "stock_df.head()"
   ]
  },
  {
   "cell_type": "code",
   "execution_count": 8,
   "metadata": {
    "tags": []
   },
   "outputs": [
    {
     "data": {
      "image/png": "[encoded data removed]",
      "text/plain": [
       "<Figure size 1500x800 with 1 Axes>"
      ]
     },
     "metadata": {},
     "output_type": "display_data"
    }
   ],
   "source": [
    "stock_df.plot(x='timestamp', y=[target_column_name, 'open', 'high', 'low'], figsize=(15, 8))\n",
    "plt.xlabel('Date Time')\n",
    "plt.ylabel('Stock Price')\n",
    "plt.show()"
   ]
  },
  {
   "cell_type": "code",
   "execution_count": 9,
   "metadata": {
    "tags": []
   },
   "outputs": [
    {
     "data": {
      "text/plain": [
       "datetime.date(2021, 11, 11)"
      ]
     },
     "execution_count": 9,
     "metadata": {},
     "output_type": "execute_result"
    }
   ],
   "source": [
    "stock_df.timestamp.min()"
   ]
  },
  {
   "cell_type": "code",
   "execution_count": 10,
   "metadata": {
    "tags": []
   },
   "outputs": [
    {
     "data": {
      "text/html": [
       "<div>\n",
       "<style scoped>\n",
       "    .dataframe tbody tr th:only-of-type {\n",
       "        vertical-align: middle;\n",
       "    }\n",
       "\n",
       "    .dataframe tbody tr th {\n",
       "        vertical-align: top;\n",
       "    }\n",
       "\n",
       "    .dataframe thead th {\n",
       "        text-align: right;\n",
       "    }\n",
       "</style>\n",
       "<table border=\"1\" class=\"dataframe\">\n",
       "  <thead>\n",
       "    <tr style=\"text-align: right;\">\n",
       "      <th></th>\n",
       "      <th>timestamp</th>\n",
       "      <th>open</th>\n",
       "      <th>high</th>\n",
       "      <th>low</th>\n",
       "      <th>item_id</th>\n",
       "      <th>lcid_close</th>\n",
       "      <th>nkla_close</th>\n",
       "      <th>tsla_close</th>\n",
       "    </tr>\n",
       "  </thead>\n",
       "  <tbody>\n",
       "    <tr>\n",
       "      <th>0</th>\n",
       "      <td>2024-05-13</td>\n",
       "      <td>10.04</td>\n",
       "      <td>11.19</td>\n",
       "      <td>10.04</td>\n",
       "      <td>RIVN</td>\n",
       "      <td>2.81</td>\n",
       "      <td>0.5499</td>\n",
       "      <td>171.89</td>\n",
       "    </tr>\n",
       "    <tr>\n",
       "      <th>1</th>\n",
       "      <td>2024-05-10</td>\n",
       "      <td>10.20</td>\n",
       "      <td>10.40</td>\n",
       "      <td>9.84</td>\n",
       "      <td>RIVN</td>\n",
       "      <td>2.66</td>\n",
       "      <td>0.5370</td>\n",
       "      <td>168.47</td>\n",
       "    </tr>\n",
       "    <tr>\n",
       "      <th>2</th>\n",
       "      <td>2024-05-09</td>\n",
       "      <td>10.25</td>\n",
       "      <td>10.47</td>\n",
       "      <td>10.04</td>\n",
       "      <td>RIVN</td>\n",
       "      <td>2.70</td>\n",
       "      <td>0.5760</td>\n",
       "      <td>171.97</td>\n",
       "    </tr>\n",
       "    <tr>\n",
       "      <th>3</th>\n",
       "      <td>2024-05-08</td>\n",
       "      <td>9.51</td>\n",
       "      <td>10.28</td>\n",
       "      <td>9.25</td>\n",
       "      <td>RIVN</td>\n",
       "      <td>2.71</td>\n",
       "      <td>0.5791</td>\n",
       "      <td>174.72</td>\n",
       "    </tr>\n",
       "    <tr>\n",
       "      <th>4</th>\n",
       "      <td>2024-05-07</td>\n",
       "      <td>11.14</td>\n",
       "      <td>11.22</td>\n",
       "      <td>10.07</td>\n",
       "      <td>RIVN</td>\n",
       "      <td>2.62</td>\n",
       "      <td>0.6029</td>\n",
       "      <td>177.81</td>\n",
       "    </tr>\n",
       "    <tr>\n",
       "      <th>...</th>\n",
       "      <td>...</td>\n",
       "      <td>...</td>\n",
       "      <td>...</td>\n",
       "      <td>...</td>\n",
       "      <td>...</td>\n",
       "      <td>...</td>\n",
       "      <td>...</td>\n",
       "      <td>...</td>\n",
       "    </tr>\n",
       "    <tr>\n",
       "      <th>623</th>\n",
       "      <td>2021-11-17</td>\n",
       "      <td>160.88</td>\n",
       "      <td>163.00</td>\n",
       "      <td>140.35</td>\n",
       "      <td>RIVN</td>\n",
       "      <td>52.55</td>\n",
       "      <td>13.3900</td>\n",
       "      <td>363.00</td>\n",
       "    </tr>\n",
       "    <tr>\n",
       "      <th>624</th>\n",
       "      <td>2021-11-16</td>\n",
       "      <td>163.80</td>\n",
       "      <td>179.47</td>\n",
       "      <td>153.78</td>\n",
       "      <td>RIVN</td>\n",
       "      <td>55.52</td>\n",
       "      <td>13.3600</td>\n",
       "      <td>351.58</td>\n",
       "    </tr>\n",
       "    <tr>\n",
       "      <th>625</th>\n",
       "      <td>2021-11-15</td>\n",
       "      <td>130.80</td>\n",
       "      <td>152.53</td>\n",
       "      <td>127.51</td>\n",
       "      <td>RIVN</td>\n",
       "      <td>44.88</td>\n",
       "      <td>13.7300</td>\n",
       "      <td>337.80</td>\n",
       "    </tr>\n",
       "    <tr>\n",
       "      <th>626</th>\n",
       "      <td>2021-11-12</td>\n",
       "      <td>128.65</td>\n",
       "      <td>135.20</td>\n",
       "      <td>125.25</td>\n",
       "      <td>RIVN</td>\n",
       "      <td>43.93</td>\n",
       "      <td>13.9800</td>\n",
       "      <td>344.47</td>\n",
       "    </tr>\n",
       "    <tr>\n",
       "      <th>627</th>\n",
       "      <td>2021-11-11</td>\n",
       "      <td>114.63</td>\n",
       "      <td>125.00</td>\n",
       "      <td>108.01</td>\n",
       "      <td>RIVN</td>\n",
       "      <td>44.98</td>\n",
       "      <td>14.3600</td>\n",
       "      <td>354.50</td>\n",
       "    </tr>\n",
       "  </tbody>\n",
       "</table>\n",
       "<p>628 rows × 8 columns</p>\n",
       "</div>"
      ],
      "text/plain": [
       "      timestamp    open    high     low item_id  lcid_close  nkla_close  \\\n",
       "0    2024-05-13   10.04   11.19   10.04    RIVN        2.81      0.5499   \n",
       "1    2024-05-10   10.20   10.40    9.84    RIVN        2.66      0.5370   \n",
       "2    2024-05-09   10.25   10.47   10.04    RIVN        2.70      0.5760   \n",
       "3    2024-05-08    9.51   10.28    9.25    RIVN        2.71      0.5791   \n",
       "4    2024-05-07   11.14   11.22   10.07    RIVN        2.62      0.6029   \n",
       "..          ...     ...     ...     ...     ...         ...         ...   \n",
       "623  2021-11-17  160.88  163.00  140.35    RIVN       52.55     13.3900   \n",
       "624  2021-11-16  163.80  179.47  153.78    RIVN       55.52     13.3600   \n",
       "625  2021-11-15  130.80  152.53  127.51    RIVN       44.88     13.7300   \n",
       "626  2021-11-12  128.65  135.20  125.25    RIVN       43.93     13.9800   \n",
       "627  2021-11-11  114.63  125.00  108.01    RIVN       44.98     14.3600   \n",
       "\n",
       "     tsla_close  \n",
       "0        171.89  \n",
       "1        168.47  \n",
       "2        171.97  \n",
       "3        174.72  \n",
       "4        177.81  \n",
       "..          ...  \n",
       "623      363.00  \n",
       "624      351.58  \n",
       "625      337.80  \n",
       "626      344.47  \n",
       "627      354.50  \n",
       "\n",
       "[628 rows x 8 columns]"
      ]
     },
     "execution_count": 10,
     "metadata": {},
     "output_type": "execute_result"
    }
   ],
   "source": [
    "related_data=util.get_related_data(\n",
    "    s3_client=s3,\n",
    "    bucket=bucket_name,\n",
    "    prefix=path,\n",
    "    target_df=stock_df,\n",
    "    target_column_name=target_column_name,\n",
    "    item_id=item_id,\n",
    "    exclude=[data_key, future_data_key],\n",
    "    fill_missing_values=FILL_MISSING_DATA,\n",
    "    use_bank_day=USE_BANK_DAY,\n",
    "    extra_features=USE_OTHER_FEATURES,\n",
    "    start_date=stock_df.timestamp.min(),\n",
    "    end_date=stock_df.timestamp.max()\n",
    ")\n",
    "related_data"
   ]
  },
  {
   "cell_type": "markdown",
   "metadata": {},
   "source": [
    "# Step 3: Prepare and Save the Target Time Series"
   ]
  },
  {
   "cell_type": "code",
   "execution_count": 11,
   "metadata": {
    "tags": []
   },
   "outputs": [
    {
     "data": {
      "text/html": [
       "<div>\n",
       "<style scoped>\n",
       "    .dataframe tbody tr th:only-of-type {\n",
       "        vertical-align: middle;\n",
       "    }\n",
       "\n",
       "    .dataframe tbody tr th {\n",
       "        vertical-align: top;\n",
       "    }\n",
       "\n",
       "    .dataframe thead th {\n",
       "        text-align: right;\n",
       "    }\n",
       "</style>\n",
       "<table border=\"1\" class=\"dataframe\">\n",
       "  <thead>\n",
       "    <tr style=\"text-align: right;\">\n",
       "      <th></th>\n",
       "      <th>timestamp</th>\n",
       "      <th>item_id</th>\n",
       "      <th>close</th>\n",
       "    </tr>\n",
       "  </thead>\n",
       "  <tbody>\n",
       "    <tr>\n",
       "      <th>0</th>\n",
       "      <td>2024-05-13</td>\n",
       "      <td>RIVN</td>\n",
       "      <td>10.90</td>\n",
       "    </tr>\n",
       "    <tr>\n",
       "      <th>1</th>\n",
       "      <td>2024-05-10</td>\n",
       "      <td>RIVN</td>\n",
       "      <td>9.99</td>\n",
       "    </tr>\n",
       "    <tr>\n",
       "      <th>2</th>\n",
       "      <td>2024-05-09</td>\n",
       "      <td>RIVN</td>\n",
       "      <td>10.22</td>\n",
       "    </tr>\n",
       "    <tr>\n",
       "      <th>3</th>\n",
       "      <td>2024-05-08</td>\n",
       "      <td>RIVN</td>\n",
       "      <td>10.27</td>\n",
       "    </tr>\n",
       "    <tr>\n",
       "      <th>4</th>\n",
       "      <td>2024-05-07</td>\n",
       "      <td>RIVN</td>\n",
       "      <td>10.25</td>\n",
       "    </tr>\n",
       "  </tbody>\n",
       "</table>\n",
       "</div>"
      ],
      "text/plain": [
       "    timestamp item_id  close\n",
       "0  2024-05-13    RIVN  10.90\n",
       "1  2024-05-10    RIVN   9.99\n",
       "2  2024-05-09    RIVN  10.22\n",
       "3  2024-05-08    RIVN  10.27\n",
       "4  2024-05-07    RIVN  10.25"
      ]
     },
     "execution_count": 11,
     "metadata": {},
     "output_type": "execute_result"
    }
   ],
   "source": [
    "target_df = stock_df[[\"timestamp\", \"item_id\", target_column_name]]\n",
    "target_df.head(5)"
   ]
  },
  {
   "cell_type": "code",
   "execution_count": 13,
   "metadata": {
    "tags": []
   },
   "outputs": [
    {
     "data": {
      "text/html": [
       "<div>\n",
       "<style scoped>\n",
       "    .dataframe tbody tr th:only-of-type {\n",
       "        vertical-align: middle;\n",
       "    }\n",
       "\n",
       "    .dataframe tbody tr th {\n",
       "        vertical-align: top;\n",
       "    }\n",
       "\n",
       "    .dataframe thead th {\n",
       "        text-align: right;\n",
       "    }\n",
       "</style>\n",
       "<table border=\"1\" class=\"dataframe\">\n",
       "  <thead>\n",
       "    <tr style=\"text-align: right;\">\n",
       "      <th></th>\n",
       "      <th>timestamp</th>\n",
       "      <th>open</th>\n",
       "      <th>high</th>\n",
       "      <th>low</th>\n",
       "      <th>item_id</th>\n",
       "      <th>lcid_close</th>\n",
       "      <th>nkla_close</th>\n",
       "      <th>tsla_close</th>\n",
       "    </tr>\n",
       "  </thead>\n",
       "  <tbody>\n",
       "    <tr>\n",
       "      <th>0</th>\n",
       "      <td>2024-05-13</td>\n",
       "      <td>10.04</td>\n",
       "      <td>11.19</td>\n",
       "      <td>10.04</td>\n",
       "      <td>RIVN</td>\n",
       "      <td>2.81</td>\n",
       "      <td>0.5499</td>\n",
       "      <td>171.89</td>\n",
       "    </tr>\n",
       "    <tr>\n",
       "      <th>1</th>\n",
       "      <td>2024-05-10</td>\n",
       "      <td>10.20</td>\n",
       "      <td>10.40</td>\n",
       "      <td>9.84</td>\n",
       "      <td>RIVN</td>\n",
       "      <td>2.66</td>\n",
       "      <td>0.5370</td>\n",
       "      <td>168.47</td>\n",
       "    </tr>\n",
       "    <tr>\n",
       "      <th>2</th>\n",
       "      <td>2024-05-09</td>\n",
       "      <td>10.25</td>\n",
       "      <td>10.47</td>\n",
       "      <td>10.04</td>\n",
       "      <td>RIVN</td>\n",
       "      <td>2.70</td>\n",
       "      <td>0.5760</td>\n",
       "      <td>171.97</td>\n",
       "    </tr>\n",
       "    <tr>\n",
       "      <th>3</th>\n",
       "      <td>2024-05-08</td>\n",
       "      <td>9.51</td>\n",
       "      <td>10.28</td>\n",
       "      <td>9.25</td>\n",
       "      <td>RIVN</td>\n",
       "      <td>2.71</td>\n",
       "      <td>0.5791</td>\n",
       "      <td>174.72</td>\n",
       "    </tr>\n",
       "    <tr>\n",
       "      <th>4</th>\n",
       "      <td>2024-05-07</td>\n",
       "      <td>11.14</td>\n",
       "      <td>11.22</td>\n",
       "      <td>10.07</td>\n",
       "      <td>RIVN</td>\n",
       "      <td>2.62</td>\n",
       "      <td>0.6029</td>\n",
       "      <td>177.81</td>\n",
       "    </tr>\n",
       "  </tbody>\n",
       "</table>\n",
       "</div>"
      ],
      "text/plain": [
       "    timestamp   open   high    low item_id  lcid_close  nkla_close  tsla_close\n",
       "0  2024-05-13  10.04  11.19  10.04    RIVN        2.81      0.5499      171.89\n",
       "1  2024-05-10  10.20  10.40   9.84    RIVN        2.66      0.5370      168.47\n",
       "2  2024-05-09  10.25  10.47  10.04    RIVN        2.70      0.5760      171.97\n",
       "3  2024-05-08   9.51  10.28   9.25    RIVN        2.71      0.5791      174.72\n",
       "4  2024-05-07  11.14  11.22  10.07    RIVN        2.62      0.6029      177.81"
      ]
     },
     "execution_count": 13,
     "metadata": {},
     "output_type": "execute_result"
    }
   ],
   "source": [
    "rts_df = related_data\n",
    "rts_df.head(5)"
   ]
  },
  {
   "cell_type": "code",
   "execution_count": 14,
   "metadata": {
    "tags": []
   },
   "outputs": [
    {
     "name": "stdout",
     "output_type": "stream",
     "text": [
      "628 = 628\n"
     ]
    }
   ],
   "source": [
    "print(f\"{len(target_df)} = {len(rts_df)}\")\n",
    "assert len(target_df) == len(rts_df), \"length doesn't match\""
   ]
  },
  {
   "cell_type": "code",
   "execution_count": 15,
   "metadata": {
    "tags": []
   },
   "outputs": [],
   "source": [
    "target_df.to_csv(s3_target_data_key, index= False, header = False)\n",
    "rts_df.to_csv(s3_related_data_key, index= False, header = False)"
   ]
  },
  {
   "cell_type": "markdown",
   "metadata": {},
   "source": [
    "# Step 4: Create the Dataset Group and Dataset"
   ]
  },
  {
   "cell_type": "markdown",
   "metadata": {},
   "source": [
    "## Dataset Group"
   ]
  },
  {
   "cell_type": "code",
   "execution_count": 16,
   "metadata": {
    "tags": []
   },
   "outputs": [
    {
     "name": "stdout",
     "output_type": "stream",
     "text": [
      "Dataset Group Name = mac_training_rivn_forecast_9\n"
     ]
    }
   ],
   "source": [
    "dataset_group_name = f\"{prefix}_{PROJECT}_{DATA_VERSION}\".replace(\"-\", \"_\")\n",
    "print(f\"Dataset Group Name = {dataset_group_name}\")"
   ]
  },
  {
   "cell_type": "code",
   "execution_count": 17,
   "metadata": {
    "tags": []
   },
   "outputs": [
    {
     "name": "stdout",
     "output_type": "stream",
     "text": [
      "ACTIVE \n"
     ]
    }
   ],
   "source": [
    "dataset_arns = []\n",
    "try:\n",
    "    create_dataset_group_response = \\\n",
    "        forecast.create_dataset_group(Domain=domain,\n",
    "                                      DatasetGroupName=dataset_group_name,\n",
    "                                      DatasetArns=dataset_arns,\n",
    "                                      Tags=tags\n",
    "                                     )\n",
    "    dataset_group_arn = create_dataset_group_response['DatasetGroupArn']\n",
    "    status = util.wait(lambda: forecast.describe_dataset_group(DatasetGroupArn=dataset_group_arn))\n",
    "    assert status\n",
    "except forecast.exceptions.ResourceAlreadyExistsException:\n",
    "    dataset_group_arn = f\"arn:aws:forecast:{region}:{account_id}:dataset-group/{dataset_group_name}\"\n",
    "    print(f\"Dataset group {dataset_group_arn} already exists.\")"
   ]
  },
  {
   "cell_type": "markdown",
   "metadata": {},
   "source": [
    "## Target Schema"
   ]
  },
  {
   "cell_type": "code",
   "execution_count": 18,
   "metadata": {
    "tags": []
   },
   "outputs": [
    {
     "data": {
      "text/plain": [
       "{'Attributes': [{'AttributeName': 'timestamp', 'AttributeType': 'timestamp'},\n",
       "  {'AttributeName': 'item_id', 'AttributeType': 'string'},\n",
       "  {'AttributeName': 'demand', 'AttributeType': 'float'}]}"
      ]
     },
     "execution_count": 18,
     "metadata": {},
     "output_type": "execute_result"
    }
   ],
   "source": [
    "# Specify the schema of your dataset here. Make sure the order of columns matches the raw data files.\n",
    "tts_schema = {\n",
    "   \"Attributes\": util.get_schema_attributes(target_df, domain, target_column_name)\n",
    "}\n",
    "tts_schema"
   ]
  },
  {
   "cell_type": "markdown",
   "metadata": {},
   "source": [
    "## Target Dataset"
   ]
  },
  {
   "cell_type": "code",
   "execution_count": 19,
   "metadata": {
    "tags": []
   },
   "outputs": [
    {
     "name": "stdout",
     "output_type": "stream",
     "text": [
      "mac_training_rivn_forecast_9_tts\n"
     ]
    }
   ],
   "source": [
    "tts_dataset_name = f\"{dataset_group_name}_tts\"\n",
    "print(tts_dataset_name)"
   ]
  },
  {
   "cell_type": "code",
   "execution_count": 20,
   "metadata": {
    "tags": []
   },
   "outputs": [
    {
     "name": "stdout",
     "output_type": "stream",
     "text": [
      "ACTIVE \n"
     ]
    }
   ],
   "source": [
    "try:\n",
    "    create_dataset_tts_response = \\\n",
    "        forecast.create_dataset(Domain=domain,\n",
    "                                DatasetType='TARGET_TIME_SERIES',\n",
    "                                DatasetName=tts_dataset_name,\n",
    "                                DataFrequency=DATASET_FREQUENCY,\n",
    "                                Schema=tts_schema,\n",
    "                                Tags=tags\n",
    "                               )\n",
    "    tts_dataset_arn = create_dataset_tts_response['DatasetArn']\n",
    "    status = util.wait(lambda: forecast.describe_dataset(DatasetArn=tts_dataset_arn))\n",
    "    assert status\n",
    "except forecast.exceptions.ResourceAlreadyExistsException:\n",
    "    tts_dataset_arn = f\"arn:aws:forecast:{region}:{account_id}:dataset/{tts_dataset_name}\"\n",
    "    print(f\"Target dataset {tts_dataset_arn} already exists.\")"
   ]
  },
  {
   "cell_type": "markdown",
   "metadata": {},
   "source": [
    "## Related schema"
   ]
  },
  {
   "cell_type": "code",
   "execution_count": 21,
   "metadata": {
    "tags": []
   },
   "outputs": [
    {
     "data": {
      "text/plain": [
       "{'Attributes': [{'AttributeName': 'timestamp', 'AttributeType': 'timestamp'},\n",
       "  {'AttributeName': 'open_value', 'AttributeType': 'float'},\n",
       "  {'AttributeName': 'high_value', 'AttributeType': 'float'},\n",
       "  {'AttributeName': 'low_value', 'AttributeType': 'float'},\n",
       "  {'AttributeName': 'item_id', 'AttributeType': 'string'},\n",
       "  {'AttributeName': 'lcid_close_value', 'AttributeType': 'float'},\n",
       "  {'AttributeName': 'nkla_close_value', 'AttributeType': 'float'},\n",
       "  {'AttributeName': 'tsla_close_value', 'AttributeType': 'float'}]}"
      ]
     },
     "execution_count": 21,
     "metadata": {},
     "output_type": "execute_result"
    }
   ],
   "source": [
    "# Specify the schema of your dataset here. Make sure the order of columns matches the raw data files.\n",
    "rts_schema = {\n",
    "   \"Attributes\": util.get_schema_attributes(rts_df, domain, target_column_name)\n",
    "}\n",
    "rts_schema"
   ]
  },
  {
   "cell_type": "markdown",
   "metadata": {},
   "source": [
    "## Related dataset"
   ]
  },
  {
   "cell_type": "code",
   "execution_count": 22,
   "metadata": {
    "tags": []
   },
   "outputs": [
    {
     "name": "stdout",
     "output_type": "stream",
     "text": [
      "mac_training_rivn_forecast_9_rts\n"
     ]
    }
   ],
   "source": [
    "rts_dataset_name = f\"{dataset_group_name}_rts\"\n",
    "print(rts_dataset_name)"
   ]
  },
  {
   "cell_type": "code",
   "execution_count": 23,
   "metadata": {
    "tags": []
   },
   "outputs": [
    {
     "name": "stdout",
     "output_type": "stream",
     "text": [
      "ACTIVE \n"
     ]
    }
   ],
   "source": [
    "try:\n",
    "    create_dataset_rts_response = \\\n",
    "        forecast.create_dataset(Domain=domain,\n",
    "                                DatasetType='RELATED_TIME_SERIES',\n",
    "                                DatasetName=rts_dataset_name,\n",
    "                                DataFrequency=DATASET_FREQUENCY,\n",
    "                                Schema=rts_schema,\n",
    "                                Tags=tags\n",
    "                               )\n",
    "    rts_dataset_arn = create_dataset_rts_response['DatasetArn']\n",
    "    status = util.wait(lambda: forecast.describe_dataset(DatasetArn=rts_dataset_arn))\n",
    "    assert status\n",
    "except forecast.exceptions.ResourceAlreadyExistsException:\n",
    "    rts_dataset_arn = f\"arn:aws:forecast:{region}:{account_id}:dataset/{rts_dataset_name}\"\n",
    "    print(f\"Related dataset {rts_dataset_arn} already exists.\")"
   ]
  },
  {
   "cell_type": "code",
   "execution_count": 24,
   "metadata": {
    "tags": []
   },
   "outputs": [
    {
     "name": "stdout",
     "output_type": "stream",
     "text": [
      "ACTIVE \n"
     ]
    }
   ],
   "source": [
    "dataset_arns = []\n",
    "dataset_arns.append(tts_dataset_arn)\n",
    "dataset_arns.append(rts_dataset_arn)\n",
    "update_dataset_response = forecast.update_dataset_group(DatasetGroupArn=dataset_group_arn, DatasetArns=dataset_arns)\n",
    "status = util.wait(lambda: forecast.describe_dataset_group(DatasetGroupArn=dataset_group_arn))\n",
    "assert status"
   ]
  },
  {
   "cell_type": "markdown",
   "metadata": {},
   "source": [
    "# Step 5: Import data from S3 to Forecast"
   ]
  },
  {
   "cell_type": "markdown",
   "metadata": {},
   "source": [
    "## Target data"
   ]
  },
  {
   "cell_type": "markdown",
   "metadata": {},
   "source": [
    "**Note:** Depending on the data size, the import can take 10 mins or more to become **ACTIVE**."
   ]
  },
  {
   "cell_type": "code",
   "execution_count": 25,
   "metadata": {
    "tags": []
   },
   "outputs": [
    {
     "name": "stdout",
     "output_type": "stream",
     "text": [
      "CREATE_PENDING \n",
      "CREATE_IN_PROGRESS .....................................\n",
      "ACTIVE \n",
      "Target data imported.\n"
     ]
    }
   ],
   "source": [
    "import_tts_dataset_response = True\n",
    "if len(util.get_dataset_import_jobs(tts_dataset_arn, forecast)) > 0:\n",
    "    print(\"Target dataset has already imported data.\")\n",
    "    import_tts_dataset_response = True if input(\"Re-import (y/N)? \").lower() == \"y\" else False\n",
    "\n",
    "if import_tts_dataset_response:\n",
    "    tts_dataset_import_job_response = \\\n",
    "        forecast.create_dataset_import_job(DatasetImportJobName=f\"tts_job_{datetime.now().strftime(date_format)}\",\n",
    "                                           DatasetArn=tts_dataset_arn,\n",
    "                                           DataSource={\n",
    "                                             \"S3Config\": {\n",
    "                                                 \"Path\": s3_target_data_key,\n",
    "                                                 \"RoleArn\": role_arn\n",
    "                                             }\n",
    "                                           },\n",
    "                                           TimestampFormat=DATASET_TIMESTAMP_FORMAT,\n",
    "                                           Tags=tags\n",
    "                                          )\n",
    "    tts_dataset_import_job_arn=tts_dataset_import_job_response['DatasetImportJobArn']\n",
    "    status = util.wait(lambda: forecast.describe_dataset_import_job(DatasetImportJobArn=tts_dataset_import_job_arn))\n",
    "    assert status\n",
    "    print(\"Target data imported.\")\n",
    "else:\n",
    "    print(\"Target data re-import skipped\")"
   ]
  },
  {
   "cell_type": "markdown",
   "metadata": {},
   "source": [
    "## Related data"
   ]
  },
  {
   "cell_type": "markdown",
   "metadata": {},
   "source": [
    "**Note:** Depending on the data size, the import can take 10 mins or more to become **ACTIVE**."
   ]
  },
  {
   "cell_type": "code",
   "execution_count": 26,
   "metadata": {
    "tags": []
   },
   "outputs": [
    {
     "name": "stdout",
     "output_type": "stream",
     "text": [
      "CREATE_PENDING ..\n",
      "CREATE_IN_PROGRESS ...........\n",
      "ACTIVE \n",
      "Related data imported.\n"
     ]
    }
   ],
   "source": [
    "import_rts_dataset_response = True\n",
    "if len(util.get_dataset_import_jobs(rts_dataset_arn, forecast)) > 0:\n",
    "    print(\"Related dataset has already imported data.\")\n",
    "    import_rts_dataset_response = True if input(\"Re-import (y/N)? \").lower() == \"y\" else False\n",
    "\n",
    "if import_rts_dataset_response:\n",
    "    rts_dataset_import_job_response = \\\n",
    "        forecast.create_dataset_import_job(DatasetImportJobName=f\"rts_job_{datetime.now().strftime(date_format)}\",\n",
    "                                           DatasetArn=rts_dataset_arn,\n",
    "                                           DataSource= {\n",
    "                                             \"S3Config\" : {\n",
    "                                                 \"Path\": s3_related_data_key,\n",
    "                                                 \"RoleArn\": role_arn\n",
    "                                             } \n",
    "                                           },\n",
    "                                           TimestampFormat=DATASET_TIMESTAMP_FORMAT,\n",
    "                                           Tags=tags\n",
    "                                          )\n",
    "    rts_dataset_import_job_arn = rts_dataset_import_job_response[\"DatasetImportJobArn\"]\n",
    "    status = util.wait(lambda: forecast.describe_dataset_import_job(DatasetImportJobArn=rts_dataset_import_job_arn))\n",
    "    assert status\n",
    "    print(\"Related data imported.\")\n",
    "else:\n",
    "    print(\"Related data re-import skipped\")"
   ]
  },
  {
   "cell_type": "markdown",
   "metadata": {},
   "source": [
    "# Step 6: Training and Evaluation"
   ]
  },
  {
   "cell_type": "markdown",
   "metadata": {},
   "source": [
    "## DeepAR+"
   ]
  },
  {
   "cell_type": "code",
   "execution_count": null,
   "metadata": {
    "tags": []
   },
   "outputs": [],
   "source": [
    "algorithm_arn = 'arn:aws:forecast:::algorithm/'\n",
    "algorithm = 'Deep_AR_Plus'\n",
    "algorithm_arn_deep_ar_plus = algorithm_arn + algorithm\n",
    "predictor_name_deep_ar = f\"{dataset_group_name}_{algorithm.lower()}\"\n",
    "print(f\"Predictor Name = {predictor_name_deep_ar}\")"
   ]
  },
  {
   "cell_type": "markdown",
   "metadata": {},
   "source": [
    "**NOTE:** Training a forecast model can take several hours to become **ACTIVE**."
   ]
  },
  {
   "cell_type": "code",
   "execution_count": null,
   "metadata": {
    "tags": []
   },
   "outputs": [],
   "source": [
    "retrain_predictor_deep_ar = False\n",
    "existing_predictor_deep_ar = util.get_predictor(predictor_name_deep_ar, forecast)\n",
    "\n",
    "if existing_predictor_deep_ar:\n",
    "    predictor_arn_deep_ar = existing_predictor_deep_ar['PredictorArn']\n",
    "    print(f\"DeepAR+ Predictor {predictor_arn_deep_ar} already exists.\")\n",
    "    retrain_predictor_deep_ar = True if input(\"Retrain model (y/N)? \").lower() == \"y\" else False\n",
    "\n",
    "if existing_predictor_deep_ar and retrain_predictor_deep_ar:\n",
    "    util.delete_forecasts_by_predictor(predictor_arn_deep_ar, forecast)\n",
    "    print(f\"Deleting DeepAR+ Predictor {predictor_arn_deep_ar}...\")\n",
    "    util.wait_till_delete(lambda: forecast.delete_predictor(PredictorArn=predictor_arn_deep_ar))\n",
    "elif existing_predictor_deep_ar and not retrain_predictor_deep_ar:\n",
    "    print(f\"Keeping existing DeepAR+ Predictor {predictor_arn_deep_ar}.\")\n",
    "\n",
    "if not existing_predictor_deep_ar or retrain_predictor_deep_ar:\n",
    "    create_predictor_deep_ar_response = \\\n",
    "        forecast.create_predictor(PredictorName=predictor_name_deep_ar,\n",
    "                                  AlgorithmArn=algorithm_arn_deep_ar_plus,\n",
    "                                  ForecastHorizon=FORECAST_LENGTH,\n",
    "                                  PerformAutoML=False,\n",
    "                                  PerformHPO=False,\n",
    "                                  InputDataConfig={\n",
    "                                      \"DatasetGroupArn\": dataset_group_arn,\n",
    "                                      \"SupplementaryFeatures\": [\n",
    "                                          {\"Name\": \"holiday\",\n",
    "                                           \"Value\": \"US\"}],\n",
    "                                  },\n",
    "                                  FeaturizationConfig={\"ForecastFrequency\": DATASET_FREQUENCY},\n",
    "                                  Tags=tags\n",
    "                                 )\n",
    "    predictor_arn_deep_ar = create_predictor_deep_ar_response['PredictorArn']\n",
    "    print(f\"Creating DeepAR+ Predictor {predictor_arn_deep_ar}...\")\n",
    "    status = util.wait(lambda: forecast.describe_predictor(PredictorArn=predictor_arn_deep_ar))\n",
    "    assert status"
   ]
  },
  {
   "cell_type": "markdown",
   "metadata": {},
   "source": [
    "## Prophet"
   ]
  },
  {
   "cell_type": "code",
   "execution_count": null,
   "metadata": {},
   "outputs": [],
   "source": [
    "algorithm_arn = 'arn:aws:forecast:::algorithm/'\n",
    "algorithm = 'Prophet'\n",
    "algorithm_arn_prophet = algorithm_arn + algorithm\n",
    "predictor_name_prophet = f\"{dataset_group_name}_{algorithm.lower()}\"\n",
    "print(f\"Predictor Name = {predictor_name_prophet}\")"
   ]
  },
  {
   "cell_type": "markdown",
   "metadata": {},
   "source": [
    "**NOTE:** Training a forecast model can take several hours to become **ACTIVE**."
   ]
  },
  {
   "cell_type": "code",
   "execution_count": null,
   "metadata": {},
   "outputs": [],
   "source": [
    "retrain_predictor_prophet = False\n",
    "existing_predictor_prophet = util.get_predictor(predictor_name_prophet, forecast)\n",
    "\n",
    "if existing_predictor_prophet:\n",
    "    predictor_arn_prophet = existing_predictor_prophet['PredictorArn']\n",
    "    print(f\"Prophet Predictor {predictor_arn_prophet} already exists.\")\n",
    "    retrain_predictor_prophet = True if input(\"Retrain model (y/N)? \").lower() == \"y\" else False\n",
    "\n",
    "if existing_predictor_prophet and retrain_predictor_prophet:\n",
    "    print(f\"Deleting Prophet Predictor {predictor_arn_prophet}...\")\n",
    "    util.wait_till_delete(lambda: forecast.delete_predictor(PredictorArn=predictor_arn_prophet))\n",
    "elif existing_predictor_prophet and not retrain_predictor_prophet:\n",
    "    print(f\"Keeping existing Prophet Predictor {predictor_arn_prophet}.\")\n",
    "\n",
    "if not existing_predictor_prophet or retrain_predictor_prophet:\n",
    "    create_predictor_response = \\\n",
    "        forecast.create_predictor(PredictorName=predictor_name_prophet,\n",
    "                                  AlgorithmArn=algorithm_arn_prophet,\n",
    "                                  ForecastHorizon=FORECAST_LENGTH,\n",
    "                                  PerformAutoML=False,\n",
    "                                  PerformHPO=False,\n",
    "                                  InputDataConfig= {\n",
    "                                      \"DatasetGroupArn\": dataset_group_arn,\n",
    "                                      \"SupplementaryFeatures\": [\n",
    "                                          {\"Name\": \"holiday\",\n",
    "                                           \"Value\": \"US\"}],\n",
    "                                  },\n",
    "                                  FeaturizationConfig={\"ForecastFrequency\": DATASET_FREQUENCY},\n",
    "                                  Tags=tags\n",
    "                                 )\n",
    "    predictor_arn_prophet = create_predictor_response['PredictorArn']\n",
    "    print(f\"Creating Prophet Predictor {predictor_arn_prophet}...\")\n",
    "    status = util.wait(lambda: forecast.describe_predictor(PredictorArn=predictor_arn_prophet))\n",
    "    assert status"
   ]
  },
  {
   "cell_type": "markdown",
   "metadata": {},
   "source": [
    "## Auto"
   ]
  },
  {
   "cell_type": "code",
   "execution_count": 27,
   "metadata": {
    "tags": []
   },
   "outputs": [
    {
     "name": "stdout",
     "output_type": "stream",
     "text": [
      "Predictor Name = mac_training_rivn_forecast_9_auto\n"
     ]
    }
   ],
   "source": [
    "predictor_name_auto = f\"{dataset_group_name}_auto\"\n",
    "print(f\"Predictor Name = {predictor_name_auto}\")"
   ]
  },
  {
   "cell_type": "markdown",
   "metadata": {},
   "source": [
    "**NOTE:** Training a forecast model can take several hours to become **ACTIVE**."
   ]
  },
  {
   "cell_type": "code",
   "execution_count": 28,
   "metadata": {
    "tags": []
   },
   "outputs": [
    {
     "name": "stdout",
     "output_type": "stream",
     "text": [
      "Creating new Auto Predictor arn:aws:forecast:us-east-1:275279264324:predictor/mac_training_rivn_forecast_9_auto_01HYY5ZDXGPW3Z03PDRC3K5K1X...\n",
      "CREATE_PENDING \n",
      "CREATE_IN_PROGRESS .......................................................................................................................................................................................................................................................................................................................................................................................................................................................................................................................................................................................................................................................................................................................................................................................................................................................................................................\n",
      "ACTIVE \n"
     ]
    }
   ],
   "source": [
    "existing_predictor_auto = util.get_predictor(predictor_name_auto, forecast)\n",
    "if existing_predictor_auto:\n",
    "    predictor_arn_auto = existing_predictor_auto['PredictorArn']\n",
    "    print(f\"Auto Predictor {predictor_arn_auto} already exists.\")\n",
    "    if input(\"Retrain model (y/N)? \").lower() == \"y\":\n",
    "        args = {\n",
    "            \"PredictorName\": f\"{predictor_name_auto}_retrain_{datetime.now().strftime(date_format)}\",\n",
    "            \"ReferencePredictorArn\": predictor_arn_auto\n",
    "        }\n",
    "    else:\n",
    "        args = {}\n",
    "else:\n",
    "    args = {\n",
    "        \"PredictorName\": predictor_name_auto,\n",
    "        \"ForecastHorizon\": FORECAST_LENGTH,\n",
    "        \"ForecastFrequency\": DATASET_FREQUENCY,\n",
    "        \"DataConfig\": {\n",
    "            \"DatasetGroupArn\": dataset_group_arn,\n",
    "            \"AdditionalDatasets\": [\n",
    "                {\n",
    "                    \"Name\": \"holiday\",\n",
    "                    \"Configuration\": {\n",
    "                        \"CountryCode\": [\"US\"]\n",
    "                    }\n",
    "                }\n",
    "            ]\n",
    "        },\n",
    "        \"Tags\": tags\n",
    "    }\n",
    "\n",
    "if args:\n",
    "    create_predictor_auto_response = forecast.create_auto_predictor(**args)\n",
    "    predictor_arn_auto = create_predictor_auto_response['PredictorArn']\n",
    "    print(f\"{'Retraining existing' if existing_predictor_auto else 'Creating new'} Auto Predictor {predictor_arn_auto}...\")\n",
    "    status = util.wait(lambda: forecast.describe_auto_predictor(PredictorArn=predictor_arn_auto))\n",
    "    assert status\n",
    "else:\n",
    "    print(f\"Keeping existing Auto Predictor {predictor_arn_auto}.\")"
   ]
  },
  {
   "cell_type": "markdown",
   "metadata": {},
   "source": [
    "## Step 7: Predictor Error Metrics"
   ]
  },
  {
   "cell_type": "code",
   "execution_count": null,
   "metadata": {},
   "outputs": [],
   "source": [
    "error_metrics_deep_ar_plus = forecast.get_accuracy_metrics(PredictorArn=predictor_arn_deep_ar)"
   ]
  },
  {
   "cell_type": "code",
   "execution_count": null,
   "metadata": {},
   "outputs": [],
   "source": [
    "error_metrics_prophet = forecast.get_accuracy_metrics(PredictorArn=predictor_arn_prophet)"
   ]
  },
  {
   "cell_type": "code",
   "execution_count": 29,
   "metadata": {},
   "outputs": [],
   "source": [
    "error_metrics_auto = forecast.get_accuracy_metrics(PredictorArn=predictor_arn_auto)"
   ]
  },
  {
   "cell_type": "code",
   "execution_count": null,
   "metadata": {},
   "outputs": [],
   "source": [
    "def extract_summary_metrics(metric_response, predictor_name):\n",
    "    df = pd.DataFrame(metric_response['PredictorEvaluationResults']\n",
    "                 [0]['TestWindows'][0]['Metrics']['WeightedQuantileLosses'])\n",
    "    df['Predictor'] = predictor_name\n",
    "    return df"
   ]
  },
  {
   "cell_type": "code",
   "execution_count": null,
   "metadata": {},
   "outputs": [],
   "source": [
    "deep_ar_metrics = extract_summary_metrics(error_metrics_deep_ar_plus, \"DeepAR\")\n",
    "prophet_metrics = extract_summary_metrics(error_metrics_prophet, \"Prophet\")\n",
    "auto_metrics = extract_summary_metrics(error_metrics_auto, \"Auto\")"
   ]
  },
  {
   "cell_type": "code",
   "execution_count": null,
   "metadata": {},
   "outputs": [],
   "source": [
    "pd.concat([deep_ar_metrics, prophet_metrics, auto_metrics]) \\\n",
    "    .pivot(index='Quantile', columns='Predictor', values='LossValue').plot.bar()"
   ]
  },
  {
   "cell_type": "markdown",
   "metadata": {},
   "source": [
    "# Step 8: Forecasting"
   ]
  },
  {
   "cell_type": "markdown",
   "metadata": {},
   "source": [
    "## DeepAR+"
   ]
  },
  {
   "cell_type": "markdown",
   "metadata": {},
   "source": [
    "**NOTE:** Creating a forecast can take up to an hour to become **ACTIVE**."
   ]
  },
  {
   "cell_type": "code",
   "execution_count": null,
   "metadata": {
    "tags": []
   },
   "outputs": [],
   "source": [
    "forecast_arn_deep_ar = util.create_forecast(\n",
    "    *util.create_forecast_name(dataset_group_name,\n",
    "                               'deep_ar',\n",
    "                               date_format=date_format\n",
    "                              ),\n",
    "    predictor_arn_deep_ar,\n",
    "    forecast,\n",
    "    tags,\n",
    "    ui_date_format=ui_date_format,\n",
    ")"
   ]
  },
  {
   "cell_type": "markdown",
   "metadata": {
    "tags": []
   },
   "source": [
    "## Prophet"
   ]
  },
  {
   "cell_type": "markdown",
   "metadata": {},
   "source": [
    "**NOTE:** Creating a forecast can take up to an hour to become **ACTIVE**."
   ]
  },
  {
   "cell_type": "code",
   "execution_count": null,
   "metadata": {
    "tags": []
   },
   "outputs": [],
   "source": [
    "forecast_arn_prophet = util.create_forecast(\n",
    "    *util.create_forecast_name(dataset_group_name,\n",
    "                               'prophet',\n",
    "                               date_format=date_format\n",
    "                              ),\n",
    "    predictor_arn_prophet,\n",
    "    forecast,\n",
    "    tags,\n",
    "    ui_date_format=ui_date_format,\n",
    ")"
   ]
  },
  {
   "cell_type": "markdown",
   "metadata": {
    "tags": []
   },
   "source": [
    "## Auto"
   ]
  },
  {
   "cell_type": "markdown",
   "metadata": {},
   "source": [
    "**NOTE:** Creating a forecast can take up to an hour to become **ACTIVE**."
   ]
  },
  {
   "cell_type": "code",
   "execution_count": 30,
   "metadata": {
    "tags": []
   },
   "outputs": [
    {
     "name": "stdout",
     "output_type": "stream",
     "text": [
      "Creating new forecast arn:aws:forecast:us-east-1:275279264324:forecast/mac_training_rivn_forecast_9_auto_20240528_024856 for predictor arn:aws:forecast:us-east-1:275279264324:predictor/mac_training_rivn_forecast_9_auto_01HYY5ZDXGPW3Z03PDRC3K5K1X...\n",
      "CREATE_PENDING \n",
      "CREATE_IN_PROGRESS .......................................................................................................................................................................\n",
      "ACTIVE \n"
     ]
    }
   ],
   "source": [
    "forecast_arn_auto = util.create_forecast(\n",
    "    *util.create_forecast_name(dataset_group_name,\n",
    "                               'auto',\n",
    "                               date_format=date_format\n",
    "                              ),\n",
    "    predictor_arn_auto,\n",
    "    forecast,\n",
    "    tags,\n",
    "    ui_date_format=ui_date_format,\n",
    ")"
   ]
  },
  {
   "cell_type": "markdown",
   "metadata": {},
   "source": [
    "# Step 9: Querying"
   ]
  },
  {
   "cell_type": "code",
   "execution_count": 31,
   "metadata": {
    "tags": []
   },
   "outputs": [
    {
     "data": {
      "text/html": [
       "<div>\n",
       "<style scoped>\n",
       "    .dataframe tbody tr th:only-of-type {\n",
       "        vertical-align: middle;\n",
       "    }\n",
       "\n",
       "    .dataframe tbody tr th {\n",
       "        vertical-align: top;\n",
       "    }\n",
       "\n",
       "    .dataframe thead th {\n",
       "        text-align: right;\n",
       "    }\n",
       "</style>\n",
       "<table border=\"1\" class=\"dataframe\">\n",
       "  <thead>\n",
       "    <tr style=\"text-align: right;\">\n",
       "      <th></th>\n",
       "      <th>timestamp</th>\n",
       "      <th>item_id</th>\n",
       "      <th>close</th>\n",
       "    </tr>\n",
       "  </thead>\n",
       "  <tbody>\n",
       "    <tr>\n",
       "      <th>0</th>\n",
       "      <td>2024-05-13</td>\n",
       "      <td>RIVN</td>\n",
       "      <td>10.90</td>\n",
       "    </tr>\n",
       "    <tr>\n",
       "      <th>1</th>\n",
       "      <td>2024-05-10</td>\n",
       "      <td>RIVN</td>\n",
       "      <td>9.99</td>\n",
       "    </tr>\n",
       "    <tr>\n",
       "      <th>2</th>\n",
       "      <td>2024-05-09</td>\n",
       "      <td>RIVN</td>\n",
       "      <td>10.22</td>\n",
       "    </tr>\n",
       "    <tr>\n",
       "      <th>3</th>\n",
       "      <td>2024-05-08</td>\n",
       "      <td>RIVN</td>\n",
       "      <td>10.27</td>\n",
       "    </tr>\n",
       "    <tr>\n",
       "      <th>4</th>\n",
       "      <td>2024-05-07</td>\n",
       "      <td>RIVN</td>\n",
       "      <td>10.25</td>\n",
       "    </tr>\n",
       "    <tr>\n",
       "      <th>...</th>\n",
       "      <td>...</td>\n",
       "      <td>...</td>\n",
       "      <td>...</td>\n",
       "    </tr>\n",
       "    <tr>\n",
       "      <th>623</th>\n",
       "      <td>2021-11-17</td>\n",
       "      <td>RIVN</td>\n",
       "      <td>146.07</td>\n",
       "    </tr>\n",
       "    <tr>\n",
       "      <th>624</th>\n",
       "      <td>2021-11-16</td>\n",
       "      <td>RIVN</td>\n",
       "      <td>172.01</td>\n",
       "    </tr>\n",
       "    <tr>\n",
       "      <th>625</th>\n",
       "      <td>2021-11-15</td>\n",
       "      <td>RIVN</td>\n",
       "      <td>149.36</td>\n",
       "    </tr>\n",
       "    <tr>\n",
       "      <th>626</th>\n",
       "      <td>2021-11-12</td>\n",
       "      <td>RIVN</td>\n",
       "      <td>129.95</td>\n",
       "    </tr>\n",
       "    <tr>\n",
       "      <th>627</th>\n",
       "      <td>2021-11-11</td>\n",
       "      <td>RIVN</td>\n",
       "      <td>122.99</td>\n",
       "    </tr>\n",
       "  </tbody>\n",
       "</table>\n",
       "<p>628 rows × 3 columns</p>\n",
       "</div>"
      ],
      "text/plain": [
       "      timestamp item_id   close\n",
       "0    2024-05-13    RIVN   10.90\n",
       "1    2024-05-10    RIVN    9.99\n",
       "2    2024-05-09    RIVN   10.22\n",
       "3    2024-05-08    RIVN   10.27\n",
       "4    2024-05-07    RIVN   10.25\n",
       "..          ...     ...     ...\n",
       "623  2021-11-17    RIVN  146.07\n",
       "624  2021-11-16    RIVN  172.01\n",
       "625  2021-11-15    RIVN  149.36\n",
       "626  2021-11-12    RIVN  129.95\n",
       "627  2021-11-11    RIVN  122.99\n",
       "\n",
       "[628 rows x 3 columns]"
      ]
     },
     "execution_count": 31,
     "metadata": {},
     "output_type": "execute_result"
    }
   ],
   "source": [
    "exact = pd.read_csv(s3_target_data_key, header=None, thousands=',')\n",
    "exact.columns = ['timestamp', 'item_id', target_column_name]\n",
    "exact = exact.loc[exact['item_id'] == item_id]\n",
    "exact"
   ]
  },
  {
   "cell_type": "code",
   "execution_count": 32,
   "metadata": {},
   "outputs": [
    {
     "data": {
      "text/html": [
       "<div>\n",
       "<style scoped>\n",
       "    .dataframe tbody tr th:only-of-type {\n",
       "        vertical-align: middle;\n",
       "    }\n",
       "\n",
       "    .dataframe tbody tr th {\n",
       "        vertical-align: top;\n",
       "    }\n",
       "\n",
       "    .dataframe thead th {\n",
       "        text-align: right;\n",
       "    }\n",
       "</style>\n",
       "<table border=\"1\" class=\"dataframe\">\n",
       "  <thead>\n",
       "    <tr style=\"text-align: right;\">\n",
       "      <th></th>\n",
       "      <th>timestamp</th>\n",
       "      <th>item_id</th>\n",
       "      <th>close</th>\n",
       "    </tr>\n",
       "  </thead>\n",
       "  <tbody>\n",
       "    <tr>\n",
       "      <th>0</th>\n",
       "      <td>2024-05-13</td>\n",
       "      <td>RIVN</td>\n",
       "      <td>10.90</td>\n",
       "    </tr>\n",
       "    <tr>\n",
       "      <th>1</th>\n",
       "      <td>2024-05-10</td>\n",
       "      <td>RIVN</td>\n",
       "      <td>9.99</td>\n",
       "    </tr>\n",
       "    <tr>\n",
       "      <th>2</th>\n",
       "      <td>2024-05-09</td>\n",
       "      <td>RIVN</td>\n",
       "      <td>10.22</td>\n",
       "    </tr>\n",
       "    <tr>\n",
       "      <th>3</th>\n",
       "      <td>2024-05-08</td>\n",
       "      <td>RIVN</td>\n",
       "      <td>10.27</td>\n",
       "    </tr>\n",
       "    <tr>\n",
       "      <th>4</th>\n",
       "      <td>2024-05-07</td>\n",
       "      <td>RIVN</td>\n",
       "      <td>10.25</td>\n",
       "    </tr>\n",
       "    <tr>\n",
       "      <th>...</th>\n",
       "      <td>...</td>\n",
       "      <td>...</td>\n",
       "      <td>...</td>\n",
       "    </tr>\n",
       "    <tr>\n",
       "      <th>623</th>\n",
       "      <td>2021-11-17</td>\n",
       "      <td>RIVN</td>\n",
       "      <td>146.07</td>\n",
       "    </tr>\n",
       "    <tr>\n",
       "      <th>624</th>\n",
       "      <td>2021-11-16</td>\n",
       "      <td>RIVN</td>\n",
       "      <td>172.01</td>\n",
       "    </tr>\n",
       "    <tr>\n",
       "      <th>625</th>\n",
       "      <td>2021-11-15</td>\n",
       "      <td>RIVN</td>\n",
       "      <td>149.36</td>\n",
       "    </tr>\n",
       "    <tr>\n",
       "      <th>626</th>\n",
       "      <td>2021-11-12</td>\n",
       "      <td>RIVN</td>\n",
       "      <td>129.95</td>\n",
       "    </tr>\n",
       "    <tr>\n",
       "      <th>627</th>\n",
       "      <td>2021-11-11</td>\n",
       "      <td>RIVN</td>\n",
       "      <td>122.99</td>\n",
       "    </tr>\n",
       "  </tbody>\n",
       "</table>\n",
       "<p>628 rows × 3 columns</p>\n",
       "</div>"
      ],
      "text/plain": [
       "      timestamp item_id   close\n",
       "0    2024-05-13    RIVN   10.90\n",
       "1    2024-05-10    RIVN    9.99\n",
       "2    2024-05-09    RIVN   10.22\n",
       "3    2024-05-08    RIVN   10.27\n",
       "4    2024-05-07    RIVN   10.25\n",
       "..          ...     ...     ...\n",
       "623  2021-11-17    RIVN  146.07\n",
       "624  2021-11-16    RIVN  172.01\n",
       "625  2021-11-15    RIVN  149.36\n",
       "626  2021-11-12    RIVN  129.95\n",
       "627  2021-11-11    RIVN  122.99\n",
       "\n",
       "[628 rows x 3 columns]"
      ]
     },
     "execution_count": 32,
     "metadata": {},
     "output_type": "execute_result"
    }
   ],
   "source": [
    "exact = util.load_exact_sol(s3_target_data_key, item_id, target_col_name=target_column_name)\n",
    "exact"
   ]
  },
  {
   "cell_type": "code",
   "execution_count": 33,
   "metadata": {
    "tags": []
   },
   "outputs": [
    {
     "data": {
      "text/html": [
       "<div>\n",
       "<style scoped>\n",
       "    .dataframe tbody tr th:only-of-type {\n",
       "        vertical-align: middle;\n",
       "    }\n",
       "\n",
       "    .dataframe tbody tr th {\n",
       "        vertical-align: top;\n",
       "    }\n",
       "\n",
       "    .dataframe thead th {\n",
       "        text-align: right;\n",
       "    }\n",
       "</style>\n",
       "<table border=\"1\" class=\"dataframe\">\n",
       "  <thead>\n",
       "    <tr style=\"text-align: right;\">\n",
       "      <th></th>\n",
       "      <th>timestamp</th>\n",
       "      <th>close</th>\n",
       "      <th>item_id</th>\n",
       "    </tr>\n",
       "  </thead>\n",
       "  <tbody>\n",
       "    <tr>\n",
       "      <th>0</th>\n",
       "      <td>2024-05-24</td>\n",
       "      <td>10.44</td>\n",
       "      <td>RIVN</td>\n",
       "    </tr>\n",
       "    <tr>\n",
       "      <th>1</th>\n",
       "      <td>2024-05-23</td>\n",
       "      <td>9.95</td>\n",
       "      <td>RIVN</td>\n",
       "    </tr>\n",
       "    <tr>\n",
       "      <th>2</th>\n",
       "      <td>2024-05-22</td>\n",
       "      <td>10.70</td>\n",
       "      <td>RIVN</td>\n",
       "    </tr>\n",
       "    <tr>\n",
       "      <th>3</th>\n",
       "      <td>2024-05-21</td>\n",
       "      <td>10.05</td>\n",
       "      <td>RIVN</td>\n",
       "    </tr>\n",
       "    <tr>\n",
       "      <th>4</th>\n",
       "      <td>2024-05-20</td>\n",
       "      <td>10.28</td>\n",
       "      <td>RIVN</td>\n",
       "    </tr>\n",
       "    <tr>\n",
       "      <th>5</th>\n",
       "      <td>2024-05-17</td>\n",
       "      <td>10.50</td>\n",
       "      <td>RIVN</td>\n",
       "    </tr>\n",
       "    <tr>\n",
       "      <th>6</th>\n",
       "      <td>2024-05-16</td>\n",
       "      <td>10.13</td>\n",
       "      <td>RIVN</td>\n",
       "    </tr>\n",
       "    <tr>\n",
       "      <th>7</th>\n",
       "      <td>2024-05-15</td>\n",
       "      <td>10.20</td>\n",
       "      <td>RIVN</td>\n",
       "    </tr>\n",
       "    <tr>\n",
       "      <th>8</th>\n",
       "      <td>2024-05-14</td>\n",
       "      <td>11.19</td>\n",
       "      <td>RIVN</td>\n",
       "    </tr>\n",
       "    <tr>\n",
       "      <th>9</th>\n",
       "      <td>2024-05-13</td>\n",
       "      <td>10.90</td>\n",
       "      <td>RIVN</td>\n",
       "    </tr>\n",
       "  </tbody>\n",
       "</table>\n",
       "</div>"
      ],
      "text/plain": [
       "    timestamp  close item_id\n",
       "0  2024-05-24  10.44    RIVN\n",
       "1  2024-05-23   9.95    RIVN\n",
       "2  2024-05-22  10.70    RIVN\n",
       "3  2024-05-21  10.05    RIVN\n",
       "4  2024-05-20  10.28    RIVN\n",
       "5  2024-05-17  10.50    RIVN\n",
       "6  2024-05-16  10.13    RIVN\n",
       "7  2024-05-15  10.20    RIVN\n",
       "8  2024-05-14  11.19    RIVN\n",
       "9  2024-05-13  10.90    RIVN"
      ]
     },
     "execution_count": 33,
     "metadata": {},
     "output_type": "execute_result"
    }
   ],
   "source": [
    "future_df = util.prepare_data(\n",
    "    bucket_name,\n",
    "    future_data_key,\n",
    "    \"%m/%d/%Y\",\n",
    "    target_column_name,\n",
    "    item_id,\n",
    "    fill_missing_values=FILL_MISSING_DATA,\n",
    "    use_bank_day=USE_BANK_DAY,\n",
    "    minimal=True)\n",
    "future_df"
   ]
  },
  {
   "cell_type": "markdown",
   "metadata": {},
   "source": [
    "## DeepAR+"
   ]
  },
  {
   "cell_type": "code",
   "execution_count": null,
   "metadata": {
    "tags": []
   },
   "outputs": [],
   "source": [
    "forecasts_deep_ar = util.query_forecasts(\n",
    "    util.get_relevant_forecasts(f\"{prefix}_{PROJECT}_\", DATA_VERSION, \"deep_ar\", forecast), item_id, forecastquery\n",
    ")"
   ]
  },
  {
   "cell_type": "code",
   "execution_count": null,
   "metadata": {
    "tags": []
   },
   "outputs": [],
   "source": [
    "forecast_deep_ar_dfs = util.query_results_to_dataframes(forecasts_deep_ar, fill_missing_values=FILL_MISSING_DATA)"
   ]
  },
  {
   "cell_type": "markdown",
   "metadata": {},
   "source": [
    "### Plot using bokeh"
   ]
  },
  {
   "cell_type": "code",
   "execution_count": null,
   "metadata": {
    "tags": []
   },
   "outputs": [],
   "source": [
    "for key in forecast_deep_ar_dfs:\n",
    "    auto_plot = util.plot_bokeh_forecasts(\n",
    "        forecast_deep_ar_dfs[key],\n",
    "        exact,\n",
    "        freq=f'1{DATASET_FREQUENCY}',\n",
    "        forecastHorizon=FORECAST_LENGTH,\n",
    "        time_back=30,\n",
    "        future=future_df,\n",
    "        target_col_name=target_column_name,\n",
    "        reverse=True,\n",
    "        title=f\"Stock Price Forecast for {item_id} (Auto v{key})\"\n",
    "    )\n",
    "    show(auto_plot)"
   ]
  },
  {
   "cell_type": "markdown",
   "metadata": {
    "tags": []
   },
   "source": [
    "## Prophet"
   ]
  },
  {
   "cell_type": "code",
   "execution_count": null,
   "metadata": {
    "tags": []
   },
   "outputs": [],
   "source": [
    "forecasts_prophet = util.query_forecasts(\n",
    "    util.get_relevant_forecasts(f\"{prefix}_{PROJECT}_\", DATA_VERSION, \"prophet\", forecast), item_id, forecastquery\n",
    ")"
   ]
  },
  {
   "cell_type": "code",
   "execution_count": null,
   "metadata": {
    "tags": []
   },
   "outputs": [],
   "source": [
    "forecast_prophet_dfs = util.query_results_to_dataframes(forecasts_prophet, fill_missing_values=FILL_MISSING_DATA)"
   ]
  },
  {
   "cell_type": "markdown",
   "metadata": {},
   "source": [
    "### Plot using bokeh"
   ]
  },
  {
   "cell_type": "code",
   "execution_count": null,
   "metadata": {
    "tags": []
   },
   "outputs": [],
   "source": [
    "for key in forecast_prophet_dfs:\n",
    "    auto_plot = util.plot_bokeh_forecasts(\n",
    "        forecast_prophet_dfs[key],\n",
    "        exact,\n",
    "        freq=f'1{DATASET_FREQUENCY}',\n",
    "        forecastHorizon=FORECAST_LENGTH,\n",
    "        time_back=30,\n",
    "        future=future_df,\n",
    "        target_col_name=target_column_name,\n",
    "        reverse=True,\n",
    "        title=f\"Stock Price Forecast for {item_id} (Auto v{key})\"\n",
    "    )\n",
    "    show(auto_plot)"
   ]
  },
  {
   "cell_type": "markdown",
   "metadata": {
    "tags": []
   },
   "source": [
    "## Auto"
   ]
  },
  {
   "cell_type": "code",
   "execution_count": 34,
   "metadata": {
    "tags": []
   },
   "outputs": [],
   "source": [
    "forecasts_auto = util.query_forecasts(\n",
    "    util.get_relevant_forecasts(f\"{prefix}_{PROJECT}_\", DATA_VERSION, \"auto\", forecast), item_id, forecastquery\n",
    ")"
   ]
  },
  {
   "cell_type": "code",
   "execution_count": 35,
   "metadata": {},
   "outputs": [],
   "source": [
    "forecast_auto_dfs = util.query_results_to_dataframes(forecasts_auto, fill_missing_values=FILL_MISSING_DATA)"
   ]
  },
  {
   "cell_type": "code",
   "execution_count": 43,
   "metadata": {
    "tags": []
   },
   "outputs": [
    {
     "name": "stdout",
     "output_type": "stream",
     "text": [
      "21\n",
      "21\n",
      "22\n"
     ]
    }
   ],
   "source": [
    "print(len(forecast_auto_dfs[9]['p10']))\n",
    "print(len(forecast_auto_dfs[9]['p50']))\n",
    "print(len(forecast_auto_dfs[9]['p90']))"
   ]
  },
  {
   "cell_type": "code",
   "execution_count": 48,
   "metadata": {
    "tags": []
   },
   "outputs": [
    {
     "data": {
      "text/html": [
       "<div>\n",
       "<style scoped>\n",
       "    .dataframe tbody tr th:only-of-type {\n",
       "        vertical-align: middle;\n",
       "    }\n",
       "\n",
       "    .dataframe tbody tr th {\n",
       "        vertical-align: top;\n",
       "    }\n",
       "\n",
       "    .dataframe thead th {\n",
       "        text-align: right;\n",
       "    }\n",
       "</style>\n",
       "<table border=\"1\" class=\"dataframe\">\n",
       "  <thead>\n",
       "    <tr style=\"text-align: right;\">\n",
       "      <th></th>\n",
       "      <th>Timestamp</th>\n",
       "      <th>Value</th>\n",
       "    </tr>\n",
       "  </thead>\n",
       "  <tbody>\n",
       "    <tr>\n",
       "      <th>0</th>\n",
       "      <td>2024-05-14T00:00:00</td>\n",
       "      <td>9.044332</td>\n",
       "    </tr>\n",
       "    <tr>\n",
       "      <th>1</th>\n",
       "      <td>2024-05-15T00:00:00</td>\n",
       "      <td>8.408529</td>\n",
       "    </tr>\n",
       "    <tr>\n",
       "      <th>2</th>\n",
       "      <td>2024-05-16T00:00:00</td>\n",
       "      <td>8.290189</td>\n",
       "    </tr>\n",
       "    <tr>\n",
       "      <th>3</th>\n",
       "      <td>2024-05-17T00:00:00</td>\n",
       "      <td>8.092051</td>\n",
       "    </tr>\n",
       "    <tr>\n",
       "      <th>4</th>\n",
       "      <td>2024-05-18T00:00:00</td>\n",
       "      <td>-0.083817</td>\n",
       "    </tr>\n",
       "    <tr>\n",
       "      <th>5</th>\n",
       "      <td>2024-05-19T00:00:00</td>\n",
       "      <td>-0.071695</td>\n",
       "    </tr>\n",
       "    <tr>\n",
       "      <th>6</th>\n",
       "      <td>2024-05-20T00:00:00</td>\n",
       "      <td>8.239873</td>\n",
       "    </tr>\n",
       "    <tr>\n",
       "      <th>7</th>\n",
       "      <td>2024-05-21T00:00:00</td>\n",
       "      <td>8.114912</td>\n",
       "    </tr>\n",
       "    <tr>\n",
       "      <th>8</th>\n",
       "      <td>2024-05-22T00:00:00</td>\n",
       "      <td>7.642391</td>\n",
       "    </tr>\n",
       "    <tr>\n",
       "      <th>9</th>\n",
       "      <td>2024-05-23T00:00:00</td>\n",
       "      <td>7.538960</td>\n",
       "    </tr>\n",
       "    <tr>\n",
       "      <th>10</th>\n",
       "      <td>2024-05-24T00:00:00</td>\n",
       "      <td>6.787349</td>\n",
       "    </tr>\n",
       "    <tr>\n",
       "      <th>11</th>\n",
       "      <td>2024-05-25T00:00:00</td>\n",
       "      <td>-0.088508</td>\n",
       "    </tr>\n",
       "    <tr>\n",
       "      <th>12</th>\n",
       "      <td>2024-05-26T00:00:00</td>\n",
       "      <td>-0.099706</td>\n",
       "    </tr>\n",
       "    <tr>\n",
       "      <th>13</th>\n",
       "      <td>2024-05-27T00:00:00</td>\n",
       "      <td>-0.047997</td>\n",
       "    </tr>\n",
       "    <tr>\n",
       "      <th>14</th>\n",
       "      <td>2024-05-28T00:00:00</td>\n",
       "      <td>11.667665</td>\n",
       "    </tr>\n",
       "    <tr>\n",
       "      <th>15</th>\n",
       "      <td>2024-05-29T00:00:00</td>\n",
       "      <td>8.448948</td>\n",
       "    </tr>\n",
       "    <tr>\n",
       "      <th>16</th>\n",
       "      <td>2024-05-30T00:00:00</td>\n",
       "      <td>6.692203</td>\n",
       "    </tr>\n",
       "    <tr>\n",
       "      <th>17</th>\n",
       "      <td>2024-05-31T00:00:00</td>\n",
       "      <td>6.739905</td>\n",
       "    </tr>\n",
       "    <tr>\n",
       "      <th>18</th>\n",
       "      <td>2024-06-01T00:00:00</td>\n",
       "      <td>-0.041818</td>\n",
       "    </tr>\n",
       "    <tr>\n",
       "      <th>19</th>\n",
       "      <td>2024-06-02T00:00:00</td>\n",
       "      <td>-0.055719</td>\n",
       "    </tr>\n",
       "    <tr>\n",
       "      <th>20</th>\n",
       "      <td>2024-06-03T00:00:00</td>\n",
       "      <td>6.481050</td>\n",
       "    </tr>\n",
       "    <tr>\n",
       "      <th>21</th>\n",
       "      <td>2024-06-04T00:00:00</td>\n",
       "      <td>6.748910</td>\n",
       "    </tr>\n",
       "    <tr>\n",
       "      <th>22</th>\n",
       "      <td>2024-06-05T00:00:00</td>\n",
       "      <td>7.058829</td>\n",
       "    </tr>\n",
       "    <tr>\n",
       "      <th>23</th>\n",
       "      <td>2024-06-06T00:00:00</td>\n",
       "      <td>7.203771</td>\n",
       "    </tr>\n",
       "    <tr>\n",
       "      <th>24</th>\n",
       "      <td>2024-06-07T00:00:00</td>\n",
       "      <td>7.463908</td>\n",
       "    </tr>\n",
       "    <tr>\n",
       "      <th>25</th>\n",
       "      <td>2024-06-08T00:00:00</td>\n",
       "      <td>-0.070322</td>\n",
       "    </tr>\n",
       "    <tr>\n",
       "      <th>26</th>\n",
       "      <td>2024-06-09T00:00:00</td>\n",
       "      <td>-0.069141</td>\n",
       "    </tr>\n",
       "    <tr>\n",
       "      <th>27</th>\n",
       "      <td>2024-06-10T00:00:00</td>\n",
       "      <td>6.317566</td>\n",
       "    </tr>\n",
       "    <tr>\n",
       "      <th>28</th>\n",
       "      <td>2024-06-11T00:00:00</td>\n",
       "      <td>6.241663</td>\n",
       "    </tr>\n",
       "    <tr>\n",
       "      <th>29</th>\n",
       "      <td>2024-06-12T00:00:00</td>\n",
       "      <td>6.295326</td>\n",
       "    </tr>\n",
       "  </tbody>\n",
       "</table>\n",
       "</div>"
      ],
      "text/plain": [
       "              Timestamp      Value\n",
       "0   2024-05-14T00:00:00   9.044332\n",
       "1   2024-05-15T00:00:00   8.408529\n",
       "2   2024-05-16T00:00:00   8.290189\n",
       "3   2024-05-17T00:00:00   8.092051\n",
       "4   2024-05-18T00:00:00  -0.083817\n",
       "5   2024-05-19T00:00:00  -0.071695\n",
       "6   2024-05-20T00:00:00   8.239873\n",
       "7   2024-05-21T00:00:00   8.114912\n",
       "8   2024-05-22T00:00:00   7.642391\n",
       "9   2024-05-23T00:00:00   7.538960\n",
       "10  2024-05-24T00:00:00   6.787349\n",
       "11  2024-05-25T00:00:00  -0.088508\n",
       "12  2024-05-26T00:00:00  -0.099706\n",
       "13  2024-05-27T00:00:00  -0.047997\n",
       "14  2024-05-28T00:00:00  11.667665\n",
       "15  2024-05-29T00:00:00   8.448948\n",
       "16  2024-05-30T00:00:00   6.692203\n",
       "17  2024-05-31T00:00:00   6.739905\n",
       "18  2024-06-01T00:00:00  -0.041818\n",
       "19  2024-06-02T00:00:00  -0.055719\n",
       "20  2024-06-03T00:00:00   6.481050\n",
       "21  2024-06-04T00:00:00   6.748910\n",
       "22  2024-06-05T00:00:00   7.058829\n",
       "23  2024-06-06T00:00:00   7.203771\n",
       "24  2024-06-07T00:00:00   7.463908\n",
       "25  2024-06-08T00:00:00  -0.070322\n",
       "26  2024-06-09T00:00:00  -0.069141\n",
       "27  2024-06-10T00:00:00   6.317566\n",
       "28  2024-06-11T00:00:00   6.241663\n",
       "29  2024-06-12T00:00:00   6.295326"
      ]
     },
     "execution_count": 48,
     "metadata": {},
     "output_type": "execute_result"
    }
   ],
   "source": [
    "p10_df = pd.DataFrame(forecasts_auto[9]['Predictions']['p10'])\n",
    "p10_df"
   ]
  },
  {
   "cell_type": "code",
   "execution_count": null,
   "metadata": {
    "tags": []
   },
   "outputs": [
    {
     "name": "stdout",
     "output_type": "stream",
     "text": [
      "Retrieving notices: ...working... done\n",
      "Collecting package metadata (current_repodata.json): done\n",
      "Solving environment: - \n",
      "The environment is inconsistent, please check the package plan carefully\n",
      "The following packages are causing the inconsistency:\n",
      "\n",
      "  - conda-forge/noarch::autopep8==2.0.4=pyhd8ed1ab_0\n",
      "  - conda-forge/linux-64::black==24.3.0=py310hff52083_0\n",
      "  - conda-forge/noarch::bleach==6.1.0=pyhd8ed1ab_0\n",
      "  - conda-forge/noarch::plotly==5.19.0=pyhd8ed1ab_0\n",
      "  - conda-forge/noarch::pytest==8.1.1=pyhd8ed1ab_0\n",
      "  - conda-forge/noarch::qtpy==2.4.1=pyhd8ed1ab_0\n",
      "  - conda-forge/linux-64::sip==6.7.12=py310hc6cd4ac_0\n",
      "  - conda-forge/noarch::flask==3.0.2=pyhd8ed1ab_0\n",
      "  - conda-forge/noarch::importlib_metadata==7.1.0=hd8ed1ab_0\n",
      "  - conda-forge/linux-64::pyqt5-sip==12.12.2=py310hc6cd4ac_5\n",
      "  - conda-forge/noarch::pytoolconfig==1.2.5=pyhd8ed1ab_0\n",
      "  - conda-forge/noarch::qdarkstyle==3.1=pyhd8ed1ab_0\n",
      "  - conda-forge/noarch::qtawesome==1.3.0=pyh9208f05_0\n",
      "  - conda-forge/noarch::yapf==0.40.1=pyhd8ed1ab_0\n",
      "  - conda-forge/noarch::dask-core==2024.3.1=pyhd8ed1ab_0\n",
      "  - conda-forge/noarch::flask-cors==4.0.0=pyhd8ed1ab_0\n",
      "  - conda-forge/noarch::jupyter_client==8.6.1=pyhd8ed1ab_0\n",
      "  - conda-forge/noarch::rope==1.13.0=pyhd8ed1ab_0\n",
      "  - conda-forge/noarch::s3transfer==0.10.1=pyhd8ed1ab_0\n",
      "  - conda-forge/noarch::distributed==2024.3.1=pyhd8ed1ab_0\n",
      "  - conda-forge/noarch::ipykernel==6.29.3=pyhd33586a_0\n",
      "  - conda-forge/noarch::keyring==25.0.0=pyha804496_1\n",
      "  - conda-forge/noarch::python-lsp-server==1.7.4=pyhd8ed1ab_0\n",
      "  - conda-forge/noarch::jupyter_console==6.6.3=pyhd8ed1ab_0\n",
      "  - conda-forge/noarch::nbclient==0.10.0=pyhd8ed1ab_0\n",
      "  - conda-forge/noarch::pyls-spyder==0.4.0=pyhd8ed1ab_0\n",
      "  - conda-forge/linux-64::pyqt==5.15.9=py310h04931ad_5\n",
      "  - conda-forge/noarch::python-lsp-black==2.0.0=pyhd8ed1ab_0\n",
      "  - conda-forge/noarch::qtconsole-base==5.4.4=pyha770c72_0\n",
      "  - conda-forge/noarch::spyder-kernels==2.4.4=unix_pyh707e725_0\n",
      "  - conda-forge/linux-64::astropy==6.0.0=py310h1f7b6fc_0\n",
      "  - conda-forge/noarch::bokeh==3.4.0=pyhd8ed1ab_0\n",
      "  - conda-forge/linux-64::matplotlib-base==3.8.3=py310h62c0568_0\n",
      "  - conda-forge/noarch::nbconvert-core==7.16.3=pyhd8ed1ab_0\n",
      "  - conda-forge/linux-64::pyqtwebengine==5.15.9=py310h704022c_5\n",
      "  - conda-forge/linux-64::pytables==3.9.2=py310h374b01c_1\n",
      "  - conda-forge/noarch::qtconsole==5.4.4=pyhd8ed1ab_0\n",
      "  - conda-forge/linux-64::statsmodels==0.14.1=py310h1f7b6fc_0\n",
      "  - conda-forge/noarch::jupyter_server==2.13.0=pyhd8ed1ab_0\n",
      "  - conda-forge/linux-64::matplotlib==3.8.3=py310hff52083_0\n",
      "  - conda-forge/noarch::nbconvert-pandoc==7.16.3=hd8ed1ab_0\n",
      "  - conda-forge/linux-64::scikit-image==0.22.0=py310hcc13569_2\n",
      "  - conda-forge/noarch::seaborn-base==0.13.2=pyhd8ed1ab_0\n",
      "  - conda-forge/linux-64::shap==0.45.0=cpu_py310he117009_0\n",
      "  - conda-forge/noarch::jupyter-lsp==2.2.4=pyhd8ed1ab_0\n",
      "  - conda-forge/noarch::jupyterlab_server==2.25.4=pyhd8ed1ab_0\n",
      "  - conda-forge/noarch::nbconvert==7.16.3=hd8ed1ab_0\n",
      "  - conda-forge/noarch::notebook-shim==0.2.4=pyhd8ed1ab_0\n",
      "  - conda-forge/noarch::seaborn==0.13.2=hd8ed1ab_0\n",
      "  - conda-forge/noarch::jupyterlab==4.1.5=pyhd8ed1ab_0\n",
      "  - conda-forge/noarch::dask-expr==1.0.5=pyhd8ed1ab_0\n",
      "  - conda-forge/noarch::notebook==7.1.2=pyhd8ed1ab_0\n",
      "  - conda-forge/noarch::dask==2024.3.1=pyhd8ed1ab_0\n",
      "  - conda-forge/noarch::jupyter==1.0.0=pyhd8ed1ab_10\n",
      "  - conda-forge/noarch::hdijupyterutils==0.21.0=pyh1a96a4e_0\n",
      "  - conda-forge/noarch::autovizwidget==0.21.0=pyh1a96a4e_0\n",
      "  - conda-forge/noarch::sparkmagic==0.21.0=pyhd8ed1ab_0\n",
      "  - conda-forge/noarch::numpydoc==1.6.0=pyhd8ed1ab_0\n",
      "  - conda-forge/linux-64::spyder==5.4.5=py310hff52083_0\n",
      "  - conda-forge/noarch::sphinxcontrib-applehelp==1.0.8=pyhd8ed1ab_0\n",
      "  - conda-forge/noarch::sphinxcontrib-devhelp==1.0.6=pyhd8ed1ab_0\n",
      "  - conda-forge/noarch::sphinxcontrib-htmlhelp==2.0.5=pyhd8ed1ab_0\n",
      "  - conda-forge/noarch::sphinxcontrib-qthelp==1.0.7=pyhd8ed1ab_0\n",
      "  - conda-forge/noarch::sphinx==7.2.6=pyhd8ed1ab_0\n",
      "  - conda-forge/noarch::sphinxcontrib-serializinghtml==1.1.10=pyhd8ed1ab_0\n",
      "  - conda-forge/noarch::sphinxcontrib-websupport==1.2.7=pyhd8ed1ab_0\n",
      "failed with initial frozen solve. Retrying with flexible solve.\n",
      "Solving environment: done\n",
      "\n",
      "\n",
      "==> WARNING: A newer version of conda exists. <==\n",
      "  current version: 23.3.1\n",
      "  latest version: 24.5.0\n",
      "\n",
      "Please update conda by running\n",
      "\n",
      "    $ conda update -n base -c conda-forge conda\n",
      "\n",
      "Or to minimize the number of packages updated during conda update use\n",
      "\n",
      "     conda install conda=24.5.0\n",
      "\n",
      "\n",
      "Collecting package metadata (repodata.json): - "
     ]
    }
   ],
   "source": [
    "conda install -c conda-forge pyod"
   ]
  },
  {
   "cell_type": "code",
   "execution_count": 49,
   "metadata": {
    "tags": []
   },
   "outputs": [
    {
     "ename": "ModuleNotFoundError",
     "evalue": "No module named 'pyod'",
     "output_type": "error",
     "traceback": [
      "\u001b[0;31m---------------------------------------------------------------------------\u001b[0m",
      "\u001b[0;31mModuleNotFoundError\u001b[0m                       Traceback (most recent call last)",
      "Cell \u001b[0;32mIn[49], line 1\u001b[0m\n\u001b[0;32m----> 1\u001b[0m \u001b[38;5;28;01mfrom\u001b[39;00m \u001b[38;5;21;01mpyod\u001b[39;00m\u001b[38;5;21;01m.\u001b[39;00m\u001b[38;5;21;01mmodels\u001b[39;00m\u001b[38;5;21;01m.\u001b[39;00m\u001b[38;5;21;01mknn\u001b[39;00m \u001b[38;5;28;01mimport\u001b[39;00m KNN\n",
      "\u001b[0;31mModuleNotFoundError\u001b[0m: No module named 'pyod'"
     ]
    }
   ],
   "source": [
    "from pyod.models.knn import KNN"
   ]
  },
  {
   "cell_type": "markdown",
   "metadata": {},
   "source": [
    "### Plot using bokeh"
   ]
  },
  {
   "cell_type": "code",
   "execution_count": 36,
   "metadata": {
    "tags": []
   },
   "outputs": [
    {
     "data": {
      "text/html": [
       "\n",
       "  <div id=\"f50e9075-9701-4a10-9f5c-dfd18c3b3c7f\" data-root-id=\"p1006\" style=\"display: contents;\"></div>\n"
      ]
     },
     "metadata": {},
     "output_type": "display_data"
    },
    {
     "data": {
      "application/javascript": [
       "(function(root) {\n",
       "  function embed_document(root) {\n",
       "  const docs_json = {\"bf2bd875-79b3-4e5d-8763-abf224a2ae7c\":{\"version\":\"3.4.0\",\"title\":\"Bokeh Application\",\"roots\":[{\"type\":\"object\",\"name\":\"Figure\",\"id\":\"p1006\",\"attributes\":{\"sizing_mode\":\"stretch_width\",\"x_range\":{\"type\":\"object\",\"name\":\"DataRange1d\",\"id\":\"p1007\"},\"y_range\":{\"type\":\"object\",\"name\":\"DataRange1d\",\"id\":\"p1008\"},\"x_scale\":{\"type\":\"object\",\"name\":\"LinearScale\",\"id\":\"p1016\"},\"y_scale\":{\"type\":\"object\",\"name\":\"LinearScale\",\"id\":\"p1017\"},\"title\":{\"type\":\"object\",\"name\":\"Title\",\"id\":\"p1009\",\"attributes\":{\"text\":\"Stock Price Forecast for RIVN (Auto v1)\"}},\"renderers\":[{\"type\":\"object\",\"name\":\"GlyphRenderer\",\"id\":\"p1045\",\"attributes\":{\"data_source\":{\"type\":\"object\",\"name\":\"ColumnDataSource\",\"id\":\"p1003\",\"attributes\":{\"selected\":{\"type\":\"object\",\"name\":\"Selection\",\"id\":\"p1004\",\"attributes\":{\"indices\":[],\"line_indices\":[]}},\"selection_policy\":{\"type\":\"object\",\"name\":\"UnionRenderers\",\"id\":\"p1005\"},\"data\":{\"type\":\"map\",\"entries\":[[\"index\",{\"type\":\"ndarray\",\"array\":{\"type\":\"bytes\",\"data\":\"AAAAAAEAAAACAAAAAwAAAAQAAAAFAAAABgAAAAcAAAAIAAAACQAAAAoAAAALAAAADAAAAA0AAAAOAAAADwAAABAAAAARAAAAEgAAABMAAAAUAAAAFQAAABYAAAAXAAAAGAAAABkAAAAaAAAAGwAAABwAAAAdAAAAHgAAAB8AAAAgAAAAIQAAACIAAAAjAAAAJAAAACUAAAAmAAAAJwAAACgAAAApAAAAKgAAACsAAAAsAAAALQAAAC4AAAAvAAAAMAAAADEAAAAyAAAAMwAAADQAAAA1AAAANgAAADcAAAA4AAAAOQAAADoAAAA7AAAA\"},\"shape\":[60],\"dtype\":\"int32\",\"order\":\"little\"}],[\"Timestamp\",{\"type\":\"ndarray\",\"array\":{\"type\":\"bytes\",\"data\":\"AABAsMHpeEIAAAAWFOp4QgAAwHtm6nhCAACA4bjqeEIAAMASsOt4QgAAgHgC7HhCAABA3lTseEIAAABEp+x4QgAAwKn57HhCAAAA2/DteEIAAMBAQ+54QgAAgKaV7nhCAABADOjueEIAAAByOu94QgAAQKMx8HhCAAAACYTweEIAAMBu1vB4QgAAgNQo8XhCAABAOnvxeEIAAIBrcvJ4QgAAQNHE8nhCAAAANxfzeEIAAMCcafN4QgAAgAK883hCAADAM7P0eEIAAICZBfV4QgAAQP9X9XhCAAAAZar1eEIAAMDK/PV4QgAAAPzz9nhCAADAYUb3eEIAAIDHmPd4QgAAQC3r93hCAAAAkz34eEIAAMD4j/h4QgAAgF7i+HhCAABAxDT5eEIAAAAqh/l4QgAAwI/Z+XhCAACA9Sv6eEIAAEBbfvp4QgAAAMHQ+nhCAADAJiP7eEIAAICMdft4QgAAQPLH+3hCAAAAWBr8eEIAAMC9bPx4QgAAgCO//HhCAABAiRH9eEIAAADvY/14QgAAwFS2/XhCAACAugj+eEIAAEAgW/54QgAAAIat/nhCAADA6//+eEIAAIBRUv94QgAAQLek/3hCAAAAHff/eEIAAMCCSQB5QgAAgOibAHlC\"},\"shape\":[60],\"dtype\":\"float64\",\"order\":\"little\"}],[\"Value\",{\"type\":\"ndarray\",\"array\":{\"type\":\"bytes\",\"data\":\"hetRuB4FJUAUrkfhehQlQMP1KFyPQiRAMzMzMzMzJEDhehSuR+EkQMP1KFyPQiVACtejcD2KJECkcD0K1yMjQMP1KFyPQiJAzczMzMzMIEDsUbgehWshQHsUrkfheiFAKVyPwvWoIUDD9Shcj0IhQBSuR+F6lCFAFK5H4XoUIkCuR+F6FK4hQArXo3A9CiFAFK5H4XoUIkDD9Shcj8IiQM3MzMzMzCFA7FG4HoVrIkApXI/C9agjQKRwPQrXIyRAKVyPwvWoJEAAAAAAAIAkQArXo3A9iiRAcT0K16NwJEB7FK5H4fojQM3MzMzMzCVAe2KVPnLPJEB7YpUeWBkkQHtilV6dlyNAe2KVrloxJEB7YpXeNE0kQHtilX6EAiVAe2KVrqm1I0B7YpUeWV4lQHtilY4udCZAe2KVnmLkJUB7YpWuposmQHtilf5UCyZAe2KVfkKGJkB7YpVeFAAnQHtilQ4weSdAe2KVPjpvKkB7YpV+fWUpQHtile58uClAe2KVPoI4KUB7YpU+SBMqQHtilV57CSlAe2KVnhl+KUB7YpV+as8oQHtilR7laypAe2KV3oH8KUB7YpWucNApQHtilZ5edStAe2KVfqbTK0B7YpVewA8qQHtilT6TWSpA\"},\"shape\":[60],\"dtype\":\"float64\",\"order\":\"little\"}]]}}},\"view\":{\"type\":\"object\",\"name\":\"CDSView\",\"id\":\"p1046\",\"attributes\":{\"filter\":{\"type\":\"object\",\"name\":\"AllIndices\",\"id\":\"p1047\"}}},\"glyph\":{\"type\":\"object\",\"name\":\"Line\",\"id\":\"p1042\",\"attributes\":{\"x\":{\"type\":\"field\",\"field\":\"Timestamp\"},\"y\":{\"type\":\"field\",\"field\":\"Value\"},\"line_color\":\"#1f77b4\",\"line_width\":2}},\"nonselection_glyph\":{\"type\":\"object\",\"name\":\"Line\",\"id\":\"p1043\",\"attributes\":{\"x\":{\"type\":\"field\",\"field\":\"Timestamp\"},\"y\":{\"type\":\"field\",\"field\":\"Value\"},\"line_color\":\"#1f77b4\",\"line_alpha\":0.1,\"line_width\":2}},\"muted_glyph\":{\"type\":\"object\",\"name\":\"Line\",\"id\":\"p1044\",\"attributes\":{\"x\":{\"type\":\"field\",\"field\":\"Timestamp\"},\"y\":{\"type\":\"field\",\"field\":\"Value\"},\"line_color\":\"#1f77b4\",\"line_alpha\":0.2,\"line_width\":2}}}},{\"type\":\"object\",\"name\":\"GlyphRenderer\",\"id\":\"p1056\",\"attributes\":{\"data_source\":{\"type\":\"object\",\"name\":\"ColumnDataSource\",\"id\":\"p1050\",\"attributes\":{\"selected\":{\"type\":\"object\",\"name\":\"Selection\",\"id\":\"p1051\",\"attributes\":{\"indices\":[],\"line_indices\":[]}},\"selection_policy\":{\"type\":\"object\",\"name\":\"UnionRenderers\",\"id\":\"p1052\"},\"data\":{\"type\":\"map\",\"entries\":[[\"x\",{\"type\":\"ndarray\",\"array\":{\"type\":\"bytes\",\"data\":\"AADAYUb3eEIAAIDHmPd4QgAAQC3r93hCAAAAkz34eEIAAMD4j/h4QgAAgF7i+HhCAABAxDT5eEIAAAAqh/l4QgAAwI/Z+XhCAACA9Sv6eEIAAEBbfvp4QgAAAMHQ+nhCAADAJiP7eEIAAICMdft4QgAAQPLH+3hCAAAAWBr8eEIAAMC9bPx4QgAAgCO//HhCAABAiRH9eEIAAADvY/14QgAAwFS2/XhCAACAugj+eEIAAEAgW/54QgAAAIat/nhCAADA6//+eEIAAIBRUv94QgAAQLek/3hCAAAAHff/eEIAAMCCSQB5QgAAgOibAHlC\"},\"shape\":[30],\"dtype\":\"float64\",\"order\":\"little\"}],[\"y1\",{\"type\":\"ndarray\",\"array\":{\"type\":\"bytes\",\"data\":\"gCyqkpw3JEA8/OAaiEIjQDIi6/VokCJA4jdwEUwBI0DBhsHZG/kiQJjHtdjKjSNAElgMR+4UIkDuJ2dQk68jQCbZuqMSqyRAys8cO1UCJEB/x96rq8gjQBTV+vYp2CFAmxfmpWIPI0BA626P5e0jQFcFxyGIryRAAdMU0MxVJ0CBQ0k8E6UlQPZC0hRoLydApah7RjP6JUDOVyDod7QmQBvhI/lwSyZAsPbUPRZGJkBgb0YGCvAlQKXRI50bLSdABvWwrAH0JUDCFpxYZnAlQIU/n7vHbSdAq8Qr2JD6J0D5I4irymQmQCpA6qLnoyZA\"},\"shape\":[30],\"dtype\":\"float64\",\"order\":\"little\"}],[\"y2\",{\"type\":\"ndarray\",\"array\":{\"type\":\"bytes\",\"data\":\"dpiA+k7gJUC6yEnyba0lQMSiP2eZISVAFI26+3zBJkA1PmmTqBwmQF79dDRC7CZA5GwedujNJUAIncPszFUnQNDrbylNgChALPUNAnDGJ0B3/UuxdYUoQOLvL8beGyhAW61El7vgKEC22btNezspQJ+/Y4vpyClA9fEVXaLSLEB1geHwwTcsQACCWLg1XCxAURyvBhdZLUAobQr1F8AsQNvjBuTuZCxARs5VXxQkLUCWVeTWV04sQFHzBoBB3C1A8M95kLcoLUA0ro7k4eEuQHGFi0G1Mi9ASwD/pN8AL0D9oKKxvkstQMyEQBobpC1A\"},\"shape\":[30],\"dtype\":\"float64\",\"order\":\"little\"}]]}}},\"view\":{\"type\":\"object\",\"name\":\"CDSView\",\"id\":\"p1057\",\"attributes\":{\"filter\":{\"type\":\"object\",\"name\":\"AllIndices\",\"id\":\"p1058\"}}},\"glyph\":{\"type\":\"object\",\"name\":\"VArea\",\"id\":\"p1053\",\"attributes\":{\"x\":{\"type\":\"field\",\"field\":\"x\"},\"y1\":{\"type\":\"field\",\"field\":\"y1\"},\"y2\":{\"type\":\"field\",\"field\":\"y2\"},\"fill_color\":\"blue\",\"fill_alpha\":0.3}},\"nonselection_glyph\":{\"type\":\"object\",\"name\":\"VArea\",\"id\":\"p1054\",\"attributes\":{\"x\":{\"type\":\"field\",\"field\":\"x\"},\"y1\":{\"type\":\"field\",\"field\":\"y1\"},\"y2\":{\"type\":\"field\",\"field\":\"y2\"},\"fill_color\":\"blue\",\"fill_alpha\":0.1,\"hatch_alpha\":{\"type\":\"value\",\"value\":0.1}}},\"muted_glyph\":{\"type\":\"object\",\"name\":\"VArea\",\"id\":\"p1055\",\"attributes\":{\"x\":{\"type\":\"field\",\"field\":\"x\"},\"y1\":{\"type\":\"field\",\"field\":\"y1\"},\"y2\":{\"type\":\"field\",\"field\":\"y2\"},\"fill_color\":\"blue\",\"fill_alpha\":0.2,\"hatch_alpha\":{\"type\":\"value\",\"value\":0.2}}}}},{\"type\":\"object\",\"name\":\"GlyphRenderer\",\"id\":\"p1065\",\"attributes\":{\"data_source\":{\"type\":\"object\",\"name\":\"ColumnDataSource\",\"id\":\"p1059\",\"attributes\":{\"selected\":{\"type\":\"object\",\"name\":\"Selection\",\"id\":\"p1060\",\"attributes\":{\"indices\":[],\"line_indices\":[]}},\"selection_policy\":{\"type\":\"object\",\"name\":\"UnionRenderers\",\"id\":\"p1061\"},\"data\":{\"type\":\"map\"}}},\"view\":{\"type\":\"object\",\"name\":\"CDSView\",\"id\":\"p1066\",\"attributes\":{\"filter\":{\"type\":\"object\",\"name\":\"AllIndices\",\"id\":\"p1067\"}}},\"glyph\":{\"type\":\"object\",\"name\":\"VSpan\",\"id\":\"p1062\",\"attributes\":{\"x\":{\"type\":\"value\",\"value\":1715644800000.0},\"line_color\":{\"type\":\"value\",\"value\":\"green\"},\"line_width\":{\"type\":\"value\",\"value\":3},\"line_dash\":{\"type\":\"value\",\"value\":\"dashed\"}}},\"nonselection_glyph\":{\"type\":\"object\",\"name\":\"VSpan\",\"id\":\"p1063\",\"attributes\":{\"x\":{\"type\":\"value\",\"value\":1715644800000.0},\"line_color\":{\"type\":\"value\",\"value\":\"green\"},\"line_alpha\":{\"type\":\"value\",\"value\":0.1},\"line_width\":{\"type\":\"value\",\"value\":3},\"line_dash\":{\"type\":\"value\",\"value\":\"dashed\"}}},\"muted_glyph\":{\"type\":\"object\",\"name\":\"VSpan\",\"id\":\"p1064\",\"attributes\":{\"x\":{\"type\":\"value\",\"value\":1715644800000.0},\"line_color\":{\"type\":\"value\",\"value\":\"green\"},\"line_alpha\":{\"type\":\"value\",\"value\":0.2},\"line_width\":{\"type\":\"value\",\"value\":3},\"line_dash\":{\"type\":\"value\",\"value\":\"dashed\"}}}}},{\"type\":\"object\",\"name\":\"GlyphRenderer\",\"id\":\"p1074\",\"attributes\":{\"data_source\":{\"type\":\"object\",\"name\":\"ColumnDataSource\",\"id\":\"p1068\",\"attributes\":{\"selected\":{\"type\":\"object\",\"name\":\"Selection\",\"id\":\"p1069\",\"attributes\":{\"indices\":[],\"line_indices\":[]}},\"selection_policy\":{\"type\":\"object\",\"name\":\"UnionRenderers\",\"id\":\"p1070\"},\"data\":{\"type\":\"map\"}}},\"view\":{\"type\":\"object\",\"name\":\"CDSView\",\"id\":\"p1075\",\"attributes\":{\"filter\":{\"type\":\"object\",\"name\":\"AllIndices\",\"id\":\"p1076\"}}},\"glyph\":{\"type\":\"object\",\"name\":\"VSpan\",\"id\":\"p1071\",\"attributes\":{\"x\":{\"type\":\"value\",\"value\":1718150400000.0},\"line_color\":{\"type\":\"value\",\"value\":\"green\"},\"line_width\":{\"type\":\"value\",\"value\":3},\"line_dash\":{\"type\":\"value\",\"value\":\"dashed\"}}},\"nonselection_glyph\":{\"type\":\"object\",\"name\":\"VSpan\",\"id\":\"p1072\",\"attributes\":{\"x\":{\"type\":\"value\",\"value\":1718150400000.0},\"line_color\":{\"type\":\"value\",\"value\":\"green\"},\"line_alpha\":{\"type\":\"value\",\"value\":0.1},\"line_width\":{\"type\":\"value\",\"value\":3},\"line_dash\":{\"type\":\"value\",\"value\":\"dashed\"}}},\"muted_glyph\":{\"type\":\"object\",\"name\":\"VSpan\",\"id\":\"p1073\",\"attributes\":{\"x\":{\"type\":\"value\",\"value\":1718150400000.0},\"line_color\":{\"type\":\"value\",\"value\":\"green\"},\"line_alpha\":{\"type\":\"value\",\"value\":0.2},\"line_width\":{\"type\":\"value\",\"value\":3},\"line_dash\":{\"type\":\"value\",\"value\":\"dashed\"}}}}},{\"type\":\"object\",\"name\":\"GlyphRenderer\",\"id\":\"p1086\",\"attributes\":{\"data_source\":{\"type\":\"object\",\"name\":\"ColumnDataSource\",\"id\":\"p1077\",\"attributes\":{\"selected\":{\"type\":\"object\",\"name\":\"Selection\",\"id\":\"p1078\",\"attributes\":{\"indices\":[],\"line_indices\":[]}},\"selection_policy\":{\"type\":\"object\",\"name\":\"UnionRenderers\",\"id\":\"p1079\"},\"data\":{\"type\":\"map\",\"entries\":[[\"index\",{\"type\":\"ndarray\",\"array\":{\"type\":\"bytes\",\"data\":\"AAAAAAEAAAACAAAAAwAAAAQAAAAFAAAABgAAAAcAAAAIAAAACQAAAA==\"},\"shape\":[10],\"dtype\":\"int32\",\"order\":\"little\"}],[\"Timestamp\",{\"type\":\"ndarray\",\"array\":{\"type\":\"bytes\",\"data\":\"AABAW376eEIAAID1K/p4QgAAwI/Z+XhCAAAAKof5eEIAAEDENPl4QgAAAJM9+HhCAABALev3eEIAAIDHmPd4QgAAwGFG93hCAAAA/PP2eEI=\"},\"shape\":[10],\"dtype\":\"float64\",\"order\":\"little\"}],[\"Value\",{\"type\":\"ndarray\",\"array\":{\"type\":\"bytes\",\"data\":\"4XoUrkfhJEBmZmZmZuYjQGZmZmZmZiVAmpmZmZkZJECPwvUoXI8kQAAAAAAAACVAw/UoXI9CJEBmZmZmZmYkQOF6FK5HYSZAzczMzMzMJUA=\"},\"shape\":[10],\"dtype\":\"float64\",\"order\":\"little\"}],[\"item_id\",{\"type\":\"ndarray\",\"array\":[\"RIVN\",\"RIVN\",\"RIVN\",\"RIVN\",\"RIVN\",\"RIVN\",\"RIVN\",\"RIVN\",\"RIVN\",\"RIVN\"],\"shape\":[10],\"dtype\":\"object\",\"order\":\"little\"}]]}}},\"view\":{\"type\":\"object\",\"name\":\"CDSView\",\"id\":\"p1087\",\"attributes\":{\"filter\":{\"type\":\"object\",\"name\":\"AllIndices\",\"id\":\"p1088\"}}},\"glyph\":{\"type\":\"object\",\"name\":\"Line\",\"id\":\"p1083\",\"attributes\":{\"x\":{\"type\":\"field\",\"field\":\"Timestamp\"},\"y\":{\"type\":\"field\",\"field\":\"Value\"},\"line_color\":\"red\",\"line_width\":2}},\"nonselection_glyph\":{\"type\":\"object\",\"name\":\"Line\",\"id\":\"p1084\",\"attributes\":{\"x\":{\"type\":\"field\",\"field\":\"Timestamp\"},\"y\":{\"type\":\"field\",\"field\":\"Value\"},\"line_color\":\"red\",\"line_alpha\":0.1,\"line_width\":2}},\"muted_glyph\":{\"type\":\"object\",\"name\":\"Line\",\"id\":\"p1085\",\"attributes\":{\"x\":{\"type\":\"field\",\"field\":\"Timestamp\"},\"y\":{\"type\":\"field\",\"field\":\"Value\"},\"line_color\":\"red\",\"line_alpha\":0.2,\"line_width\":2}}}}],\"toolbar\":{\"type\":\"object\",\"name\":\"Toolbar\",\"id\":\"p1015\",\"attributes\":{\"tools\":[{\"type\":\"object\",\"name\":\"PanTool\",\"id\":\"p1028\"},{\"type\":\"object\",\"name\":\"WheelZoomTool\",\"id\":\"p1029\",\"attributes\":{\"renderers\":\"auto\"}},{\"type\":\"object\",\"name\":\"BoxZoomTool\",\"id\":\"p1030\",\"attributes\":{\"overlay\":{\"type\":\"object\",\"name\":\"BoxAnnotation\",\"id\":\"p1031\",\"attributes\":{\"syncable\":false,\"level\":\"overlay\",\"visible\":false,\"left\":{\"type\":\"number\",\"value\":\"nan\"},\"right\":{\"type\":\"number\",\"value\":\"nan\"},\"top\":{\"type\":\"number\",\"value\":\"nan\"},\"bottom\":{\"type\":\"number\",\"value\":\"nan\"},\"left_units\":\"canvas\",\"right_units\":\"canvas\",\"top_units\":\"canvas\",\"bottom_units\":\"canvas\",\"line_color\":\"black\",\"line_alpha\":1.0,\"line_width\":2,\"line_dash\":[4,4],\"fill_color\":\"lightgrey\",\"fill_alpha\":0.5}}}},{\"type\":\"object\",\"name\":\"SaveTool\",\"id\":\"p1036\"},{\"type\":\"object\",\"name\":\"ResetTool\",\"id\":\"p1037\"},{\"type\":\"object\",\"name\":\"HelpTool\",\"id\":\"p1038\"},{\"type\":\"object\",\"name\":\"HoverTool\",\"id\":\"p1001\",\"attributes\":{\"renderers\":[{\"id\":\"p1045\"},{\"id\":\"p1086\"}],\"tooltips\":[[\"Timestamp\",\"@Timestamp{%F}\"],[\"Value\",\"$@Value{0,0.00}\"]],\"formatters\":{\"type\":\"map\",\"entries\":[[\"@Timestamp\",\"datetime\"]]},\"mode\":\"vline\"}},{\"type\":\"object\",\"name\":\"CrosshairTool\",\"id\":\"p1002\"}]}},\"left\":[{\"type\":\"object\",\"name\":\"LinearAxis\",\"id\":\"p1023\",\"attributes\":{\"ticker\":{\"type\":\"object\",\"name\":\"BasicTicker\",\"id\":\"p1024\",\"attributes\":{\"mantissas\":[1,2,5]}},\"formatter\":{\"type\":\"object\",\"name\":\"NumeralTickFormatter\",\"id\":\"p1048\",\"attributes\":{\"format\":\"$0.00\"}},\"axis_label\":\"Stock Value\",\"major_label_policy\":{\"type\":\"object\",\"name\":\"AllLabels\",\"id\":\"p1026\"}}}],\"below\":[{\"type\":\"object\",\"name\":\"LinearAxis\",\"id\":\"p1018\",\"attributes\":{\"ticker\":{\"type\":\"object\",\"name\":\"BasicTicker\",\"id\":\"p1019\",\"attributes\":{\"mantissas\":[1,2,5]}},\"formatter\":{\"type\":\"object\",\"name\":\"DatetimeTickFormatter\",\"id\":\"p1049\",\"attributes\":{\"hours\":\"%d %b %Y\",\"days\":\"%d %b %Y\",\"months\":\"%d %b %Y\",\"years\":\"%d %b %Y\"}},\"axis_label\":\"Timestamp\",\"major_label_orientation\":1.0471975511965976,\"major_label_policy\":{\"type\":\"object\",\"name\":\"AllLabels\",\"id\":\"p1021\"}}}],\"center\":[{\"type\":\"object\",\"name\":\"Grid\",\"id\":\"p1022\",\"attributes\":{\"axis\":{\"id\":\"p1018\"}}},{\"type\":\"object\",\"name\":\"Grid\",\"id\":\"p1027\",\"attributes\":{\"dimension\":1,\"axis\":{\"id\":\"p1023\"}}}]}}]}};\n",
       "  const render_items = [{\"docid\":\"bf2bd875-79b3-4e5d-8763-abf224a2ae7c\",\"roots\":{\"p1006\":\"f50e9075-9701-4a10-9f5c-dfd18c3b3c7f\"},\"root_ids\":[\"p1006\"]}];\n",
       "  void root.Bokeh.embed.embed_items_notebook(docs_json, render_items);\n",
       "  }\n",
       "  if (root.Bokeh !== undefined) {\n",
       "    embed_document(root);\n",
       "  } else {\n",
       "    let attempts = 0;\n",
       "    const timer = setInterval(function(root) {\n",
       "      if (root.Bokeh !== undefined) {\n",
       "        clearInterval(timer);\n",
       "        embed_document(root);\n",
       "      } else {\n",
       "        attempts++;\n",
       "        if (attempts > 100) {\n",
       "          clearInterval(timer);\n",
       "          console.log(\"Bokeh: ERROR: Unable to run BokehJS code because BokehJS library is missing\");\n",
       "        }\n",
       "      }\n",
       "    }, 10, root)\n",
       "  }\n",
       "})(window);"
      ],
      "application/vnd.bokehjs_exec.v0+json": ""
     },
     "metadata": {
      "application/vnd.bokehjs_exec.v0+json": {
       "id": "p1006"
      }
     },
     "output_type": "display_data"
    },
    {
     "data": {
      "text/html": [
       "\n",
       "  <div id=\"c0e10cb4-8c93-426a-8238-e364cc2332a8\" data-root-id=\"p1103\" style=\"display: contents;\"></div>\n"
      ]
     },
     "metadata": {},
     "output_type": "display_data"
    },
    {
     "data": {
      "application/javascript": [
       "(function(root) {\n",
       "  function embed_document(root) {\n",
       "  const docs_json = {\"e2abd9a5-91cf-49ad-8902-4e8af8bfc01d\":{\"version\":\"3.4.0\",\"title\":\"Bokeh Application\",\"roots\":[{\"type\":\"object\",\"name\":\"Figure\",\"id\":\"p1103\",\"attributes\":{\"sizing_mode\":\"stretch_width\",\"x_range\":{\"type\":\"object\",\"name\":\"DataRange1d\",\"id\":\"p1104\"},\"y_range\":{\"type\":\"object\",\"name\":\"DataRange1d\",\"id\":\"p1105\"},\"x_scale\":{\"type\":\"object\",\"name\":\"LinearScale\",\"id\":\"p1113\"},\"y_scale\":{\"type\":\"object\",\"name\":\"LinearScale\",\"id\":\"p1114\"},\"title\":{\"type\":\"object\",\"name\":\"Title\",\"id\":\"p1106\",\"attributes\":{\"text\":\"Stock Price Forecast for RIVN (Auto v3)\"}},\"renderers\":[{\"type\":\"object\",\"name\":\"GlyphRenderer\",\"id\":\"p1142\",\"attributes\":{\"data_source\":{\"type\":\"object\",\"name\":\"ColumnDataSource\",\"id\":\"p1100\",\"attributes\":{\"selected\":{\"type\":\"object\",\"name\":\"Selection\",\"id\":\"p1101\",\"attributes\":{\"indices\":[],\"line_indices\":[]}},\"selection_policy\":{\"type\":\"object\",\"name\":\"UnionRenderers\",\"id\":\"p1102\"},\"data\":{\"type\":\"map\",\"entries\":[[\"index\",{\"type\":\"ndarray\",\"array\":{\"type\":\"bytes\",\"data\":\"AAAAAAEAAAACAAAAAwAAAAQAAAAFAAAABgAAAAcAAAAIAAAACQAAAAoAAAALAAAADAAAAA0AAAAOAAAADwAAABAAAAARAAAAEgAAABMAAAAUAAAAFQAAABYAAAAXAAAAGAAAABkAAAAaAAAAGwAAABwAAAAdAAAAHgAAAB8AAAAgAAAAIQAAACIAAAAjAAAAJAAAACUAAAAmAAAAJwAAACgAAAApAAAAKgAAACsAAAAsAAAALQAAAC4AAAAvAAAAMAAAADEAAAAyAAAAMwAAADQAAAA1AAAANgAAADcAAAA4AAAAOQAAADoAAAA7AAAA\"},\"shape\":[60],\"dtype\":\"int32\",\"order\":\"little\"}],[\"Timestamp\",{\"type\":\"ndarray\",\"array\":{\"type\":\"bytes\",\"data\":\"AABAsMHpeEIAAAAWFOp4QgAAwHtm6nhCAACA4bjqeEIAAMASsOt4QgAAgHgC7HhCAABA3lTseEIAAABEp+x4QgAAwKn57HhCAAAA2/DteEIAAMBAQ+54QgAAgKaV7nhCAABADOjueEIAAAByOu94QgAAQKMx8HhCAAAACYTweEIAAMBu1vB4QgAAgNQo8XhCAABAOnvxeEIAAIBrcvJ4QgAAQNHE8nhCAAAANxfzeEIAAMCcafN4QgAAgAK883hCAADAM7P0eEIAAICZBfV4QgAAQP9X9XhCAAAAZar1eEIAAMDK/PV4QgAAAPzz9nhCAADAYUb3eEIAAIDHmPd4QgAAQC3r93hCAAAAkz34eEIAAMD4j/h4QgAAgF7i+HhCAABAxDT5eEIAAAAqh/l4QgAAwI/Z+XhCAACA9Sv6eEIAAEBbfvp4QgAAAMHQ+nhCAADAJiP7eEIAAICMdft4QgAAQPLH+3hCAAAAWBr8eEIAAMC9bPx4QgAAgCO//HhCAABAiRH9eEIAAADvY/14QgAAwFS2/XhCAACAugj+eEIAAEAgW/54QgAAAIat/nhCAADA6//+eEIAAIBRUv94QgAAQLek/3hCAAAAHff/eEIAAMCCSQB5QgAAgOibAHlC\"},\"shape\":[60],\"dtype\":\"float64\",\"order\":\"little\"}],[\"Value\",{\"type\":\"ndarray\",\"array\":{\"type\":\"bytes\",\"data\":\"hetRuB4FJUAUrkfhehQlQMP1KFyPQiRAMzMzMzMzJEDhehSuR+EkQMP1KFyPQiVACtejcD2KJECkcD0K1yMjQMP1KFyPQiJAzczMzMzMIEDsUbgehWshQHsUrkfheiFAKVyPwvWoIUDD9Shcj0IhQBSuR+F6lCFAFK5H4XoUIkCuR+F6FK4hQArXo3A9CiFAFK5H4XoUIkDD9Shcj8IiQM3MzMzMzCFA7FG4HoVrIkApXI/C9agjQKRwPQrXIyRAKVyPwvWoJEAAAAAAAIAkQArXo3A9iiRAcT0K16NwJEB7FK5H4fojQM3MzMzMzCVAwh/nVmJ4I0CDtXxaWMMkQDysevM7myNANq2fOaF5I0AbfshBFPkkQLFxbLK+OCRAoN2ExiBHJUAwpFGvqhIlQOAKNbXsZCRAe2zrRBUQJUDUhCJ++JQjQAQQsPVKNyJAYssm5KdzIUA0C1rfCJAlQLHKUwpMRyNAWPddDf+lIkBh9to0ALYiQD55wB27/CJAxUI9aWCuIkAEYb7qB8ojQB49bMKaJCNAnqPIr78pIkA+TsA9x10iQJC8ASLGYCNA3deCc8d4I0Bah++mWuEjQJOQdo0lJyVAGIxFfThWJEA7bcCRLC4kQNzhB+fvuSNA\"},\"shape\":[60],\"dtype\":\"float64\",\"order\":\"little\"}]]}}},\"view\":{\"type\":\"object\",\"name\":\"CDSView\",\"id\":\"p1143\",\"attributes\":{\"filter\":{\"type\":\"object\",\"name\":\"AllIndices\",\"id\":\"p1144\"}}},\"glyph\":{\"type\":\"object\",\"name\":\"Line\",\"id\":\"p1139\",\"attributes\":{\"x\":{\"type\":\"field\",\"field\":\"Timestamp\"},\"y\":{\"type\":\"field\",\"field\":\"Value\"},\"line_color\":\"#1f77b4\",\"line_width\":2}},\"nonselection_glyph\":{\"type\":\"object\",\"name\":\"Line\",\"id\":\"p1140\",\"attributes\":{\"x\":{\"type\":\"field\",\"field\":\"Timestamp\"},\"y\":{\"type\":\"field\",\"field\":\"Value\"},\"line_color\":\"#1f77b4\",\"line_alpha\":0.1,\"line_width\":2}},\"muted_glyph\":{\"type\":\"object\",\"name\":\"Line\",\"id\":\"p1141\",\"attributes\":{\"x\":{\"type\":\"field\",\"field\":\"Timestamp\"},\"y\":{\"type\":\"field\",\"field\":\"Value\"},\"line_color\":\"#1f77b4\",\"line_alpha\":0.2,\"line_width\":2}}}},{\"type\":\"object\",\"name\":\"GlyphRenderer\",\"id\":\"p1153\",\"attributes\":{\"data_source\":{\"type\":\"object\",\"name\":\"ColumnDataSource\",\"id\":\"p1147\",\"attributes\":{\"selected\":{\"type\":\"object\",\"name\":\"Selection\",\"id\":\"p1148\",\"attributes\":{\"indices\":[],\"line_indices\":[]}},\"selection_policy\":{\"type\":\"object\",\"name\":\"UnionRenderers\",\"id\":\"p1149\"},\"data\":{\"type\":\"map\",\"entries\":[[\"x\",{\"type\":\"ndarray\",\"array\":{\"type\":\"bytes\",\"data\":\"AADAYUb3eEIAAIDHmPd4QgAAQC3r93hCAAAAkz34eEIAAMD4j/h4QgAAgF7i+HhCAABAxDT5eEIAAAAqh/l4QgAAwI/Z+XhCAACA9Sv6eEIAAEBbfvp4QgAAAMHQ+nhCAADAJiP7eEIAAICMdft4QgAAQPLH+3hCAAAAWBr8eEIAAMC9bPx4QgAAgCO//HhCAABAiRH9eEIAAADvY/14QgAAwFS2/XhCAACAugj+eEIAAEAgW/54QgAAAIat/nhCAADA6//+eEIAAIBRUv94QgAAQLek/3hCAAAAHff/eEIAAMCCSQB5QgAAgOibAHlC\"},\"shape\":[30],\"dtype\":\"float64\",\"order\":\"little\"}],[\"y1\",{\"type\":\"ndarray\",\"array\":{\"type\":\"bytes\",\"data\":\"t5+k4H69IkDnjlrJpdojQMSnP7WOjCJAAqPU1pnsIUC3XXXwiLUjQPxpETuk3iJAli0aULPgI0B5JfY8MYgjQPBwlAfHvSJAxPk75R9mI0DWBsfJkuEhQH1RtImuhSBA/7UdfYF/H0D0aBJEAc0jQGKtD5a+fCFA69Jugs7HIEBUVL+3BSQfQFVVatUCESFAQTLVm6GhIEDmh2bYXcUhQFi8PJkNACFAdw5FeQx1H0CPUcNToiogQD4ulNpTHyFAQqxrxn4iIUCvNpXGuEghQPJyYR5KayJAZjt9NEbKIUBEovXz7KkhQApetDxaISFA\"},\"shape\":[30],\"dtype\":\"float64\",\"order\":\"little\"}],[\"y2\",{\"type\":\"ndarray\",\"array\":{\"type\":\"bytes\",\"data\":\"2vkEF1gkJEDRt2nN+VgmQHxdUabF2iVAXFiJJ9hxJUAaYTay6TImQOIOx6FxjyVAal0zqOuzJkAVv+RSYqcmQOUdjkHg3iZAMh8m7dx4J0Dm4TwCiVUlQCog70juAiRAPIoQtCduI0CeB+OydAUoQFJp399KICVASyvMMuihJECXwsFr+6QkQPQ6j29/SCVALn+rI8OtJECVqrFdZrslQFJdUr/2RSVAnp0ZWKdcJEDQ1CFzcpskQMbNgaQBriVAtqSFpnPHJUA7Q25ZyD4mQGc6nOALgidAVmZTMB7GJkDJAN1PwLImQETB5OJDVSZA\"},\"shape\":[30],\"dtype\":\"float64\",\"order\":\"little\"}]]}}},\"view\":{\"type\":\"object\",\"name\":\"CDSView\",\"id\":\"p1154\",\"attributes\":{\"filter\":{\"type\":\"object\",\"name\":\"AllIndices\",\"id\":\"p1155\"}}},\"glyph\":{\"type\":\"object\",\"name\":\"VArea\",\"id\":\"p1150\",\"attributes\":{\"x\":{\"type\":\"field\",\"field\":\"x\"},\"y1\":{\"type\":\"field\",\"field\":\"y1\"},\"y2\":{\"type\":\"field\",\"field\":\"y2\"},\"fill_color\":\"blue\",\"fill_alpha\":0.3}},\"nonselection_glyph\":{\"type\":\"object\",\"name\":\"VArea\",\"id\":\"p1151\",\"attributes\":{\"x\":{\"type\":\"field\",\"field\":\"x\"},\"y1\":{\"type\":\"field\",\"field\":\"y1\"},\"y2\":{\"type\":\"field\",\"field\":\"y2\"},\"fill_color\":\"blue\",\"fill_alpha\":0.1,\"hatch_alpha\":{\"type\":\"value\",\"value\":0.1}}},\"muted_glyph\":{\"type\":\"object\",\"name\":\"VArea\",\"id\":\"p1152\",\"attributes\":{\"x\":{\"type\":\"field\",\"field\":\"x\"},\"y1\":{\"type\":\"field\",\"field\":\"y1\"},\"y2\":{\"type\":\"field\",\"field\":\"y2\"},\"fill_color\":\"blue\",\"fill_alpha\":0.2,\"hatch_alpha\":{\"type\":\"value\",\"value\":0.2}}}}},{\"type\":\"object\",\"name\":\"GlyphRenderer\",\"id\":\"p1162\",\"attributes\":{\"data_source\":{\"type\":\"object\",\"name\":\"ColumnDataSource\",\"id\":\"p1156\",\"attributes\":{\"selected\":{\"type\":\"object\",\"name\":\"Selection\",\"id\":\"p1157\",\"attributes\":{\"indices\":[],\"line_indices\":[]}},\"selection_policy\":{\"type\":\"object\",\"name\":\"UnionRenderers\",\"id\":\"p1158\"},\"data\":{\"type\":\"map\"}}},\"view\":{\"type\":\"object\",\"name\":\"CDSView\",\"id\":\"p1163\",\"attributes\":{\"filter\":{\"type\":\"object\",\"name\":\"AllIndices\",\"id\":\"p1164\"}}},\"glyph\":{\"type\":\"object\",\"name\":\"VSpan\",\"id\":\"p1159\",\"attributes\":{\"x\":{\"type\":\"value\",\"value\":1715644800000.0},\"line_color\":{\"type\":\"value\",\"value\":\"green\"},\"line_width\":{\"type\":\"value\",\"value\":3},\"line_dash\":{\"type\":\"value\",\"value\":\"dashed\"}}},\"nonselection_glyph\":{\"type\":\"object\",\"name\":\"VSpan\",\"id\":\"p1160\",\"attributes\":{\"x\":{\"type\":\"value\",\"value\":1715644800000.0},\"line_color\":{\"type\":\"value\",\"value\":\"green\"},\"line_alpha\":{\"type\":\"value\",\"value\":0.1},\"line_width\":{\"type\":\"value\",\"value\":3},\"line_dash\":{\"type\":\"value\",\"value\":\"dashed\"}}},\"muted_glyph\":{\"type\":\"object\",\"name\":\"VSpan\",\"id\":\"p1161\",\"attributes\":{\"x\":{\"type\":\"value\",\"value\":1715644800000.0},\"line_color\":{\"type\":\"value\",\"value\":\"green\"},\"line_alpha\":{\"type\":\"value\",\"value\":0.2},\"line_width\":{\"type\":\"value\",\"value\":3},\"line_dash\":{\"type\":\"value\",\"value\":\"dashed\"}}}}},{\"type\":\"object\",\"name\":\"GlyphRenderer\",\"id\":\"p1171\",\"attributes\":{\"data_source\":{\"type\":\"object\",\"name\":\"ColumnDataSource\",\"id\":\"p1165\",\"attributes\":{\"selected\":{\"type\":\"object\",\"name\":\"Selection\",\"id\":\"p1166\",\"attributes\":{\"indices\":[],\"line_indices\":[]}},\"selection_policy\":{\"type\":\"object\",\"name\":\"UnionRenderers\",\"id\":\"p1167\"},\"data\":{\"type\":\"map\"}}},\"view\":{\"type\":\"object\",\"name\":\"CDSView\",\"id\":\"p1172\",\"attributes\":{\"filter\":{\"type\":\"object\",\"name\":\"AllIndices\",\"id\":\"p1173\"}}},\"glyph\":{\"type\":\"object\",\"name\":\"VSpan\",\"id\":\"p1168\",\"attributes\":{\"x\":{\"type\":\"value\",\"value\":1718150400000.0},\"line_color\":{\"type\":\"value\",\"value\":\"green\"},\"line_width\":{\"type\":\"value\",\"value\":3},\"line_dash\":{\"type\":\"value\",\"value\":\"dashed\"}}},\"nonselection_glyph\":{\"type\":\"object\",\"name\":\"VSpan\",\"id\":\"p1169\",\"attributes\":{\"x\":{\"type\":\"value\",\"value\":1718150400000.0},\"line_color\":{\"type\":\"value\",\"value\":\"green\"},\"line_alpha\":{\"type\":\"value\",\"value\":0.1},\"line_width\":{\"type\":\"value\",\"value\":3},\"line_dash\":{\"type\":\"value\",\"value\":\"dashed\"}}},\"muted_glyph\":{\"type\":\"object\",\"name\":\"VSpan\",\"id\":\"p1170\",\"attributes\":{\"x\":{\"type\":\"value\",\"value\":1718150400000.0},\"line_color\":{\"type\":\"value\",\"value\":\"green\"},\"line_alpha\":{\"type\":\"value\",\"value\":0.2},\"line_width\":{\"type\":\"value\",\"value\":3},\"line_dash\":{\"type\":\"value\",\"value\":\"dashed\"}}}}},{\"type\":\"object\",\"name\":\"GlyphRenderer\",\"id\":\"p1183\",\"attributes\":{\"data_source\":{\"type\":\"object\",\"name\":\"ColumnDataSource\",\"id\":\"p1174\",\"attributes\":{\"selected\":{\"type\":\"object\",\"name\":\"Selection\",\"id\":\"p1175\",\"attributes\":{\"indices\":[],\"line_indices\":[]}},\"selection_policy\":{\"type\":\"object\",\"name\":\"UnionRenderers\",\"id\":\"p1176\"},\"data\":{\"type\":\"map\",\"entries\":[[\"index\",{\"type\":\"ndarray\",\"array\":{\"type\":\"bytes\",\"data\":\"AAAAAAEAAAACAAAAAwAAAAQAAAAFAAAABgAAAAcAAAAIAAAACQAAAA==\"},\"shape\":[10],\"dtype\":\"int32\",\"order\":\"little\"}],[\"Timestamp\",{\"type\":\"ndarray\",\"array\":{\"type\":\"bytes\",\"data\":\"AABAW376eEIAAID1K/p4QgAAwI/Z+XhCAAAAKof5eEIAAEDENPl4QgAAAJM9+HhCAABALev3eEIAAIDHmPd4QgAAwGFG93hCAAAA/PP2eEI=\"},\"shape\":[10],\"dtype\":\"float64\",\"order\":\"little\"}],[\"Value\",{\"type\":\"ndarray\",\"array\":{\"type\":\"bytes\",\"data\":\"4XoUrkfhJEBmZmZmZuYjQGZmZmZmZiVAmpmZmZkZJECPwvUoXI8kQAAAAAAAACVAw/UoXI9CJEBmZmZmZmYkQOF6FK5HYSZAzczMzMzMJUA=\"},\"shape\":[10],\"dtype\":\"float64\",\"order\":\"little\"}],[\"item_id\",{\"type\":\"ndarray\",\"array\":[\"RIVN\",\"RIVN\",\"RIVN\",\"RIVN\",\"RIVN\",\"RIVN\",\"RIVN\",\"RIVN\",\"RIVN\",\"RIVN\"],\"shape\":[10],\"dtype\":\"object\",\"order\":\"little\"}]]}}},\"view\":{\"type\":\"object\",\"name\":\"CDSView\",\"id\":\"p1184\",\"attributes\":{\"filter\":{\"type\":\"object\",\"name\":\"AllIndices\",\"id\":\"p1185\"}}},\"glyph\":{\"type\":\"object\",\"name\":\"Line\",\"id\":\"p1180\",\"attributes\":{\"x\":{\"type\":\"field\",\"field\":\"Timestamp\"},\"y\":{\"type\":\"field\",\"field\":\"Value\"},\"line_color\":\"red\",\"line_width\":2}},\"nonselection_glyph\":{\"type\":\"object\",\"name\":\"Line\",\"id\":\"p1181\",\"attributes\":{\"x\":{\"type\":\"field\",\"field\":\"Timestamp\"},\"y\":{\"type\":\"field\",\"field\":\"Value\"},\"line_color\":\"red\",\"line_alpha\":0.1,\"line_width\":2}},\"muted_glyph\":{\"type\":\"object\",\"name\":\"Line\",\"id\":\"p1182\",\"attributes\":{\"x\":{\"type\":\"field\",\"field\":\"Timestamp\"},\"y\":{\"type\":\"field\",\"field\":\"Value\"},\"line_color\":\"red\",\"line_alpha\":0.2,\"line_width\":2}}}}],\"toolbar\":{\"type\":\"object\",\"name\":\"Toolbar\",\"id\":\"p1112\",\"attributes\":{\"tools\":[{\"type\":\"object\",\"name\":\"PanTool\",\"id\":\"p1125\"},{\"type\":\"object\",\"name\":\"WheelZoomTool\",\"id\":\"p1126\",\"attributes\":{\"renderers\":\"auto\"}},{\"type\":\"object\",\"name\":\"BoxZoomTool\",\"id\":\"p1127\",\"attributes\":{\"overlay\":{\"type\":\"object\",\"name\":\"BoxAnnotation\",\"id\":\"p1128\",\"attributes\":{\"syncable\":false,\"level\":\"overlay\",\"visible\":false,\"left\":{\"type\":\"number\",\"value\":\"nan\"},\"right\":{\"type\":\"number\",\"value\":\"nan\"},\"top\":{\"type\":\"number\",\"value\":\"nan\"},\"bottom\":{\"type\":\"number\",\"value\":\"nan\"},\"left_units\":\"canvas\",\"right_units\":\"canvas\",\"top_units\":\"canvas\",\"bottom_units\":\"canvas\",\"line_color\":\"black\",\"line_alpha\":1.0,\"line_width\":2,\"line_dash\":[4,4],\"fill_color\":\"lightgrey\",\"fill_alpha\":0.5}}}},{\"type\":\"object\",\"name\":\"SaveTool\",\"id\":\"p1133\"},{\"type\":\"object\",\"name\":\"ResetTool\",\"id\":\"p1134\"},{\"type\":\"object\",\"name\":\"HelpTool\",\"id\":\"p1135\"},{\"type\":\"object\",\"name\":\"HoverTool\",\"id\":\"p1098\",\"attributes\":{\"renderers\":[{\"id\":\"p1142\"},{\"id\":\"p1183\"}],\"tooltips\":[[\"Timestamp\",\"@Timestamp{%F}\"],[\"Value\",\"$@Value{0,0.00}\"]],\"formatters\":{\"type\":\"map\",\"entries\":[[\"@Timestamp\",\"datetime\"]]},\"mode\":\"vline\"}},{\"type\":\"object\",\"name\":\"CrosshairTool\",\"id\":\"p1099\"}]}},\"left\":[{\"type\":\"object\",\"name\":\"LinearAxis\",\"id\":\"p1120\",\"attributes\":{\"ticker\":{\"type\":\"object\",\"name\":\"BasicTicker\",\"id\":\"p1121\",\"attributes\":{\"mantissas\":[1,2,5]}},\"formatter\":{\"type\":\"object\",\"name\":\"NumeralTickFormatter\",\"id\":\"p1145\",\"attributes\":{\"format\":\"$0.00\"}},\"axis_label\":\"Stock Value\",\"major_label_policy\":{\"type\":\"object\",\"name\":\"AllLabels\",\"id\":\"p1123\"}}}],\"below\":[{\"type\":\"object\",\"name\":\"LinearAxis\",\"id\":\"p1115\",\"attributes\":{\"ticker\":{\"type\":\"object\",\"name\":\"BasicTicker\",\"id\":\"p1116\",\"attributes\":{\"mantissas\":[1,2,5]}},\"formatter\":{\"type\":\"object\",\"name\":\"DatetimeTickFormatter\",\"id\":\"p1146\",\"attributes\":{\"hours\":\"%d %b %Y\",\"days\":\"%d %b %Y\",\"months\":\"%d %b %Y\",\"years\":\"%d %b %Y\"}},\"axis_label\":\"Timestamp\",\"major_label_orientation\":1.0471975511965976,\"major_label_policy\":{\"type\":\"object\",\"name\":\"AllLabels\",\"id\":\"p1118\"}}}],\"center\":[{\"type\":\"object\",\"name\":\"Grid\",\"id\":\"p1119\",\"attributes\":{\"axis\":{\"id\":\"p1115\"}}},{\"type\":\"object\",\"name\":\"Grid\",\"id\":\"p1124\",\"attributes\":{\"dimension\":1,\"axis\":{\"id\":\"p1120\"}}}]}}]}};\n",
       "  const render_items = [{\"docid\":\"e2abd9a5-91cf-49ad-8902-4e8af8bfc01d\",\"roots\":{\"p1103\":\"c0e10cb4-8c93-426a-8238-e364cc2332a8\"},\"root_ids\":[\"p1103\"]}];\n",
       "  void root.Bokeh.embed.embed_items_notebook(docs_json, render_items);\n",
       "  }\n",
       "  if (root.Bokeh !== undefined) {\n",
       "    embed_document(root);\n",
       "  } else {\n",
       "    let attempts = 0;\n",
       "    const timer = setInterval(function(root) {\n",
       "      if (root.Bokeh !== undefined) {\n",
       "        clearInterval(timer);\n",
       "        embed_document(root);\n",
       "      } else {\n",
       "        attempts++;\n",
       "        if (attempts > 100) {\n",
       "          clearInterval(timer);\n",
       "          console.log(\"Bokeh: ERROR: Unable to run BokehJS code because BokehJS library is missing\");\n",
       "        }\n",
       "      }\n",
       "    }, 10, root)\n",
       "  }\n",
       "})(window);"
      ],
      "application/vnd.bokehjs_exec.v0+json": ""
     },
     "metadata": {
      "application/vnd.bokehjs_exec.v0+json": {
       "id": "p1103"
      }
     },
     "output_type": "display_data"
    },
    {
     "data": {
      "text/html": [
       "\n",
       "  <div id=\"b729d92d-c268-4956-a8dc-e992a2699a24\" data-root-id=\"p1200\" style=\"display: contents;\"></div>\n"
      ]
     },
     "metadata": {},
     "output_type": "display_data"
    },
    {
     "data": {
      "application/javascript": [
       "(function(root) {\n",
       "  function embed_document(root) {\n",
       "  const docs_json = {\"779a54bf-b82e-4cdb-a018-ecc0c0d3b522\":{\"version\":\"3.4.0\",\"title\":\"Bokeh Application\",\"roots\":[{\"type\":\"object\",\"name\":\"Figure\",\"id\":\"p1200\",\"attributes\":{\"sizing_mode\":\"stretch_width\",\"x_range\":{\"type\":\"object\",\"name\":\"DataRange1d\",\"id\":\"p1201\"},\"y_range\":{\"type\":\"object\",\"name\":\"DataRange1d\",\"id\":\"p1202\"},\"x_scale\":{\"type\":\"object\",\"name\":\"LinearScale\",\"id\":\"p1210\"},\"y_scale\":{\"type\":\"object\",\"name\":\"LinearScale\",\"id\":\"p1211\"},\"title\":{\"type\":\"object\",\"name\":\"Title\",\"id\":\"p1203\",\"attributes\":{\"text\":\"Stock Price Forecast for RIVN (Auto v4)\"}},\"renderers\":[{\"type\":\"object\",\"name\":\"GlyphRenderer\",\"id\":\"p1239\",\"attributes\":{\"data_source\":{\"type\":\"object\",\"name\":\"ColumnDataSource\",\"id\":\"p1197\",\"attributes\":{\"selected\":{\"type\":\"object\",\"name\":\"Selection\",\"id\":\"p1198\",\"attributes\":{\"indices\":[],\"line_indices\":[]}},\"selection_policy\":{\"type\":\"object\",\"name\":\"UnionRenderers\",\"id\":\"p1199\"},\"data\":{\"type\":\"map\",\"entries\":[[\"index\",{\"type\":\"ndarray\",\"array\":{\"type\":\"bytes\",\"data\":\"AAAAAAEAAAACAAAAAwAAAAQAAAAFAAAABgAAAAcAAAAIAAAACQAAAAoAAAALAAAADAAAAA0AAAAOAAAADwAAABAAAAARAAAAEgAAABMAAAAUAAAAFQAAABYAAAAXAAAAGAAAABkAAAAaAAAAGwAAABwAAAAdAAAAHgAAAB8AAAAgAAAAIQAAACIAAAAjAAAAJAAAACUAAAAmAAAAJwAAACgAAAApAAAAKgAAACsAAAAsAAAALQAAAC4AAAAvAAAAMAAAADEAAAAyAAAAMwAAADQAAAA1AAAANgAAADcAAAA4AAAAOQAAADoAAAA7AAAA\"},\"shape\":[60],\"dtype\":\"int32\",\"order\":\"little\"}],[\"Timestamp\",{\"type\":\"ndarray\",\"array\":{\"type\":\"bytes\",\"data\":\"AABAsMHpeEIAAAAWFOp4QgAAwHtm6nhCAACA4bjqeEIAAMASsOt4QgAAgHgC7HhCAABA3lTseEIAAABEp+x4QgAAwKn57HhCAAAA2/DteEIAAMBAQ+54QgAAgKaV7nhCAABADOjueEIAAAByOu94QgAAQKMx8HhCAAAACYTweEIAAMBu1vB4QgAAgNQo8XhCAABAOnvxeEIAAIBrcvJ4QgAAQNHE8nhCAAAANxfzeEIAAMCcafN4QgAAgAK883hCAADAM7P0eEIAAICZBfV4QgAAQP9X9XhCAAAAZar1eEIAAMDK/PV4QgAAAPzz9nhCAADAYUb3eEIAAIDHmPd4QgAAQC3r93hCAAAAkz34eEIAAMD4j/h4QgAAgF7i+HhCAABAxDT5eEIAAAAqh/l4QgAAwI/Z+XhCAACA9Sv6eEIAAEBbfvp4QgAAAMHQ+nhCAADAJiP7eEIAAICMdft4QgAAQPLH+3hCAAAAWBr8eEIAAMC9bPx4QgAAgCO//HhCAABAiRH9eEIAAADvY/14QgAAwFS2/XhCAACAugj+eEIAAEAgW/54QgAAAIat/nhCAADA6//+eEIAAIBRUv94QgAAQLek/3hCAAAAHff/eEIAAMCCSQB5QgAAgOibAHlC\"},\"shape\":[60],\"dtype\":\"float64\",\"order\":\"little\"}],[\"Value\",{\"type\":\"ndarray\",\"array\":{\"type\":\"bytes\",\"data\":\"hetRuB4FJUAUrkfhehQlQMP1KFyPQiRAMzMzMzMzJEDhehSuR+EkQMP1KFyPQiVACtejcD2KJECkcD0K1yMjQMP1KFyPQiJAzczMzMzMIEDsUbgehWshQHsUrkfheiFAKVyPwvWoIUDD9Shcj0IhQBSuR+F6lCFAFK5H4XoUIkCuR+F6FK4hQArXo3A9CiFAFK5H4XoUIkDD9Shcj8IiQM3MzMzMzCFA7FG4HoVrIkApXI/C9agjQKRwPQrXIyRAKVyPwvWoJEAAAAAAAIAkQArXo3A9iiRAcT0K16NwJEB7FK5H4fojQM3MzMzMzCVASYPeknGWJEASxt6y+2AkQCCb3rJcLiRAXMfe8sQNJED7q95iINYjQE3M3hJT5yNAtZDeQsfjI0A9jt4yQNAjQPLc3uJ/0iNAOKXe0k/RI0Duo96SRt4jQNTJ3gIM7yNAnqnewqQ1JUAoit6SDa4lQDmY3uKnGCZA+ojewg/cJUC2w94SgJElQEO63pLR8iRA/rHe4qBqJEB+sN7CgCUkQDB23jL+MyRA2sLekmQdJEBMud6i6lokQB3I3gLViyRAqKveEj7BJEAhnt7yHAAlQEWt3qLpOSVAf8PeMulxJUBagd6yI1wlQI+e3rIKRiVA\"},\"shape\":[60],\"dtype\":\"float64\",\"order\":\"little\"}]]}}},\"view\":{\"type\":\"object\",\"name\":\"CDSView\",\"id\":\"p1240\",\"attributes\":{\"filter\":{\"type\":\"object\",\"name\":\"AllIndices\",\"id\":\"p1241\"}}},\"glyph\":{\"type\":\"object\",\"name\":\"Line\",\"id\":\"p1236\",\"attributes\":{\"x\":{\"type\":\"field\",\"field\":\"Timestamp\"},\"y\":{\"type\":\"field\",\"field\":\"Value\"},\"line_color\":\"#1f77b4\",\"line_width\":2}},\"nonselection_glyph\":{\"type\":\"object\",\"name\":\"Line\",\"id\":\"p1237\",\"attributes\":{\"x\":{\"type\":\"field\",\"field\":\"Timestamp\"},\"y\":{\"type\":\"field\",\"field\":\"Value\"},\"line_color\":\"#1f77b4\",\"line_alpha\":0.1,\"line_width\":2}},\"muted_glyph\":{\"type\":\"object\",\"name\":\"Line\",\"id\":\"p1238\",\"attributes\":{\"x\":{\"type\":\"field\",\"field\":\"Timestamp\"},\"y\":{\"type\":\"field\",\"field\":\"Value\"},\"line_color\":\"#1f77b4\",\"line_alpha\":0.2,\"line_width\":2}}}},{\"type\":\"object\",\"name\":\"GlyphRenderer\",\"id\":\"p1250\",\"attributes\":{\"data_source\":{\"type\":\"object\",\"name\":\"ColumnDataSource\",\"id\":\"p1244\",\"attributes\":{\"selected\":{\"type\":\"object\",\"name\":\"Selection\",\"id\":\"p1245\",\"attributes\":{\"indices\":[],\"line_indices\":[]}},\"selection_policy\":{\"type\":\"object\",\"name\":\"UnionRenderers\",\"id\":\"p1246\"},\"data\":{\"type\":\"map\",\"entries\":[[\"x\",{\"type\":\"ndarray\",\"array\":{\"type\":\"bytes\",\"data\":\"AADAYUb3eEIAAIDHmPd4QgAAQC3r93hCAAAAkz34eEIAAMD4j/h4QgAAgF7i+HhCAABAxDT5eEIAAAAqh/l4QgAAwI/Z+XhCAACA9Sv6eEIAAEBbfvp4QgAAAMHQ+nhCAADAJiP7eEIAAICMdft4QgAAQPLH+3hCAAAAWBr8eEIAAMC9bPx4QgAAgCO//HhCAABAiRH9eEIAAADvY/14QgAAwFS2/XhCAACAugj+eEIAAEAgW/54QgAAAIat/nhCAADA6//+eEIAAIBRUv94QgAAQLek/3hCAAAAHff/eEIAAMCCSQB5QgAAgOibAHlC\"},\"shape\":[30],\"dtype\":\"float64\",\"order\":\"little\"}],[\"y1\",{\"type\":\"ndarray\",\"array\":{\"type\":\"bytes\",\"data\":\"iPl6mjGBI0BBOFjKoyMjQMniFwVx2CJA95aOvjSIIkC8iqU2wzAiQBKOh/bBLSJAIKHTkLb3IUDP1c25dswhQDSFfJwmryFAmvEZYw6YIUAw+jMpPZAhQGIzE1cziCFARHVAF63LIkB7PwY8fB0jQKUaA6+4bSNATEZaZ1MeI0D8QDmu2Z8iQMDOnIgrDSJAZoU8psF+IUBE//q6SxIhQHCcnHvC7iBAFA7JOGrEIEDuIcnEVPIgQH8/eMHNHyFAQlyMNG9HIUDM0M1AkZMhQLH3PLOKtiFAJD1UozDCIUB4E82lha4hQFsRcbFihCFA\"},\"shape\":[30],\"dtype\":\"float64\",\"order\":\"little\"}],[\"y2\",{\"type\":\"ndarray\",\"array\":{\"type\":\"bytes\",\"data\":\"foxC23mVJUCIvmQLLqQlQDpKpcCwnSVAYxIvp2mgJUBy0BevFIAlQEC5Nf8RsCVAPKjptDbqJUBsR++72eIlQMQYQWm78SVAujijcnUOJkAoeYksKCsmQAYbqn6TSCZA+hB9PpWuJ0CQDLf5jkIoQMKGulZXvyhAp/tirgSnKECUJYSXem8oQCbRIF1E6CdARiSBD39xJ0CbgcK6eiQnQADUIAouYSdAiZD0bHxuJ0BAKfTw2rsnQL/DRNTyCShA/ekwYbIxKED+u+/EanIoQFRrgCLQtChAsE5pcuQRKUD7LPBP8jspQE0cTLTDIylA\"},\"shape\":[30],\"dtype\":\"float64\",\"order\":\"little\"}]]}}},\"view\":{\"type\":\"object\",\"name\":\"CDSView\",\"id\":\"p1251\",\"attributes\":{\"filter\":{\"type\":\"object\",\"name\":\"AllIndices\",\"id\":\"p1252\"}}},\"glyph\":{\"type\":\"object\",\"name\":\"VArea\",\"id\":\"p1247\",\"attributes\":{\"x\":{\"type\":\"field\",\"field\":\"x\"},\"y1\":{\"type\":\"field\",\"field\":\"y1\"},\"y2\":{\"type\":\"field\",\"field\":\"y2\"},\"fill_color\":\"blue\",\"fill_alpha\":0.3}},\"nonselection_glyph\":{\"type\":\"object\",\"name\":\"VArea\",\"id\":\"p1248\",\"attributes\":{\"x\":{\"type\":\"field\",\"field\":\"x\"},\"y1\":{\"type\":\"field\",\"field\":\"y1\"},\"y2\":{\"type\":\"field\",\"field\":\"y2\"},\"fill_color\":\"blue\",\"fill_alpha\":0.1,\"hatch_alpha\":{\"type\":\"value\",\"value\":0.1}}},\"muted_glyph\":{\"type\":\"object\",\"name\":\"VArea\",\"id\":\"p1249\",\"attributes\":{\"x\":{\"type\":\"field\",\"field\":\"x\"},\"y1\":{\"type\":\"field\",\"field\":\"y1\"},\"y2\":{\"type\":\"field\",\"field\":\"y2\"},\"fill_color\":\"blue\",\"fill_alpha\":0.2,\"hatch_alpha\":{\"type\":\"value\",\"value\":0.2}}}}},{\"type\":\"object\",\"name\":\"GlyphRenderer\",\"id\":\"p1259\",\"attributes\":{\"data_source\":{\"type\":\"object\",\"name\":\"ColumnDataSource\",\"id\":\"p1253\",\"attributes\":{\"selected\":{\"type\":\"object\",\"name\":\"Selection\",\"id\":\"p1254\",\"attributes\":{\"indices\":[],\"line_indices\":[]}},\"selection_policy\":{\"type\":\"object\",\"name\":\"UnionRenderers\",\"id\":\"p1255\"},\"data\":{\"type\":\"map\"}}},\"view\":{\"type\":\"object\",\"name\":\"CDSView\",\"id\":\"p1260\",\"attributes\":{\"filter\":{\"type\":\"object\",\"name\":\"AllIndices\",\"id\":\"p1261\"}}},\"glyph\":{\"type\":\"object\",\"name\":\"VSpan\",\"id\":\"p1256\",\"attributes\":{\"x\":{\"type\":\"value\",\"value\":1715644800000.0},\"line_color\":{\"type\":\"value\",\"value\":\"green\"},\"line_width\":{\"type\":\"value\",\"value\":3},\"line_dash\":{\"type\":\"value\",\"value\":\"dashed\"}}},\"nonselection_glyph\":{\"type\":\"object\",\"name\":\"VSpan\",\"id\":\"p1257\",\"attributes\":{\"x\":{\"type\":\"value\",\"value\":1715644800000.0},\"line_color\":{\"type\":\"value\",\"value\":\"green\"},\"line_alpha\":{\"type\":\"value\",\"value\":0.1},\"line_width\":{\"type\":\"value\",\"value\":3},\"line_dash\":{\"type\":\"value\",\"value\":\"dashed\"}}},\"muted_glyph\":{\"type\":\"object\",\"name\":\"VSpan\",\"id\":\"p1258\",\"attributes\":{\"x\":{\"type\":\"value\",\"value\":1715644800000.0},\"line_color\":{\"type\":\"value\",\"value\":\"green\"},\"line_alpha\":{\"type\":\"value\",\"value\":0.2},\"line_width\":{\"type\":\"value\",\"value\":3},\"line_dash\":{\"type\":\"value\",\"value\":\"dashed\"}}}}},{\"type\":\"object\",\"name\":\"GlyphRenderer\",\"id\":\"p1268\",\"attributes\":{\"data_source\":{\"type\":\"object\",\"name\":\"ColumnDataSource\",\"id\":\"p1262\",\"attributes\":{\"selected\":{\"type\":\"object\",\"name\":\"Selection\",\"id\":\"p1263\",\"attributes\":{\"indices\":[],\"line_indices\":[]}},\"selection_policy\":{\"type\":\"object\",\"name\":\"UnionRenderers\",\"id\":\"p1264\"},\"data\":{\"type\":\"map\"}}},\"view\":{\"type\":\"object\",\"name\":\"CDSView\",\"id\":\"p1269\",\"attributes\":{\"filter\":{\"type\":\"object\",\"name\":\"AllIndices\",\"id\":\"p1270\"}}},\"glyph\":{\"type\":\"object\",\"name\":\"VSpan\",\"id\":\"p1265\",\"attributes\":{\"x\":{\"type\":\"value\",\"value\":1718150400000.0},\"line_color\":{\"type\":\"value\",\"value\":\"green\"},\"line_width\":{\"type\":\"value\",\"value\":3},\"line_dash\":{\"type\":\"value\",\"value\":\"dashed\"}}},\"nonselection_glyph\":{\"type\":\"object\",\"name\":\"VSpan\",\"id\":\"p1266\",\"attributes\":{\"x\":{\"type\":\"value\",\"value\":1718150400000.0},\"line_color\":{\"type\":\"value\",\"value\":\"green\"},\"line_alpha\":{\"type\":\"value\",\"value\":0.1},\"line_width\":{\"type\":\"value\",\"value\":3},\"line_dash\":{\"type\":\"value\",\"value\":\"dashed\"}}},\"muted_glyph\":{\"type\":\"object\",\"name\":\"VSpan\",\"id\":\"p1267\",\"attributes\":{\"x\":{\"type\":\"value\",\"value\":1718150400000.0},\"line_color\":{\"type\":\"value\",\"value\":\"green\"},\"line_alpha\":{\"type\":\"value\",\"value\":0.2},\"line_width\":{\"type\":\"value\",\"value\":3},\"line_dash\":{\"type\":\"value\",\"value\":\"dashed\"}}}}},{\"type\":\"object\",\"name\":\"GlyphRenderer\",\"id\":\"p1280\",\"attributes\":{\"data_source\":{\"type\":\"object\",\"name\":\"ColumnDataSource\",\"id\":\"p1271\",\"attributes\":{\"selected\":{\"type\":\"object\",\"name\":\"Selection\",\"id\":\"p1272\",\"attributes\":{\"indices\":[],\"line_indices\":[]}},\"selection_policy\":{\"type\":\"object\",\"name\":\"UnionRenderers\",\"id\":\"p1273\"},\"data\":{\"type\":\"map\",\"entries\":[[\"index\",{\"type\":\"ndarray\",\"array\":{\"type\":\"bytes\",\"data\":\"AAAAAAEAAAACAAAAAwAAAAQAAAAFAAAABgAAAAcAAAAIAAAACQAAAA==\"},\"shape\":[10],\"dtype\":\"int32\",\"order\":\"little\"}],[\"Timestamp\",{\"type\":\"ndarray\",\"array\":{\"type\":\"bytes\",\"data\":\"AABAW376eEIAAID1K/p4QgAAwI/Z+XhCAAAAKof5eEIAAEDENPl4QgAAAJM9+HhCAABALev3eEIAAIDHmPd4QgAAwGFG93hCAAAA/PP2eEI=\"},\"shape\":[10],\"dtype\":\"float64\",\"order\":\"little\"}],[\"Value\",{\"type\":\"ndarray\",\"array\":{\"type\":\"bytes\",\"data\":\"4XoUrkfhJEBmZmZmZuYjQGZmZmZmZiVAmpmZmZkZJECPwvUoXI8kQAAAAAAAACVAw/UoXI9CJEBmZmZmZmYkQOF6FK5HYSZAzczMzMzMJUA=\"},\"shape\":[10],\"dtype\":\"float64\",\"order\":\"little\"}],[\"item_id\",{\"type\":\"ndarray\",\"array\":[\"RIVN\",\"RIVN\",\"RIVN\",\"RIVN\",\"RIVN\",\"RIVN\",\"RIVN\",\"RIVN\",\"RIVN\",\"RIVN\"],\"shape\":[10],\"dtype\":\"object\",\"order\":\"little\"}]]}}},\"view\":{\"type\":\"object\",\"name\":\"CDSView\",\"id\":\"p1281\",\"attributes\":{\"filter\":{\"type\":\"object\",\"name\":\"AllIndices\",\"id\":\"p1282\"}}},\"glyph\":{\"type\":\"object\",\"name\":\"Line\",\"id\":\"p1277\",\"attributes\":{\"x\":{\"type\":\"field\",\"field\":\"Timestamp\"},\"y\":{\"type\":\"field\",\"field\":\"Value\"},\"line_color\":\"red\",\"line_width\":2}},\"nonselection_glyph\":{\"type\":\"object\",\"name\":\"Line\",\"id\":\"p1278\",\"attributes\":{\"x\":{\"type\":\"field\",\"field\":\"Timestamp\"},\"y\":{\"type\":\"field\",\"field\":\"Value\"},\"line_color\":\"red\",\"line_alpha\":0.1,\"line_width\":2}},\"muted_glyph\":{\"type\":\"object\",\"name\":\"Line\",\"id\":\"p1279\",\"attributes\":{\"x\":{\"type\":\"field\",\"field\":\"Timestamp\"},\"y\":{\"type\":\"field\",\"field\":\"Value\"},\"line_color\":\"red\",\"line_alpha\":0.2,\"line_width\":2}}}}],\"toolbar\":{\"type\":\"object\",\"name\":\"Toolbar\",\"id\":\"p1209\",\"attributes\":{\"tools\":[{\"type\":\"object\",\"name\":\"PanTool\",\"id\":\"p1222\"},{\"type\":\"object\",\"name\":\"WheelZoomTool\",\"id\":\"p1223\",\"attributes\":{\"renderers\":\"auto\"}},{\"type\":\"object\",\"name\":\"BoxZoomTool\",\"id\":\"p1224\",\"attributes\":{\"overlay\":{\"type\":\"object\",\"name\":\"BoxAnnotation\",\"id\":\"p1225\",\"attributes\":{\"syncable\":false,\"level\":\"overlay\",\"visible\":false,\"left\":{\"type\":\"number\",\"value\":\"nan\"},\"right\":{\"type\":\"number\",\"value\":\"nan\"},\"top\":{\"type\":\"number\",\"value\":\"nan\"},\"bottom\":{\"type\":\"number\",\"value\":\"nan\"},\"left_units\":\"canvas\",\"right_units\":\"canvas\",\"top_units\":\"canvas\",\"bottom_units\":\"canvas\",\"line_color\":\"black\",\"line_alpha\":1.0,\"line_width\":2,\"line_dash\":[4,4],\"fill_color\":\"lightgrey\",\"fill_alpha\":0.5}}}},{\"type\":\"object\",\"name\":\"SaveTool\",\"id\":\"p1230\"},{\"type\":\"object\",\"name\":\"ResetTool\",\"id\":\"p1231\"},{\"type\":\"object\",\"name\":\"HelpTool\",\"id\":\"p1232\"},{\"type\":\"object\",\"name\":\"HoverTool\",\"id\":\"p1195\",\"attributes\":{\"renderers\":[{\"id\":\"p1239\"},{\"id\":\"p1280\"}],\"tooltips\":[[\"Timestamp\",\"@Timestamp{%F}\"],[\"Value\",\"$@Value{0,0.00}\"]],\"formatters\":{\"type\":\"map\",\"entries\":[[\"@Timestamp\",\"datetime\"]]},\"mode\":\"vline\"}},{\"type\":\"object\",\"name\":\"CrosshairTool\",\"id\":\"p1196\"}]}},\"left\":[{\"type\":\"object\",\"name\":\"LinearAxis\",\"id\":\"p1217\",\"attributes\":{\"ticker\":{\"type\":\"object\",\"name\":\"BasicTicker\",\"id\":\"p1218\",\"attributes\":{\"mantissas\":[1,2,5]}},\"formatter\":{\"type\":\"object\",\"name\":\"NumeralTickFormatter\",\"id\":\"p1242\",\"attributes\":{\"format\":\"$0.00\"}},\"axis_label\":\"Stock Value\",\"major_label_policy\":{\"type\":\"object\",\"name\":\"AllLabels\",\"id\":\"p1220\"}}}],\"below\":[{\"type\":\"object\",\"name\":\"LinearAxis\",\"id\":\"p1212\",\"attributes\":{\"ticker\":{\"type\":\"object\",\"name\":\"BasicTicker\",\"id\":\"p1213\",\"attributes\":{\"mantissas\":[1,2,5]}},\"formatter\":{\"type\":\"object\",\"name\":\"DatetimeTickFormatter\",\"id\":\"p1243\",\"attributes\":{\"hours\":\"%d %b %Y\",\"days\":\"%d %b %Y\",\"months\":\"%d %b %Y\",\"years\":\"%d %b %Y\"}},\"axis_label\":\"Timestamp\",\"major_label_orientation\":1.0471975511965976,\"major_label_policy\":{\"type\":\"object\",\"name\":\"AllLabels\",\"id\":\"p1215\"}}}],\"center\":[{\"type\":\"object\",\"name\":\"Grid\",\"id\":\"p1216\",\"attributes\":{\"axis\":{\"id\":\"p1212\"}}},{\"type\":\"object\",\"name\":\"Grid\",\"id\":\"p1221\",\"attributes\":{\"dimension\":1,\"axis\":{\"id\":\"p1217\"}}}]}}]}};\n",
       "  const render_items = [{\"docid\":\"779a54bf-b82e-4cdb-a018-ecc0c0d3b522\",\"roots\":{\"p1200\":\"b729d92d-c268-4956-a8dc-e992a2699a24\"},\"root_ids\":[\"p1200\"]}];\n",
       "  void root.Bokeh.embed.embed_items_notebook(docs_json, render_items);\n",
       "  }\n",
       "  if (root.Bokeh !== undefined) {\n",
       "    embed_document(root);\n",
       "  } else {\n",
       "    let attempts = 0;\n",
       "    const timer = setInterval(function(root) {\n",
       "      if (root.Bokeh !== undefined) {\n",
       "        clearInterval(timer);\n",
       "        embed_document(root);\n",
       "      } else {\n",
       "        attempts++;\n",
       "        if (attempts > 100) {\n",
       "          clearInterval(timer);\n",
       "          console.log(\"Bokeh: ERROR: Unable to run BokehJS code because BokehJS library is missing\");\n",
       "        }\n",
       "      }\n",
       "    }, 10, root)\n",
       "  }\n",
       "})(window);"
      ],
      "application/vnd.bokehjs_exec.v0+json": ""
     },
     "metadata": {
      "application/vnd.bokehjs_exec.v0+json": {
       "id": "p1200"
      }
     },
     "output_type": "display_data"
    },
    {
     "data": {
      "text/html": [
       "\n",
       "  <div id=\"a186f1eb-e048-42e4-a6c7-d4663d654a21\" data-root-id=\"p1297\" style=\"display: contents;\"></div>\n"
      ]
     },
     "metadata": {},
     "output_type": "display_data"
    },
    {
     "data": {
      "application/javascript": [
       "(function(root) {\n",
       "  function embed_document(root) {\n",
       "  const docs_json = {\"127cb8bb-f5db-4c48-bfb3-c37726f1e635\":{\"version\":\"3.4.0\",\"title\":\"Bokeh Application\",\"roots\":[{\"type\":\"object\",\"name\":\"Figure\",\"id\":\"p1297\",\"attributes\":{\"sizing_mode\":\"stretch_width\",\"x_range\":{\"type\":\"object\",\"name\":\"DataRange1d\",\"id\":\"p1298\"},\"y_range\":{\"type\":\"object\",\"name\":\"DataRange1d\",\"id\":\"p1299\"},\"x_scale\":{\"type\":\"object\",\"name\":\"LinearScale\",\"id\":\"p1307\"},\"y_scale\":{\"type\":\"object\",\"name\":\"LinearScale\",\"id\":\"p1308\"},\"title\":{\"type\":\"object\",\"name\":\"Title\",\"id\":\"p1300\",\"attributes\":{\"text\":\"Stock Price Forecast for RIVN (Auto v5)\"}},\"renderers\":[{\"type\":\"object\",\"name\":\"GlyphRenderer\",\"id\":\"p1336\",\"attributes\":{\"data_source\":{\"type\":\"object\",\"name\":\"ColumnDataSource\",\"id\":\"p1294\",\"attributes\":{\"selected\":{\"type\":\"object\",\"name\":\"Selection\",\"id\":\"p1295\",\"attributes\":{\"indices\":[],\"line_indices\":[]}},\"selection_policy\":{\"type\":\"object\",\"name\":\"UnionRenderers\",\"id\":\"p1296\"},\"data\":{\"type\":\"map\",\"entries\":[[\"index\",{\"type\":\"ndarray\",\"array\":{\"type\":\"bytes\",\"data\":\"AAAAAAEAAAACAAAAAwAAAAQAAAAFAAAABgAAAAcAAAAIAAAACQAAAAoAAAALAAAADAAAAA0AAAAOAAAADwAAABAAAAARAAAAEgAAABMAAAAUAAAAFQAAABYAAAAXAAAAGAAAABkAAAAaAAAAGwAAABwAAAAdAAAAHgAAAB8AAAAgAAAAIQAAACIAAAAjAAAAJAAAACUAAAAmAAAAJwAAACgAAAApAAAAKgAAACsAAAAsAAAALQAAAC4AAAAvAAAAMAAAADEAAAAyAAAAMwAAADQAAAA1AAAANgAAADcAAAA4AAAAOQAAADoAAAA7AAAA\"},\"shape\":[60],\"dtype\":\"int32\",\"order\":\"little\"}],[\"Timestamp\",{\"type\":\"ndarray\",\"array\":{\"type\":\"bytes\",\"data\":\"AABAsMHpeEIAAAAWFOp4QgAAwHtm6nhCAACA4bjqeEIAAMASsOt4QgAAgHgC7HhCAABA3lTseEIAAABEp+x4QgAAwKn57HhCAAAA2/DteEIAAMBAQ+54QgAAgKaV7nhCAABADOjueEIAAAByOu94QgAAQKMx8HhCAAAACYTweEIAAMBu1vB4QgAAgNQo8XhCAABAOnvxeEIAAIBrcvJ4QgAAQNHE8nhCAAAANxfzeEIAAMCcafN4QgAAgAK883hCAADAM7P0eEIAAICZBfV4QgAAQP9X9XhCAAAAZar1eEIAAMDK/PV4QgAAAPzz9nhCAADAYUb3eEIAAIDHmPd4QgAAQC3r93hCAAAAkz34eEIAAMD4j/h4QgAAgF7i+HhCAABAxDT5eEIAAAAqh/l4QgAAwI/Z+XhCAACA9Sv6eEIAAEBbfvp4QgAAAMHQ+nhCAADAJiP7eEIAAICMdft4QgAAQPLH+3hCAAAAWBr8eEIAAMC9bPx4QgAAgCO//HhCAABAiRH9eEIAAADvY/14QgAAwFS2/XhCAACAugj+eEIAAEAgW/54QgAAAIat/nhCAADA6//+eEIAAIBRUv94QgAAQLek/3hCAAAAHff/eEIAAMCCSQB5QgAAgOibAHlC\"},\"shape\":[60],\"dtype\":\"float64\",\"order\":\"little\"}],[\"Value\",{\"type\":\"ndarray\",\"array\":{\"type\":\"bytes\",\"data\":\"hetRuB4FJUAUrkfhehQlQMP1KFyPQiRAMzMzMzMzJEDhehSuR+EkQMP1KFyPQiVACtejcD2KJECkcD0K1yMjQMP1KFyPQiJAzczMzMzMIEDsUbgehWshQHsUrkfheiFAKVyPwvWoIUDD9Shcj0IhQBSuR+F6lCFAFK5H4XoUIkCuR+F6FK4hQArXo3A9CiFAFK5H4XoUIkDD9Shcj8IiQM3MzMzMzCFA7FG4HoVrIkApXI/C9agjQKRwPQrXIyRAKVyPwvWoJEAAAAAAAIAkQArXo3A9iiRAcT0K16NwJEB7FK5H4fojQM3MzMzMzCVABab/Xw+jI0Br+v8/rW4jQGQxAECNKCNAPKb/P6bvIkAHDAAAAVQiQAyy/1+QVSJA+fP///4xIkALNQAgEhMiQAHg/5+vEiJAdOn/H54RIkBxw/8/zSkiQHvV/7/OYiJA408AgL3FJUBmNACAzX4oQNyd/x8qoSpATQcAwIldKkAt7v9fFWcqQKwMAKBFdilAFeT/P2IHKEA0l///ZDonQGf0/78s/yZAnvT/n8OyJkD+HAAgkPgmQNwAAIDb8SZAOUYAILgkJ0Am4v9flHonQIIkAMAw4idApuD/P3R6KEB2zP//jY0oQLxKAIAYXShA\"},\"shape\":[60],\"dtype\":\"float64\",\"order\":\"little\"}]]}}},\"view\":{\"type\":\"object\",\"name\":\"CDSView\",\"id\":\"p1337\",\"attributes\":{\"filter\":{\"type\":\"object\",\"name\":\"AllIndices\",\"id\":\"p1338\"}}},\"glyph\":{\"type\":\"object\",\"name\":\"Line\",\"id\":\"p1333\",\"attributes\":{\"x\":{\"type\":\"field\",\"field\":\"Timestamp\"},\"y\":{\"type\":\"field\",\"field\":\"Value\"},\"line_color\":\"#1f77b4\",\"line_width\":2}},\"nonselection_glyph\":{\"type\":\"object\",\"name\":\"Line\",\"id\":\"p1334\",\"attributes\":{\"x\":{\"type\":\"field\",\"field\":\"Timestamp\"},\"y\":{\"type\":\"field\",\"field\":\"Value\"},\"line_color\":\"#1f77b4\",\"line_alpha\":0.1,\"line_width\":2}},\"muted_glyph\":{\"type\":\"object\",\"name\":\"Line\",\"id\":\"p1335\",\"attributes\":{\"x\":{\"type\":\"field\",\"field\":\"Timestamp\"},\"y\":{\"type\":\"field\",\"field\":\"Value\"},\"line_color\":\"#1f77b4\",\"line_alpha\":0.2,\"line_width\":2}}}},{\"type\":\"object\",\"name\":\"GlyphRenderer\",\"id\":\"p1347\",\"attributes\":{\"data_source\":{\"type\":\"object\",\"name\":\"ColumnDataSource\",\"id\":\"p1341\",\"attributes\":{\"selected\":{\"type\":\"object\",\"name\":\"Selection\",\"id\":\"p1342\",\"attributes\":{\"indices\":[],\"line_indices\":[]}},\"selection_policy\":{\"type\":\"object\",\"name\":\"UnionRenderers\",\"id\":\"p1343\"},\"data\":{\"type\":\"map\",\"entries\":[[\"x\",{\"type\":\"ndarray\",\"array\":{\"type\":\"bytes\",\"data\":\"AADAYUb3eEIAAIDHmPd4QgAAQC3r93hCAAAAkz34eEIAAMD4j/h4QgAAgF7i+HhCAABAxDT5eEIAAAAqh/l4QgAAwI/Z+XhCAACA9Sv6eEIAAEBbfvp4QgAAAMHQ+nhCAADAJiP7eEIAAICMdft4QgAAQPLH+3hCAAAAWBr8eEIAAMC9bPx4QgAAgCO//HhCAABAiRH9eEIAAADvY/14QgAAwFS2/XhCAACAugj+eEIAAEAgW/54QgAAAIat/nhCAADA6//+eEIAAIBRUv94QgAAQLek/3hCAAAAHff/eEIAAMCCSQB5QgAAgOibAHlC\"},\"shape\":[30],\"dtype\":\"float64\",\"order\":\"little\"}],[\"y1\",{\"type\":\"ndarray\",\"array\":{\"type\":\"bytes\",\"data\":\"cKD/nzxdIkC+LQBgCGkiQHMJAIBuRyJAXeL/PysMIkAxFwCAJlshQAEjAKAQiiFAJd//H1RBIUBbYgDA7DQhQJBfAGDDFSFAENv/fyFHIUBSEACAyikhQIIkAMAwWSFAAyYA4FAIJUASvv9fEcInQBswAAAE+ilAwxYAwHipKUDypP//nEIpQIEBACAgxChAsZL/n4RhJ0Brl//f+2kmQLS4/3/V7iVAPen/Pwd1JUCjYADANbglQHVPAMCP9iVA408AgL0VJkB6FQCA73wmQNxjAOAM4CZA3L3/f3omJ0D4MwDAnzcnQGuX/997BydA\"},\"shape\":[30],\"dtype\":\"float64\",\"order\":\"little\"}],[\"y2\",{\"type\":\"ndarray\",\"array\":{\"type\":\"bytes\",\"data\":\"vU0AwFi1JEBcZQAArYkkQLxKAIAYTCRArs//H2UTJEDqlf+/200jQNmX/58pZCNA757/f5yFI0AfWQAgFSMjQAoSAICBDiNAmi4A4GMaI0Du3v8/vRgjQDzG/5/2LyNAlQUAwNKvJkBbvP9fWmYpQIiq/79vQytAKEgAAIYqK0Dp1f9/fCQrQLDy/791VypArQ8A4IUYKUDMwv+fCAkoQDomAMBnHChAT6f/nxizJ0AHDAAAgTMoQO+e/3+cbShA9xAAIA9SKEClnf8/k9MoQKnm/7/0HilAZFEAoN3kKUAkvP9/wyMqQBak/39B9ylA\"},\"shape\":[30],\"dtype\":\"float64\",\"order\":\"little\"}]]}}},\"view\":{\"type\":\"object\",\"name\":\"CDSView\",\"id\":\"p1348\",\"attributes\":{\"filter\":{\"type\":\"object\",\"name\":\"AllIndices\",\"id\":\"p1349\"}}},\"glyph\":{\"type\":\"object\",\"name\":\"VArea\",\"id\":\"p1344\",\"attributes\":{\"x\":{\"type\":\"field\",\"field\":\"x\"},\"y1\":{\"type\":\"field\",\"field\":\"y1\"},\"y2\":{\"type\":\"field\",\"field\":\"y2\"},\"fill_color\":\"blue\",\"fill_alpha\":0.3}},\"nonselection_glyph\":{\"type\":\"object\",\"name\":\"VArea\",\"id\":\"p1345\",\"attributes\":{\"x\":{\"type\":\"field\",\"field\":\"x\"},\"y1\":{\"type\":\"field\",\"field\":\"y1\"},\"y2\":{\"type\":\"field\",\"field\":\"y2\"},\"fill_color\":\"blue\",\"fill_alpha\":0.1,\"hatch_alpha\":{\"type\":\"value\",\"value\":0.1}}},\"muted_glyph\":{\"type\":\"object\",\"name\":\"VArea\",\"id\":\"p1346\",\"attributes\":{\"x\":{\"type\":\"field\",\"field\":\"x\"},\"y1\":{\"type\":\"field\",\"field\":\"y1\"},\"y2\":{\"type\":\"field\",\"field\":\"y2\"},\"fill_color\":\"blue\",\"fill_alpha\":0.2,\"hatch_alpha\":{\"type\":\"value\",\"value\":0.2}}}}},{\"type\":\"object\",\"name\":\"GlyphRenderer\",\"id\":\"p1356\",\"attributes\":{\"data_source\":{\"type\":\"object\",\"name\":\"ColumnDataSource\",\"id\":\"p1350\",\"attributes\":{\"selected\":{\"type\":\"object\",\"name\":\"Selection\",\"id\":\"p1351\",\"attributes\":{\"indices\":[],\"line_indices\":[]}},\"selection_policy\":{\"type\":\"object\",\"name\":\"UnionRenderers\",\"id\":\"p1352\"},\"data\":{\"type\":\"map\"}}},\"view\":{\"type\":\"object\",\"name\":\"CDSView\",\"id\":\"p1357\",\"attributes\":{\"filter\":{\"type\":\"object\",\"name\":\"AllIndices\",\"id\":\"p1358\"}}},\"glyph\":{\"type\":\"object\",\"name\":\"VSpan\",\"id\":\"p1353\",\"attributes\":{\"x\":{\"type\":\"value\",\"value\":1715644800000.0},\"line_color\":{\"type\":\"value\",\"value\":\"green\"},\"line_width\":{\"type\":\"value\",\"value\":3},\"line_dash\":{\"type\":\"value\",\"value\":\"dashed\"}}},\"nonselection_glyph\":{\"type\":\"object\",\"name\":\"VSpan\",\"id\":\"p1354\",\"attributes\":{\"x\":{\"type\":\"value\",\"value\":1715644800000.0},\"line_color\":{\"type\":\"value\",\"value\":\"green\"},\"line_alpha\":{\"type\":\"value\",\"value\":0.1},\"line_width\":{\"type\":\"value\",\"value\":3},\"line_dash\":{\"type\":\"value\",\"value\":\"dashed\"}}},\"muted_glyph\":{\"type\":\"object\",\"name\":\"VSpan\",\"id\":\"p1355\",\"attributes\":{\"x\":{\"type\":\"value\",\"value\":1715644800000.0},\"line_color\":{\"type\":\"value\",\"value\":\"green\"},\"line_alpha\":{\"type\":\"value\",\"value\":0.2},\"line_width\":{\"type\":\"value\",\"value\":3},\"line_dash\":{\"type\":\"value\",\"value\":\"dashed\"}}}}},{\"type\":\"object\",\"name\":\"GlyphRenderer\",\"id\":\"p1365\",\"attributes\":{\"data_source\":{\"type\":\"object\",\"name\":\"ColumnDataSource\",\"id\":\"p1359\",\"attributes\":{\"selected\":{\"type\":\"object\",\"name\":\"Selection\",\"id\":\"p1360\",\"attributes\":{\"indices\":[],\"line_indices\":[]}},\"selection_policy\":{\"type\":\"object\",\"name\":\"UnionRenderers\",\"id\":\"p1361\"},\"data\":{\"type\":\"map\"}}},\"view\":{\"type\":\"object\",\"name\":\"CDSView\",\"id\":\"p1366\",\"attributes\":{\"filter\":{\"type\":\"object\",\"name\":\"AllIndices\",\"id\":\"p1367\"}}},\"glyph\":{\"type\":\"object\",\"name\":\"VSpan\",\"id\":\"p1362\",\"attributes\":{\"x\":{\"type\":\"value\",\"value\":1718150400000.0},\"line_color\":{\"type\":\"value\",\"value\":\"green\"},\"line_width\":{\"type\":\"value\",\"value\":3},\"line_dash\":{\"type\":\"value\",\"value\":\"dashed\"}}},\"nonselection_glyph\":{\"type\":\"object\",\"name\":\"VSpan\",\"id\":\"p1363\",\"attributes\":{\"x\":{\"type\":\"value\",\"value\":1718150400000.0},\"line_color\":{\"type\":\"value\",\"value\":\"green\"},\"line_alpha\":{\"type\":\"value\",\"value\":0.1},\"line_width\":{\"type\":\"value\",\"value\":3},\"line_dash\":{\"type\":\"value\",\"value\":\"dashed\"}}},\"muted_glyph\":{\"type\":\"object\",\"name\":\"VSpan\",\"id\":\"p1364\",\"attributes\":{\"x\":{\"type\":\"value\",\"value\":1718150400000.0},\"line_color\":{\"type\":\"value\",\"value\":\"green\"},\"line_alpha\":{\"type\":\"value\",\"value\":0.2},\"line_width\":{\"type\":\"value\",\"value\":3},\"line_dash\":{\"type\":\"value\",\"value\":\"dashed\"}}}}},{\"type\":\"object\",\"name\":\"GlyphRenderer\",\"id\":\"p1377\",\"attributes\":{\"data_source\":{\"type\":\"object\",\"name\":\"ColumnDataSource\",\"id\":\"p1368\",\"attributes\":{\"selected\":{\"type\":\"object\",\"name\":\"Selection\",\"id\":\"p1369\",\"attributes\":{\"indices\":[],\"line_indices\":[]}},\"selection_policy\":{\"type\":\"object\",\"name\":\"UnionRenderers\",\"id\":\"p1370\"},\"data\":{\"type\":\"map\",\"entries\":[[\"index\",{\"type\":\"ndarray\",\"array\":{\"type\":\"bytes\",\"data\":\"AAAAAAEAAAACAAAAAwAAAAQAAAAFAAAABgAAAAcAAAAIAAAACQAAAA==\"},\"shape\":[10],\"dtype\":\"int32\",\"order\":\"little\"}],[\"Timestamp\",{\"type\":\"ndarray\",\"array\":{\"type\":\"bytes\",\"data\":\"AABAW376eEIAAID1K/p4QgAAwI/Z+XhCAAAAKof5eEIAAEDENPl4QgAAAJM9+HhCAABALev3eEIAAIDHmPd4QgAAwGFG93hCAAAA/PP2eEI=\"},\"shape\":[10],\"dtype\":\"float64\",\"order\":\"little\"}],[\"Value\",{\"type\":\"ndarray\",\"array\":{\"type\":\"bytes\",\"data\":\"4XoUrkfhJEBmZmZmZuYjQGZmZmZmZiVAmpmZmZkZJECPwvUoXI8kQAAAAAAAACVAw/UoXI9CJEBmZmZmZmYkQOF6FK5HYSZAzczMzMzMJUA=\"},\"shape\":[10],\"dtype\":\"float64\",\"order\":\"little\"}],[\"item_id\",{\"type\":\"ndarray\",\"array\":[\"RIVN\",\"RIVN\",\"RIVN\",\"RIVN\",\"RIVN\",\"RIVN\",\"RIVN\",\"RIVN\",\"RIVN\",\"RIVN\"],\"shape\":[10],\"dtype\":\"object\",\"order\":\"little\"}]]}}},\"view\":{\"type\":\"object\",\"name\":\"CDSView\",\"id\":\"p1378\",\"attributes\":{\"filter\":{\"type\":\"object\",\"name\":\"AllIndices\",\"id\":\"p1379\"}}},\"glyph\":{\"type\":\"object\",\"name\":\"Line\",\"id\":\"p1374\",\"attributes\":{\"x\":{\"type\":\"field\",\"field\":\"Timestamp\"},\"y\":{\"type\":\"field\",\"field\":\"Value\"},\"line_color\":\"red\",\"line_width\":2}},\"nonselection_glyph\":{\"type\":\"object\",\"name\":\"Line\",\"id\":\"p1375\",\"attributes\":{\"x\":{\"type\":\"field\",\"field\":\"Timestamp\"},\"y\":{\"type\":\"field\",\"field\":\"Value\"},\"line_color\":\"red\",\"line_alpha\":0.1,\"line_width\":2}},\"muted_glyph\":{\"type\":\"object\",\"name\":\"Line\",\"id\":\"p1376\",\"attributes\":{\"x\":{\"type\":\"field\",\"field\":\"Timestamp\"},\"y\":{\"type\":\"field\",\"field\":\"Value\"},\"line_color\":\"red\",\"line_alpha\":0.2,\"line_width\":2}}}}],\"toolbar\":{\"type\":\"object\",\"name\":\"Toolbar\",\"id\":\"p1306\",\"attributes\":{\"tools\":[{\"type\":\"object\",\"name\":\"PanTool\",\"id\":\"p1319\"},{\"type\":\"object\",\"name\":\"WheelZoomTool\",\"id\":\"p1320\",\"attributes\":{\"renderers\":\"auto\"}},{\"type\":\"object\",\"name\":\"BoxZoomTool\",\"id\":\"p1321\",\"attributes\":{\"overlay\":{\"type\":\"object\",\"name\":\"BoxAnnotation\",\"id\":\"p1322\",\"attributes\":{\"syncable\":false,\"level\":\"overlay\",\"visible\":false,\"left\":{\"type\":\"number\",\"value\":\"nan\"},\"right\":{\"type\":\"number\",\"value\":\"nan\"},\"top\":{\"type\":\"number\",\"value\":\"nan\"},\"bottom\":{\"type\":\"number\",\"value\":\"nan\"},\"left_units\":\"canvas\",\"right_units\":\"canvas\",\"top_units\":\"canvas\",\"bottom_units\":\"canvas\",\"line_color\":\"black\",\"line_alpha\":1.0,\"line_width\":2,\"line_dash\":[4,4],\"fill_color\":\"lightgrey\",\"fill_alpha\":0.5}}}},{\"type\":\"object\",\"name\":\"SaveTool\",\"id\":\"p1327\"},{\"type\":\"object\",\"name\":\"ResetTool\",\"id\":\"p1328\"},{\"type\":\"object\",\"name\":\"HelpTool\",\"id\":\"p1329\"},{\"type\":\"object\",\"name\":\"HoverTool\",\"id\":\"p1292\",\"attributes\":{\"renderers\":[{\"id\":\"p1336\"},{\"id\":\"p1377\"}],\"tooltips\":[[\"Timestamp\",\"@Timestamp{%F}\"],[\"Value\",\"$@Value{0,0.00}\"]],\"formatters\":{\"type\":\"map\",\"entries\":[[\"@Timestamp\",\"datetime\"]]},\"mode\":\"vline\"}},{\"type\":\"object\",\"name\":\"CrosshairTool\",\"id\":\"p1293\"}]}},\"left\":[{\"type\":\"object\",\"name\":\"LinearAxis\",\"id\":\"p1314\",\"attributes\":{\"ticker\":{\"type\":\"object\",\"name\":\"BasicTicker\",\"id\":\"p1315\",\"attributes\":{\"mantissas\":[1,2,5]}},\"formatter\":{\"type\":\"object\",\"name\":\"NumeralTickFormatter\",\"id\":\"p1339\",\"attributes\":{\"format\":\"$0.00\"}},\"axis_label\":\"Stock Value\",\"major_label_policy\":{\"type\":\"object\",\"name\":\"AllLabels\",\"id\":\"p1317\"}}}],\"below\":[{\"type\":\"object\",\"name\":\"LinearAxis\",\"id\":\"p1309\",\"attributes\":{\"ticker\":{\"type\":\"object\",\"name\":\"BasicTicker\",\"id\":\"p1310\",\"attributes\":{\"mantissas\":[1,2,5]}},\"formatter\":{\"type\":\"object\",\"name\":\"DatetimeTickFormatter\",\"id\":\"p1340\",\"attributes\":{\"hours\":\"%d %b %Y\",\"days\":\"%d %b %Y\",\"months\":\"%d %b %Y\",\"years\":\"%d %b %Y\"}},\"axis_label\":\"Timestamp\",\"major_label_orientation\":1.0471975511965976,\"major_label_policy\":{\"type\":\"object\",\"name\":\"AllLabels\",\"id\":\"p1312\"}}}],\"center\":[{\"type\":\"object\",\"name\":\"Grid\",\"id\":\"p1313\",\"attributes\":{\"axis\":{\"id\":\"p1309\"}}},{\"type\":\"object\",\"name\":\"Grid\",\"id\":\"p1318\",\"attributes\":{\"dimension\":1,\"axis\":{\"id\":\"p1314\"}}}]}}]}};\n",
       "  const render_items = [{\"docid\":\"127cb8bb-f5db-4c48-bfb3-c37726f1e635\",\"roots\":{\"p1297\":\"a186f1eb-e048-42e4-a6c7-d4663d654a21\"},\"root_ids\":[\"p1297\"]}];\n",
       "  void root.Bokeh.embed.embed_items_notebook(docs_json, render_items);\n",
       "  }\n",
       "  if (root.Bokeh !== undefined) {\n",
       "    embed_document(root);\n",
       "  } else {\n",
       "    let attempts = 0;\n",
       "    const timer = setInterval(function(root) {\n",
       "      if (root.Bokeh !== undefined) {\n",
       "        clearInterval(timer);\n",
       "        embed_document(root);\n",
       "      } else {\n",
       "        attempts++;\n",
       "        if (attempts > 100) {\n",
       "          clearInterval(timer);\n",
       "          console.log(\"Bokeh: ERROR: Unable to run BokehJS code because BokehJS library is missing\");\n",
       "        }\n",
       "      }\n",
       "    }, 10, root)\n",
       "  }\n",
       "})(window);"
      ],
      "application/vnd.bokehjs_exec.v0+json": ""
     },
     "metadata": {
      "application/vnd.bokehjs_exec.v0+json": {
       "id": "p1297"
      }
     },
     "output_type": "display_data"
    },
    {
     "data": {
      "text/html": [
       "\n",
       "  <div id=\"ea2e64cf-2ad2-4da8-b0cd-111185d9585a\" data-root-id=\"p1394\" style=\"display: contents;\"></div>\n"
      ]
     },
     "metadata": {},
     "output_type": "display_data"
    },
    {
     "data": {
      "application/javascript": [
       "(function(root) {\n",
       "  function embed_document(root) {\n",
       "  const docs_json = {\"92982527-4844-4a1f-874c-127ce0ae4a80\":{\"version\":\"3.4.0\",\"title\":\"Bokeh Application\",\"roots\":[{\"type\":\"object\",\"name\":\"Figure\",\"id\":\"p1394\",\"attributes\":{\"sizing_mode\":\"stretch_width\",\"x_range\":{\"type\":\"object\",\"name\":\"DataRange1d\",\"id\":\"p1395\"},\"y_range\":{\"type\":\"object\",\"name\":\"DataRange1d\",\"id\":\"p1396\"},\"x_scale\":{\"type\":\"object\",\"name\":\"LinearScale\",\"id\":\"p1404\"},\"y_scale\":{\"type\":\"object\",\"name\":\"LinearScale\",\"id\":\"p1405\"},\"title\":{\"type\":\"object\",\"name\":\"Title\",\"id\":\"p1397\",\"attributes\":{\"text\":\"Stock Price Forecast for RIVN (Auto v6)\"}},\"renderers\":[{\"type\":\"object\",\"name\":\"GlyphRenderer\",\"id\":\"p1433\",\"attributes\":{\"data_source\":{\"type\":\"object\",\"name\":\"ColumnDataSource\",\"id\":\"p1391\",\"attributes\":{\"selected\":{\"type\":\"object\",\"name\":\"Selection\",\"id\":\"p1392\",\"attributes\":{\"indices\":[],\"line_indices\":[]}},\"selection_policy\":{\"type\":\"object\",\"name\":\"UnionRenderers\",\"id\":\"p1393\"},\"data\":{\"type\":\"map\",\"entries\":[[\"index\",{\"type\":\"ndarray\",\"array\":{\"type\":\"bytes\",\"data\":\"AAAAAAEAAAACAAAAAwAAAAQAAAAFAAAABgAAAAcAAAAIAAAACQAAAAoAAAALAAAADAAAAA0AAAAOAAAADwAAABAAAAARAAAAEgAAABMAAAAUAAAAFQAAABYAAAAXAAAAGAAAABkAAAAaAAAAGwAAABwAAAAdAAAAHgAAAB8AAAAgAAAAIQAAACIAAAAjAAAAJAAAACUAAAAmAAAAJwAAACgAAAApAAAAKgAAACsAAAAsAAAALQAAAC4AAAAvAAAAMAAAADEAAAAyAAAAMwAAADQAAAA1AAAANgAAADcAAAA4AAAAOQAAADoAAAA7AAAA\"},\"shape\":[60],\"dtype\":\"int32\",\"order\":\"little\"}],[\"Timestamp\",{\"type\":\"ndarray\",\"array\":{\"type\":\"bytes\",\"data\":\"AABAsMHpeEIAAAAWFOp4QgAAwHtm6nhCAACA4bjqeEIAAMASsOt4QgAAgHgC7HhCAABA3lTseEIAAABEp+x4QgAAwKn57HhCAAAA2/DteEIAAMBAQ+54QgAAgKaV7nhCAABADOjueEIAAAByOu94QgAAQKMx8HhCAAAACYTweEIAAMBu1vB4QgAAgNQo8XhCAABAOnvxeEIAAIBrcvJ4QgAAQNHE8nhCAAAANxfzeEIAAMCcafN4QgAAgAK883hCAADAM7P0eEIAAICZBfV4QgAAQP9X9XhCAAAAZar1eEIAAMDK/PV4QgAAAPzz9nhCAADAYUb3eEIAAIDHmPd4QgAAQC3r93hCAAAAkz34eEIAAMD4j/h4QgAAgF7i+HhCAABAxDT5eEIAAAAqh/l4QgAAwI/Z+XhCAACA9Sv6eEIAAEBbfvp4QgAAAMHQ+nhCAADAJiP7eEIAAICMdft4QgAAQPLH+3hCAAAAWBr8eEIAAMC9bPx4QgAAgCO//HhCAABAiRH9eEIAAADvY/14QgAAwFS2/XhCAACAugj+eEIAAEAgW/54QgAAAIat/nhCAADA6//+eEIAAIBRUv94QgAAQLek/3hCAAAAHff/eEIAAMCCSQB5QgAAgOibAHlC\"},\"shape\":[60],\"dtype\":\"float64\",\"order\":\"little\"}],[\"Value\",{\"type\":\"ndarray\",\"array\":{\"type\":\"bytes\",\"data\":\"hetRuB4FJUAUrkfhehQlQMP1KFyPQiRAMzMzMzMzJEDhehSuR+EkQMP1KFyPQiVACtejcD2KJECkcD0K1yMjQMP1KFyPQiJAzczMzMzMIEDsUbgehWshQHsUrkfheiFAKVyPwvWoIUDD9Shcj0IhQBSuR+F6lCFAFK5H4XoUIkCuR+F6FK4hQArXo3A9CiFAFK5H4XoUIkDD9Shcj8IiQM3MzMzMzCFA7FG4HoVrIkApXI/C9agjQKRwPQrXIyRAKVyPwvWoJEAAAAAAAIAkQArXo3A9iiRAcT0K16NwJEB7FK5H4fojQM3MzMzMzCVAPX7eAphiJUBFnd5ygR8lQMih3tLh7yRAXNfeIi2/JEAsoN5C9mMkQOjK3mL+MiRAvo/eUqAzJEBmht5CvREkQGyi3nJm2SNATczeEpOTI0BQf95iilsjQBzY3jK9SyNAJMTe0q1EI0AK197SSjIjQKWt3qpR4iJAhZTeSt1EIkCqrt5SfjQiQHni3upMUSJAhKzekllVI0CY0N6SnNUjQDN83rK+nSNAVNjeEpSdI0Aaot4iBM4jQNZ53hID9yNAg5neIrEiJEC8z94SwTokQCqd3gK2ciRAtNDeAmh9JEB90N4iEYMkQHt63rJHfiRA\"},\"shape\":[60],\"dtype\":\"float64\",\"order\":\"little\"}]]}}},\"view\":{\"type\":\"object\",\"name\":\"CDSView\",\"id\":\"p1434\",\"attributes\":{\"filter\":{\"type\":\"object\",\"name\":\"AllIndices\",\"id\":\"p1435\"}}},\"glyph\":{\"type\":\"object\",\"name\":\"Line\",\"id\":\"p1430\",\"attributes\":{\"x\":{\"type\":\"field\",\"field\":\"Timestamp\"},\"y\":{\"type\":\"field\",\"field\":\"Value\"},\"line_color\":\"#1f77b4\",\"line_width\":2}},\"nonselection_glyph\":{\"type\":\"object\",\"name\":\"Line\",\"id\":\"p1431\",\"attributes\":{\"x\":{\"type\":\"field\",\"field\":\"Timestamp\"},\"y\":{\"type\":\"field\",\"field\":\"Value\"},\"line_color\":\"#1f77b4\",\"line_alpha\":0.1,\"line_width\":2}},\"muted_glyph\":{\"type\":\"object\",\"name\":\"Line\",\"id\":\"p1432\",\"attributes\":{\"x\":{\"type\":\"field\",\"field\":\"Timestamp\"},\"y\":{\"type\":\"field\",\"field\":\"Value\"},\"line_color\":\"#1f77b4\",\"line_alpha\":0.2,\"line_width\":2}}}},{\"type\":\"object\",\"name\":\"GlyphRenderer\",\"id\":\"p1444\",\"attributes\":{\"data_source\":{\"type\":\"object\",\"name\":\"ColumnDataSource\",\"id\":\"p1438\",\"attributes\":{\"selected\":{\"type\":\"object\",\"name\":\"Selection\",\"id\":\"p1439\",\"attributes\":{\"indices\":[],\"line_indices\":[]}},\"selection_policy\":{\"type\":\"object\",\"name\":\"UnionRenderers\",\"id\":\"p1440\"},\"data\":{\"type\":\"map\",\"entries\":[[\"x\",{\"type\":\"ndarray\",\"array\":{\"type\":\"bytes\",\"data\":\"AADAYUb3eEIAAIDHmPd4QgAAQC3r93hCAAAAkz34eEIAAMD4j/h4QgAAgF7i+HhCAABAxDT5eEIAAAAqh/l4QgAAwI/Z+XhCAACA9Sv6eEIAAEBbfvp4QgAAAMHQ+nhCAADAJiP7eEIAAICMdft4QgAAQPLH+3hCAAAAWBr8eEIAAMC9bPx4QgAAgCO//HhCAABAiRH9eEIAAADvY/14QgAAwFS2/XhCAACAugj+eEIAAEAgW/54QgAAAIat/nhCAADA6//+eEIAAIBRUv94QgAAQLek/3hCAAAAHff/eEIAAMCCSQB5QgAAgOibAHlC\"},\"shape\":[30],\"dtype\":\"float64\",\"order\":\"little\"}],[\"y1\",{\"type\":\"ndarray\",\"array\":{\"type\":\"bytes\",\"data\":\"maR6ilpKJEBWT1jafsIjQEAVGKUwbyNAJHWO7qHsIkBydqWGkX4iQB1Qh4a6KyJAvYLTwNEZIkBr181J4sEhQFR7fFyKXiFAzj4a820UIUBOEDRJMc4gQFhcE7/+wCBAVpZA12+2IEAWHgYsV40gQIHIAv8KMiBAepa0DkPuHkB2E3MsvZUeQHgrOXFk3h5AaEU85iBeIECq0Prap88gQEuKnIt1dSBAQfzImD9QIEDWBMk0uYAgQGQ/eFFClCBAYyWMpFqxIEA2mM2wBbMgQIb8PGNN5iBAeEBUM9PTIEBkEs1FE7wgQGg5ceHMmCBA\"},\"shape\":[30],\"dtype\":\"float64\",\"order\":\"little\"}],[\"y2\",{\"type\":\"ndarray\",\"array\":{\"type\":\"bytes\",\"data\":\"j6pCW3xkJkDmE2Xb8pgmQJ44pQDdrSZAkxYvtyeQJkAU/hef0TomQD6mNY8pNSZA7vPpJPZWJkC/re+r7XAmQCYEQWmndyZAblSjUvwtJkByiomcmfwlQEDuqQ5y/SVAdcZ8ntPsJUCNSbd57+QlQMhPulY3qCVAOv5iLhc/JUDsy4NHbBslQJbcIHWGUyVAJx6BH/NUJkCIgMJaSMAmQIr0IJr3uyZA2n30THbqJkDihvRwECsnQKzSRKRoaydAujcxIUuZJ0ClXO9EfscnQIJ8gCK2+ydApjxp8uIlKEBKWvDvjEooQOTxS+TdZyhA\"},\"shape\":[30],\"dtype\":\"float64\",\"order\":\"little\"}]]}}},\"view\":{\"type\":\"object\",\"name\":\"CDSView\",\"id\":\"p1445\",\"attributes\":{\"filter\":{\"type\":\"object\",\"name\":\"AllIndices\",\"id\":\"p1446\"}}},\"glyph\":{\"type\":\"object\",\"name\":\"VArea\",\"id\":\"p1441\",\"attributes\":{\"x\":{\"type\":\"field\",\"field\":\"x\"},\"y1\":{\"type\":\"field\",\"field\":\"y1\"},\"y2\":{\"type\":\"field\",\"field\":\"y2\"},\"fill_color\":\"blue\",\"fill_alpha\":0.3}},\"nonselection_glyph\":{\"type\":\"object\",\"name\":\"VArea\",\"id\":\"p1442\",\"attributes\":{\"x\":{\"type\":\"field\",\"field\":\"x\"},\"y1\":{\"type\":\"field\",\"field\":\"y1\"},\"y2\":{\"type\":\"field\",\"field\":\"y2\"},\"fill_color\":\"blue\",\"fill_alpha\":0.1,\"hatch_alpha\":{\"type\":\"value\",\"value\":0.1}}},\"muted_glyph\":{\"type\":\"object\",\"name\":\"VArea\",\"id\":\"p1443\",\"attributes\":{\"x\":{\"type\":\"field\",\"field\":\"x\"},\"y1\":{\"type\":\"field\",\"field\":\"y1\"},\"y2\":{\"type\":\"field\",\"field\":\"y2\"},\"fill_color\":\"blue\",\"fill_alpha\":0.2,\"hatch_alpha\":{\"type\":\"value\",\"value\":0.2}}}}},{\"type\":\"object\",\"name\":\"GlyphRenderer\",\"id\":\"p1453\",\"attributes\":{\"data_source\":{\"type\":\"object\",\"name\":\"ColumnDataSource\",\"id\":\"p1447\",\"attributes\":{\"selected\":{\"type\":\"object\",\"name\":\"Selection\",\"id\":\"p1448\",\"attributes\":{\"indices\":[],\"line_indices\":[]}},\"selection_policy\":{\"type\":\"object\",\"name\":\"UnionRenderers\",\"id\":\"p1449\"},\"data\":{\"type\":\"map\"}}},\"view\":{\"type\":\"object\",\"name\":\"CDSView\",\"id\":\"p1454\",\"attributes\":{\"filter\":{\"type\":\"object\",\"name\":\"AllIndices\",\"id\":\"p1455\"}}},\"glyph\":{\"type\":\"object\",\"name\":\"VSpan\",\"id\":\"p1450\",\"attributes\":{\"x\":{\"type\":\"value\",\"value\":1715644800000.0},\"line_color\":{\"type\":\"value\",\"value\":\"green\"},\"line_width\":{\"type\":\"value\",\"value\":3},\"line_dash\":{\"type\":\"value\",\"value\":\"dashed\"}}},\"nonselection_glyph\":{\"type\":\"object\",\"name\":\"VSpan\",\"id\":\"p1451\",\"attributes\":{\"x\":{\"type\":\"value\",\"value\":1715644800000.0},\"line_color\":{\"type\":\"value\",\"value\":\"green\"},\"line_alpha\":{\"type\":\"value\",\"value\":0.1},\"line_width\":{\"type\":\"value\",\"value\":3},\"line_dash\":{\"type\":\"value\",\"value\":\"dashed\"}}},\"muted_glyph\":{\"type\":\"object\",\"name\":\"VSpan\",\"id\":\"p1452\",\"attributes\":{\"x\":{\"type\":\"value\",\"value\":1715644800000.0},\"line_color\":{\"type\":\"value\",\"value\":\"green\"},\"line_alpha\":{\"type\":\"value\",\"value\":0.2},\"line_width\":{\"type\":\"value\",\"value\":3},\"line_dash\":{\"type\":\"value\",\"value\":\"dashed\"}}}}},{\"type\":\"object\",\"name\":\"GlyphRenderer\",\"id\":\"p1462\",\"attributes\":{\"data_source\":{\"type\":\"object\",\"name\":\"ColumnDataSource\",\"id\":\"p1456\",\"attributes\":{\"selected\":{\"type\":\"object\",\"name\":\"Selection\",\"id\":\"p1457\",\"attributes\":{\"indices\":[],\"line_indices\":[]}},\"selection_policy\":{\"type\":\"object\",\"name\":\"UnionRenderers\",\"id\":\"p1458\"},\"data\":{\"type\":\"map\"}}},\"view\":{\"type\":\"object\",\"name\":\"CDSView\",\"id\":\"p1463\",\"attributes\":{\"filter\":{\"type\":\"object\",\"name\":\"AllIndices\",\"id\":\"p1464\"}}},\"glyph\":{\"type\":\"object\",\"name\":\"VSpan\",\"id\":\"p1459\",\"attributes\":{\"x\":{\"type\":\"value\",\"value\":1718150400000.0},\"line_color\":{\"type\":\"value\",\"value\":\"green\"},\"line_width\":{\"type\":\"value\",\"value\":3},\"line_dash\":{\"type\":\"value\",\"value\":\"dashed\"}}},\"nonselection_glyph\":{\"type\":\"object\",\"name\":\"VSpan\",\"id\":\"p1460\",\"attributes\":{\"x\":{\"type\":\"value\",\"value\":1718150400000.0},\"line_color\":{\"type\":\"value\",\"value\":\"green\"},\"line_alpha\":{\"type\":\"value\",\"value\":0.1},\"line_width\":{\"type\":\"value\",\"value\":3},\"line_dash\":{\"type\":\"value\",\"value\":\"dashed\"}}},\"muted_glyph\":{\"type\":\"object\",\"name\":\"VSpan\",\"id\":\"p1461\",\"attributes\":{\"x\":{\"type\":\"value\",\"value\":1718150400000.0},\"line_color\":{\"type\":\"value\",\"value\":\"green\"},\"line_alpha\":{\"type\":\"value\",\"value\":0.2},\"line_width\":{\"type\":\"value\",\"value\":3},\"line_dash\":{\"type\":\"value\",\"value\":\"dashed\"}}}}},{\"type\":\"object\",\"name\":\"GlyphRenderer\",\"id\":\"p1474\",\"attributes\":{\"data_source\":{\"type\":\"object\",\"name\":\"ColumnDataSource\",\"id\":\"p1465\",\"attributes\":{\"selected\":{\"type\":\"object\",\"name\":\"Selection\",\"id\":\"p1466\",\"attributes\":{\"indices\":[],\"line_indices\":[]}},\"selection_policy\":{\"type\":\"object\",\"name\":\"UnionRenderers\",\"id\":\"p1467\"},\"data\":{\"type\":\"map\",\"entries\":[[\"index\",{\"type\":\"ndarray\",\"array\":{\"type\":\"bytes\",\"data\":\"AAAAAAEAAAACAAAAAwAAAAQAAAAFAAAABgAAAAcAAAAIAAAACQAAAA==\"},\"shape\":[10],\"dtype\":\"int32\",\"order\":\"little\"}],[\"Timestamp\",{\"type\":\"ndarray\",\"array\":{\"type\":\"bytes\",\"data\":\"AABAW376eEIAAID1K/p4QgAAwI/Z+XhCAAAAKof5eEIAAEDENPl4QgAAAJM9+HhCAABALev3eEIAAIDHmPd4QgAAwGFG93hCAAAA/PP2eEI=\"},\"shape\":[10],\"dtype\":\"float64\",\"order\":\"little\"}],[\"Value\",{\"type\":\"ndarray\",\"array\":{\"type\":\"bytes\",\"data\":\"4XoUrkfhJEBmZmZmZuYjQGZmZmZmZiVAmpmZmZkZJECPwvUoXI8kQAAAAAAAACVAw/UoXI9CJEBmZmZmZmYkQOF6FK5HYSZAzczMzMzMJUA=\"},\"shape\":[10],\"dtype\":\"float64\",\"order\":\"little\"}],[\"item_id\",{\"type\":\"ndarray\",\"array\":[\"RIVN\",\"RIVN\",\"RIVN\",\"RIVN\",\"RIVN\",\"RIVN\",\"RIVN\",\"RIVN\",\"RIVN\",\"RIVN\"],\"shape\":[10],\"dtype\":\"object\",\"order\":\"little\"}]]}}},\"view\":{\"type\":\"object\",\"name\":\"CDSView\",\"id\":\"p1475\",\"attributes\":{\"filter\":{\"type\":\"object\",\"name\":\"AllIndices\",\"id\":\"p1476\"}}},\"glyph\":{\"type\":\"object\",\"name\":\"Line\",\"id\":\"p1471\",\"attributes\":{\"x\":{\"type\":\"field\",\"field\":\"Timestamp\"},\"y\":{\"type\":\"field\",\"field\":\"Value\"},\"line_color\":\"red\",\"line_width\":2}},\"nonselection_glyph\":{\"type\":\"object\",\"name\":\"Line\",\"id\":\"p1472\",\"attributes\":{\"x\":{\"type\":\"field\",\"field\":\"Timestamp\"},\"y\":{\"type\":\"field\",\"field\":\"Value\"},\"line_color\":\"red\",\"line_alpha\":0.1,\"line_width\":2}},\"muted_glyph\":{\"type\":\"object\",\"name\":\"Line\",\"id\":\"p1473\",\"attributes\":{\"x\":{\"type\":\"field\",\"field\":\"Timestamp\"},\"y\":{\"type\":\"field\",\"field\":\"Value\"},\"line_color\":\"red\",\"line_alpha\":0.2,\"line_width\":2}}}}],\"toolbar\":{\"type\":\"object\",\"name\":\"Toolbar\",\"id\":\"p1403\",\"attributes\":{\"tools\":[{\"type\":\"object\",\"name\":\"PanTool\",\"id\":\"p1416\"},{\"type\":\"object\",\"name\":\"WheelZoomTool\",\"id\":\"p1417\",\"attributes\":{\"renderers\":\"auto\"}},{\"type\":\"object\",\"name\":\"BoxZoomTool\",\"id\":\"p1418\",\"attributes\":{\"overlay\":{\"type\":\"object\",\"name\":\"BoxAnnotation\",\"id\":\"p1419\",\"attributes\":{\"syncable\":false,\"level\":\"overlay\",\"visible\":false,\"left\":{\"type\":\"number\",\"value\":\"nan\"},\"right\":{\"type\":\"number\",\"value\":\"nan\"},\"top\":{\"type\":\"number\",\"value\":\"nan\"},\"bottom\":{\"type\":\"number\",\"value\":\"nan\"},\"left_units\":\"canvas\",\"right_units\":\"canvas\",\"top_units\":\"canvas\",\"bottom_units\":\"canvas\",\"line_color\":\"black\",\"line_alpha\":1.0,\"line_width\":2,\"line_dash\":[4,4],\"fill_color\":\"lightgrey\",\"fill_alpha\":0.5}}}},{\"type\":\"object\",\"name\":\"SaveTool\",\"id\":\"p1424\"},{\"type\":\"object\",\"name\":\"ResetTool\",\"id\":\"p1425\"},{\"type\":\"object\",\"name\":\"HelpTool\",\"id\":\"p1426\"},{\"type\":\"object\",\"name\":\"HoverTool\",\"id\":\"p1389\",\"attributes\":{\"renderers\":[{\"id\":\"p1433\"},{\"id\":\"p1474\"}],\"tooltips\":[[\"Timestamp\",\"@Timestamp{%F}\"],[\"Value\",\"$@Value{0,0.00}\"]],\"formatters\":{\"type\":\"map\",\"entries\":[[\"@Timestamp\",\"datetime\"]]},\"mode\":\"vline\"}},{\"type\":\"object\",\"name\":\"CrosshairTool\",\"id\":\"p1390\"}]}},\"left\":[{\"type\":\"object\",\"name\":\"LinearAxis\",\"id\":\"p1411\",\"attributes\":{\"ticker\":{\"type\":\"object\",\"name\":\"BasicTicker\",\"id\":\"p1412\",\"attributes\":{\"mantissas\":[1,2,5]}},\"formatter\":{\"type\":\"object\",\"name\":\"NumeralTickFormatter\",\"id\":\"p1436\",\"attributes\":{\"format\":\"$0.00\"}},\"axis_label\":\"Stock Value\",\"major_label_policy\":{\"type\":\"object\",\"name\":\"AllLabels\",\"id\":\"p1414\"}}}],\"below\":[{\"type\":\"object\",\"name\":\"LinearAxis\",\"id\":\"p1406\",\"attributes\":{\"ticker\":{\"type\":\"object\",\"name\":\"BasicTicker\",\"id\":\"p1407\",\"attributes\":{\"mantissas\":[1,2,5]}},\"formatter\":{\"type\":\"object\",\"name\":\"DatetimeTickFormatter\",\"id\":\"p1437\",\"attributes\":{\"hours\":\"%d %b %Y\",\"days\":\"%d %b %Y\",\"months\":\"%d %b %Y\",\"years\":\"%d %b %Y\"}},\"axis_label\":\"Timestamp\",\"major_label_orientation\":1.0471975511965976,\"major_label_policy\":{\"type\":\"object\",\"name\":\"AllLabels\",\"id\":\"p1409\"}}}],\"center\":[{\"type\":\"object\",\"name\":\"Grid\",\"id\":\"p1410\",\"attributes\":{\"axis\":{\"id\":\"p1406\"}}},{\"type\":\"object\",\"name\":\"Grid\",\"id\":\"p1415\",\"attributes\":{\"dimension\":1,\"axis\":{\"id\":\"p1411\"}}}]}}]}};\n",
       "  const render_items = [{\"docid\":\"92982527-4844-4a1f-874c-127ce0ae4a80\",\"roots\":{\"p1394\":\"ea2e64cf-2ad2-4da8-b0cd-111185d9585a\"},\"root_ids\":[\"p1394\"]}];\n",
       "  void root.Bokeh.embed.embed_items_notebook(docs_json, render_items);\n",
       "  }\n",
       "  if (root.Bokeh !== undefined) {\n",
       "    embed_document(root);\n",
       "  } else {\n",
       "    let attempts = 0;\n",
       "    const timer = setInterval(function(root) {\n",
       "      if (root.Bokeh !== undefined) {\n",
       "        clearInterval(timer);\n",
       "        embed_document(root);\n",
       "      } else {\n",
       "        attempts++;\n",
       "        if (attempts > 100) {\n",
       "          clearInterval(timer);\n",
       "          console.log(\"Bokeh: ERROR: Unable to run BokehJS code because BokehJS library is missing\");\n",
       "        }\n",
       "      }\n",
       "    }, 10, root)\n",
       "  }\n",
       "})(window);"
      ],
      "application/vnd.bokehjs_exec.v0+json": ""
     },
     "metadata": {
      "application/vnd.bokehjs_exec.v0+json": {
       "id": "p1394"
      }
     },
     "output_type": "display_data"
    },
    {
     "data": {
      "text/html": [
       "\n",
       "  <div id=\"c48aa18b-7831-4584-a523-fc20228e315e\" data-root-id=\"p1491\" style=\"display: contents;\"></div>\n"
      ]
     },
     "metadata": {},
     "output_type": "display_data"
    },
    {
     "data": {
      "application/javascript": [
       "(function(root) {\n",
       "  function embed_document(root) {\n",
       "  const docs_json = {\"f5d76e88-b7e3-4757-b2c2-20ffa5bf2b9e\":{\"version\":\"3.4.0\",\"title\":\"Bokeh Application\",\"roots\":[{\"type\":\"object\",\"name\":\"Figure\",\"id\":\"p1491\",\"attributes\":{\"sizing_mode\":\"stretch_width\",\"x_range\":{\"type\":\"object\",\"name\":\"DataRange1d\",\"id\":\"p1492\"},\"y_range\":{\"type\":\"object\",\"name\":\"DataRange1d\",\"id\":\"p1493\"},\"x_scale\":{\"type\":\"object\",\"name\":\"LinearScale\",\"id\":\"p1501\"},\"y_scale\":{\"type\":\"object\",\"name\":\"LinearScale\",\"id\":\"p1502\"},\"title\":{\"type\":\"object\",\"name\":\"Title\",\"id\":\"p1494\",\"attributes\":{\"text\":\"Stock Price Forecast for RIVN (Auto v7)\"}},\"renderers\":[{\"type\":\"object\",\"name\":\"GlyphRenderer\",\"id\":\"p1530\",\"attributes\":{\"data_source\":{\"type\":\"object\",\"name\":\"ColumnDataSource\",\"id\":\"p1488\",\"attributes\":{\"selected\":{\"type\":\"object\",\"name\":\"Selection\",\"id\":\"p1489\",\"attributes\":{\"indices\":[],\"line_indices\":[]}},\"selection_policy\":{\"type\":\"object\",\"name\":\"UnionRenderers\",\"id\":\"p1490\"},\"data\":{\"type\":\"map\",\"entries\":[[\"index\",{\"type\":\"ndarray\",\"array\":{\"type\":\"bytes\",\"data\":\"AAAAAAEAAAACAAAAAwAAAAQAAAAFAAAABgAAAAcAAAAIAAAACQAAAAoAAAALAAAADAAAAA0AAAAOAAAADwAAABAAAAARAAAAEgAAABMAAAAUAAAAFQAAABYAAAAXAAAAGAAAABkAAAAaAAAAGwAAABwAAAAdAAAAHgAAAB8AAAAgAAAAIQAAACIAAAAjAAAAJAAAACUAAAAmAAAAJwAAACgAAAApAAAAKgAAACsAAAAsAAAALQAAAC4AAAAvAAAAMAAAADEAAAAyAAAAMwAAADQAAAA1AAAANgAAADcAAAA4AAAAOQAAADoAAAA7AAAA\"},\"shape\":[60],\"dtype\":\"int32\",\"order\":\"little\"}],[\"Timestamp\",{\"type\":\"ndarray\",\"array\":{\"type\":\"bytes\",\"data\":\"AABAsMHpeEIAAAAWFOp4QgAAwHtm6nhCAACA4bjqeEIAAMASsOt4QgAAgHgC7HhCAABA3lTseEIAAABEp+x4QgAAwKn57HhCAAAA2/DteEIAAMBAQ+54QgAAgKaV7nhCAABADOjueEIAAAByOu94QgAAQKMx8HhCAAAACYTweEIAAMBu1vB4QgAAgNQo8XhCAABAOnvxeEIAAIBrcvJ4QgAAQNHE8nhCAAAANxfzeEIAAMCcafN4QgAAgAK883hCAADAM7P0eEIAAICZBfV4QgAAQP9X9XhCAAAAZar1eEIAAMDK/PV4QgAAAPzz9nhCAADAYUb3eEIAAIDHmPd4QgAAQC3r93hCAAAAkz34eEIAAMD4j/h4QgAAgF7i+HhCAABAxDT5eEIAAAAqh/l4QgAAwI/Z+XhCAACA9Sv6eEIAAEBbfvp4QgAAAMHQ+nhCAADAJiP7eEIAAICMdft4QgAAQPLH+3hCAAAAWBr8eEIAAMC9bPx4QgAAgCO//HhCAABAiRH9eEIAAADvY/14QgAAwFS2/XhCAACAugj+eEIAAEAgW/54QgAAAIat/nhCAADA6//+eEIAAIBRUv94QgAAQLek/3hCAAAAHff/eEIAAMCCSQB5QgAAgOibAHlC\"},\"shape\":[60],\"dtype\":\"float64\",\"order\":\"little\"}],[\"Value\",{\"type\":\"ndarray\",\"array\":{\"type\":\"bytes\",\"data\":\"hetRuB4FJUAUrkfhehQlQMP1KFyPQiRAMzMzMzMzJEDhehSuR+EkQMP1KFyPQiVACtejcD2KJECkcD0K1yMjQMP1KFyPQiJAzczMzMzMIEDsUbgehWshQHsUrkfheiFAKVyPwvWoIUDD9Shcj0IhQBSuR+F6lCFAFK5H4XoUIkCuR+F6FK4hQArXo3A9CiFAFK5H4XoUIkDD9Shcj8IiQM3MzMzMzCFA7FG4HoVrIkApXI/C9agjQKRwPQrXIyRAKVyPwvWoJEAAAAAAAIAkQArXo3A9iiRAcT0K16NwJEB7FK5H4fojQM3MzMzMzCVA3XXe4hvRJEAYz95y/KgkQOJ+3qKcgiRAhnzeAmFzJEDint4CLUkkQJ2G3iLUZCRAHqjeokR0JEAmp96yHWUkQILJ3rIpaiRAS4be0rFrJEA4dd5C13okQPJ53oKOiyRA9qLeot+gJUDYfN5Sw/glQNiv3iI8OiZAkZHewmISJkCtxN4Cp94lQOh33jK1SCVA1bne0uPbJEDY396yNLAkQNLD3oLL6yRAbKLecqbxJEA2ot6SDzYlQO7G3jIXcyVA2L/eUmSyJUDXnN6yEwUmQHLe3gLgQSZAWJ7e0vOrJkBIgN5SsZomQIG23kJBlSZA\"},\"shape\":[60],\"dtype\":\"float64\",\"order\":\"little\"}]]}}},\"view\":{\"type\":\"object\",\"name\":\"CDSView\",\"id\":\"p1531\",\"attributes\":{\"filter\":{\"type\":\"object\",\"name\":\"AllIndices\",\"id\":\"p1532\"}}},\"glyph\":{\"type\":\"object\",\"name\":\"Line\",\"id\":\"p1527\",\"attributes\":{\"x\":{\"type\":\"field\",\"field\":\"Timestamp\"},\"y\":{\"type\":\"field\",\"field\":\"Value\"},\"line_color\":\"#1f77b4\",\"line_width\":2}},\"nonselection_glyph\":{\"type\":\"object\",\"name\":\"Line\",\"id\":\"p1528\",\"attributes\":{\"x\":{\"type\":\"field\",\"field\":\"Timestamp\"},\"y\":{\"type\":\"field\",\"field\":\"Value\"},\"line_color\":\"#1f77b4\",\"line_alpha\":0.1,\"line_width\":2}},\"muted_glyph\":{\"type\":\"object\",\"name\":\"Line\",\"id\":\"p1529\",\"attributes\":{\"x\":{\"type\":\"field\",\"field\":\"Timestamp\"},\"y\":{\"type\":\"field\",\"field\":\"Value\"},\"line_color\":\"#1f77b4\",\"line_alpha\":0.2,\"line_width\":2}}}},{\"type\":\"object\",\"name\":\"GlyphRenderer\",\"id\":\"p1541\",\"attributes\":{\"data_source\":{\"type\":\"object\",\"name\":\"ColumnDataSource\",\"id\":\"p1535\",\"attributes\":{\"selected\":{\"type\":\"object\",\"name\":\"Selection\",\"id\":\"p1536\",\"attributes\":{\"indices\":[],\"line_indices\":[]}},\"selection_policy\":{\"type\":\"object\",\"name\":\"UnionRenderers\",\"id\":\"p1537\"},\"data\":{\"type\":\"map\",\"entries\":[[\"x\",{\"type\":\"ndarray\",\"array\":{\"type\":\"bytes\",\"data\":\"AADAYUb3eEIAAIDHmPd4QgAAQC3r93hCAAAAkz34eEIAAMD4j/h4QgAAgF7i+HhCAABAxDT5eEIAAAAqh/l4QgAAwI/Z+XhCAACA9Sv6eEIAAEBbfvp4QgAAAMHQ+nhCAADAJiP7eEIAAICMdft4QgAAQPLH+3hCAAAAWBr8eEIAAMC9bPx4QgAAgCO//HhCAABAiRH9eEIAAADvY/14QgAAwFS2/XhCAACAugj+eEIAAEAgW/54QgAAAIat/nhCAADA6//+eEIAAIBRUv94QgAAQLek/3hCAAAAHff/eEIAAMCCSQB5QgAAgOibAHlC\"},\"shape\":[30],\"dtype\":\"float64\",\"order\":\"little\"}],[\"y1\",{\"type\":\"ndarray\",\"array\":{\"type\":\"bytes\",\"data\":\"Ot96av+6I0DQZFharmojQAU/GNVRLiNA4l+OTsnuIkCuoqXGeaciQDCUh+ZNrSJAQr3TMCuJIkCs+c3Z4mAiQKlOfFw0SCJAMh0aA3IyIkD9vzMJxi4iQOw2E8dsKCJAAkBAF4Q3I0ArdQb8EmsjQBzqAu+GiyNAswdaV8dRI0Dcejl+LuIiQOCUnLiWZiJAAFE8JrTqIUCOAPv6lJohQAKcnLtUoiFAPxnJuM+SIUCU4sik+OIhQEqFeCHYDSJApiqMFEtFIkC+lc2gvowiQKLcPHPIviJAFvJT07XtIkCnN80VVO8iQEA0ceHnwyJA\"},\"shape\":[30],\"dtype\":\"float64\",\"order\":\"little\"}],[\"y2\",{\"type\":\"ndarray\",\"array\":{\"type\":\"bytes\",\"data\":\"G25CC5XPJUDBJGWLduolQPt9paD58yVA5hYvB0oFJkC2tRe/NPIlQMTANZ+yKiZAVrjpVGp4JkAane/bAHYmQA4KQXlciiZA2xGjEomnJkD9bYmsgsUmQOI7ql6/4yZAlP98XtgXKECA3rZJZJUoQCViuiZb5ChAnPliXmvjKEA1/YMXrr4oQLy2IL2GRChARO6A/0XmJ0BCVcIKh7EnQMzpINq/GyhA7m70fIBJKEC4S/RgsqMoQGjtRJRI/ShAfi4xgXM6KUBiiu+khoQpQMaUgAIPzClAXi5pwrFPKkAdOfC//o0qQBz1SwT1eypA\"},\"shape\":[30],\"dtype\":\"float64\",\"order\":\"little\"}]]}}},\"view\":{\"type\":\"object\",\"name\":\"CDSView\",\"id\":\"p1542\",\"attributes\":{\"filter\":{\"type\":\"object\",\"name\":\"AllIndices\",\"id\":\"p1543\"}}},\"glyph\":{\"type\":\"object\",\"name\":\"VArea\",\"id\":\"p1538\",\"attributes\":{\"x\":{\"type\":\"field\",\"field\":\"x\"},\"y1\":{\"type\":\"field\",\"field\":\"y1\"},\"y2\":{\"type\":\"field\",\"field\":\"y2\"},\"fill_color\":\"blue\",\"fill_alpha\":0.3}},\"nonselection_glyph\":{\"type\":\"object\",\"name\":\"VArea\",\"id\":\"p1539\",\"attributes\":{\"x\":{\"type\":\"field\",\"field\":\"x\"},\"y1\":{\"type\":\"field\",\"field\":\"y1\"},\"y2\":{\"type\":\"field\",\"field\":\"y2\"},\"fill_color\":\"blue\",\"fill_alpha\":0.1,\"hatch_alpha\":{\"type\":\"value\",\"value\":0.1}}},\"muted_glyph\":{\"type\":\"object\",\"name\":\"VArea\",\"id\":\"p1540\",\"attributes\":{\"x\":{\"type\":\"field\",\"field\":\"x\"},\"y1\":{\"type\":\"field\",\"field\":\"y1\"},\"y2\":{\"type\":\"field\",\"field\":\"y2\"},\"fill_color\":\"blue\",\"fill_alpha\":0.2,\"hatch_alpha\":{\"type\":\"value\",\"value\":0.2}}}}},{\"type\":\"object\",\"name\":\"GlyphRenderer\",\"id\":\"p1550\",\"attributes\":{\"data_source\":{\"type\":\"object\",\"name\":\"ColumnDataSource\",\"id\":\"p1544\",\"attributes\":{\"selected\":{\"type\":\"object\",\"name\":\"Selection\",\"id\":\"p1545\",\"attributes\":{\"indices\":[],\"line_indices\":[]}},\"selection_policy\":{\"type\":\"object\",\"name\":\"UnionRenderers\",\"id\":\"p1546\"},\"data\":{\"type\":\"map\"}}},\"view\":{\"type\":\"object\",\"name\":\"CDSView\",\"id\":\"p1551\",\"attributes\":{\"filter\":{\"type\":\"object\",\"name\":\"AllIndices\",\"id\":\"p1552\"}}},\"glyph\":{\"type\":\"object\",\"name\":\"VSpan\",\"id\":\"p1547\",\"attributes\":{\"x\":{\"type\":\"value\",\"value\":1715644800000.0},\"line_color\":{\"type\":\"value\",\"value\":\"green\"},\"line_width\":{\"type\":\"value\",\"value\":3},\"line_dash\":{\"type\":\"value\",\"value\":\"dashed\"}}},\"nonselection_glyph\":{\"type\":\"object\",\"name\":\"VSpan\",\"id\":\"p1548\",\"attributes\":{\"x\":{\"type\":\"value\",\"value\":1715644800000.0},\"line_color\":{\"type\":\"value\",\"value\":\"green\"},\"line_alpha\":{\"type\":\"value\",\"value\":0.1},\"line_width\":{\"type\":\"value\",\"value\":3},\"line_dash\":{\"type\":\"value\",\"value\":\"dashed\"}}},\"muted_glyph\":{\"type\":\"object\",\"name\":\"VSpan\",\"id\":\"p1549\",\"attributes\":{\"x\":{\"type\":\"value\",\"value\":1715644800000.0},\"line_color\":{\"type\":\"value\",\"value\":\"green\"},\"line_alpha\":{\"type\":\"value\",\"value\":0.2},\"line_width\":{\"type\":\"value\",\"value\":3},\"line_dash\":{\"type\":\"value\",\"value\":\"dashed\"}}}}},{\"type\":\"object\",\"name\":\"GlyphRenderer\",\"id\":\"p1559\",\"attributes\":{\"data_source\":{\"type\":\"object\",\"name\":\"ColumnDataSource\",\"id\":\"p1553\",\"attributes\":{\"selected\":{\"type\":\"object\",\"name\":\"Selection\",\"id\":\"p1554\",\"attributes\":{\"indices\":[],\"line_indices\":[]}},\"selection_policy\":{\"type\":\"object\",\"name\":\"UnionRenderers\",\"id\":\"p1555\"},\"data\":{\"type\":\"map\"}}},\"view\":{\"type\":\"object\",\"name\":\"CDSView\",\"id\":\"p1560\",\"attributes\":{\"filter\":{\"type\":\"object\",\"name\":\"AllIndices\",\"id\":\"p1561\"}}},\"glyph\":{\"type\":\"object\",\"name\":\"VSpan\",\"id\":\"p1556\",\"attributes\":{\"x\":{\"type\":\"value\",\"value\":1718150400000.0},\"line_color\":{\"type\":\"value\",\"value\":\"green\"},\"line_width\":{\"type\":\"value\",\"value\":3},\"line_dash\":{\"type\":\"value\",\"value\":\"dashed\"}}},\"nonselection_glyph\":{\"type\":\"object\",\"name\":\"VSpan\",\"id\":\"p1557\",\"attributes\":{\"x\":{\"type\":\"value\",\"value\":1718150400000.0},\"line_color\":{\"type\":\"value\",\"value\":\"green\"},\"line_alpha\":{\"type\":\"value\",\"value\":0.1},\"line_width\":{\"type\":\"value\",\"value\":3},\"line_dash\":{\"type\":\"value\",\"value\":\"dashed\"}}},\"muted_glyph\":{\"type\":\"object\",\"name\":\"VSpan\",\"id\":\"p1558\",\"attributes\":{\"x\":{\"type\":\"value\",\"value\":1718150400000.0},\"line_color\":{\"type\":\"value\",\"value\":\"green\"},\"line_alpha\":{\"type\":\"value\",\"value\":0.2},\"line_width\":{\"type\":\"value\",\"value\":3},\"line_dash\":{\"type\":\"value\",\"value\":\"dashed\"}}}}},{\"type\":\"object\",\"name\":\"GlyphRenderer\",\"id\":\"p1571\",\"attributes\":{\"data_source\":{\"type\":\"object\",\"name\":\"ColumnDataSource\",\"id\":\"p1562\",\"attributes\":{\"selected\":{\"type\":\"object\",\"name\":\"Selection\",\"id\":\"p1563\",\"attributes\":{\"indices\":[],\"line_indices\":[]}},\"selection_policy\":{\"type\":\"object\",\"name\":\"UnionRenderers\",\"id\":\"p1564\"},\"data\":{\"type\":\"map\",\"entries\":[[\"index\",{\"type\":\"ndarray\",\"array\":{\"type\":\"bytes\",\"data\":\"AAAAAAEAAAACAAAAAwAAAAQAAAAFAAAABgAAAAcAAAAIAAAACQAAAA==\"},\"shape\":[10],\"dtype\":\"int32\",\"order\":\"little\"}],[\"Timestamp\",{\"type\":\"ndarray\",\"array\":{\"type\":\"bytes\",\"data\":\"AABAW376eEIAAID1K/p4QgAAwI/Z+XhCAAAAKof5eEIAAEDENPl4QgAAAJM9+HhCAABALev3eEIAAIDHmPd4QgAAwGFG93hCAAAA/PP2eEI=\"},\"shape\":[10],\"dtype\":\"float64\",\"order\":\"little\"}],[\"Value\",{\"type\":\"ndarray\",\"array\":{\"type\":\"bytes\",\"data\":\"4XoUrkfhJEBmZmZmZuYjQGZmZmZmZiVAmpmZmZkZJECPwvUoXI8kQAAAAAAAACVAw/UoXI9CJEBmZmZmZmYkQOF6FK5HYSZAzczMzMzMJUA=\"},\"shape\":[10],\"dtype\":\"float64\",\"order\":\"little\"}],[\"item_id\",{\"type\":\"ndarray\",\"array\":[\"RIVN\",\"RIVN\",\"RIVN\",\"RIVN\",\"RIVN\",\"RIVN\",\"RIVN\",\"RIVN\",\"RIVN\",\"RIVN\"],\"shape\":[10],\"dtype\":\"object\",\"order\":\"little\"}]]}}},\"view\":{\"type\":\"object\",\"name\":\"CDSView\",\"id\":\"p1572\",\"attributes\":{\"filter\":{\"type\":\"object\",\"name\":\"AllIndices\",\"id\":\"p1573\"}}},\"glyph\":{\"type\":\"object\",\"name\":\"Line\",\"id\":\"p1568\",\"attributes\":{\"x\":{\"type\":\"field\",\"field\":\"Timestamp\"},\"y\":{\"type\":\"field\",\"field\":\"Value\"},\"line_color\":\"red\",\"line_width\":2}},\"nonselection_glyph\":{\"type\":\"object\",\"name\":\"Line\",\"id\":\"p1569\",\"attributes\":{\"x\":{\"type\":\"field\",\"field\":\"Timestamp\"},\"y\":{\"type\":\"field\",\"field\":\"Value\"},\"line_color\":\"red\",\"line_alpha\":0.1,\"line_width\":2}},\"muted_glyph\":{\"type\":\"object\",\"name\":\"Line\",\"id\":\"p1570\",\"attributes\":{\"x\":{\"type\":\"field\",\"field\":\"Timestamp\"},\"y\":{\"type\":\"field\",\"field\":\"Value\"},\"line_color\":\"red\",\"line_alpha\":0.2,\"line_width\":2}}}}],\"toolbar\":{\"type\":\"object\",\"name\":\"Toolbar\",\"id\":\"p1500\",\"attributes\":{\"tools\":[{\"type\":\"object\",\"name\":\"PanTool\",\"id\":\"p1513\"},{\"type\":\"object\",\"name\":\"WheelZoomTool\",\"id\":\"p1514\",\"attributes\":{\"renderers\":\"auto\"}},{\"type\":\"object\",\"name\":\"BoxZoomTool\",\"id\":\"p1515\",\"attributes\":{\"overlay\":{\"type\":\"object\",\"name\":\"BoxAnnotation\",\"id\":\"p1516\",\"attributes\":{\"syncable\":false,\"level\":\"overlay\",\"visible\":false,\"left\":{\"type\":\"number\",\"value\":\"nan\"},\"right\":{\"type\":\"number\",\"value\":\"nan\"},\"top\":{\"type\":\"number\",\"value\":\"nan\"},\"bottom\":{\"type\":\"number\",\"value\":\"nan\"},\"left_units\":\"canvas\",\"right_units\":\"canvas\",\"top_units\":\"canvas\",\"bottom_units\":\"canvas\",\"line_color\":\"black\",\"line_alpha\":1.0,\"line_width\":2,\"line_dash\":[4,4],\"fill_color\":\"lightgrey\",\"fill_alpha\":0.5}}}},{\"type\":\"object\",\"name\":\"SaveTool\",\"id\":\"p1521\"},{\"type\":\"object\",\"name\":\"ResetTool\",\"id\":\"p1522\"},{\"type\":\"object\",\"name\":\"HelpTool\",\"id\":\"p1523\"},{\"type\":\"object\",\"name\":\"HoverTool\",\"id\":\"p1486\",\"attributes\":{\"renderers\":[{\"id\":\"p1530\"},{\"id\":\"p1571\"}],\"tooltips\":[[\"Timestamp\",\"@Timestamp{%F}\"],[\"Value\",\"$@Value{0,0.00}\"]],\"formatters\":{\"type\":\"map\",\"entries\":[[\"@Timestamp\",\"datetime\"]]},\"mode\":\"vline\"}},{\"type\":\"object\",\"name\":\"CrosshairTool\",\"id\":\"p1487\"}]}},\"left\":[{\"type\":\"object\",\"name\":\"LinearAxis\",\"id\":\"p1508\",\"attributes\":{\"ticker\":{\"type\":\"object\",\"name\":\"BasicTicker\",\"id\":\"p1509\",\"attributes\":{\"mantissas\":[1,2,5]}},\"formatter\":{\"type\":\"object\",\"name\":\"NumeralTickFormatter\",\"id\":\"p1533\",\"attributes\":{\"format\":\"$0.00\"}},\"axis_label\":\"Stock Value\",\"major_label_policy\":{\"type\":\"object\",\"name\":\"AllLabels\",\"id\":\"p1511\"}}}],\"below\":[{\"type\":\"object\",\"name\":\"LinearAxis\",\"id\":\"p1503\",\"attributes\":{\"ticker\":{\"type\":\"object\",\"name\":\"BasicTicker\",\"id\":\"p1504\",\"attributes\":{\"mantissas\":[1,2,5]}},\"formatter\":{\"type\":\"object\",\"name\":\"DatetimeTickFormatter\",\"id\":\"p1534\",\"attributes\":{\"hours\":\"%d %b %Y\",\"days\":\"%d %b %Y\",\"months\":\"%d %b %Y\",\"years\":\"%d %b %Y\"}},\"axis_label\":\"Timestamp\",\"major_label_orientation\":1.0471975511965976,\"major_label_policy\":{\"type\":\"object\",\"name\":\"AllLabels\",\"id\":\"p1506\"}}}],\"center\":[{\"type\":\"object\",\"name\":\"Grid\",\"id\":\"p1507\",\"attributes\":{\"axis\":{\"id\":\"p1503\"}}},{\"type\":\"object\",\"name\":\"Grid\",\"id\":\"p1512\",\"attributes\":{\"dimension\":1,\"axis\":{\"id\":\"p1508\"}}}]}}]}};\n",
       "  const render_items = [{\"docid\":\"f5d76e88-b7e3-4757-b2c2-20ffa5bf2b9e\",\"roots\":{\"p1491\":\"c48aa18b-7831-4584-a523-fc20228e315e\"},\"root_ids\":[\"p1491\"]}];\n",
       "  void root.Bokeh.embed.embed_items_notebook(docs_json, render_items);\n",
       "  }\n",
       "  if (root.Bokeh !== undefined) {\n",
       "    embed_document(root);\n",
       "  } else {\n",
       "    let attempts = 0;\n",
       "    const timer = setInterval(function(root) {\n",
       "      if (root.Bokeh !== undefined) {\n",
       "        clearInterval(timer);\n",
       "        embed_document(root);\n",
       "      } else {\n",
       "        attempts++;\n",
       "        if (attempts > 100) {\n",
       "          clearInterval(timer);\n",
       "          console.log(\"Bokeh: ERROR: Unable to run BokehJS code because BokehJS library is missing\");\n",
       "        }\n",
       "      }\n",
       "    }, 10, root)\n",
       "  }\n",
       "})(window);"
      ],
      "application/vnd.bokehjs_exec.v0+json": ""
     },
     "metadata": {
      "application/vnd.bokehjs_exec.v0+json": {
       "id": "p1491"
      }
     },
     "output_type": "display_data"
    },
    {
     "data": {
      "text/html": [
       "\n",
       "  <div id=\"ff6f596a-feb9-4ec1-9526-8de38cbaa0cd\" data-root-id=\"p1588\" style=\"display: contents;\"></div>\n"
      ]
     },
     "metadata": {},
     "output_type": "display_data"
    },
    {
     "data": {
      "application/javascript": [
       "(function(root) {\n",
       "  function embed_document(root) {\n",
       "  const docs_json = {\"a75bb260-5a93-4cb0-9126-b03f72e2a487\":{\"version\":\"3.4.0\",\"title\":\"Bokeh Application\",\"roots\":[{\"type\":\"object\",\"name\":\"Figure\",\"id\":\"p1588\",\"attributes\":{\"sizing_mode\":\"stretch_width\",\"x_range\":{\"type\":\"object\",\"name\":\"DataRange1d\",\"id\":\"p1589\"},\"y_range\":{\"type\":\"object\",\"name\":\"DataRange1d\",\"id\":\"p1590\"},\"x_scale\":{\"type\":\"object\",\"name\":\"LinearScale\",\"id\":\"p1598\"},\"y_scale\":{\"type\":\"object\",\"name\":\"LinearScale\",\"id\":\"p1599\"},\"title\":{\"type\":\"object\",\"name\":\"Title\",\"id\":\"p1591\",\"attributes\":{\"text\":\"Stock Price Forecast for RIVN (Auto v8)\"}},\"renderers\":[{\"type\":\"object\",\"name\":\"GlyphRenderer\",\"id\":\"p1627\",\"attributes\":{\"data_source\":{\"type\":\"object\",\"name\":\"ColumnDataSource\",\"id\":\"p1585\",\"attributes\":{\"selected\":{\"type\":\"object\",\"name\":\"Selection\",\"id\":\"p1586\",\"attributes\":{\"indices\":[],\"line_indices\":[]}},\"selection_policy\":{\"type\":\"object\",\"name\":\"UnionRenderers\",\"id\":\"p1587\"},\"data\":{\"type\":\"map\",\"entries\":[[\"index\",{\"type\":\"ndarray\",\"array\":{\"type\":\"bytes\",\"data\":\"AAAAAAEAAAACAAAAAwAAAAQAAAAFAAAABgAAAAcAAAAIAAAACQAAAAoAAAALAAAADAAAAA0AAAAOAAAADwAAABAAAAARAAAAEgAAABMAAAAUAAAAFQAAABYAAAAXAAAAGAAAABkAAAAaAAAAGwAAABwAAAAdAAAAHgAAAB8AAAAgAAAAIQAAACIAAAAjAAAAJAAAACUAAAAmAAAAJwAAACgAAAApAAAAKgAAACsAAAAsAAAALQAAAC4AAAAvAAAAMAAAADEAAAAyAAAA\"},\"shape\":[51],\"dtype\":\"int32\",\"order\":\"little\"}],[\"Timestamp\",{\"type\":\"ndarray\",\"array\":{\"type\":\"bytes\",\"data\":\"AABAsMHpeEIAAAAWFOp4QgAAwHtm6nhCAACA4bjqeEIAAMASsOt4QgAAgHgC7HhCAABA3lTseEIAAABEp+x4QgAAwKn57HhCAAAA2/DteEIAAMBAQ+54QgAAgKaV7nhCAABADOjueEIAAAByOu94QgAAQKMx8HhCAAAACYTweEIAAMBu1vB4QgAAgNQo8XhCAABAOnvxeEIAAIBrcvJ4QgAAQNHE8nhCAAAANxfzeEIAAMCcafN4QgAAgAK883hCAADAM7P0eEIAAICZBfV4QgAAQP9X9XhCAAAAZar1eEIAAMDK/PV4QgAAAPzz9nhCAADAYUb3eEIAAIDHmPd4QgAAQC3r93hCAAAAkz34eEIAAEDENPl4QgAAACqH+XhCAADAj9n5eEIAAID1K/p4QgAAQFt++nhCAABA8sf7eEIAAABYGvx4QgAAwL1s/HhCAACAI7/8eEIAAMBUtv14QgAAgLoI/nhCAABAIFv+eEIAAACGrf54QgAAwOv//nhCAAAAHff/eEIAAMCCSQB5QgAAgOibAHlC\"},\"shape\":[51],\"dtype\":\"float64\",\"order\":\"little\"}],[\"Value\",{\"type\":\"ndarray\",\"array\":{\"type\":\"bytes\",\"data\":\"hetRuB4FJUAUrkfhehQlQMP1KFyPQiRAMzMzMzMzJEDhehSuR+EkQMP1KFyPQiVACtejcD2KJECkcD0K1yMjQMP1KFyPQiJAzczMzMzMIEDsUbgehWshQHsUrkfheiFAKVyPwvWoIUDD9Shcj0IhQBSuR+F6lCFAFK5H4XoUIkCuR+F6FK4hQArXo3A9CiFAFK5H4XoUIkDD9Shcj8IiQM3MzMzMzCFA7FG4HoVrIkApXI/C9agjQKRwPQrXIyRAKVyPwvWoJEAAAAAAAIAkQArXo3A9iiRAcT0K16NwJEB7FK5H4fojQM3MzMzMzCVAGOr/v+L4I0Cytf8/FWgjQDEXAICm9yNAiO3/v1CYJEAlZQAgFuUiQLrk/9+mLyNA4QkAQBzFIkD81v/f7v0iQC/R/z+FWiJAia3//y8RIkBm8f9/bH4iQDL3/x/WTSJAC9L/v+DMIUDG2f8/GC0gQGuX/997oCBAmg4AgBOGIUAUJAAAg1kjQAAAAACAMSRAfDsAYMBRI0Cr6f//tDwjQFY5AKBbzyFA\"},\"shape\":[51],\"dtype\":\"float64\",\"order\":\"little\"}]]}}},\"view\":{\"type\":\"object\",\"name\":\"CDSView\",\"id\":\"p1628\",\"attributes\":{\"filter\":{\"type\":\"object\",\"name\":\"AllIndices\",\"id\":\"p1629\"}}},\"glyph\":{\"type\":\"object\",\"name\":\"Line\",\"id\":\"p1624\",\"attributes\":{\"x\":{\"type\":\"field\",\"field\":\"Timestamp\"},\"y\":{\"type\":\"field\",\"field\":\"Value\"},\"line_color\":\"#1f77b4\",\"line_width\":2}},\"nonselection_glyph\":{\"type\":\"object\",\"name\":\"Line\",\"id\":\"p1625\",\"attributes\":{\"x\":{\"type\":\"field\",\"field\":\"Timestamp\"},\"y\":{\"type\":\"field\",\"field\":\"Value\"},\"line_color\":\"#1f77b4\",\"line_alpha\":0.1,\"line_width\":2}},\"muted_glyph\":{\"type\":\"object\",\"name\":\"Line\",\"id\":\"p1626\",\"attributes\":{\"x\":{\"type\":\"field\",\"field\":\"Timestamp\"},\"y\":{\"type\":\"field\",\"field\":\"Value\"},\"line_color\":\"#1f77b4\",\"line_alpha\":0.2,\"line_width\":2}}}},{\"type\":\"object\",\"name\":\"GlyphRenderer\",\"id\":\"p1638\",\"attributes\":{\"data_source\":{\"type\":\"object\",\"name\":\"ColumnDataSource\",\"id\":\"p1632\",\"attributes\":{\"selected\":{\"type\":\"object\",\"name\":\"Selection\",\"id\":\"p1633\",\"attributes\":{\"indices\":[],\"line_indices\":[]}},\"selection_policy\":{\"type\":\"object\",\"name\":\"UnionRenderers\",\"id\":\"p1634\"},\"data\":{\"type\":\"map\",\"entries\":[[\"x\",{\"type\":\"ndarray\",\"array\":{\"type\":\"bytes\",\"data\":\"AADAYUb3eEIAAIDHmPd4QgAAQC3r93hCAAAAkz34eEIAAEDENPl4QgAAACqH+XhCAADAj9n5eEIAAID1K/p4QgAAQFt++nhCAABA8sf7eEIAAABYGvx4QgAAwL1s/HhCAACAI7/8eEIAAMBUtv14QgAAgLoI/nhCAABAIFv+eEIAAACGrf54QgAAwOv//nhCAAAAHff/eEIAAMCCSQB5QgAAgOibAHlC\"},\"shape\":[21],\"dtype\":\"float64\",\"order\":\"little\"}],[\"y1\",{\"type\":\"ndarray\",\"array\":{\"type\":\"bytes\",\"data\":\"vsr//1ZBI0Dmr/+fK8AiQNyd/x+qgiNAo7r/X6PXI0CbMQAgJEUiQL7K///WgSJABCkAIBEIIkB3MgCg/0siQNVXAOCLbiFAENv/f6E3IUDDNgAgyechQDjA/x/2myFAXgUA4LsmIUD6Lf8/nEEfQEyqAODbuh9AKEgAAIbVIED7k//fjY8iQFXT//9pSSNAsPL/v/U8IkDYt///+YciQNmX/5+pFyFA\"},\"shape\":[21],\"dtype\":\"float64\",\"order\":\"little\"}],[\"y2\",{\"type\":\"ndarray\",\"array\":{\"type\":\"bytes\",\"data\":\"d+//nx6PJEBBVQBg+Q8kQJD8//+RxSRAgiQAwDBzJUDW1P8figIkQFxlAAAt9yNAjVkA4EKVI0AfWQAgFXkjQCDW/1+TOyNAdzIAoP/MIkChGgCAFDYjQN+j/58q6iJAG83/n9KoIkCP+f+/URkhQHXs/19eYiFAUe3/3zmYIkDfo/+fqhMkQOrY/7+8ISVAZO7/P6xPJEB6sv8fvu0jQA74/58xfiJA\"},\"shape\":[21],\"dtype\":\"float64\",\"order\":\"little\"}]]}}},\"view\":{\"type\":\"object\",\"name\":\"CDSView\",\"id\":\"p1639\",\"attributes\":{\"filter\":{\"type\":\"object\",\"name\":\"AllIndices\",\"id\":\"p1640\"}}},\"glyph\":{\"type\":\"object\",\"name\":\"VArea\",\"id\":\"p1635\",\"attributes\":{\"x\":{\"type\":\"field\",\"field\":\"x\"},\"y1\":{\"type\":\"field\",\"field\":\"y1\"},\"y2\":{\"type\":\"field\",\"field\":\"y2\"},\"fill_color\":\"blue\",\"fill_alpha\":0.3}},\"nonselection_glyph\":{\"type\":\"object\",\"name\":\"VArea\",\"id\":\"p1636\",\"attributes\":{\"x\":{\"type\":\"field\",\"field\":\"x\"},\"y1\":{\"type\":\"field\",\"field\":\"y1\"},\"y2\":{\"type\":\"field\",\"field\":\"y2\"},\"fill_color\":\"blue\",\"fill_alpha\":0.1,\"hatch_alpha\":{\"type\":\"value\",\"value\":0.1}}},\"muted_glyph\":{\"type\":\"object\",\"name\":\"VArea\",\"id\":\"p1637\",\"attributes\":{\"x\":{\"type\":\"field\",\"field\":\"x\"},\"y1\":{\"type\":\"field\",\"field\":\"y1\"},\"y2\":{\"type\":\"field\",\"field\":\"y2\"},\"fill_color\":\"blue\",\"fill_alpha\":0.2,\"hatch_alpha\":{\"type\":\"value\",\"value\":0.2}}}}},{\"type\":\"object\",\"name\":\"GlyphRenderer\",\"id\":\"p1647\",\"attributes\":{\"data_source\":{\"type\":\"object\",\"name\":\"ColumnDataSource\",\"id\":\"p1641\",\"attributes\":{\"selected\":{\"type\":\"object\",\"name\":\"Selection\",\"id\":\"p1642\",\"attributes\":{\"indices\":[],\"line_indices\":[]}},\"selection_policy\":{\"type\":\"object\",\"name\":\"UnionRenderers\",\"id\":\"p1643\"},\"data\":{\"type\":\"map\"}}},\"view\":{\"type\":\"object\",\"name\":\"CDSView\",\"id\":\"p1648\",\"attributes\":{\"filter\":{\"type\":\"object\",\"name\":\"AllIndices\",\"id\":\"p1649\"}}},\"glyph\":{\"type\":\"object\",\"name\":\"VSpan\",\"id\":\"p1644\",\"attributes\":{\"x\":{\"type\":\"value\",\"value\":1715644800000.0},\"line_color\":{\"type\":\"value\",\"value\":\"green\"},\"line_width\":{\"type\":\"value\",\"value\":3},\"line_dash\":{\"type\":\"value\",\"value\":\"dashed\"}}},\"nonselection_glyph\":{\"type\":\"object\",\"name\":\"VSpan\",\"id\":\"p1645\",\"attributes\":{\"x\":{\"type\":\"value\",\"value\":1715644800000.0},\"line_color\":{\"type\":\"value\",\"value\":\"green\"},\"line_alpha\":{\"type\":\"value\",\"value\":0.1},\"line_width\":{\"type\":\"value\",\"value\":3},\"line_dash\":{\"type\":\"value\",\"value\":\"dashed\"}}},\"muted_glyph\":{\"type\":\"object\",\"name\":\"VSpan\",\"id\":\"p1646\",\"attributes\":{\"x\":{\"type\":\"value\",\"value\":1715644800000.0},\"line_color\":{\"type\":\"value\",\"value\":\"green\"},\"line_alpha\":{\"type\":\"value\",\"value\":0.2},\"line_width\":{\"type\":\"value\",\"value\":3},\"line_dash\":{\"type\":\"value\",\"value\":\"dashed\"}}}}},{\"type\":\"object\",\"name\":\"GlyphRenderer\",\"id\":\"p1656\",\"attributes\":{\"data_source\":{\"type\":\"object\",\"name\":\"ColumnDataSource\",\"id\":\"p1650\",\"attributes\":{\"selected\":{\"type\":\"object\",\"name\":\"Selection\",\"id\":\"p1651\",\"attributes\":{\"indices\":[],\"line_indices\":[]}},\"selection_policy\":{\"type\":\"object\",\"name\":\"UnionRenderers\",\"id\":\"p1652\"},\"data\":{\"type\":\"map\"}}},\"view\":{\"type\":\"object\",\"name\":\"CDSView\",\"id\":\"p1657\",\"attributes\":{\"filter\":{\"type\":\"object\",\"name\":\"AllIndices\",\"id\":\"p1658\"}}},\"glyph\":{\"type\":\"object\",\"name\":\"VSpan\",\"id\":\"p1653\",\"attributes\":{\"x\":{\"type\":\"value\",\"value\":1718150400000.0},\"line_color\":{\"type\":\"value\",\"value\":\"green\"},\"line_width\":{\"type\":\"value\",\"value\":3},\"line_dash\":{\"type\":\"value\",\"value\":\"dashed\"}}},\"nonselection_glyph\":{\"type\":\"object\",\"name\":\"VSpan\",\"id\":\"p1654\",\"attributes\":{\"x\":{\"type\":\"value\",\"value\":1718150400000.0},\"line_color\":{\"type\":\"value\",\"value\":\"green\"},\"line_alpha\":{\"type\":\"value\",\"value\":0.1},\"line_width\":{\"type\":\"value\",\"value\":3},\"line_dash\":{\"type\":\"value\",\"value\":\"dashed\"}}},\"muted_glyph\":{\"type\":\"object\",\"name\":\"VSpan\",\"id\":\"p1655\",\"attributes\":{\"x\":{\"type\":\"value\",\"value\":1718150400000.0},\"line_color\":{\"type\":\"value\",\"value\":\"green\"},\"line_alpha\":{\"type\":\"value\",\"value\":0.2},\"line_width\":{\"type\":\"value\",\"value\":3},\"line_dash\":{\"type\":\"value\",\"value\":\"dashed\"}}}}},{\"type\":\"object\",\"name\":\"GlyphRenderer\",\"id\":\"p1668\",\"attributes\":{\"data_source\":{\"type\":\"object\",\"name\":\"ColumnDataSource\",\"id\":\"p1659\",\"attributes\":{\"selected\":{\"type\":\"object\",\"name\":\"Selection\",\"id\":\"p1660\",\"attributes\":{\"indices\":[],\"line_indices\":[]}},\"selection_policy\":{\"type\":\"object\",\"name\":\"UnionRenderers\",\"id\":\"p1661\"},\"data\":{\"type\":\"map\",\"entries\":[[\"index\",{\"type\":\"ndarray\",\"array\":{\"type\":\"bytes\",\"data\":\"AAAAAAEAAAACAAAAAwAAAAQAAAAFAAAABgAAAAcAAAAIAAAACQAAAA==\"},\"shape\":[10],\"dtype\":\"int32\",\"order\":\"little\"}],[\"Timestamp\",{\"type\":\"ndarray\",\"array\":{\"type\":\"bytes\",\"data\":\"AABAW376eEIAAID1K/p4QgAAwI/Z+XhCAAAAKof5eEIAAEDENPl4QgAAAJM9+HhCAABALev3eEIAAIDHmPd4QgAAwGFG93hCAAAA/PP2eEI=\"},\"shape\":[10],\"dtype\":\"float64\",\"order\":\"little\"}],[\"Value\",{\"type\":\"ndarray\",\"array\":{\"type\":\"bytes\",\"data\":\"4XoUrkfhJEBmZmZmZuYjQGZmZmZmZiVAmpmZmZkZJECPwvUoXI8kQAAAAAAAACVAw/UoXI9CJEBmZmZmZmYkQOF6FK5HYSZAzczMzMzMJUA=\"},\"shape\":[10],\"dtype\":\"float64\",\"order\":\"little\"}],[\"item_id\",{\"type\":\"ndarray\",\"array\":[\"RIVN\",\"RIVN\",\"RIVN\",\"RIVN\",\"RIVN\",\"RIVN\",\"RIVN\",\"RIVN\",\"RIVN\",\"RIVN\"],\"shape\":[10],\"dtype\":\"object\",\"order\":\"little\"}]]}}},\"view\":{\"type\":\"object\",\"name\":\"CDSView\",\"id\":\"p1669\",\"attributes\":{\"filter\":{\"type\":\"object\",\"name\":\"AllIndices\",\"id\":\"p1670\"}}},\"glyph\":{\"type\":\"object\",\"name\":\"Line\",\"id\":\"p1665\",\"attributes\":{\"x\":{\"type\":\"field\",\"field\":\"Timestamp\"},\"y\":{\"type\":\"field\",\"field\":\"Value\"},\"line_color\":\"red\",\"line_width\":2}},\"nonselection_glyph\":{\"type\":\"object\",\"name\":\"Line\",\"id\":\"p1666\",\"attributes\":{\"x\":{\"type\":\"field\",\"field\":\"Timestamp\"},\"y\":{\"type\":\"field\",\"field\":\"Value\"},\"line_color\":\"red\",\"line_alpha\":0.1,\"line_width\":2}},\"muted_glyph\":{\"type\":\"object\",\"name\":\"Line\",\"id\":\"p1667\",\"attributes\":{\"x\":{\"type\":\"field\",\"field\":\"Timestamp\"},\"y\":{\"type\":\"field\",\"field\":\"Value\"},\"line_color\":\"red\",\"line_alpha\":0.2,\"line_width\":2}}}}],\"toolbar\":{\"type\":\"object\",\"name\":\"Toolbar\",\"id\":\"p1597\",\"attributes\":{\"tools\":[{\"type\":\"object\",\"name\":\"PanTool\",\"id\":\"p1610\"},{\"type\":\"object\",\"name\":\"WheelZoomTool\",\"id\":\"p1611\",\"attributes\":{\"renderers\":\"auto\"}},{\"type\":\"object\",\"name\":\"BoxZoomTool\",\"id\":\"p1612\",\"attributes\":{\"overlay\":{\"type\":\"object\",\"name\":\"BoxAnnotation\",\"id\":\"p1613\",\"attributes\":{\"syncable\":false,\"level\":\"overlay\",\"visible\":false,\"left\":{\"type\":\"number\",\"value\":\"nan\"},\"right\":{\"type\":\"number\",\"value\":\"nan\"},\"top\":{\"type\":\"number\",\"value\":\"nan\"},\"bottom\":{\"type\":\"number\",\"value\":\"nan\"},\"left_units\":\"canvas\",\"right_units\":\"canvas\",\"top_units\":\"canvas\",\"bottom_units\":\"canvas\",\"line_color\":\"black\",\"line_alpha\":1.0,\"line_width\":2,\"line_dash\":[4,4],\"fill_color\":\"lightgrey\",\"fill_alpha\":0.5}}}},{\"type\":\"object\",\"name\":\"SaveTool\",\"id\":\"p1618\"},{\"type\":\"object\",\"name\":\"ResetTool\",\"id\":\"p1619\"},{\"type\":\"object\",\"name\":\"HelpTool\",\"id\":\"p1620\"},{\"type\":\"object\",\"name\":\"HoverTool\",\"id\":\"p1583\",\"attributes\":{\"renderers\":[{\"id\":\"p1627\"},{\"id\":\"p1668\"}],\"tooltips\":[[\"Timestamp\",\"@Timestamp{%F}\"],[\"Value\",\"$@Value{0,0.00}\"]],\"formatters\":{\"type\":\"map\",\"entries\":[[\"@Timestamp\",\"datetime\"]]},\"mode\":\"vline\"}},{\"type\":\"object\",\"name\":\"CrosshairTool\",\"id\":\"p1584\"}]}},\"left\":[{\"type\":\"object\",\"name\":\"LinearAxis\",\"id\":\"p1605\",\"attributes\":{\"ticker\":{\"type\":\"object\",\"name\":\"BasicTicker\",\"id\":\"p1606\",\"attributes\":{\"mantissas\":[1,2,5]}},\"formatter\":{\"type\":\"object\",\"name\":\"NumeralTickFormatter\",\"id\":\"p1630\",\"attributes\":{\"format\":\"$0.00\"}},\"axis_label\":\"Stock Value\",\"major_label_policy\":{\"type\":\"object\",\"name\":\"AllLabels\",\"id\":\"p1608\"}}}],\"below\":[{\"type\":\"object\",\"name\":\"LinearAxis\",\"id\":\"p1600\",\"attributes\":{\"ticker\":{\"type\":\"object\",\"name\":\"BasicTicker\",\"id\":\"p1601\",\"attributes\":{\"mantissas\":[1,2,5]}},\"formatter\":{\"type\":\"object\",\"name\":\"DatetimeTickFormatter\",\"id\":\"p1631\",\"attributes\":{\"hours\":\"%d %b %Y\",\"days\":\"%d %b %Y\",\"months\":\"%d %b %Y\",\"years\":\"%d %b %Y\"}},\"axis_label\":\"Timestamp\",\"major_label_orientation\":1.0471975511965976,\"major_label_policy\":{\"type\":\"object\",\"name\":\"AllLabels\",\"id\":\"p1603\"}}}],\"center\":[{\"type\":\"object\",\"name\":\"Grid\",\"id\":\"p1604\",\"attributes\":{\"axis\":{\"id\":\"p1600\"}}},{\"type\":\"object\",\"name\":\"Grid\",\"id\":\"p1609\",\"attributes\":{\"dimension\":1,\"axis\":{\"id\":\"p1605\"}}}]}}]}};\n",
       "  const render_items = [{\"docid\":\"a75bb260-5a93-4cb0-9126-b03f72e2a487\",\"roots\":{\"p1588\":\"ff6f596a-feb9-4ec1-9526-8de38cbaa0cd\"},\"root_ids\":[\"p1588\"]}];\n",
       "  void root.Bokeh.embed.embed_items_notebook(docs_json, render_items);\n",
       "  }\n",
       "  if (root.Bokeh !== undefined) {\n",
       "    embed_document(root);\n",
       "  } else {\n",
       "    let attempts = 0;\n",
       "    const timer = setInterval(function(root) {\n",
       "      if (root.Bokeh !== undefined) {\n",
       "        clearInterval(timer);\n",
       "        embed_document(root);\n",
       "      } else {\n",
       "        attempts++;\n",
       "        if (attempts > 100) {\n",
       "          clearInterval(timer);\n",
       "          console.log(\"Bokeh: ERROR: Unable to run BokehJS code because BokehJS library is missing\");\n",
       "        }\n",
       "      }\n",
       "    }, 10, root)\n",
       "  }\n",
       "})(window);"
      ],
      "application/vnd.bokehjs_exec.v0+json": ""
     },
     "metadata": {
      "application/vnd.bokehjs_exec.v0+json": {
       "id": "p1588"
      }
     },
     "output_type": "display_data"
    },
    {
     "name": "stderr",
     "output_type": "stream",
     "text": [
      "BokehUserWarning: ColumnDataSource's columns must be of the same length. Current lengths: ('x', 21), ('y1', 21), ('y2', 22)\n"
     ]
    },
    {
     "data": {
      "text/html": [
       "\n",
       "  <div id=\"c9d3d400-2f9f-42b6-8037-b7745369da51\" data-root-id=\"p1685\" style=\"display: contents;\"></div>\n"
      ]
     },
     "metadata": {},
     "output_type": "display_data"
    },
    {
     "data": {
      "application/javascript": [
       "(function(root) {\n",
       "  function embed_document(root) {\n",
       "  const docs_json = {\"72d8958e-355f-43f9-b422-01317b6f731c\":{\"version\":\"3.4.0\",\"title\":\"Bokeh Application\",\"roots\":[{\"type\":\"object\",\"name\":\"Figure\",\"id\":\"p1685\",\"attributes\":{\"sizing_mode\":\"stretch_width\",\"x_range\":{\"type\":\"object\",\"name\":\"DataRange1d\",\"id\":\"p1686\"},\"y_range\":{\"type\":\"object\",\"name\":\"DataRange1d\",\"id\":\"p1687\"},\"x_scale\":{\"type\":\"object\",\"name\":\"LinearScale\",\"id\":\"p1695\"},\"y_scale\":{\"type\":\"object\",\"name\":\"LinearScale\",\"id\":\"p1696\"},\"title\":{\"type\":\"object\",\"name\":\"Title\",\"id\":\"p1688\",\"attributes\":{\"text\":\"Stock Price Forecast for RIVN (Auto v9)\"}},\"renderers\":[{\"type\":\"object\",\"name\":\"GlyphRenderer\",\"id\":\"p1724\",\"attributes\":{\"data_source\":{\"type\":\"object\",\"name\":\"ColumnDataSource\",\"id\":\"p1682\",\"attributes\":{\"selected\":{\"type\":\"object\",\"name\":\"Selection\",\"id\":\"p1683\",\"attributes\":{\"indices\":[],\"line_indices\":[]}},\"selection_policy\":{\"type\":\"object\",\"name\":\"UnionRenderers\",\"id\":\"p1684\"},\"data\":{\"type\":\"map\",\"entries\":[[\"index\",{\"type\":\"ndarray\",\"array\":{\"type\":\"bytes\",\"data\":\"AAAAAAEAAAACAAAAAwAAAAQAAAAFAAAABgAAAAcAAAAIAAAACQAAAAoAAAALAAAADAAAAA0AAAAOAAAADwAAABAAAAARAAAAEgAAABMAAAAUAAAAFQAAABYAAAAXAAAAGAAAABkAAAAaAAAAGwAAABwAAAAdAAAAHgAAAB8AAAAgAAAAIQAAACIAAAAjAAAAJAAAACUAAAAmAAAAJwAAACgAAAApAAAAKgAAACsAAAAsAAAALQAAAC4AAAAvAAAAMAAAADEAAAAyAAAA\"},\"shape\":[51],\"dtype\":\"int32\",\"order\":\"little\"}],[\"Timestamp\",{\"type\":\"ndarray\",\"array\":{\"type\":\"bytes\",\"data\":\"AABAsMHpeEIAAAAWFOp4QgAAwHtm6nhCAACA4bjqeEIAAMASsOt4QgAAgHgC7HhCAABA3lTseEIAAABEp+x4QgAAwKn57HhCAAAA2/DteEIAAMBAQ+54QgAAgKaV7nhCAABADOjueEIAAAByOu94QgAAQKMx8HhCAAAACYTweEIAAMBu1vB4QgAAgNQo8XhCAABAOnvxeEIAAIBrcvJ4QgAAQNHE8nhCAAAANxfzeEIAAMCcafN4QgAAgAK883hCAADAM7P0eEIAAICZBfV4QgAAQP9X9XhCAAAAZar1eEIAAMDK/PV4QgAAAPzz9nhCAADAYUb3eEIAAIDHmPd4QgAAQC3r93hCAAAAkz34eEIAAEDENPl4QgAAACqH+XhCAADAj9n5eEIAAID1K/p4QgAAQFt++nhCAABA8sf7eEIAAABYGvx4QgAAwL1s/HhCAACAI7/8eEIAAMBUtv14QgAAgLoI/nhCAABAIFv+eEIAAACGrf54QgAAwOv//nhCAAAAHff/eEIAAMCCSQB5QgAAgOibAHlC\"},\"shape\":[51],\"dtype\":\"float64\",\"order\":\"little\"}],[\"Value\",{\"type\":\"ndarray\",\"array\":{\"type\":\"bytes\",\"data\":\"hetRuB4FJUAUrkfhehQlQMP1KFyPQiRAMzMzMzMzJEDhehSuR+EkQMP1KFyPQiVACtejcD2KJECkcD0K1yMjQMP1KFyPQiJAzczMzMzMIEDsUbgehWshQHsUrkfheiFAKVyPwvWoIUDD9Shcj0IhQBSuR+F6lCFAFK5H4XoUIkCuR+F6FK4hQArXo3A9CiFAFK5H4XoUIkDD9Shcj8IiQM3MzMzMzCFA7FG4HoVrIkApXI/C9agjQKRwPQrXIyRAKVyPwvWoJEAAAAAAAIAkQArXo3A9iiRAcT0K16NwJEB7FK5H4fojQM3MzMzMzCVAwzYAIMkbI0C5ZwCgKLUhQHMJAIBuWSFAAwYAgIA9IUApSwBARn8hQOFsAKBNQCFAerL/Hz5KIEDptf8frAcgQCXf/x9U/BxA9AoAoI5aKEAFpv9fj+whQIwt/39urRxA9ST/f9tEHUBArP+/JngbQNKL/5+okRxA9kf/H2yMHUDSMQAAu5YeQOCD/z9aSh9AsPL/v3WBG0ANL/+fDqQaQCAw//+AjhpA\"},\"shape\":[51],\"dtype\":\"float64\",\"order\":\"little\"}]]}}},\"view\":{\"type\":\"object\",\"name\":\"CDSView\",\"id\":\"p1725\",\"attributes\":{\"filter\":{\"type\":\"object\",\"name\":\"AllIndices\",\"id\":\"p1726\"}}},\"glyph\":{\"type\":\"object\",\"name\":\"Line\",\"id\":\"p1721\",\"attributes\":{\"x\":{\"type\":\"field\",\"field\":\"Timestamp\"},\"y\":{\"type\":\"field\",\"field\":\"Value\"},\"line_color\":\"#1f77b4\",\"line_width\":2}},\"nonselection_glyph\":{\"type\":\"object\",\"name\":\"Line\",\"id\":\"p1722\",\"attributes\":{\"x\":{\"type\":\"field\",\"field\":\"Timestamp\"},\"y\":{\"type\":\"field\",\"field\":\"Value\"},\"line_color\":\"#1f77b4\",\"line_alpha\":0.1,\"line_width\":2}},\"muted_glyph\":{\"type\":\"object\",\"name\":\"Line\",\"id\":\"p1723\",\"attributes\":{\"x\":{\"type\":\"field\",\"field\":\"Timestamp\"},\"y\":{\"type\":\"field\",\"field\":\"Value\"},\"line_color\":\"#1f77b4\",\"line_alpha\":0.2,\"line_width\":2}}}},{\"type\":\"object\",\"name\":\"GlyphRenderer\",\"id\":\"p1735\",\"attributes\":{\"data_source\":{\"type\":\"object\",\"name\":\"ColumnDataSource\",\"id\":\"p1729\",\"attributes\":{\"selected\":{\"type\":\"object\",\"name\":\"Selection\",\"id\":\"p1730\",\"attributes\":{\"indices\":[],\"line_indices\":[]}},\"selection_policy\":{\"type\":\"object\",\"name\":\"UnionRenderers\",\"id\":\"p1731\"},\"data\":{\"type\":\"map\",\"entries\":[[\"x\",{\"type\":\"ndarray\",\"array\":{\"type\":\"bytes\",\"data\":\"AADAYUb3eEIAAIDHmPd4QgAAQC3r93hCAAAAkz34eEIAAEDENPl4QgAAACqH+XhCAADAj9n5eEIAAID1K/p4QgAAQFt++nhCAABA8sf7eEIAAABYGvx4QgAAwL1s/HhCAACAI7/8eEIAAMBUtv14QgAAgLoI/nhCAABAIFv+eEIAAACGrf54QgAAwOv//nhCAAAAHff/eEIAAMCCSQB5QgAAgOibAHlC\"},\"shape\":[21],\"dtype\":\"float64\",\"order\":\"little\"}],[\"y1\",{\"type\":\"ndarray\",\"array\":{\"type\":\"bytes\",\"data\":\"FQQAoLIWIkBa3P+/KtEgQBVHAKCTlCBAAkYAQCEvIEAOtf+f0HogQKkpAMDVOiBA9Q0A4M6RHkCuz/8f5SceQHIpAOA+JhtAPw8AINhVJ0DjDACA3OUgQAMmAODQxBpA2Zf/n6n1GkCttQBAmOwZQPy/AEDi/hpAdqz/nz08HEDkJv9fqdAcQMC2AKAK2x1AcIkAADBFGUDBjf9/dvcYQFXT//9pLhlA\"},\"shape\":[21],\"dtype\":\"float64\",\"order\":\"little\"}],[\"y2\",{\"type\":\"ndarray\",\"array\":{\"type\":\"bytes\",\"data\":\"lOL/H0L2I0DlMgBgraoiQCaf/1+znCJAn9T/P/NcIkAwVwBAR1IiQH0bAABwMiJA70QA4C4vIUA6BgBgF8YgQHks/x/8vR5AJMg24FunvD/7k//fDWwpQLH1//+1qiJAynz/X2dqHkB+Nf/fvGEfQBEeAICCMx1AMpT/vySYHkDeRgDAfNUfQI62/79wWyBAPgwA4JevIEAVBACgsoUdQHYPAABv1xxA8eT/v71bHEA=\"},\"shape\":[22],\"dtype\":\"float64\",\"order\":\"little\"}]]}}},\"view\":{\"type\":\"object\",\"name\":\"CDSView\",\"id\":\"p1736\",\"attributes\":{\"filter\":{\"type\":\"object\",\"name\":\"AllIndices\",\"id\":\"p1737\"}}},\"glyph\":{\"type\":\"object\",\"name\":\"VArea\",\"id\":\"p1732\",\"attributes\":{\"x\":{\"type\":\"field\",\"field\":\"x\"},\"y1\":{\"type\":\"field\",\"field\":\"y1\"},\"y2\":{\"type\":\"field\",\"field\":\"y2\"},\"fill_color\":\"blue\",\"fill_alpha\":0.3}},\"nonselection_glyph\":{\"type\":\"object\",\"name\":\"VArea\",\"id\":\"p1733\",\"attributes\":{\"x\":{\"type\":\"field\",\"field\":\"x\"},\"y1\":{\"type\":\"field\",\"field\":\"y1\"},\"y2\":{\"type\":\"field\",\"field\":\"y2\"},\"fill_color\":\"blue\",\"fill_alpha\":0.1,\"hatch_alpha\":{\"type\":\"value\",\"value\":0.1}}},\"muted_glyph\":{\"type\":\"object\",\"name\":\"VArea\",\"id\":\"p1734\",\"attributes\":{\"x\":{\"type\":\"field\",\"field\":\"x\"},\"y1\":{\"type\":\"field\",\"field\":\"y1\"},\"y2\":{\"type\":\"field\",\"field\":\"y2\"},\"fill_color\":\"blue\",\"fill_alpha\":0.2,\"hatch_alpha\":{\"type\":\"value\",\"value\":0.2}}}}},{\"type\":\"object\",\"name\":\"GlyphRenderer\",\"id\":\"p1744\",\"attributes\":{\"data_source\":{\"type\":\"object\",\"name\":\"ColumnDataSource\",\"id\":\"p1738\",\"attributes\":{\"selected\":{\"type\":\"object\",\"name\":\"Selection\",\"id\":\"p1739\",\"attributes\":{\"indices\":[],\"line_indices\":[]}},\"selection_policy\":{\"type\":\"object\",\"name\":\"UnionRenderers\",\"id\":\"p1740\"},\"data\":{\"type\":\"map\"}}},\"view\":{\"type\":\"object\",\"name\":\"CDSView\",\"id\":\"p1745\",\"attributes\":{\"filter\":{\"type\":\"object\",\"name\":\"AllIndices\",\"id\":\"p1746\"}}},\"glyph\":{\"type\":\"object\",\"name\":\"VSpan\",\"id\":\"p1741\",\"attributes\":{\"x\":{\"type\":\"value\",\"value\":1715644800000.0},\"line_color\":{\"type\":\"value\",\"value\":\"green\"},\"line_width\":{\"type\":\"value\",\"value\":3},\"line_dash\":{\"type\":\"value\",\"value\":\"dashed\"}}},\"nonselection_glyph\":{\"type\":\"object\",\"name\":\"VSpan\",\"id\":\"p1742\",\"attributes\":{\"x\":{\"type\":\"value\",\"value\":1715644800000.0},\"line_color\":{\"type\":\"value\",\"value\":\"green\"},\"line_alpha\":{\"type\":\"value\",\"value\":0.1},\"line_width\":{\"type\":\"value\",\"value\":3},\"line_dash\":{\"type\":\"value\",\"value\":\"dashed\"}}},\"muted_glyph\":{\"type\":\"object\",\"name\":\"VSpan\",\"id\":\"p1743\",\"attributes\":{\"x\":{\"type\":\"value\",\"value\":1715644800000.0},\"line_color\":{\"type\":\"value\",\"value\":\"green\"},\"line_alpha\":{\"type\":\"value\",\"value\":0.2},\"line_width\":{\"type\":\"value\",\"value\":3},\"line_dash\":{\"type\":\"value\",\"value\":\"dashed\"}}}}},{\"type\":\"object\",\"name\":\"GlyphRenderer\",\"id\":\"p1753\",\"attributes\":{\"data_source\":{\"type\":\"object\",\"name\":\"ColumnDataSource\",\"id\":\"p1747\",\"attributes\":{\"selected\":{\"type\":\"object\",\"name\":\"Selection\",\"id\":\"p1748\",\"attributes\":{\"indices\":[],\"line_indices\":[]}},\"selection_policy\":{\"type\":\"object\",\"name\":\"UnionRenderers\",\"id\":\"p1749\"},\"data\":{\"type\":\"map\"}}},\"view\":{\"type\":\"object\",\"name\":\"CDSView\",\"id\":\"p1754\",\"attributes\":{\"filter\":{\"type\":\"object\",\"name\":\"AllIndices\",\"id\":\"p1755\"}}},\"glyph\":{\"type\":\"object\",\"name\":\"VSpan\",\"id\":\"p1750\",\"attributes\":{\"x\":{\"type\":\"value\",\"value\":1718150400000.0},\"line_color\":{\"type\":\"value\",\"value\":\"green\"},\"line_width\":{\"type\":\"value\",\"value\":3},\"line_dash\":{\"type\":\"value\",\"value\":\"dashed\"}}},\"nonselection_glyph\":{\"type\":\"object\",\"name\":\"VSpan\",\"id\":\"p1751\",\"attributes\":{\"x\":{\"type\":\"value\",\"value\":1718150400000.0},\"line_color\":{\"type\":\"value\",\"value\":\"green\"},\"line_alpha\":{\"type\":\"value\",\"value\":0.1},\"line_width\":{\"type\":\"value\",\"value\":3},\"line_dash\":{\"type\":\"value\",\"value\":\"dashed\"}}},\"muted_glyph\":{\"type\":\"object\",\"name\":\"VSpan\",\"id\":\"p1752\",\"attributes\":{\"x\":{\"type\":\"value\",\"value\":1718150400000.0},\"line_color\":{\"type\":\"value\",\"value\":\"green\"},\"line_alpha\":{\"type\":\"value\",\"value\":0.2},\"line_width\":{\"type\":\"value\",\"value\":3},\"line_dash\":{\"type\":\"value\",\"value\":\"dashed\"}}}}},{\"type\":\"object\",\"name\":\"GlyphRenderer\",\"id\":\"p1765\",\"attributes\":{\"data_source\":{\"type\":\"object\",\"name\":\"ColumnDataSource\",\"id\":\"p1756\",\"attributes\":{\"selected\":{\"type\":\"object\",\"name\":\"Selection\",\"id\":\"p1757\",\"attributes\":{\"indices\":[],\"line_indices\":[]}},\"selection_policy\":{\"type\":\"object\",\"name\":\"UnionRenderers\",\"id\":\"p1758\"},\"data\":{\"type\":\"map\",\"entries\":[[\"index\",{\"type\":\"ndarray\",\"array\":{\"type\":\"bytes\",\"data\":\"AAAAAAEAAAACAAAAAwAAAAQAAAAFAAAABgAAAAcAAAAIAAAACQAAAA==\"},\"shape\":[10],\"dtype\":\"int32\",\"order\":\"little\"}],[\"Timestamp\",{\"type\":\"ndarray\",\"array\":{\"type\":\"bytes\",\"data\":\"AABAW376eEIAAID1K/p4QgAAwI/Z+XhCAAAAKof5eEIAAEDENPl4QgAAAJM9+HhCAABALev3eEIAAIDHmPd4QgAAwGFG93hCAAAA/PP2eEI=\"},\"shape\":[10],\"dtype\":\"float64\",\"order\":\"little\"}],[\"Value\",{\"type\":\"ndarray\",\"array\":{\"type\":\"bytes\",\"data\":\"4XoUrkfhJEBmZmZmZuYjQGZmZmZmZiVAmpmZmZkZJECPwvUoXI8kQAAAAAAAACVAw/UoXI9CJEBmZmZmZmYkQOF6FK5HYSZAzczMzMzMJUA=\"},\"shape\":[10],\"dtype\":\"float64\",\"order\":\"little\"}],[\"item_id\",{\"type\":\"ndarray\",\"array\":[\"RIVN\",\"RIVN\",\"RIVN\",\"RIVN\",\"RIVN\",\"RIVN\",\"RIVN\",\"RIVN\",\"RIVN\",\"RIVN\"],\"shape\":[10],\"dtype\":\"object\",\"order\":\"little\"}]]}}},\"view\":{\"type\":\"object\",\"name\":\"CDSView\",\"id\":\"p1766\",\"attributes\":{\"filter\":{\"type\":\"object\",\"name\":\"AllIndices\",\"id\":\"p1767\"}}},\"glyph\":{\"type\":\"object\",\"name\":\"Line\",\"id\":\"p1762\",\"attributes\":{\"x\":{\"type\":\"field\",\"field\":\"Timestamp\"},\"y\":{\"type\":\"field\",\"field\":\"Value\"},\"line_color\":\"red\",\"line_width\":2}},\"nonselection_glyph\":{\"type\":\"object\",\"name\":\"Line\",\"id\":\"p1763\",\"attributes\":{\"x\":{\"type\":\"field\",\"field\":\"Timestamp\"},\"y\":{\"type\":\"field\",\"field\":\"Value\"},\"line_color\":\"red\",\"line_alpha\":0.1,\"line_width\":2}},\"muted_glyph\":{\"type\":\"object\",\"name\":\"Line\",\"id\":\"p1764\",\"attributes\":{\"x\":{\"type\":\"field\",\"field\":\"Timestamp\"},\"y\":{\"type\":\"field\",\"field\":\"Value\"},\"line_color\":\"red\",\"line_alpha\":0.2,\"line_width\":2}}}}],\"toolbar\":{\"type\":\"object\",\"name\":\"Toolbar\",\"id\":\"p1694\",\"attributes\":{\"tools\":[{\"type\":\"object\",\"name\":\"PanTool\",\"id\":\"p1707\"},{\"type\":\"object\",\"name\":\"WheelZoomTool\",\"id\":\"p1708\",\"attributes\":{\"renderers\":\"auto\"}},{\"type\":\"object\",\"name\":\"BoxZoomTool\",\"id\":\"p1709\",\"attributes\":{\"overlay\":{\"type\":\"object\",\"name\":\"BoxAnnotation\",\"id\":\"p1710\",\"attributes\":{\"syncable\":false,\"level\":\"overlay\",\"visible\":false,\"left\":{\"type\":\"number\",\"value\":\"nan\"},\"right\":{\"type\":\"number\",\"value\":\"nan\"},\"top\":{\"type\":\"number\",\"value\":\"nan\"},\"bottom\":{\"type\":\"number\",\"value\":\"nan\"},\"left_units\":\"canvas\",\"right_units\":\"canvas\",\"top_units\":\"canvas\",\"bottom_units\":\"canvas\",\"line_color\":\"black\",\"line_alpha\":1.0,\"line_width\":2,\"line_dash\":[4,4],\"fill_color\":\"lightgrey\",\"fill_alpha\":0.5}}}},{\"type\":\"object\",\"name\":\"SaveTool\",\"id\":\"p1715\"},{\"type\":\"object\",\"name\":\"ResetTool\",\"id\":\"p1716\"},{\"type\":\"object\",\"name\":\"HelpTool\",\"id\":\"p1717\"},{\"type\":\"object\",\"name\":\"HoverTool\",\"id\":\"p1680\",\"attributes\":{\"renderers\":[{\"id\":\"p1724\"},{\"id\":\"p1765\"}],\"tooltips\":[[\"Timestamp\",\"@Timestamp{%F}\"],[\"Value\",\"$@Value{0,0.00}\"]],\"formatters\":{\"type\":\"map\",\"entries\":[[\"@Timestamp\",\"datetime\"]]},\"mode\":\"vline\"}},{\"type\":\"object\",\"name\":\"CrosshairTool\",\"id\":\"p1681\"}]}},\"left\":[{\"type\":\"object\",\"name\":\"LinearAxis\",\"id\":\"p1702\",\"attributes\":{\"ticker\":{\"type\":\"object\",\"name\":\"BasicTicker\",\"id\":\"p1703\",\"attributes\":{\"mantissas\":[1,2,5]}},\"formatter\":{\"type\":\"object\",\"name\":\"NumeralTickFormatter\",\"id\":\"p1727\",\"attributes\":{\"format\":\"$0.00\"}},\"axis_label\":\"Stock Value\",\"major_label_policy\":{\"type\":\"object\",\"name\":\"AllLabels\",\"id\":\"p1705\"}}}],\"below\":[{\"type\":\"object\",\"name\":\"LinearAxis\",\"id\":\"p1697\",\"attributes\":{\"ticker\":{\"type\":\"object\",\"name\":\"BasicTicker\",\"id\":\"p1698\",\"attributes\":{\"mantissas\":[1,2,5]}},\"formatter\":{\"type\":\"object\",\"name\":\"DatetimeTickFormatter\",\"id\":\"p1728\",\"attributes\":{\"hours\":\"%d %b %Y\",\"days\":\"%d %b %Y\",\"months\":\"%d %b %Y\",\"years\":\"%d %b %Y\"}},\"axis_label\":\"Timestamp\",\"major_label_orientation\":1.0471975511965976,\"major_label_policy\":{\"type\":\"object\",\"name\":\"AllLabels\",\"id\":\"p1700\"}}}],\"center\":[{\"type\":\"object\",\"name\":\"Grid\",\"id\":\"p1701\",\"attributes\":{\"axis\":{\"id\":\"p1697\"}}},{\"type\":\"object\",\"name\":\"Grid\",\"id\":\"p1706\",\"attributes\":{\"dimension\":1,\"axis\":{\"id\":\"p1702\"}}}]}}]}};\n",
       "  const render_items = [{\"docid\":\"72d8958e-355f-43f9-b422-01317b6f731c\",\"roots\":{\"p1685\":\"c9d3d400-2f9f-42b6-8037-b7745369da51\"},\"root_ids\":[\"p1685\"]}];\n",
       "  void root.Bokeh.embed.embed_items_notebook(docs_json, render_items);\n",
       "  }\n",
       "  if (root.Bokeh !== undefined) {\n",
       "    embed_document(root);\n",
       "  } else {\n",
       "    let attempts = 0;\n",
       "    const timer = setInterval(function(root) {\n",
       "      if (root.Bokeh !== undefined) {\n",
       "        clearInterval(timer);\n",
       "        embed_document(root);\n",
       "      } else {\n",
       "        attempts++;\n",
       "        if (attempts > 100) {\n",
       "          clearInterval(timer);\n",
       "          console.log(\"Bokeh: ERROR: Unable to run BokehJS code because BokehJS library is missing\");\n",
       "        }\n",
       "      }\n",
       "    }, 10, root)\n",
       "  }\n",
       "})(window);"
      ],
      "application/vnd.bokehjs_exec.v0+json": ""
     },
     "metadata": {
      "application/vnd.bokehjs_exec.v0+json": {
       "id": "p1685"
      }
     },
     "output_type": "display_data"
    }
   ],
   "source": [
    "for key in forecast_auto_dfs:\n",
    "    auto_plot = util.plot_bokeh_forecasts(\n",
    "        forecast_auto_dfs[key],\n",
    "        exact,\n",
    "        freq=f'1{DATASET_FREQUENCY}',\n",
    "        forecastHorizon=FORECAST_LENGTH,\n",
    "        time_back=30,\n",
    "        future=future_df,\n",
    "        target_col_name=target_column_name,\n",
    "        reverse=True,\n",
    "        title=f\"Stock Price Forecast for {item_id} (Auto v{key})\"\n",
    "    )\n",
    "    show(auto_plot)"
   ]
  },
  {
   "cell_type": "markdown",
   "metadata": {},
   "source": [
    "# Cleanup"
   ]
  },
  {
   "cell_type": "markdown",
   "metadata": {},
   "source": [
    "## Datasets and Dataset Group"
   ]
  },
  {
   "cell_type": "code",
   "execution_count": null,
   "metadata": {},
   "outputs": [],
   "source": [
    "util.delete_dataset_group(dataset_group_arn, forecast)\n",
    "# util.delete_dataset_group(\"arn:aws:forecast:us-east-1:275279264324:dataset-group/mac_training_rivn_forecast_2\", forecast)\n",
    "# util.delete_predictors(\"arn:aws:forecast:us-east-1:275279264324:dataset-group/mac_training_rivn_forecast_2\", forecast)"
   ]
  }
 ],
 "metadata": {
  "kernelspec": {
   "display_name": "conda_python3",
   "language": "python",
   "name": "conda_python3"
  },
  "language_info": {
   "codemirror_mode": {
    "name": "ipython",
    "version": 3
   },
   "file_extension": ".py",
   "mimetype": "text/x-python",
   "name": "python",
   "nbconvert_exporter": "python",
   "pygments_lexer": "ipython3",
   "version": "3.10.14"
  }
 },
 "nbformat": 4,
 "nbformat_minor": 4
}
