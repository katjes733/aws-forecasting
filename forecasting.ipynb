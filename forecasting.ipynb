{
 "cells": [
  {
   "cell_type": "markdown",
   "metadata": {},
   "source": [
    "# Step 0: Initial setup"
   ]
  },
  {
   "cell_type": "markdown",
   "metadata": {},
   "source": [
    "**NOTE:** \n",
    "* Following tasks must be performed each time the notebook instance is started.\n",
    "* This is **NOT** required when the Kernel is restarted."
   ]
  },
  {
   "cell_type": "markdown",
   "metadata": {},
   "source": [
    "**NOTE:** Installation of `jupyter_bokeh` may take a while"
   ]
  },
  {
   "cell_type": "code",
   "execution_count": null,
   "metadata": {
    "tags": []
   },
   "outputs": [],
   "source": [
    "conda install jupyter_bokeh"
   ]
  },
  {
   "cell_type": "markdown",
   "metadata": {},
   "source": [
    "# Step 1: Basic setup"
   ]
  },
  {
   "cell_type": "markdown",
   "metadata": {},
   "source": [
    "**NOTE:** Start here when you restarted your Kernel **ONLY**."
   ]
  },
  {
   "cell_type": "markdown",
   "metadata": {},
   "source": [
    "## Step 1.1: Imports"
   ]
  },
  {
   "cell_type": "code",
   "execution_count": 1,
   "metadata": {
    "tags": []
   },
   "outputs": [
    {
     "data": {
      "text/html": [
       "    <style>\n",
       "        .bk-notebook-logo {\n",
       "            display: block;\n",
       "            width: 20px;\n",
       "            height: 20px;\n",
       "            background-image: url(data:image/png;base64,iVBORw0KGgoAAAANSUhEUgAAABQAAAAUCAYAAACNiR0NAAAABHNCSVQICAgIfAhkiAAAAAlwSFlzAAALEgAACxIB0t1+/AAAABx0RVh0U29mdHdhcmUAQWRvYmUgRmlyZXdvcmtzIENTNui8sowAAAOkSURBVDiNjZRtaJVlGMd/1/08zzln5zjP1LWcU9N0NkN8m2CYjpgQYQXqSs0I84OLIC0hkEKoPtiH3gmKoiJDU7QpLgoLjLIQCpEsNJ1vqUOdO7ppbuec5+V+rj4ctwzd8IIbbi6u+8f1539dt3A78eXC7QizUF7gyV1fD1Yqg4JWz84yffhm0qkFqBogB9rM8tZdtwVsPUhWhGcFJngGeWrPzHm5oaMmkfEg1usvLFyc8jLRqDOMru7AyC8saQr7GG7f5fvDeH7Ej8CM66nIF+8yngt6HWaKh7k49Soy9nXurCi1o3qUbS3zWfrYeQDTB/Qj6kX6Ybhw4B+bOYoLKCC9H3Nu/leUTZ1JdRWkkn2ldcCamzrcf47KKXdAJllSlxAOkRgyHsGC/zRday5Qld9DyoM4/q/rUoy/CXh3jzOu3bHUVZeU+DEn8FInkPBFlu3+nW3Nw0mk6vCDiWg8CeJaxEwuHS3+z5RgY+YBR6V1Z1nxSOfoaPa4LASWxxdNp+VWTk7+4vzaou8v8PN+xo+KY2xsw6une2frhw05CTYOmQvsEhjhWjn0bmXPjpE1+kplmmkP3suftwTubK9Vq22qKmrBhpY4jvd5afdRA3wGjFAgcnTK2s4hY0/GPNIb0nErGMCRxWOOX64Z8RAC4oCXdklmEvcL8o0BfkNK4lUg9HTl+oPlQxdNo3Mg4Nv175e/1LDGzZen30MEjRUtmXSfiTVu1kK8W4txyV6BMKlbgk3lMwYCiusNy9fVfvvwMxv8Ynl6vxoByANLTWplvuj/nF9m2+PDtt1eiHPBr1oIfhCChQMBw6Aw0UulqTKZdfVvfG7VcfIqLG9bcldL/+pdWTLxLUy8Qq38heUIjh4XlzZxzQm19lLFlr8vdQ97rjZVOLf8nclzckbcD4wxXMidpX30sFd37Fv/GtwwhzhxGVAprjbg0gCAEeIgwCZyTV2Z1REEW8O4py0wsjeloKoMr6iCY6dP92H6Vw/oTyICIthibxjm/DfN9lVz8IqtqKYLUXfoKVMVQVVJOElGjrnnUt9T9wbgp8AyYKaGlqingHZU/uG2NTZSVqwHQTWkx9hxjkpWDaCg6Ckj5qebgBVbT3V3NNXMSiWSDdGV3hrtzla7J+duwPOToIg42ChPQOQjspnSlp1V+Gjdged7+8UN5CRAV7a5EdFNwCjEaBR27b3W890TE7g24NAP/mMDXRWrGoFPQI9ls/MWO2dWFAar/xcOIImbbpA3zgAAAABJRU5ErkJggg==);\n",
       "        }\n",
       "    </style>\n",
       "    <div>\n",
       "        <a href=\"https://bokeh.org\" target=\"_blank\" class=\"bk-notebook-logo\"></a>\n",
       "        <span id=\"e63db881-ae77-46d2-afc5-9e02eb63ad2b\">Loading BokehJS ...</span>\n",
       "    </div>\n"
      ]
     },
     "metadata": {},
     "output_type": "display_data"
    },
    {
     "data": {
      "application/javascript": [
       "'use strict';\n",
       "(function(root) {\n",
       "  function now() {\n",
       "    return new Date();\n",
       "  }\n",
       "\n",
       "  const force = true;\n",
       "\n",
       "  if (typeof root._bokeh_onload_callbacks === \"undefined\" || force === true) {\n",
       "    root._bokeh_onload_callbacks = [];\n",
       "    root._bokeh_is_loading = undefined;\n",
       "  }\n",
       "\n",
       "const JS_MIME_TYPE = 'application/javascript';\n",
       "  const HTML_MIME_TYPE = 'text/html';\n",
       "  const EXEC_MIME_TYPE = 'application/vnd.bokehjs_exec.v0+json';\n",
       "  const CLASS_NAME = 'output_bokeh rendered_html';\n",
       "\n",
       "  /**\n",
       "   * Render data to the DOM node\n",
       "   */\n",
       "  function render(props, node) {\n",
       "    const script = document.createElement(\"script\");\n",
       "    node.appendChild(script);\n",
       "  }\n",
       "\n",
       "  /**\n",
       "   * Handle when an output is cleared or removed\n",
       "   */\n",
       "  function handleClearOutput(event, handle) {\n",
       "    function drop(id) {\n",
       "      const view = Bokeh.index.get_by_id(id)\n",
       "      if (view != null) {\n",
       "        view.model.document.clear()\n",
       "        Bokeh.index.delete(view)\n",
       "      }\n",
       "    }\n",
       "\n",
       "    const cell = handle.cell;\n",
       "\n",
       "    const id = cell.output_area._bokeh_element_id;\n",
       "    const server_id = cell.output_area._bokeh_server_id;\n",
       "\n",
       "    // Clean up Bokeh references\n",
       "    if (id != null) {\n",
       "      drop(id)\n",
       "    }\n",
       "\n",
       "    if (server_id !== undefined) {\n",
       "      // Clean up Bokeh references\n",
       "      const cmd_clean = \"from bokeh.io.state import curstate; print(curstate().uuid_to_server['\" + server_id + \"'].get_sessions()[0].document.roots[0]._id)\";\n",
       "      cell.notebook.kernel.execute(cmd_clean, {\n",
       "        iopub: {\n",
       "          output: function(msg) {\n",
       "            const id = msg.content.text.trim()\n",
       "            drop(id)\n",
       "          }\n",
       "        }\n",
       "      });\n",
       "      // Destroy server and session\n",
       "      const cmd_destroy = \"import bokeh.io.notebook as ion; ion.destroy_server('\" + server_id + \"')\";\n",
       "      cell.notebook.kernel.execute(cmd_destroy);\n",
       "    }\n",
       "  }\n",
       "\n",
       "  /**\n",
       "   * Handle when a new output is added\n",
       "   */\n",
       "  function handleAddOutput(event, handle) {\n",
       "    const output_area = handle.output_area;\n",
       "    const output = handle.output;\n",
       "\n",
       "    // limit handleAddOutput to display_data with EXEC_MIME_TYPE content only\n",
       "    if ((output.output_type != \"display_data\") || (!Object.prototype.hasOwnProperty.call(output.data, EXEC_MIME_TYPE))) {\n",
       "      return\n",
       "    }\n",
       "\n",
       "    const toinsert = output_area.element.find(\".\" + CLASS_NAME.split(' ')[0]);\n",
       "\n",
       "    if (output.metadata[EXEC_MIME_TYPE][\"id\"] !== undefined) {\n",
       "      toinsert[toinsert.length - 1].firstChild.textContent = output.data[JS_MIME_TYPE];\n",
       "      // store reference to embed id on output_area\n",
       "      output_area._bokeh_element_id = output.metadata[EXEC_MIME_TYPE][\"id\"];\n",
       "    }\n",
       "    if (output.metadata[EXEC_MIME_TYPE][\"server_id\"] !== undefined) {\n",
       "      const bk_div = document.createElement(\"div\");\n",
       "      bk_div.innerHTML = output.data[HTML_MIME_TYPE];\n",
       "      const script_attrs = bk_div.children[0].attributes;\n",
       "      for (let i = 0; i < script_attrs.length; i++) {\n",
       "        toinsert[toinsert.length - 1].firstChild.setAttribute(script_attrs[i].name, script_attrs[i].value);\n",
       "        toinsert[toinsert.length - 1].firstChild.textContent = bk_div.children[0].textContent\n",
       "      }\n",
       "      // store reference to server id on output_area\n",
       "      output_area._bokeh_server_id = output.metadata[EXEC_MIME_TYPE][\"server_id\"];\n",
       "    }\n",
       "  }\n",
       "\n",
       "  function register_renderer(events, OutputArea) {\n",
       "\n",
       "    function append_mime(data, metadata, element) {\n",
       "      // create a DOM node to render to\n",
       "      const toinsert = this.create_output_subarea(\n",
       "        metadata,\n",
       "        CLASS_NAME,\n",
       "        EXEC_MIME_TYPE\n",
       "      );\n",
       "      this.keyboard_manager.register_events(toinsert);\n",
       "      // Render to node\n",
       "      const props = {data: data, metadata: metadata[EXEC_MIME_TYPE]};\n",
       "      render(props, toinsert[toinsert.length - 1]);\n",
       "      element.append(toinsert);\n",
       "      return toinsert\n",
       "    }\n",
       "\n",
       "    /* Handle when an output is cleared or removed */\n",
       "    events.on('clear_output.CodeCell', handleClearOutput);\n",
       "    events.on('delete.Cell', handleClearOutput);\n",
       "\n",
       "    /* Handle when a new output is added */\n",
       "    events.on('output_added.OutputArea', handleAddOutput);\n",
       "\n",
       "    /**\n",
       "     * Register the mime type and append_mime function with output_area\n",
       "     */\n",
       "    OutputArea.prototype.register_mime_type(EXEC_MIME_TYPE, append_mime, {\n",
       "      /* Is output safe? */\n",
       "      safe: true,\n",
       "      /* Index of renderer in `output_area.display_order` */\n",
       "      index: 0\n",
       "    });\n",
       "  }\n",
       "\n",
       "  // register the mime type if in Jupyter Notebook environment and previously unregistered\n",
       "  if (root.Jupyter !== undefined) {\n",
       "    const events = require('base/js/events');\n",
       "    const OutputArea = require('notebook/js/outputarea').OutputArea;\n",
       "\n",
       "    if (OutputArea.prototype.mime_types().indexOf(EXEC_MIME_TYPE) == -1) {\n",
       "      register_renderer(events, OutputArea);\n",
       "    }\n",
       "  }\n",
       "  if (typeof (root._bokeh_timeout) === \"undefined\" || force === true) {\n",
       "    root._bokeh_timeout = Date.now() + 5000;\n",
       "    root._bokeh_failed_load = false;\n",
       "  }\n",
       "\n",
       "  const NB_LOAD_WARNING = {'data': {'text/html':\n",
       "     \"<div style='background-color: #fdd'>\\n\"+\n",
       "     \"<p>\\n\"+\n",
       "     \"BokehJS does not appear to have successfully loaded. If loading BokehJS from CDN, this \\n\"+\n",
       "     \"may be due to a slow or bad network connection. Possible fixes:\\n\"+\n",
       "     \"</p>\\n\"+\n",
       "     \"<ul>\\n\"+\n",
       "     \"<li>re-rerun `output_notebook()` to attempt to load from CDN again, or</li>\\n\"+\n",
       "     \"<li>use INLINE resources instead, as so:</li>\\n\"+\n",
       "     \"</ul>\\n\"+\n",
       "     \"<code>\\n\"+\n",
       "     \"from bokeh.resources import INLINE\\n\"+\n",
       "     \"output_notebook(resources=INLINE)\\n\"+\n",
       "     \"</code>\\n\"+\n",
       "     \"</div>\"}};\n",
       "\n",
       "  function display_loaded(error = null) {\n",
       "    const el = document.getElementById(\"e63db881-ae77-46d2-afc5-9e02eb63ad2b\");\n",
       "    if (el != null) {\n",
       "      const html = (() => {\n",
       "        if (typeof root.Bokeh === \"undefined\") {\n",
       "          if (error == null) {\n",
       "            return \"BokehJS is loading ...\";\n",
       "          } else {\n",
       "            return \"BokehJS failed to load.\";\n",
       "          }\n",
       "        } else {\n",
       "          const prefix = `BokehJS ${root.Bokeh.version}`;\n",
       "          if (error == null) {\n",
       "            return `${prefix} successfully loaded.`;\n",
       "          } else {\n",
       "            return `${prefix} <b>encountered errors</b> while loading and may not function as expected.`;\n",
       "          }\n",
       "        }\n",
       "      })();\n",
       "      el.innerHTML = html;\n",
       "\n",
       "      if (error != null) {\n",
       "        const wrapper = document.createElement(\"div\");\n",
       "        wrapper.style.overflow = \"auto\";\n",
       "        wrapper.style.height = \"5em\";\n",
       "        wrapper.style.resize = \"vertical\";\n",
       "        const content = document.createElement(\"div\");\n",
       "        content.style.fontFamily = \"monospace\";\n",
       "        content.style.whiteSpace = \"pre-wrap\";\n",
       "        content.style.backgroundColor = \"rgb(255, 221, 221)\";\n",
       "        content.textContent = error.stack ?? error.toString();\n",
       "        wrapper.append(content);\n",
       "        el.append(wrapper);\n",
       "      }\n",
       "    } else if (Date.now() < root._bokeh_timeout) {\n",
       "      setTimeout(() => display_loaded(error), 100);\n",
       "    }\n",
       "  }\n",
       "\n",
       "  function run_callbacks() {\n",
       "    try {\n",
       "      root._bokeh_onload_callbacks.forEach(function(callback) {\n",
       "        if (callback != null)\n",
       "          callback();\n",
       "      });\n",
       "    } finally {\n",
       "      delete root._bokeh_onload_callbacks\n",
       "    }\n",
       "    console.debug(\"Bokeh: all callbacks have finished\");\n",
       "  }\n",
       "\n",
       "  function load_libs(css_urls, js_urls, callback) {\n",
       "    if (css_urls == null) css_urls = [];\n",
       "    if (js_urls == null) js_urls = [];\n",
       "\n",
       "    root._bokeh_onload_callbacks.push(callback);\n",
       "    if (root._bokeh_is_loading > 0) {\n",
       "      console.debug(\"Bokeh: BokehJS is being loaded, scheduling callback at\", now());\n",
       "      return null;\n",
       "    }\n",
       "    if (js_urls == null || js_urls.length === 0) {\n",
       "      run_callbacks();\n",
       "      return null;\n",
       "    }\n",
       "    console.debug(\"Bokeh: BokehJS not loaded, scheduling load and callback at\", now());\n",
       "    root._bokeh_is_loading = css_urls.length + js_urls.length;\n",
       "\n",
       "    function on_load() {\n",
       "      root._bokeh_is_loading--;\n",
       "      if (root._bokeh_is_loading === 0) {\n",
       "        console.debug(\"Bokeh: all BokehJS libraries/stylesheets loaded\");\n",
       "        run_callbacks()\n",
       "      }\n",
       "    }\n",
       "\n",
       "    function on_error(url) {\n",
       "      console.error(\"failed to load \" + url);\n",
       "    }\n",
       "\n",
       "    for (let i = 0; i < css_urls.length; i++) {\n",
       "      const url = css_urls[i];\n",
       "      const element = document.createElement(\"link\");\n",
       "      element.onload = on_load;\n",
       "      element.onerror = on_error.bind(null, url);\n",
       "      element.rel = \"stylesheet\";\n",
       "      element.type = \"text/css\";\n",
       "      element.href = url;\n",
       "      console.debug(\"Bokeh: injecting link tag for BokehJS stylesheet: \", url);\n",
       "      document.body.appendChild(element);\n",
       "    }\n",
       "\n",
       "    for (let i = 0; i < js_urls.length; i++) {\n",
       "      const url = js_urls[i];\n",
       "      const element = document.createElement('script');\n",
       "      element.onload = on_load;\n",
       "      element.onerror = on_error.bind(null, url);\n",
       "      element.async = false;\n",
       "      element.src = url;\n",
       "      console.debug(\"Bokeh: injecting script tag for BokehJS library: \", url);\n",
       "      document.head.appendChild(element);\n",
       "    }\n",
       "  };\n",
       "\n",
       "  function inject_raw_css(css) {\n",
       "    const element = document.createElement(\"style\");\n",
       "    element.appendChild(document.createTextNode(css));\n",
       "    document.body.appendChild(element);\n",
       "  }\n",
       "\n",
       "  const js_urls = [\"https://cdn.bokeh.org/bokeh/release/bokeh-3.4.0.min.js\", \"https://cdn.bokeh.org/bokeh/release/bokeh-gl-3.4.0.min.js\", \"https://cdn.bokeh.org/bokeh/release/bokeh-widgets-3.4.0.min.js\", \"https://cdn.bokeh.org/bokeh/release/bokeh-tables-3.4.0.min.js\", \"https://cdn.bokeh.org/bokeh/release/bokeh-mathjax-3.4.0.min.js\"];\n",
       "  const css_urls = [];\n",
       "\n",
       "  const inline_js = [    function(Bokeh) {\n",
       "      Bokeh.set_log_level(\"info\");\n",
       "    },\n",
       "function(Bokeh) {\n",
       "    }\n",
       "  ];\n",
       "\n",
       "  function run_inline_js() {\n",
       "    if (root.Bokeh !== undefined || force === true) {\n",
       "      try {\n",
       "            for (let i = 0; i < inline_js.length; i++) {\n",
       "      inline_js[i].call(root, root.Bokeh);\n",
       "    }\n",
       "\n",
       "      } catch (error) {display_loaded(error);throw error;\n",
       "      }if (force === true) {\n",
       "        display_loaded();\n",
       "      }} else if (Date.now() < root._bokeh_timeout) {\n",
       "      setTimeout(run_inline_js, 100);\n",
       "    } else if (!root._bokeh_failed_load) {\n",
       "      console.log(\"Bokeh: BokehJS failed to load within specified timeout.\");\n",
       "      root._bokeh_failed_load = true;\n",
       "    } else if (force !== true) {\n",
       "      const cell = $(document.getElementById(\"e63db881-ae77-46d2-afc5-9e02eb63ad2b\")).parents('.cell').data().cell;\n",
       "      cell.output_area.append_execute_result(NB_LOAD_WARNING)\n",
       "    }\n",
       "  }\n",
       "\n",
       "  if (root._bokeh_is_loading === 0) {\n",
       "    console.debug(\"Bokeh: BokehJS loaded, going straight to plotting\");\n",
       "    run_inline_js();\n",
       "  } else {\n",
       "    load_libs(css_urls, js_urls, function() {\n",
       "      console.debug(\"Bokeh: BokehJS plotting callback run at\", now());\n",
       "      run_inline_js();\n",
       "    });\n",
       "  }\n",
       "}(window));"
      ],
      "application/vnd.bokehjs_load.v0+json": "'use strict';\n(function(root) {\n  function now() {\n    return new Date();\n  }\n\n  const force = true;\n\n  if (typeof root._bokeh_onload_callbacks === \"undefined\" || force === true) {\n    root._bokeh_onload_callbacks = [];\n    root._bokeh_is_loading = undefined;\n  }\n\n\n  if (typeof (root._bokeh_timeout) === \"undefined\" || force === true) {\n    root._bokeh_timeout = Date.now() + 5000;\n    root._bokeh_failed_load = false;\n  }\n\n  const NB_LOAD_WARNING = {'data': {'text/html':\n     \"<div style='background-color: #fdd'>\\n\"+\n     \"<p>\\n\"+\n     \"BokehJS does not appear to have successfully loaded. If loading BokehJS from CDN, this \\n\"+\n     \"may be due to a slow or bad network connection. Possible fixes:\\n\"+\n     \"</p>\\n\"+\n     \"<ul>\\n\"+\n     \"<li>re-rerun `output_notebook()` to attempt to load from CDN again, or</li>\\n\"+\n     \"<li>use INLINE resources instead, as so:</li>\\n\"+\n     \"</ul>\\n\"+\n     \"<code>\\n\"+\n     \"from bokeh.resources import INLINE\\n\"+\n     \"output_notebook(resources=INLINE)\\n\"+\n     \"</code>\\n\"+\n     \"</div>\"}};\n\n  function display_loaded(error = null) {\n    const el = document.getElementById(\"e63db881-ae77-46d2-afc5-9e02eb63ad2b\");\n    if (el != null) {\n      const html = (() => {\n        if (typeof root.Bokeh === \"undefined\") {\n          if (error == null) {\n            return \"BokehJS is loading ...\";\n          } else {\n            return \"BokehJS failed to load.\";\n          }\n        } else {\n          const prefix = `BokehJS ${root.Bokeh.version}`;\n          if (error == null) {\n            return `${prefix} successfully loaded.`;\n          } else {\n            return `${prefix} <b>encountered errors</b> while loading and may not function as expected.`;\n          }\n        }\n      })();\n      el.innerHTML = html;\n\n      if (error != null) {\n        const wrapper = document.createElement(\"div\");\n        wrapper.style.overflow = \"auto\";\n        wrapper.style.height = \"5em\";\n        wrapper.style.resize = \"vertical\";\n        const content = document.createElement(\"div\");\n        content.style.fontFamily = \"monospace\";\n        content.style.whiteSpace = \"pre-wrap\";\n        content.style.backgroundColor = \"rgb(255, 221, 221)\";\n        content.textContent = error.stack ?? error.toString();\n        wrapper.append(content);\n        el.append(wrapper);\n      }\n    } else if (Date.now() < root._bokeh_timeout) {\n      setTimeout(() => display_loaded(error), 100);\n    }\n  }\n\n  function run_callbacks() {\n    try {\n      root._bokeh_onload_callbacks.forEach(function(callback) {\n        if (callback != null)\n          callback();\n      });\n    } finally {\n      delete root._bokeh_onload_callbacks\n    }\n    console.debug(\"Bokeh: all callbacks have finished\");\n  }\n\n  function load_libs(css_urls, js_urls, callback) {\n    if (css_urls == null) css_urls = [];\n    if (js_urls == null) js_urls = [];\n\n    root._bokeh_onload_callbacks.push(callback);\n    if (root._bokeh_is_loading > 0) {\n      console.debug(\"Bokeh: BokehJS is being loaded, scheduling callback at\", now());\n      return null;\n    }\n    if (js_urls == null || js_urls.length === 0) {\n      run_callbacks();\n      return null;\n    }\n    console.debug(\"Bokeh: BokehJS not loaded, scheduling load and callback at\", now());\n    root._bokeh_is_loading = css_urls.length + js_urls.length;\n\n    function on_load() {\n      root._bokeh_is_loading--;\n      if (root._bokeh_is_loading === 0) {\n        console.debug(\"Bokeh: all BokehJS libraries/stylesheets loaded\");\n        run_callbacks()\n      }\n    }\n\n    function on_error(url) {\n      console.error(\"failed to load \" + url);\n    }\n\n    for (let i = 0; i < css_urls.length; i++) {\n      const url = css_urls[i];\n      const element = document.createElement(\"link\");\n      element.onload = on_load;\n      element.onerror = on_error.bind(null, url);\n      element.rel = \"stylesheet\";\n      element.type = \"text/css\";\n      element.href = url;\n      console.debug(\"Bokeh: injecting link tag for BokehJS stylesheet: \", url);\n      document.body.appendChild(element);\n    }\n\n    for (let i = 0; i < js_urls.length; i++) {\n      const url = js_urls[i];\n      const element = document.createElement('script');\n      element.onload = on_load;\n      element.onerror = on_error.bind(null, url);\n      element.async = false;\n      element.src = url;\n      console.debug(\"Bokeh: injecting script tag for BokehJS library: \", url);\n      document.head.appendChild(element);\n    }\n  };\n\n  function inject_raw_css(css) {\n    const element = document.createElement(\"style\");\n    element.appendChild(document.createTextNode(css));\n    document.body.appendChild(element);\n  }\n\n  const js_urls = [\"https://cdn.bokeh.org/bokeh/release/bokeh-3.4.0.min.js\", \"https://cdn.bokeh.org/bokeh/release/bokeh-gl-3.4.0.min.js\", \"https://cdn.bokeh.org/bokeh/release/bokeh-widgets-3.4.0.min.js\", \"https://cdn.bokeh.org/bokeh/release/bokeh-tables-3.4.0.min.js\", \"https://cdn.bokeh.org/bokeh/release/bokeh-mathjax-3.4.0.min.js\"];\n  const css_urls = [];\n\n  const inline_js = [    function(Bokeh) {\n      Bokeh.set_log_level(\"info\");\n    },\nfunction(Bokeh) {\n    }\n  ];\n\n  function run_inline_js() {\n    if (root.Bokeh !== undefined || force === true) {\n      try {\n            for (let i = 0; i < inline_js.length; i++) {\n      inline_js[i].call(root, root.Bokeh);\n    }\n\n      } catch (error) {display_loaded(error);throw error;\n      }if (force === true) {\n        display_loaded();\n      }} else if (Date.now() < root._bokeh_timeout) {\n      setTimeout(run_inline_js, 100);\n    } else if (!root._bokeh_failed_load) {\n      console.log(\"Bokeh: BokehJS failed to load within specified timeout.\");\n      root._bokeh_failed_load = true;\n    } else if (force !== true) {\n      const cell = $(document.getElementById(\"e63db881-ae77-46d2-afc5-9e02eb63ad2b\")).parents('.cell').data().cell;\n      cell.output_area.append_execute_result(NB_LOAD_WARNING)\n    }\n  }\n\n  if (root._bokeh_is_loading === 0) {\n    console.debug(\"Bokeh: BokehJS loaded, going straight to plotting\");\n    run_inline_js();\n  } else {\n    load_libs(css_urls, js_urls, function() {\n      console.debug(\"Bokeh: BokehJS plotting callback run at\", now());\n      run_inline_js();\n    });\n  }\n}(window));"
     },
     "metadata": {},
     "output_type": "display_data"
    }
   ],
   "source": [
    "import sys\n",
    "import os\n",
    "from datetime import datetime\n",
    "from pathlib import Path\n",
    "\n",
    "# importing forecast notebook utility from notebooks/common directory\n",
    "sys.path.insert(0, os.path.abspath(\"./common/\"))\n",
    "import util\n",
    "import util.fcst_utils\n",
    "\n",
    "%reload_ext autoreload\n",
    "import boto3\n",
    "import pandas as pd\n",
    "import matplotlib.pyplot as plt\n",
    "%matplotlib inline \n",
    "plt.rcParams['figure.figsize'] = (15.0, 5.0)\n",
    "\n",
    "pd.options.mode.copy_on_write = True\n",
    "\n",
    "from bokeh.io import output_notebook\n",
    "from bokeh.plotting import show\n",
    "\n",
    "output_notebook()"
   ]
  },
  {
   "cell_type": "markdown",
   "metadata": {},
   "source": [
    "## Step 1.2: Setup variables"
   ]
  },
  {
   "cell_type": "code",
   "execution_count": 2,
   "metadata": {
    "tags": []
   },
   "outputs": [],
   "source": [
    "# Resource tag values\n",
    "owner = \"martin.macecek@rearc.io\"\n",
    "type = \"Internal\"\n",
    "usage = \"Playground\"\n",
    "\n",
    "# Custom variables\n",
    "prefix = \"mac-training\"\n",
    "role_name = f\"{prefix}-forecasting\"\n",
    "bucket_name = f\"{prefix}-bucket-275279264324-us-east-1\"\n",
    "path = \"forecasting/input\"\n",
    "data_key = f\"{path}/RIVN.csv\"\n",
    "future_data_key = f\"{path}/RIVN_20240513.csv\"\n",
    "prepared_data_key_prefix = \"forecasting/prepared/rivn\"\n",
    "item_id = \"RIVN\"\n",
    "target_column_name = \"close\"\n",
    "domain=\"RETAIL\"\n",
    "\n",
    "# Setup more variables\n",
    "s3_target_data_key = f\"s3://{bucket_name}/{prepared_data_key_prefix}.csv\"\n",
    "s3_related_data_key = f\"s3://{bucket_name}/{prepared_data_key_prefix}_rts.csv\"\n",
    "date_format = '%Y%m%d_%H%M%S'\n",
    "ui_date_format = '%a, %d %b %Y %H:%M:%S %Z'\n",
    "\n",
    "# Tags for resource tagging\n",
    "tags = [{'Key': 'Owner', 'Value': owner},\n",
    "        {'Key': 'Type', 'Value': type},\n",
    "        {'Key': 'Usage', 'Value': usage}]"
   ]
  },
  {
   "cell_type": "markdown",
   "metadata": {},
   "source": [
    "## Step 1.3: API connectivity"
   ]
  },
  {
   "cell_type": "code",
   "execution_count": 3,
   "metadata": {
    "tags": []
   },
   "outputs": [
    {
     "name": "stdout",
     "output_type": "stream",
     "text": [
      "Account: 275279264324, Region: us-east-1\n"
     ]
    }
   ],
   "source": [
    "region = boto3.Session().region_name\n",
    "account_id = boto3.client('sts').get_caller_identity().get('Account')\n",
    "print(f\"Account: {account_id}, Region: {region}\")"
   ]
  },
  {
   "cell_type": "code",
   "execution_count": 4,
   "metadata": {
    "tags": []
   },
   "outputs": [],
   "source": [
    "# Connect API sessions\n",
    "session = boto3.Session(region_name=region) \n",
    "s3 = session.client(service_name='s3')\n",
    "forecast = session.client(service_name='forecast')\n",
    "forecastquery = session.client(service_name='forecastquery')"
   ]
  },
  {
   "cell_type": "markdown",
   "metadata": {},
   "source": [
    "## Step 1.4: AWS resources"
   ]
  },
  {
   "cell_type": "code",
   "execution_count": 5,
   "metadata": {
    "tags": []
   },
   "outputs": [
    {
     "name": "stdout",
     "output_type": "stream",
     "text": [
      "The role mac-training-forecasting exists, skipping creation...\n",
      "Done.\n",
      "Success! Role 'mac-training-forecasting' ready for use.\n"
     ]
    }
   ],
   "source": [
    "# Create or retrieve the role to provide to Amazon Forecast.\n",
    "role_arn = util.get_or_create_iam_role(role_name=role_name)\n",
    "\n",
    "# echo user inputs without account\n",
    "print(f\"Success! Role '{role_arn.split('/')[1]}' ready for use.\")"
   ]
  },
  {
   "cell_type": "code",
   "execution_count": 6,
   "metadata": {
    "tags": []
   },
   "outputs": [
    {
     "name": "stdout",
     "output_type": "stream",
     "text": [
      "Success! Bucket 'mac-training-bucket-275279264324-us-east-1' ready for use.\n"
     ]
    }
   ],
   "source": [
    "util.get_or_create_bucket(bucket_name, region=region)\n",
    "print(f\"Success! Bucket '{bucket_name}' ready for use.\")"
   ]
  },
  {
   "cell_type": "markdown",
   "metadata": {},
   "source": [
    "# Step 2: Data preparation"
   ]
  },
  {
   "cell_type": "code",
   "execution_count": 7,
   "metadata": {
    "tags": []
   },
   "outputs": [
    {
     "name": "stderr",
     "output_type": "stream",
     "text": [
      "/home/ec2-user/anaconda3/envs/python3/lib/python3.10/site-packages/fsspec/registry.py:275: UserWarning: Your installed version of s3fs is very old and known to cause\n",
      "severe performance issues, see also https://github.com/dask/dask/issues/10276\n",
      "\n",
      "To fix, you should specify a lower version bound on s3fs, or\n",
      "update the current installation.\n",
      "\n",
      "  warnings.warn(s3_msg)\n"
     ]
    },
    {
     "data": {
      "text/html": [
       "<div>\n",
       "<style scoped>\n",
       "    .dataframe tbody tr th:only-of-type {\n",
       "        vertical-align: middle;\n",
       "    }\n",
       "\n",
       "    .dataframe tbody tr th {\n",
       "        vertical-align: top;\n",
       "    }\n",
       "\n",
       "    .dataframe thead th {\n",
       "        text-align: right;\n",
       "    }\n",
       "</style>\n",
       "<table border=\"1\" class=\"dataframe\">\n",
       "  <thead>\n",
       "    <tr style=\"text-align: right;\">\n",
       "      <th></th>\n",
       "      <th>timestamp</th>\n",
       "      <th>close</th>\n",
       "      <th>open</th>\n",
       "      <th>high</th>\n",
       "      <th>low</th>\n",
       "      <th>item_id</th>\n",
       "    </tr>\n",
       "  </thead>\n",
       "  <tbody>\n",
       "    <tr>\n",
       "      <th>0</th>\n",
       "      <td>2024-05-13</td>\n",
       "      <td>10.90</td>\n",
       "      <td>10.04</td>\n",
       "      <td>11.19</td>\n",
       "      <td>10.04</td>\n",
       "      <td>RIVN</td>\n",
       "    </tr>\n",
       "    <tr>\n",
       "      <th>1</th>\n",
       "      <td>2024-05-12</td>\n",
       "      <td>9.99</td>\n",
       "      <td>10.20</td>\n",
       "      <td>10.40</td>\n",
       "      <td>9.84</td>\n",
       "      <td>RIVN</td>\n",
       "    </tr>\n",
       "    <tr>\n",
       "      <th>2</th>\n",
       "      <td>2024-05-11</td>\n",
       "      <td>9.99</td>\n",
       "      <td>10.20</td>\n",
       "      <td>10.40</td>\n",
       "      <td>9.84</td>\n",
       "      <td>RIVN</td>\n",
       "    </tr>\n",
       "    <tr>\n",
       "      <th>3</th>\n",
       "      <td>2024-05-10</td>\n",
       "      <td>9.99</td>\n",
       "      <td>10.20</td>\n",
       "      <td>10.40</td>\n",
       "      <td>9.84</td>\n",
       "      <td>RIVN</td>\n",
       "    </tr>\n",
       "    <tr>\n",
       "      <th>4</th>\n",
       "      <td>2024-05-09</td>\n",
       "      <td>10.22</td>\n",
       "      <td>10.25</td>\n",
       "      <td>10.47</td>\n",
       "      <td>10.04</td>\n",
       "      <td>RIVN</td>\n",
       "    </tr>\n",
       "  </tbody>\n",
       "</table>\n",
       "</div>"
      ],
      "text/plain": [
       "   timestamp  close   open   high    low item_id\n",
       "0 2024-05-13  10.90  10.04  11.19  10.04    RIVN\n",
       "1 2024-05-12   9.99  10.20  10.40   9.84    RIVN\n",
       "2 2024-05-11   9.99  10.20  10.40   9.84    RIVN\n",
       "3 2024-05-10   9.99  10.20  10.40   9.84    RIVN\n",
       "4 2024-05-09  10.22  10.25  10.47  10.04    RIVN"
      ]
     },
     "execution_count": 7,
     "metadata": {},
     "output_type": "execute_result"
    }
   ],
   "source": [
    "stock_df = util.prepare_data(bucket_name, data_key, \"%m/%d/%Y\", target_column_name, item_id, fill_missing_values=True)\n",
    "stock_df.head()"
   ]
  },
  {
   "cell_type": "code",
   "execution_count": 8,
   "metadata": {
    "tags": []
   },
   "outputs": [
    {
     "data": {
      "image/png": "[encoded data removed]",
      "text/plain": [
       "<Figure size 1500x800 with 1 Axes>"
      ]
     },
     "metadata": {},
     "output_type": "display_data"
    }
   ],
   "source": [
    "stock_df.plot(x='timestamp', y=[target_column_name, 'open', 'high', 'low'], figsize=(15, 8))\n",
    "plt.xlabel('Date Time')\n",
    "plt.ylabel('Stock Price')\n",
    "plt.show()"
   ]
  },
  {
   "cell_type": "code",
   "execution_count": 9,
   "metadata": {
    "tags": []
   },
   "outputs": [
    {
     "data": {
      "text/html": [
       "<div>\n",
       "<style scoped>\n",
       "    .dataframe tbody tr th:only-of-type {\n",
       "        vertical-align: middle;\n",
       "    }\n",
       "\n",
       "    .dataframe tbody tr th {\n",
       "        vertical-align: top;\n",
       "    }\n",
       "\n",
       "    .dataframe thead th {\n",
       "        text-align: right;\n",
       "    }\n",
       "</style>\n",
       "<table border=\"1\" class=\"dataframe\">\n",
       "  <thead>\n",
       "    <tr style=\"text-align: right;\">\n",
       "      <th></th>\n",
       "      <th>timestamp</th>\n",
       "      <th>open</th>\n",
       "      <th>high</th>\n",
       "      <th>low</th>\n",
       "      <th>item_id</th>\n",
       "      <th>amzn_close</th>\n",
       "      <th>ford_close</th>\n",
       "      <th>gm_close</th>\n",
       "      <th>lcid_close</th>\n",
       "      <th>nkla_close</th>\n",
       "      <th>tsla_close</th>\n",
       "    </tr>\n",
       "  </thead>\n",
       "  <tbody>\n",
       "    <tr>\n",
       "      <th>0</th>\n",
       "      <td>2024-05-13</td>\n",
       "      <td>10.04</td>\n",
       "      <td>11.19</td>\n",
       "      <td>10.04</td>\n",
       "      <td>RIVN</td>\n",
       "      <td>186.57</td>\n",
       "      <td>12.32</td>\n",
       "      <td>45.16</td>\n",
       "      <td>2.81</td>\n",
       "      <td>0.5499</td>\n",
       "      <td>171.89</td>\n",
       "    </tr>\n",
       "    <tr>\n",
       "      <th>1</th>\n",
       "      <td>2024-05-12</td>\n",
       "      <td>10.20</td>\n",
       "      <td>10.40</td>\n",
       "      <td>9.84</td>\n",
       "      <td>RIVN</td>\n",
       "      <td>187.48</td>\n",
       "      <td>11.99</td>\n",
       "      <td>45.20</td>\n",
       "      <td>2.66</td>\n",
       "      <td>0.5370</td>\n",
       "      <td>168.47</td>\n",
       "    </tr>\n",
       "    <tr>\n",
       "      <th>2</th>\n",
       "      <td>2024-05-11</td>\n",
       "      <td>10.20</td>\n",
       "      <td>10.40</td>\n",
       "      <td>9.84</td>\n",
       "      <td>RIVN</td>\n",
       "      <td>187.48</td>\n",
       "      <td>11.99</td>\n",
       "      <td>45.20</td>\n",
       "      <td>2.66</td>\n",
       "      <td>0.5370</td>\n",
       "      <td>168.47</td>\n",
       "    </tr>\n",
       "    <tr>\n",
       "      <th>3</th>\n",
       "      <td>2024-05-10</td>\n",
       "      <td>10.20</td>\n",
       "      <td>10.40</td>\n",
       "      <td>9.84</td>\n",
       "      <td>RIVN</td>\n",
       "      <td>187.48</td>\n",
       "      <td>11.99</td>\n",
       "      <td>45.20</td>\n",
       "      <td>2.66</td>\n",
       "      <td>0.5370</td>\n",
       "      <td>168.47</td>\n",
       "    </tr>\n",
       "    <tr>\n",
       "      <th>4</th>\n",
       "      <td>2024-05-09</td>\n",
       "      <td>10.25</td>\n",
       "      <td>10.47</td>\n",
       "      <td>10.04</td>\n",
       "      <td>RIVN</td>\n",
       "      <td>189.50</td>\n",
       "      <td>12.14</td>\n",
       "      <td>45.37</td>\n",
       "      <td>2.70</td>\n",
       "      <td>0.5760</td>\n",
       "      <td>171.97</td>\n",
       "    </tr>\n",
       "    <tr>\n",
       "      <th>...</th>\n",
       "      <td>...</td>\n",
       "      <td>...</td>\n",
       "      <td>...</td>\n",
       "      <td>...</td>\n",
       "      <td>...</td>\n",
       "      <td>...</td>\n",
       "      <td>...</td>\n",
       "      <td>...</td>\n",
       "      <td>...</td>\n",
       "      <td>...</td>\n",
       "      <td>...</td>\n",
       "    </tr>\n",
       "    <tr>\n",
       "      <th>910</th>\n",
       "      <td>2021-11-15</td>\n",
       "      <td>130.80</td>\n",
       "      <td>152.53</td>\n",
       "      <td>127.51</td>\n",
       "      <td>RIVN</td>\n",
       "      <td>177.28</td>\n",
       "      <td>18.90</td>\n",
       "      <td>62.97</td>\n",
       "      <td>44.88</td>\n",
       "      <td>13.7300</td>\n",
       "      <td>337.80</td>\n",
       "    </tr>\n",
       "    <tr>\n",
       "      <th>911</th>\n",
       "      <td>2021-11-14</td>\n",
       "      <td>128.65</td>\n",
       "      <td>135.20</td>\n",
       "      <td>125.25</td>\n",
       "      <td>RIVN</td>\n",
       "      <td>176.26</td>\n",
       "      <td>18.56</td>\n",
       "      <td>63.40</td>\n",
       "      <td>43.93</td>\n",
       "      <td>13.9800</td>\n",
       "      <td>344.47</td>\n",
       "    </tr>\n",
       "    <tr>\n",
       "      <th>912</th>\n",
       "      <td>2021-11-13</td>\n",
       "      <td>128.65</td>\n",
       "      <td>135.20</td>\n",
       "      <td>125.25</td>\n",
       "      <td>RIVN</td>\n",
       "      <td>176.26</td>\n",
       "      <td>18.56</td>\n",
       "      <td>63.40</td>\n",
       "      <td>43.93</td>\n",
       "      <td>13.9800</td>\n",
       "      <td>344.47</td>\n",
       "    </tr>\n",
       "    <tr>\n",
       "      <th>913</th>\n",
       "      <td>2021-11-12</td>\n",
       "      <td>128.65</td>\n",
       "      <td>135.20</td>\n",
       "      <td>125.25</td>\n",
       "      <td>RIVN</td>\n",
       "      <td>176.26</td>\n",
       "      <td>18.56</td>\n",
       "      <td>63.40</td>\n",
       "      <td>43.93</td>\n",
       "      <td>13.9800</td>\n",
       "      <td>344.47</td>\n",
       "    </tr>\n",
       "    <tr>\n",
       "      <th>914</th>\n",
       "      <td>2021-11-11</td>\n",
       "      <td>114.63</td>\n",
       "      <td>125.00</td>\n",
       "      <td>108.01</td>\n",
       "      <td>RIVN</td>\n",
       "      <td>173.62</td>\n",
       "      <td>18.61</td>\n",
       "      <td>61.82</td>\n",
       "      <td>44.98</td>\n",
       "      <td>14.3600</td>\n",
       "      <td>354.50</td>\n",
       "    </tr>\n",
       "  </tbody>\n",
       "</table>\n",
       "<p>915 rows × 11 columns</p>\n",
       "</div>"
      ],
      "text/plain": [
       "     timestamp    open    high     low item_id  amzn_close  ford_close  \\\n",
       "0   2024-05-13   10.04   11.19   10.04    RIVN      186.57       12.32   \n",
       "1   2024-05-12   10.20   10.40    9.84    RIVN      187.48       11.99   \n",
       "2   2024-05-11   10.20   10.40    9.84    RIVN      187.48       11.99   \n",
       "3   2024-05-10   10.20   10.40    9.84    RIVN      187.48       11.99   \n",
       "4   2024-05-09   10.25   10.47   10.04    RIVN      189.50       12.14   \n",
       "..         ...     ...     ...     ...     ...         ...         ...   \n",
       "910 2021-11-15  130.80  152.53  127.51    RIVN      177.28       18.90   \n",
       "911 2021-11-14  128.65  135.20  125.25    RIVN      176.26       18.56   \n",
       "912 2021-11-13  128.65  135.20  125.25    RIVN      176.26       18.56   \n",
       "913 2021-11-12  128.65  135.20  125.25    RIVN      176.26       18.56   \n",
       "914 2021-11-11  114.63  125.00  108.01    RIVN      173.62       18.61   \n",
       "\n",
       "     gm_close  lcid_close  nkla_close  tsla_close  \n",
       "0       45.16        2.81      0.5499      171.89  \n",
       "1       45.20        2.66      0.5370      168.47  \n",
       "2       45.20        2.66      0.5370      168.47  \n",
       "3       45.20        2.66      0.5370      168.47  \n",
       "4       45.37        2.70      0.5760      171.97  \n",
       "..        ...         ...         ...         ...  \n",
       "910     62.97       44.88     13.7300      337.80  \n",
       "911     63.40       43.93     13.9800      344.47  \n",
       "912     63.40       43.93     13.9800      344.47  \n",
       "913     63.40       43.93     13.9800      344.47  \n",
       "914     61.82       44.98     14.3600      354.50  \n",
       "\n",
       "[915 rows x 11 columns]"
      ]
     },
     "execution_count": 9,
     "metadata": {},
     "output_type": "execute_result"
    }
   ],
   "source": [
    "related_data=util.get_related_data(\n",
    "    s3_client=s3,\n",
    "    bucket=bucket_name,\n",
    "    prefix=path,\n",
    "    target_df=stock_df,\n",
    "    target_column_name=target_column_name,\n",
    "    item_id=item_id,\n",
    "    exclude=[data_key, future_data_key],\n",
    "    start_date=stock_df.timestamp.min(),\n",
    "    end_date=stock_df.timestamp.max()\n",
    ")\n",
    "related_data"
   ]
  },
  {
   "cell_type": "markdown",
   "metadata": {},
   "source": [
    "# Step 3: Prepare and Save the Target Time Series\n",
    "\n",
    "In this exmple, we are only using the supplemental fields `open`, `high` and `low` for forecasting.\n",
    "Later we may explore with supplemental values from other stocks."
   ]
  },
  {
   "cell_type": "code",
   "execution_count": 10,
   "metadata": {
    "tags": []
   },
   "outputs": [],
   "source": [
    "# Forecast length in days (Units is defined below)\n",
    "FORECAST_LENGTH = 30\n",
    "\n",
    "# What is your forecast time unit granularity?\n",
    "# Choices are: ^Y|M|W|D|h|30min|15min|10min|5min|1min$ \n",
    "DATASET_FREQUENCY = \"D\"\n",
    "TIMESTAMP_FORMAT = \"yyyy-MM-dd\"\n",
    "# delimiter = ','\n",
    "\n",
    "# What name do you want to give this project?\n",
    "# We will use this same name for your Forecast Dataset Group name.\n",
    "PROJECT = 'rivn-forecast'\n",
    "DATA_VERSION = 3"
   ]
  },
  {
   "cell_type": "code",
   "execution_count": 11,
   "metadata": {
    "tags": []
   },
   "outputs": [
    {
     "data": {
      "text/html": [
       "<div>\n",
       "<style scoped>\n",
       "    .dataframe tbody tr th:only-of-type {\n",
       "        vertical-align: middle;\n",
       "    }\n",
       "\n",
       "    .dataframe tbody tr th {\n",
       "        vertical-align: top;\n",
       "    }\n",
       "\n",
       "    .dataframe thead th {\n",
       "        text-align: right;\n",
       "    }\n",
       "</style>\n",
       "<table border=\"1\" class=\"dataframe\">\n",
       "  <thead>\n",
       "    <tr style=\"text-align: right;\">\n",
       "      <th></th>\n",
       "      <th>timestamp</th>\n",
       "      <th>item_id</th>\n",
       "      <th>close</th>\n",
       "    </tr>\n",
       "  </thead>\n",
       "  <tbody>\n",
       "    <tr>\n",
       "      <th>0</th>\n",
       "      <td>2024-05-13</td>\n",
       "      <td>RIVN</td>\n",
       "      <td>10.90</td>\n",
       "    </tr>\n",
       "    <tr>\n",
       "      <th>1</th>\n",
       "      <td>2024-05-12</td>\n",
       "      <td>RIVN</td>\n",
       "      <td>9.99</td>\n",
       "    </tr>\n",
       "    <tr>\n",
       "      <th>2</th>\n",
       "      <td>2024-05-11</td>\n",
       "      <td>RIVN</td>\n",
       "      <td>9.99</td>\n",
       "    </tr>\n",
       "    <tr>\n",
       "      <th>3</th>\n",
       "      <td>2024-05-10</td>\n",
       "      <td>RIVN</td>\n",
       "      <td>9.99</td>\n",
       "    </tr>\n",
       "    <tr>\n",
       "      <th>4</th>\n",
       "      <td>2024-05-09</td>\n",
       "      <td>RIVN</td>\n",
       "      <td>10.22</td>\n",
       "    </tr>\n",
       "  </tbody>\n",
       "</table>\n",
       "</div>"
      ],
      "text/plain": [
       "   timestamp item_id  close\n",
       "0 2024-05-13    RIVN  10.90\n",
       "1 2024-05-12    RIVN   9.99\n",
       "2 2024-05-11    RIVN   9.99\n",
       "3 2024-05-10    RIVN   9.99\n",
       "4 2024-05-09    RIVN  10.22"
      ]
     },
     "execution_count": 11,
     "metadata": {},
     "output_type": "execute_result"
    }
   ],
   "source": [
    "target_df = stock_df[[\"timestamp\", \"item_id\", target_column_name]]\n",
    "target_df.head(5)"
   ]
  },
  {
   "cell_type": "code",
   "execution_count": 12,
   "metadata": {
    "tags": []
   },
   "outputs": [
    {
     "data": {
      "text/html": [
       "<div>\n",
       "<style scoped>\n",
       "    .dataframe tbody tr th:only-of-type {\n",
       "        vertical-align: middle;\n",
       "    }\n",
       "\n",
       "    .dataframe tbody tr th {\n",
       "        vertical-align: top;\n",
       "    }\n",
       "\n",
       "    .dataframe thead th {\n",
       "        text-align: right;\n",
       "    }\n",
       "</style>\n",
       "<table border=\"1\" class=\"dataframe\">\n",
       "  <thead>\n",
       "    <tr style=\"text-align: right;\">\n",
       "      <th></th>\n",
       "      <th>timestamp</th>\n",
       "      <th>open</th>\n",
       "      <th>high</th>\n",
       "      <th>low</th>\n",
       "      <th>item_id</th>\n",
       "      <th>amzn_close</th>\n",
       "      <th>ford_close</th>\n",
       "      <th>gm_close</th>\n",
       "      <th>lcid_close</th>\n",
       "      <th>nkla_close</th>\n",
       "      <th>tsla_close</th>\n",
       "    </tr>\n",
       "  </thead>\n",
       "  <tbody>\n",
       "    <tr>\n",
       "      <th>0</th>\n",
       "      <td>2024-05-13</td>\n",
       "      <td>10.04</td>\n",
       "      <td>11.19</td>\n",
       "      <td>10.04</td>\n",
       "      <td>RIVN</td>\n",
       "      <td>186.57</td>\n",
       "      <td>12.32</td>\n",
       "      <td>45.16</td>\n",
       "      <td>2.81</td>\n",
       "      <td>0.5499</td>\n",
       "      <td>171.89</td>\n",
       "    </tr>\n",
       "    <tr>\n",
       "      <th>1</th>\n",
       "      <td>2024-05-12</td>\n",
       "      <td>10.20</td>\n",
       "      <td>10.40</td>\n",
       "      <td>9.84</td>\n",
       "      <td>RIVN</td>\n",
       "      <td>187.48</td>\n",
       "      <td>11.99</td>\n",
       "      <td>45.20</td>\n",
       "      <td>2.66</td>\n",
       "      <td>0.5370</td>\n",
       "      <td>168.47</td>\n",
       "    </tr>\n",
       "    <tr>\n",
       "      <th>2</th>\n",
       "      <td>2024-05-11</td>\n",
       "      <td>10.20</td>\n",
       "      <td>10.40</td>\n",
       "      <td>9.84</td>\n",
       "      <td>RIVN</td>\n",
       "      <td>187.48</td>\n",
       "      <td>11.99</td>\n",
       "      <td>45.20</td>\n",
       "      <td>2.66</td>\n",
       "      <td>0.5370</td>\n",
       "      <td>168.47</td>\n",
       "    </tr>\n",
       "    <tr>\n",
       "      <th>3</th>\n",
       "      <td>2024-05-10</td>\n",
       "      <td>10.20</td>\n",
       "      <td>10.40</td>\n",
       "      <td>9.84</td>\n",
       "      <td>RIVN</td>\n",
       "      <td>187.48</td>\n",
       "      <td>11.99</td>\n",
       "      <td>45.20</td>\n",
       "      <td>2.66</td>\n",
       "      <td>0.5370</td>\n",
       "      <td>168.47</td>\n",
       "    </tr>\n",
       "    <tr>\n",
       "      <th>4</th>\n",
       "      <td>2024-05-09</td>\n",
       "      <td>10.25</td>\n",
       "      <td>10.47</td>\n",
       "      <td>10.04</td>\n",
       "      <td>RIVN</td>\n",
       "      <td>189.50</td>\n",
       "      <td>12.14</td>\n",
       "      <td>45.37</td>\n",
       "      <td>2.70</td>\n",
       "      <td>0.5760</td>\n",
       "      <td>171.97</td>\n",
       "    </tr>\n",
       "  </tbody>\n",
       "</table>\n",
       "</div>"
      ],
      "text/plain": [
       "   timestamp   open   high    low item_id  amzn_close  ford_close  gm_close  \\\n",
       "0 2024-05-13  10.04  11.19  10.04    RIVN      186.57       12.32     45.16   \n",
       "1 2024-05-12  10.20  10.40   9.84    RIVN      187.48       11.99     45.20   \n",
       "2 2024-05-11  10.20  10.40   9.84    RIVN      187.48       11.99     45.20   \n",
       "3 2024-05-10  10.20  10.40   9.84    RIVN      187.48       11.99     45.20   \n",
       "4 2024-05-09  10.25  10.47  10.04    RIVN      189.50       12.14     45.37   \n",
       "\n",
       "   lcid_close  nkla_close  tsla_close  \n",
       "0        2.81      0.5499      171.89  \n",
       "1        2.66      0.5370      168.47  \n",
       "2        2.66      0.5370      168.47  \n",
       "3        2.66      0.5370      168.47  \n",
       "4        2.70      0.5760      171.97  "
      ]
     },
     "execution_count": 12,
     "metadata": {},
     "output_type": "execute_result"
    }
   ],
   "source": [
    "rts_df = related_data\n",
    "rts_df.head(5)"
   ]
  },
  {
   "cell_type": "code",
   "execution_count": 13,
   "metadata": {
    "tags": []
   },
   "outputs": [
    {
     "name": "stdout",
     "output_type": "stream",
     "text": [
      "915 = 915\n"
     ]
    }
   ],
   "source": [
    "print(f\"{len(target_df)} = {len(rts_df)}\")\n",
    "assert len(target_df) == len(rts_df), \"length doesn't match\""
   ]
  },
  {
   "cell_type": "code",
   "execution_count": 14,
   "metadata": {
    "tags": []
   },
   "outputs": [],
   "source": [
    "target_df.to_csv(s3_target_data_key, index= False, header = False)\n",
    "rts_df.to_csv(s3_related_data_key, index= False, header = False)"
   ]
  },
  {
   "cell_type": "markdown",
   "metadata": {},
   "source": [
    "# Step 4: Create the Dataset Group and Dataset"
   ]
  },
  {
   "cell_type": "markdown",
   "metadata": {},
   "source": [
    "## Dataset Group"
   ]
  },
  {
   "cell_type": "code",
   "execution_count": 15,
   "metadata": {
    "tags": []
   },
   "outputs": [
    {
     "name": "stdout",
     "output_type": "stream",
     "text": [
      "Dataset Group Name = mac_training_rivn_forecast_3\n"
     ]
    }
   ],
   "source": [
    "dataset_group_name = f\"{prefix}_{PROJECT}_{DATA_VERSION}\".replace(\"-\", \"_\")\n",
    "print(f\"Dataset Group Name = {dataset_group_name}\")"
   ]
  },
  {
   "cell_type": "code",
   "execution_count": 16,
   "metadata": {
    "tags": []
   },
   "outputs": [
    {
     "name": "stdout",
     "output_type": "stream",
     "text": [
      "Dataset group arn:aws:forecast:us-east-1:275279264324:dataset-group/mac_training_rivn_forecast_3 already exists.\n"
     ]
    }
   ],
   "source": [
    "dataset_arns = []\n",
    "try:\n",
    "    create_dataset_group_response = \\\n",
    "        forecast.create_dataset_group(Domain=domain,\n",
    "                                      DatasetGroupName=dataset_group_name,\n",
    "                                      DatasetArns=dataset_arns,\n",
    "                                      Tags=tags\n",
    "                                     )\n",
    "    dataset_group_arn = create_dataset_group_response['DatasetGroupArn']\n",
    "    status = util.wait(lambda: forecast.describe_dataset_group(DatasetGroupArn=dataset_group_arn))\n",
    "    assert status\n",
    "except forecast.exceptions.ResourceAlreadyExistsException:\n",
    "    dataset_group_arn = f\"arn:aws:forecast:{region}:{account_id}:dataset-group/{dataset_group_name}\"\n",
    "    print(f\"Dataset group {dataset_group_arn} already exists.\")"
   ]
  },
  {
   "cell_type": "markdown",
   "metadata": {},
   "source": [
    "## Target Schema"
   ]
  },
  {
   "cell_type": "code",
   "execution_count": 17,
   "metadata": {
    "tags": []
   },
   "outputs": [
    {
     "data": {
      "text/plain": [
       "{'Attributes': [{'AttributeName': 'timestamp', 'AttributeType': 'timestamp'},\n",
       "  {'AttributeName': 'item_id', 'AttributeType': 'string'},\n",
       "  {'AttributeName': 'demand', 'AttributeType': 'float'}]}"
      ]
     },
     "execution_count": 17,
     "metadata": {},
     "output_type": "execute_result"
    }
   ],
   "source": [
    "# Specify the schema of your dataset here. Make sure the order of columns matches the raw data files.\n",
    "tts_schema = {\n",
    "   \"Attributes\": util.get_schema_attributes(target_df, domain, target_column_name)\n",
    "}\n",
    "tts_schema"
   ]
  },
  {
   "cell_type": "markdown",
   "metadata": {},
   "source": [
    "## Target Dataset"
   ]
  },
  {
   "cell_type": "code",
   "execution_count": 18,
   "metadata": {
    "tags": []
   },
   "outputs": [
    {
     "name": "stdout",
     "output_type": "stream",
     "text": [
      "mac_training_rivn_forecast_3_tts\n"
     ]
    }
   ],
   "source": [
    "tts_dataset_name = f\"{dataset_group_name}_tts\"\n",
    "print(tts_dataset_name)"
   ]
  },
  {
   "cell_type": "code",
   "execution_count": 19,
   "metadata": {
    "tags": []
   },
   "outputs": [
    {
     "name": "stdout",
     "output_type": "stream",
     "text": [
      "Target dataset arn:aws:forecast:us-east-1:275279264324:dataset/mac_training_rivn_forecast_3_tts already exists.\n"
     ]
    }
   ],
   "source": [
    "try:\n",
    "    create_dataset_tts_response = \\\n",
    "        forecast.create_dataset(Domain=domain,\n",
    "                                DatasetType='TARGET_TIME_SERIES',\n",
    "                                DatasetName=tts_dataset_name,\n",
    "                                DataFrequency=DATASET_FREQUENCY,\n",
    "                                Schema=tts_schema,\n",
    "                                Tags=tags\n",
    "                               )\n",
    "    tts_dataset_arn = create_dataset_tts_response['DatasetArn']\n",
    "    status = util.wait(lambda: forecast.describe_dataset(DatasetArn=tts_dataset_arn))\n",
    "    assert status\n",
    "except forecast.exceptions.ResourceAlreadyExistsException:\n",
    "    tts_dataset_arn = f\"arn:aws:forecast:{region}:{account_id}:dataset/{tts_dataset_name}\"\n",
    "    print(f\"Target dataset {tts_dataset_arn} already exists.\")"
   ]
  },
  {
   "cell_type": "markdown",
   "metadata": {},
   "source": [
    "## Related schema"
   ]
  },
  {
   "cell_type": "code",
   "execution_count": 20,
   "metadata": {
    "tags": []
   },
   "outputs": [
    {
     "data": {
      "text/plain": [
       "{'Attributes': [{'AttributeName': 'timestamp', 'AttributeType': 'timestamp'},\n",
       "  {'AttributeName': 'open_value', 'AttributeType': 'float'},\n",
       "  {'AttributeName': 'high_value', 'AttributeType': 'float'},\n",
       "  {'AttributeName': 'low_value', 'AttributeType': 'float'},\n",
       "  {'AttributeName': 'item_id', 'AttributeType': 'string'},\n",
       "  {'AttributeName': 'amzn_close_value', 'AttributeType': 'float'},\n",
       "  {'AttributeName': 'ford_close_value', 'AttributeType': 'float'},\n",
       "  {'AttributeName': 'gm_close_value', 'AttributeType': 'float'},\n",
       "  {'AttributeName': 'lcid_close_value', 'AttributeType': 'float'},\n",
       "  {'AttributeName': 'nkla_close_value', 'AttributeType': 'float'},\n",
       "  {'AttributeName': 'tsla_close_value', 'AttributeType': 'float'}]}"
      ]
     },
     "execution_count": 20,
     "metadata": {},
     "output_type": "execute_result"
    }
   ],
   "source": [
    "# Specify the schema of your dataset here. Make sure the order of columns matches the raw data files.\n",
    "rts_schema = {\n",
    "   \"Attributes\": util.get_schema_attributes(rts_df, domain, target_column_name)\n",
    "}\n",
    "rts_schema"
   ]
  },
  {
   "cell_type": "markdown",
   "metadata": {},
   "source": [
    "## Related dataset"
   ]
  },
  {
   "cell_type": "code",
   "execution_count": 21,
   "metadata": {
    "tags": []
   },
   "outputs": [
    {
     "name": "stdout",
     "output_type": "stream",
     "text": [
      "mac_training_rivn_forecast_3_rts\n"
     ]
    }
   ],
   "source": [
    "rts_dataset_name = f\"{dataset_group_name}_rts\"\n",
    "print(rts_dataset_name)"
   ]
  },
  {
   "cell_type": "code",
   "execution_count": 22,
   "metadata": {
    "tags": []
   },
   "outputs": [
    {
     "name": "stdout",
     "output_type": "stream",
     "text": [
      "Related dataset arn:aws:forecast:us-east-1:275279264324:dataset/mac_training_rivn_forecast_3_rts already exists.\n"
     ]
    }
   ],
   "source": [
    "try:\n",
    "    create_dataset_rts_response = \\\n",
    "        forecast.create_dataset(Domain=domain,\n",
    "                                DatasetType='RELATED_TIME_SERIES',\n",
    "                                DatasetName=rts_dataset_name,\n",
    "                                DataFrequency=DATASET_FREQUENCY,\n",
    "                                Schema=rts_schema,\n",
    "                                Tags=tags\n",
    "                               )\n",
    "    rts_dataset_arn = create_dataset_rts_response['DatasetArn']\n",
    "    status = util.wait(lambda: forecast.describe_dataset(DatasetArn=rts_dataset_arn))\n",
    "    assert status\n",
    "except forecast.exceptions.ResourceAlreadyExistsException:\n",
    "    rts_dataset_arn = f\"arn:aws:forecast:{region}:{account_id}:dataset/{rts_dataset_name}\"\n",
    "    print(f\"Related dataset {rts_dataset_arn} already exists.\")"
   ]
  },
  {
   "cell_type": "code",
   "execution_count": 23,
   "metadata": {
    "tags": []
   },
   "outputs": [
    {
     "name": "stdout",
     "output_type": "stream",
     "text": [
      "ACTIVE \n"
     ]
    }
   ],
   "source": [
    "dataset_arns = []\n",
    "dataset_arns.append(tts_dataset_arn)\n",
    "dataset_arns.append(rts_dataset_arn)\n",
    "update_dataset_response = forecast.update_dataset_group(DatasetGroupArn=dataset_group_arn, DatasetArns=dataset_arns)\n",
    "status = util.wait(lambda: forecast.describe_dataset_group(DatasetGroupArn=dataset_group_arn))\n",
    "assert status"
   ]
  },
  {
   "cell_type": "markdown",
   "metadata": {},
   "source": [
    "# Step 5: Import data from S3 to Forecast"
   ]
  },
  {
   "cell_type": "markdown",
   "metadata": {},
   "source": [
    "## Target data"
   ]
  },
  {
   "cell_type": "markdown",
   "metadata": {},
   "source": [
    "**Note:** Depending on the data size, the import can take 10 mins or more to become **ACTIVE**."
   ]
  },
  {
   "cell_type": "code",
   "execution_count": 24,
   "metadata": {
    "tags": []
   },
   "outputs": [
    {
     "name": "stdout",
     "output_type": "stream",
     "text": [
      "Target dataset has already imported data.\n"
     ]
    },
    {
     "name": "stdin",
     "output_type": "stream",
     "text": [
      "Re-import (y/N)?  \n"
     ]
    },
    {
     "name": "stdout",
     "output_type": "stream",
     "text": [
      "Target data re-import skipped\n"
     ]
    }
   ],
   "source": [
    "import_tts_dataset_response = True\n",
    "if len(util.get_dataset_import_jobs(tts_dataset_arn, forecast)) > 0:\n",
    "    print(\"Target dataset has already imported data.\")\n",
    "    import_tts_dataset_response = True if input(\"Re-import (y/N)? \").lower() == \"y\" else False\n",
    "\n",
    "if import_tts_dataset_response:\n",
    "    tts_dataset_import_job_response = \\\n",
    "        forecast.create_dataset_import_job(DatasetImportJobName=f\"tts_job_{datetime.now().strftime(date_format)}\",\n",
    "                                           DatasetArn=tts_dataset_arn,\n",
    "                                           DataSource={\n",
    "                                             \"S3Config\": {\n",
    "                                                 \"Path\": s3_target_data_key,\n",
    "                                                 \"RoleArn\": role_arn\n",
    "                                             }\n",
    "                                           },\n",
    "                                           TimestampFormat=TIMESTAMP_FORMAT,\n",
    "                                           Tags=tags\n",
    "                                          )\n",
    "    tts_dataset_import_job_arn=tts_dataset_import_job_response['DatasetImportJobArn']\n",
    "    status = util.wait(lambda: forecast.describe_dataset_import_job(DatasetImportJobArn=tts_dataset_import_job_arn))\n",
    "    assert status\n",
    "    print(\"Target data imported.\")\n",
    "else:\n",
    "    print(\"Target data re-import skipped\")"
   ]
  },
  {
   "cell_type": "markdown",
   "metadata": {},
   "source": [
    "## Related data"
   ]
  },
  {
   "cell_type": "markdown",
   "metadata": {},
   "source": [
    "**Note:** Depending on the data size, the import can take 10 mins or more to become **ACTIVE**."
   ]
  },
  {
   "cell_type": "code",
   "execution_count": 25,
   "metadata": {
    "tags": []
   },
   "outputs": [
    {
     "name": "stdout",
     "output_type": "stream",
     "text": [
      "Related dataset has already imported data.\n"
     ]
    },
    {
     "name": "stdin",
     "output_type": "stream",
     "text": [
      "Re-import (y/N)?  \n"
     ]
    },
    {
     "name": "stdout",
     "output_type": "stream",
     "text": [
      "Related data re-import skipped\n"
     ]
    }
   ],
   "source": [
    "import_rts_dataset_response = True\n",
    "if len(util.get_dataset_import_jobs(rts_dataset_arn, forecast)) > 0:\n",
    "    print(\"Related dataset has already imported data.\")\n",
    "    import_rts_dataset_response = True if input(\"Re-import (y/N)? \").lower() == \"y\" else False\n",
    "\n",
    "if import_rts_dataset_response:\n",
    "    rts_dataset_import_job_response = \\\n",
    "        forecast.create_dataset_import_job(DatasetImportJobName=f\"rts_job_{datetime.now().strftime(date_format)}\",\n",
    "                                           DatasetArn=rts_dataset_arn,\n",
    "                                           DataSource= {\n",
    "                                             \"S3Config\" : {\n",
    "                                                 \"Path\": s3_related_data_key,\n",
    "                                                 \"RoleArn\": role_arn\n",
    "                                             } \n",
    "                                           },\n",
    "                                           TimestampFormat=TIMESTAMP_FORMAT,\n",
    "                                           Tags=tags\n",
    "                                          )\n",
    "    rts_dataset_import_job_arn = rts_dataset_import_job_response[\"DatasetImportJobArn\"]\n",
    "    status = util.wait(lambda: forecast.describe_dataset_import_job(DatasetImportJobArn=rts_dataset_import_job_arn))\n",
    "    assert status\n",
    "    print(\"Related data imported.\")\n",
    "else:\n",
    "    print(\"Related data re-import skipped\")"
   ]
  },
  {
   "cell_type": "markdown",
   "metadata": {},
   "source": [
    "# Step 6: Training and Evaluation"
   ]
  },
  {
   "cell_type": "markdown",
   "metadata": {},
   "source": [
    "## DeepAR+"
   ]
  },
  {
   "cell_type": "code",
   "execution_count": 26,
   "metadata": {
    "tags": []
   },
   "outputs": [
    {
     "name": "stdout",
     "output_type": "stream",
     "text": [
      "Predictor Name = mac_training_rivn_forecast_3_deep_ar_plus\n"
     ]
    }
   ],
   "source": [
    "algorithm_arn = 'arn:aws:forecast:::algorithm/'\n",
    "algorithm = 'Deep_AR_Plus'\n",
    "algorithm_arn_deep_ar_plus = algorithm_arn + algorithm\n",
    "predictor_name_deep_ar = f\"{dataset_group_name}_{algorithm.lower()}\"\n",
    "print(f\"Predictor Name = {predictor_name_deep_ar}\")"
   ]
  },
  {
   "cell_type": "markdown",
   "metadata": {},
   "source": [
    "**NOTE:** Training a forecast model can take several hours to become **ACTIVE**."
   ]
  },
  {
   "cell_type": "code",
   "execution_count": null,
   "metadata": {
    "tags": []
   },
   "outputs": [],
   "source": [
    "retrain_predictor_deep_ar = False\n",
    "existing_predictor_deep_ar = util.get_predictor(predictor_name_deep_ar, forecast)\n",
    "\n",
    "if existing_predictor_deep_ar:\n",
    "    predictor_arn_deep_ar = existing_predictor_deep_ar['PredictorArn']\n",
    "    print(f\"DeepAR+ Predictor {predictor_arn_deep_ar} already exists.\")\n",
    "    retrain_predictor_deep_ar = True if input(\"Retrain model (y/N)? \").lower() == \"y\" else False\n",
    "\n",
    "if existing_predictor_deep_ar and retrain_predictor_deep_ar:\n",
    "    util.delete_forecasts_by_predictor(predictor_arn_deep_ar, forecast)\n",
    "    print(f\"Deleting DeepAR+ Predictor {predictor_arn_deep_ar}...\")\n",
    "    util.wait_till_delete(lambda: forecast.delete_predictor(PredictorArn=predictor_arn_deep_ar))\n",
    "elif existing_predictor_deep_ar and not retrain_predictor_deep_ar:\n",
    "    print(f\"Keeping existing DeepAR+ Predictor {predictor_arn_deep_ar}.\")\n",
    "\n",
    "if not existing_predictor_deep_ar or retrain_predictor_deep_ar:\n",
    "    create_predictor_deep_ar_response = \\\n",
    "        forecast.create_predictor(PredictorName=predictor_name_deep_ar,\n",
    "                                  AlgorithmArn=algorithm_arn_deep_ar_plus,\n",
    "                                  ForecastHorizon=FORECAST_LENGTH,\n",
    "                                  PerformAutoML=False,\n",
    "                                  PerformHPO=False,\n",
    "                                  InputDataConfig={\n",
    "                                      \"DatasetGroupArn\": dataset_group_arn,\n",
    "                                      \"SupplementaryFeatures\": [\n",
    "                                          {\"Name\": \"holiday\",\n",
    "                                           \"Value\": \"US\"}],\n",
    "                                  },\n",
    "                                  FeaturizationConfig={\"ForecastFrequency\": DATASET_FREQUENCY},\n",
    "                                  Tags=tags\n",
    "                                 )\n",
    "    predictor_arn_deep_ar = create_predictor_deep_ar_response['PredictorArn']\n",
    "    print(f\"Creating DeepAR+ Predictor {predictor_arn_deep_ar}...\")\n",
    "    status = util.wait(lambda: forecast.describe_predictor(PredictorArn=predictor_arn_deep_ar))\n",
    "    assert status"
   ]
  },
  {
   "cell_type": "markdown",
   "metadata": {},
   "source": [
    "## Prophet"
   ]
  },
  {
   "cell_type": "code",
   "execution_count": null,
   "metadata": {},
   "outputs": [],
   "source": [
    "algorithm_arn = 'arn:aws:forecast:::algorithm/'\n",
    "algorithm = 'Prophet'\n",
    "algorithm_arn_prophet = algorithm_arn + algorithm\n",
    "predictor_name_prophet = f\"{dataset_group_name}_{algorithm.lower()}\"\n",
    "print(f\"Predictor Name = {predictor_name_prophet}\")"
   ]
  },
  {
   "cell_type": "markdown",
   "metadata": {},
   "source": [
    "**NOTE:** Training a forecast model can take several hours to become **ACTIVE**."
   ]
  },
  {
   "cell_type": "code",
   "execution_count": null,
   "metadata": {},
   "outputs": [],
   "source": [
    "retrain_predictor_prophet = False\n",
    "existing_predictor_prophet = util.get_predictor(predictor_name_prophet, forecast)\n",
    "\n",
    "if existing_predictor_prophet:\n",
    "    predictor_arn_prophet = existing_predictor_prophet['PredictorArn']\n",
    "    print(f\"Prophet Predictor {predictor_arn_prophet} already exists.\")\n",
    "    retrain_predictor_prophet = True if input(\"Retrain model (y/N)? \").lower() == \"y\" else False\n",
    "\n",
    "if existing_predictor_prophet and retrain_predictor_prophet:\n",
    "    print(f\"Deleting Prophet Predictor {predictor_arn_prophet}...\")\n",
    "    util.wait_till_delete(lambda: forecast.delete_predictor(PredictorArn=predictor_arn_prophet))\n",
    "elif existing_predictor_prophet and not retrain_predictor_prophet:\n",
    "    print(f\"Keeping existing Prophet Predictor {predictor_arn_prophet}.\")\n",
    "\n",
    "if not existing_predictor_prophet or retrain_predictor_prophet:\n",
    "    create_predictor_response = \\\n",
    "        forecast.create_predictor(PredictorName=predictor_name_prophet,\n",
    "                                  AlgorithmArn=algorithm_arn_prophet,\n",
    "                                  ForecastHorizon=FORECAST_LENGTH,\n",
    "                                  PerformAutoML=False,\n",
    "                                  PerformHPO=False,\n",
    "                                  InputDataConfig= {\n",
    "                                      \"DatasetGroupArn\": dataset_group_arn,\n",
    "                                      \"SupplementaryFeatures\": [\n",
    "                                          {\"Name\": \"holiday\",\n",
    "                                           \"Value\": \"US\"}],\n",
    "                                  },\n",
    "                                  FeaturizationConfig={\"ForecastFrequency\": DATASET_FREQUENCY},\n",
    "                                  Tags=tags\n",
    "                                 )\n",
    "    predictor_arn_prophet = create_predictor_response['PredictorArn']\n",
    "    print(f\"Creating Prophet Predictor {predictor_arn_prophet}...\")\n",
    "    status = util.wait(lambda: forecast.describe_predictor(PredictorArn=predictor_arn_prophet))\n",
    "    assert status"
   ]
  },
  {
   "cell_type": "markdown",
   "metadata": {},
   "source": [
    "## Auto"
   ]
  },
  {
   "cell_type": "code",
   "execution_count": 27,
   "metadata": {
    "tags": []
   },
   "outputs": [
    {
     "name": "stdout",
     "output_type": "stream",
     "text": [
      "Predictor Name = mac_training_rivn_forecast_3_auto\n"
     ]
    }
   ],
   "source": [
    "predictor_name_auto = f\"{dataset_group_name}_auto\"\n",
    "print(f\"Predictor Name = {predictor_name_auto}\")"
   ]
  },
  {
   "cell_type": "markdown",
   "metadata": {},
   "source": [
    "**NOTE:** Training a forecast model can take several hours to become **ACTIVE**."
   ]
  },
  {
   "cell_type": "code",
   "execution_count": 28,
   "metadata": {
    "tags": []
   },
   "outputs": [
    {
     "name": "stdout",
     "output_type": "stream",
     "text": [
      "Auto Predictor arn:aws:forecast:us-east-1:275279264324:predictor/mac_training_rivn_forecast_3_auto_01HYNT0BZ5KA340Y66FVH2ST2H already exists.\n"
     ]
    },
    {
     "name": "stdin",
     "output_type": "stream",
     "text": [
      "Retrain model (y/N)?  \n"
     ]
    },
    {
     "name": "stdout",
     "output_type": "stream",
     "text": [
      "Keeping existing Auto Predictor arn:aws:forecast:us-east-1:275279264324:predictor/mac_training_rivn_forecast_3_auto_01HYNT0BZ5KA340Y66FVH2ST2H.\n"
     ]
    }
   ],
   "source": [
    "existing_predictor_auto = util.get_predictor(predictor_name_auto, forecast)\n",
    "if existing_predictor_auto:\n",
    "    predictor_arn_auto = existing_predictor_auto['PredictorArn']\n",
    "    print(f\"Auto Predictor {predictor_arn_auto} already exists.\")\n",
    "    if input(\"Retrain model (y/N)? \").lower() == \"y\":\n",
    "        args = {\n",
    "            \"PredictorName\": f\"{predictor_name_auto}_retrain_{datetime.now().strftime(date_format)}\",\n",
    "            \"ReferencePredictorArn\": predictor_arn_auto\n",
    "        }\n",
    "    else:\n",
    "        args = {}\n",
    "else:\n",
    "    args = {\n",
    "        \"PredictorName\": predictor_name_auto,\n",
    "        \"ForecastHorizon\": FORECAST_LENGTH,\n",
    "        \"ForecastFrequency\": DATASET_FREQUENCY,\n",
    "        \"DataConfig\": {\n",
    "            \"DatasetGroupArn\": dataset_group_arn,\n",
    "            \"AdditionalDatasets\": [\n",
    "                {\n",
    "                    \"Name\": \"holiday\",\n",
    "                    \"Configuration\": {\n",
    "                        \"CountryCode\": [\"US\"]\n",
    "                    }\n",
    "                }\n",
    "            ]\n",
    "        },\n",
    "        \"Tags\": tags\n",
    "    }\n",
    "\n",
    "if args:\n",
    "    create_predictor_auto_response = forecast.create_auto_predictor(**args)\n",
    "    predictor_arn_auto = create_predictor_auto_response['PredictorArn']\n",
    "    print(f\"{'Retraining existing' if existing_predictor_auto else 'Creating new'} Auto Predictor {predictor_arn_auto}...\")\n",
    "    status = util.wait(lambda: forecast.describe_auto_predictor(PredictorArn=predictor_arn_auto))\n",
    "    assert status\n",
    "else:\n",
    "    print(f\"Keeping existing Auto Predictor {predictor_arn_auto}.\")"
   ]
  },
  {
   "cell_type": "markdown",
   "metadata": {},
   "source": [
    "## Step 7: Predictor Error Metrics"
   ]
  },
  {
   "cell_type": "code",
   "execution_count": null,
   "metadata": {},
   "outputs": [],
   "source": [
    "error_metrics_deep_ar_plus = forecast.get_accuracy_metrics(PredictorArn=predictor_arn_deep_ar)"
   ]
  },
  {
   "cell_type": "code",
   "execution_count": null,
   "metadata": {},
   "outputs": [],
   "source": [
    "error_metrics_prophet = forecast.get_accuracy_metrics(PredictorArn=predictor_arn_prophet)"
   ]
  },
  {
   "cell_type": "code",
   "execution_count": 29,
   "metadata": {},
   "outputs": [],
   "source": [
    "error_metrics_auto = forecast.get_accuracy_metrics(PredictorArn=predictor_arn_auto)"
   ]
  },
  {
   "cell_type": "code",
   "execution_count": null,
   "metadata": {},
   "outputs": [],
   "source": [
    "def extract_summary_metrics(metric_response, predictor_name):\n",
    "    df = pd.DataFrame(metric_response['PredictorEvaluationResults']\n",
    "                 [0]['TestWindows'][0]['Metrics']['WeightedQuantileLosses'])\n",
    "    df['Predictor'] = predictor_name\n",
    "    return df"
   ]
  },
  {
   "cell_type": "code",
   "execution_count": null,
   "metadata": {},
   "outputs": [],
   "source": [
    "deep_ar_metrics = extract_summary_metrics(error_metrics_deep_ar_plus, \"DeepAR\")\n",
    "prophet_metrics = extract_summary_metrics(error_metrics_prophet, \"Prophet\")\n",
    "auto_metrics = extract_summary_metrics(error_metrics_auto, \"Auto\")"
   ]
  },
  {
   "cell_type": "code",
   "execution_count": null,
   "metadata": {},
   "outputs": [],
   "source": [
    "pd.concat([deep_ar_metrics, prophet_metrics, auto_metrics]) \\\n",
    "    .pivot(index='Quantile', columns='Predictor', values='LossValue').plot.bar()"
   ]
  },
  {
   "cell_type": "markdown",
   "metadata": {},
   "source": [
    "# Step 8: Forecasting"
   ]
  },
  {
   "cell_type": "markdown",
   "metadata": {},
   "source": [
    "## DeepAR+"
   ]
  },
  {
   "cell_type": "markdown",
   "metadata": {},
   "source": [
    "**NOTE:** Creating a forecast can take up to an hour to become **ACTIVE**."
   ]
  },
  {
   "cell_type": "code",
   "execution_count": null,
   "metadata": {
    "tags": []
   },
   "outputs": [],
   "source": [
    "forecast_arn_deep_ar = util.create_forecast(\n",
    "    *util.create_forecast_name(dataset_group_name,\n",
    "                               'deep_ar',\n",
    "                               date_format=date_format\n",
    "                              ),\n",
    "    predictor_arn_deep_ar,\n",
    "    forecast,\n",
    "    tags,\n",
    "    ui_date_format=ui_date_format,\n",
    ")"
   ]
  },
  {
   "cell_type": "markdown",
   "metadata": {
    "tags": []
   },
   "source": [
    "## Prophet"
   ]
  },
  {
   "cell_type": "markdown",
   "metadata": {},
   "source": [
    "**NOTE:** Creating a forecast can take up to an hour to become **ACTIVE**."
   ]
  },
  {
   "cell_type": "code",
   "execution_count": null,
   "metadata": {
    "tags": []
   },
   "outputs": [],
   "source": [
    "forecast_arn_prophet = util.create_forecast(\n",
    "    *util.create_forecast_name(dataset_group_name,\n",
    "                               'prophet',\n",
    "                               date_format=date_format\n",
    "                              ),\n",
    "    predictor_arn_prophet,\n",
    "    forecast,\n",
    "    tags,\n",
    "    ui_date_format=ui_date_format,\n",
    ")"
   ]
  },
  {
   "cell_type": "markdown",
   "metadata": {
    "tags": []
   },
   "source": [
    "## Auto"
   ]
  },
  {
   "cell_type": "markdown",
   "metadata": {},
   "source": [
    "**NOTE:** Creating a forecast can take up to an hour to become **ACTIVE**."
   ]
  },
  {
   "cell_type": "code",
   "execution_count": 30,
   "metadata": {
    "tags": []
   },
   "outputs": [
    {
     "name": "stdout",
     "output_type": "stream",
     "text": [
      "Forecasts exist with the latest one from Fri, 24 May 2024 19:01:42 UTC.\n"
     ]
    },
    {
     "name": "stdin",
     "output_type": "stream",
     "text": [
      "Create new forecast (y/N)?  \n"
     ]
    }
   ],
   "source": [
    "forecast_arn_auto = util.create_forecast(\n",
    "    *util.create_forecast_name(dataset_group_name,\n",
    "                               'auto',\n",
    "                               date_format=date_format\n",
    "                              ),\n",
    "    predictor_arn_auto,\n",
    "    forecast,\n",
    "    tags,\n",
    "    ui_date_format=ui_date_format,\n",
    ")"
   ]
  },
  {
   "cell_type": "markdown",
   "metadata": {},
   "source": [
    "# Step 9: Querying"
   ]
  },
  {
   "cell_type": "code",
   "execution_count": 31,
   "metadata": {
    "tags": []
   },
   "outputs": [
    {
     "data": {
      "text/html": [
       "<div>\n",
       "<style scoped>\n",
       "    .dataframe tbody tr th:only-of-type {\n",
       "        vertical-align: middle;\n",
       "    }\n",
       "\n",
       "    .dataframe tbody tr th {\n",
       "        vertical-align: top;\n",
       "    }\n",
       "\n",
       "    .dataframe thead th {\n",
       "        text-align: right;\n",
       "    }\n",
       "</style>\n",
       "<table border=\"1\" class=\"dataframe\">\n",
       "  <thead>\n",
       "    <tr style=\"text-align: right;\">\n",
       "      <th></th>\n",
       "      <th>timestamp</th>\n",
       "      <th>item_id</th>\n",
       "      <th>close</th>\n",
       "    </tr>\n",
       "  </thead>\n",
       "  <tbody>\n",
       "    <tr>\n",
       "      <th>0</th>\n",
       "      <td>2024-05-13</td>\n",
       "      <td>RIVN</td>\n",
       "      <td>10.90</td>\n",
       "    </tr>\n",
       "    <tr>\n",
       "      <th>1</th>\n",
       "      <td>2024-05-12</td>\n",
       "      <td>RIVN</td>\n",
       "      <td>9.99</td>\n",
       "    </tr>\n",
       "    <tr>\n",
       "      <th>2</th>\n",
       "      <td>2024-05-11</td>\n",
       "      <td>RIVN</td>\n",
       "      <td>9.99</td>\n",
       "    </tr>\n",
       "    <tr>\n",
       "      <th>3</th>\n",
       "      <td>2024-05-10</td>\n",
       "      <td>RIVN</td>\n",
       "      <td>9.99</td>\n",
       "    </tr>\n",
       "    <tr>\n",
       "      <th>4</th>\n",
       "      <td>2024-05-09</td>\n",
       "      <td>RIVN</td>\n",
       "      <td>10.22</td>\n",
       "    </tr>\n",
       "    <tr>\n",
       "      <th>...</th>\n",
       "      <td>...</td>\n",
       "      <td>...</td>\n",
       "      <td>...</td>\n",
       "    </tr>\n",
       "    <tr>\n",
       "      <th>910</th>\n",
       "      <td>2021-11-15</td>\n",
       "      <td>RIVN</td>\n",
       "      <td>149.36</td>\n",
       "    </tr>\n",
       "    <tr>\n",
       "      <th>911</th>\n",
       "      <td>2021-11-14</td>\n",
       "      <td>RIVN</td>\n",
       "      <td>129.95</td>\n",
       "    </tr>\n",
       "    <tr>\n",
       "      <th>912</th>\n",
       "      <td>2021-11-13</td>\n",
       "      <td>RIVN</td>\n",
       "      <td>129.95</td>\n",
       "    </tr>\n",
       "    <tr>\n",
       "      <th>913</th>\n",
       "      <td>2021-11-12</td>\n",
       "      <td>RIVN</td>\n",
       "      <td>129.95</td>\n",
       "    </tr>\n",
       "    <tr>\n",
       "      <th>914</th>\n",
       "      <td>2021-11-11</td>\n",
       "      <td>RIVN</td>\n",
       "      <td>122.99</td>\n",
       "    </tr>\n",
       "  </tbody>\n",
       "</table>\n",
       "<p>915 rows × 3 columns</p>\n",
       "</div>"
      ],
      "text/plain": [
       "      timestamp item_id   close\n",
       "0    2024-05-13    RIVN   10.90\n",
       "1    2024-05-12    RIVN    9.99\n",
       "2    2024-05-11    RIVN    9.99\n",
       "3    2024-05-10    RIVN    9.99\n",
       "4    2024-05-09    RIVN   10.22\n",
       "..          ...     ...     ...\n",
       "910  2021-11-15    RIVN  149.36\n",
       "911  2021-11-14    RIVN  129.95\n",
       "912  2021-11-13    RIVN  129.95\n",
       "913  2021-11-12    RIVN  129.95\n",
       "914  2021-11-11    RIVN  122.99\n",
       "\n",
       "[915 rows x 3 columns]"
      ]
     },
     "execution_count": 31,
     "metadata": {},
     "output_type": "execute_result"
    }
   ],
   "source": [
    "exact = pd.read_csv(s3_target_data_key, header=None)\n",
    "exact.columns = ['timestamp', 'item_id', target_column_name]\n",
    "exact = exact.loc[exact['item_id'] == item_id]\n",
    "exact"
   ]
  },
  {
   "cell_type": "code",
   "execution_count": 32,
   "metadata": {},
   "outputs": [
    {
     "data": {
      "text/html": [
       "<div>\n",
       "<style scoped>\n",
       "    .dataframe tbody tr th:only-of-type {\n",
       "        vertical-align: middle;\n",
       "    }\n",
       "\n",
       "    .dataframe tbody tr th {\n",
       "        vertical-align: top;\n",
       "    }\n",
       "\n",
       "    .dataframe thead th {\n",
       "        text-align: right;\n",
       "    }\n",
       "</style>\n",
       "<table border=\"1\" class=\"dataframe\">\n",
       "  <thead>\n",
       "    <tr style=\"text-align: right;\">\n",
       "      <th></th>\n",
       "      <th>timestamp</th>\n",
       "      <th>item_id</th>\n",
       "      <th>close</th>\n",
       "    </tr>\n",
       "  </thead>\n",
       "  <tbody>\n",
       "    <tr>\n",
       "      <th>0</th>\n",
       "      <td>2024-05-13</td>\n",
       "      <td>RIVN</td>\n",
       "      <td>10.90</td>\n",
       "    </tr>\n",
       "    <tr>\n",
       "      <th>1</th>\n",
       "      <td>2024-05-12</td>\n",
       "      <td>RIVN</td>\n",
       "      <td>9.99</td>\n",
       "    </tr>\n",
       "    <tr>\n",
       "      <th>2</th>\n",
       "      <td>2024-05-11</td>\n",
       "      <td>RIVN</td>\n",
       "      <td>9.99</td>\n",
       "    </tr>\n",
       "    <tr>\n",
       "      <th>3</th>\n",
       "      <td>2024-05-10</td>\n",
       "      <td>RIVN</td>\n",
       "      <td>9.99</td>\n",
       "    </tr>\n",
       "    <tr>\n",
       "      <th>4</th>\n",
       "      <td>2024-05-09</td>\n",
       "      <td>RIVN</td>\n",
       "      <td>10.22</td>\n",
       "    </tr>\n",
       "    <tr>\n",
       "      <th>...</th>\n",
       "      <td>...</td>\n",
       "      <td>...</td>\n",
       "      <td>...</td>\n",
       "    </tr>\n",
       "    <tr>\n",
       "      <th>910</th>\n",
       "      <td>2021-11-15</td>\n",
       "      <td>RIVN</td>\n",
       "      <td>149.36</td>\n",
       "    </tr>\n",
       "    <tr>\n",
       "      <th>911</th>\n",
       "      <td>2021-11-14</td>\n",
       "      <td>RIVN</td>\n",
       "      <td>129.95</td>\n",
       "    </tr>\n",
       "    <tr>\n",
       "      <th>912</th>\n",
       "      <td>2021-11-13</td>\n",
       "      <td>RIVN</td>\n",
       "      <td>129.95</td>\n",
       "    </tr>\n",
       "    <tr>\n",
       "      <th>913</th>\n",
       "      <td>2021-11-12</td>\n",
       "      <td>RIVN</td>\n",
       "      <td>129.95</td>\n",
       "    </tr>\n",
       "    <tr>\n",
       "      <th>914</th>\n",
       "      <td>2021-11-11</td>\n",
       "      <td>RIVN</td>\n",
       "      <td>122.99</td>\n",
       "    </tr>\n",
       "  </tbody>\n",
       "</table>\n",
       "<p>915 rows × 3 columns</p>\n",
       "</div>"
      ],
      "text/plain": [
       "      timestamp item_id   close\n",
       "0    2024-05-13    RIVN   10.90\n",
       "1    2024-05-12    RIVN    9.99\n",
       "2    2024-05-11    RIVN    9.99\n",
       "3    2024-05-10    RIVN    9.99\n",
       "4    2024-05-09    RIVN   10.22\n",
       "..          ...     ...     ...\n",
       "910  2021-11-15    RIVN  149.36\n",
       "911  2021-11-14    RIVN  129.95\n",
       "912  2021-11-13    RIVN  129.95\n",
       "913  2021-11-12    RIVN  129.95\n",
       "914  2021-11-11    RIVN  122.99\n",
       "\n",
       "[915 rows x 3 columns]"
      ]
     },
     "execution_count": 32,
     "metadata": {},
     "output_type": "execute_result"
    }
   ],
   "source": [
    "exact = util.load_exact_sol(s3_target_data_key, item_id, target_col_name=target_column_name)\n",
    "exact"
   ]
  },
  {
   "cell_type": "code",
   "execution_count": 39,
   "metadata": {
    "tags": []
   },
   "outputs": [
    {
     "data": {
      "text/html": [
       "<div>\n",
       "<style scoped>\n",
       "    .dataframe tbody tr th:only-of-type {\n",
       "        vertical-align: middle;\n",
       "    }\n",
       "\n",
       "    .dataframe tbody tr th {\n",
       "        vertical-align: top;\n",
       "    }\n",
       "\n",
       "    .dataframe thead th {\n",
       "        text-align: right;\n",
       "    }\n",
       "</style>\n",
       "<table border=\"1\" class=\"dataframe\">\n",
       "  <thead>\n",
       "    <tr style=\"text-align: right;\">\n",
       "      <th></th>\n",
       "      <th>timestamp</th>\n",
       "      <th>close</th>\n",
       "      <th>item_id</th>\n",
       "    </tr>\n",
       "  </thead>\n",
       "  <tbody>\n",
       "    <tr>\n",
       "      <th>0</th>\n",
       "      <td>2024-05-24</td>\n",
       "      <td>10.38</td>\n",
       "      <td>RIVN</td>\n",
       "    </tr>\n",
       "    <tr>\n",
       "      <th>1</th>\n",
       "      <td>2024-05-23</td>\n",
       "      <td>9.95</td>\n",
       "      <td>RIVN</td>\n",
       "    </tr>\n",
       "    <tr>\n",
       "      <th>2</th>\n",
       "      <td>2024-05-22</td>\n",
       "      <td>10.70</td>\n",
       "      <td>RIVN</td>\n",
       "    </tr>\n",
       "    <tr>\n",
       "      <th>3</th>\n",
       "      <td>2024-05-21</td>\n",
       "      <td>10.05</td>\n",
       "      <td>RIVN</td>\n",
       "    </tr>\n",
       "    <tr>\n",
       "      <th>4</th>\n",
       "      <td>2024-05-20</td>\n",
       "      <td>10.28</td>\n",
       "      <td>RIVN</td>\n",
       "    </tr>\n",
       "    <tr>\n",
       "      <th>5</th>\n",
       "      <td>2024-05-19</td>\n",
       "      <td>10.50</td>\n",
       "      <td>RIVN</td>\n",
       "    </tr>\n",
       "    <tr>\n",
       "      <th>6</th>\n",
       "      <td>2024-05-18</td>\n",
       "      <td>10.50</td>\n",
       "      <td>RIVN</td>\n",
       "    </tr>\n",
       "    <tr>\n",
       "      <th>7</th>\n",
       "      <td>2024-05-17</td>\n",
       "      <td>10.50</td>\n",
       "      <td>RIVN</td>\n",
       "    </tr>\n",
       "    <tr>\n",
       "      <th>8</th>\n",
       "      <td>2024-05-16</td>\n",
       "      <td>10.13</td>\n",
       "      <td>RIVN</td>\n",
       "    </tr>\n",
       "    <tr>\n",
       "      <th>9</th>\n",
       "      <td>2024-05-15</td>\n",
       "      <td>10.20</td>\n",
       "      <td>RIVN</td>\n",
       "    </tr>\n",
       "    <tr>\n",
       "      <th>10</th>\n",
       "      <td>2024-05-14</td>\n",
       "      <td>11.19</td>\n",
       "      <td>RIVN</td>\n",
       "    </tr>\n",
       "    <tr>\n",
       "      <th>11</th>\n",
       "      <td>2024-05-13</td>\n",
       "      <td>10.90</td>\n",
       "      <td>RIVN</td>\n",
       "    </tr>\n",
       "  </tbody>\n",
       "</table>\n",
       "</div>"
      ],
      "text/plain": [
       "    timestamp  close item_id\n",
       "0  2024-05-24  10.38    RIVN\n",
       "1  2024-05-23   9.95    RIVN\n",
       "2  2024-05-22  10.70    RIVN\n",
       "3  2024-05-21  10.05    RIVN\n",
       "4  2024-05-20  10.28    RIVN\n",
       "5  2024-05-19  10.50    RIVN\n",
       "6  2024-05-18  10.50    RIVN\n",
       "7  2024-05-17  10.50    RIVN\n",
       "8  2024-05-16  10.13    RIVN\n",
       "9  2024-05-15  10.20    RIVN\n",
       "10 2024-05-14  11.19    RIVN\n",
       "11 2024-05-13  10.90    RIVN"
      ]
     },
     "execution_count": 39,
     "metadata": {},
     "output_type": "execute_result"
    }
   ],
   "source": [
    "future_df = util.prepare_data(bucket_name, future_data_key, \"%m/%d/%Y\", target_column_name, item_id, fill_missing_values=True, minimal=True)\n",
    "future_df"
   ]
  },
  {
   "cell_type": "markdown",
   "metadata": {},
   "source": [
    "## DeepAR+"
   ]
  },
  {
   "cell_type": "code",
   "execution_count": null,
   "metadata": {
    "tags": []
   },
   "outputs": [],
   "source": [
    "forecast_response_deep_ar = forecastquery.query_forecast(\n",
    "    ForecastArn=forecast_arn_deep_ar,\n",
    "    Filters={\"item_id\": item_id})"
   ]
  },
  {
   "cell_type": "code",
   "execution_count": null,
   "metadata": {
    "tags": []
   },
   "outputs": [],
   "source": [
    "forecast_response_deep_ar"
   ]
  },
  {
   "cell_type": "markdown",
   "metadata": {},
   "source": [
    "### Plot using default plot"
   ]
  },
  {
   "cell_type": "code",
   "execution_count": null,
   "metadata": {
    "tags": []
   },
   "outputs": [],
   "source": [
    "util.plot_forecasts(\n",
    "    forecast_response_deep_ar,\n",
    "    exact,\n",
    "    freq=f'1{DATASET_FREQUENCY}',\n",
    "    forecastHorizon=FORECAST_LENGTH,\n",
    "    time_back=30,\n",
    "    future=future_df,\n",
    "    target_col_name=target_column_name,\n",
    "    reverse=True\n",
    ")\n",
    "plt.title(\"DeepAR Forecast\")"
   ]
  },
  {
   "cell_type": "markdown",
   "metadata": {},
   "source": [
    "### Plot using bokeh"
   ]
  },
  {
   "cell_type": "code",
   "execution_count": null,
   "metadata": {
    "tags": []
   },
   "outputs": [],
   "source": [
    "deep_ar_plot = util.plot_bokeh_forecasts(\n",
    "    forecast_response_deep_ar,\n",
    "    exact,\n",
    "    freq=f'1{DATASET_FREQUENCY}',\n",
    "    forecastHorizon=FORECAST_LENGTH,\n",
    "    time_back=30,\n",
    "    future=future_df,\n",
    "    target_col_name=target_column_name,\n",
    "    reverse=True\n",
    ")\n",
    "show(deep_ar_plot)"
   ]
  },
  {
   "cell_type": "markdown",
   "metadata": {
    "tags": []
   },
   "source": [
    "## Prophet"
   ]
  },
  {
   "cell_type": "code",
   "execution_count": null,
   "metadata": {
    "tags": []
   },
   "outputs": [],
   "source": [
    "forecast_response_prophet = forecastquery.query_forecast(\n",
    "    ForecastArn=forecast_arn_prophet,\n",
    "    Filters={\"item_id\": item_id})"
   ]
  },
  {
   "cell_type": "code",
   "execution_count": null,
   "metadata": {
    "tags": []
   },
   "outputs": [],
   "source": [
    "forecast_response_prophet"
   ]
  },
  {
   "cell_type": "markdown",
   "metadata": {},
   "source": [
    "### Plot using default plot"
   ]
  },
  {
   "cell_type": "code",
   "execution_count": null,
   "metadata": {
    "tags": []
   },
   "outputs": [],
   "source": [
    "util.plot_forecasts(\n",
    "    forecast_response_prophet,\n",
    "    exact,\n",
    "    freq=f'1{DATASET_FREQUENCY}',\n",
    "    forecastHorizon=FORECAST_LENGTH,\n",
    "    time_back=30,\n",
    "    future=future_df,\n",
    "    target_col_name=target_column_name,\n",
    "    reverse=True\n",
    ")\n",
    "plt.title(\"Prophet Forecast\")"
   ]
  },
  {
   "cell_type": "markdown",
   "metadata": {},
   "source": [
    "### Plot using bokeh"
   ]
  },
  {
   "cell_type": "code",
   "execution_count": null,
   "metadata": {
    "tags": []
   },
   "outputs": [],
   "source": [
    "prophet_plot = util.plot_bokeh_forecasts(\n",
    "    forecast_response_prophet,\n",
    "    exact,\n",
    "    freq=f'1{DATASET_FREQUENCY}',\n",
    "    forecastHorizon=FORECAST_LENGTH,\n",
    "    time_back=30,\n",
    "    future=future_df,\n",
    "    target_col_name=target_column_name,\n",
    "    reverse=True\n",
    ")\n",
    "show(prophet_plot)"
   ]
  },
  {
   "cell_type": "markdown",
   "metadata": {
    "tags": []
   },
   "source": [
    "## Auto"
   ]
  },
  {
   "cell_type": "code",
   "execution_count": 34,
   "metadata": {
    "tags": []
   },
   "outputs": [],
   "source": [
    "forecast_response_auto = forecastquery.query_forecast(\n",
    "    ForecastArn=forecast_arn_auto,\n",
    "    Filters={\"item_id\": item_id})"
   ]
  },
  {
   "cell_type": "code",
   "execution_count": 35,
   "metadata": {
    "tags": []
   },
   "outputs": [
    {
     "data": {
      "text/plain": [
       "{'Forecast': {'Predictions': {'p10': [{'Timestamp': '2024-05-14T00:00:00',\n",
       "     'Value': 9.370108623595895},\n",
       "    {'Timestamp': '2024-05-15T00:00:00', 'Value': 9.92704610090682},\n",
       "    {'Timestamp': '2024-05-16T00:00:00', 'Value': 9.274526275654246},\n",
       "    {'Timestamp': '2024-05-17T00:00:00', 'Value': 8.962111199814448},\n",
       "    {'Timestamp': '2024-05-18T00:00:00', 'Value': 9.854560388876832},\n",
       "    {'Timestamp': '2024-05-19T00:00:00', 'Value': 9.434846731067402},\n",
       "    {'Timestamp': '2024-05-20T00:00:00', 'Value': 9.938868048854413},\n",
       "    {'Timestamp': '2024-05-21T00:00:00', 'Value': 9.766000657126584},\n",
       "    {'Timestamp': '2024-05-22T00:00:00', 'Value': 9.370659100408801},\n",
       "    {'Timestamp': '2024-05-23T00:00:00', 'Value': 9.69946209294438},\n",
       "    {'Timestamp': '2024-05-24T00:00:00', 'Value': 8.94057303003812},\n",
       "    {'Timestamp': '2024-05-25T00:00:00', 'Value': 8.26109724355842},\n",
       "    {'Timestamp': '2024-05-26T00:00:00', 'Value': 7.874517397821818},\n",
       "    {'Timestamp': '2024-05-27T00:00:00', 'Value': 9.900400283095657},\n",
       "    {'Timestamp': '2024-05-28T00:00:00', 'Value': 8.74364155713437},\n",
       "    {'Timestamp': '2024-05-29T00:00:00', 'Value': 8.390247417476948},\n",
       "    {'Timestamp': '2024-05-30T00:00:00', 'Value': 7.785178061535664},\n",
       "    {'Timestamp': '2024-05-31T00:00:00', 'Value': 8.53322474406256},\n",
       "    {'Timestamp': '2024-06-01T00:00:00', 'Value': 8.315686101698818},\n",
       "    {'Timestamp': '2024-06-02T00:00:00', 'Value': 8.885481607929204},\n",
       "    {'Timestamp': '2024-06-03T00:00:00', 'Value': 8.5001037489548},\n",
       "    {'Timestamp': '2024-06-04T00:00:00', 'Value': 7.8643053959273095},\n",
       "    {'Timestamp': '2024-06-05T00:00:00', 'Value': 8.083269708244897},\n",
       "    {'Timestamp': '2024-06-06T00:00:00', 'Value': 8.56118662890287},\n",
       "    {'Timestamp': '2024-06-07T00:00:00', 'Value': 8.567373467105543},\n",
       "    {'Timestamp': '2024-06-08T00:00:00', 'Value': 8.642034726824333},\n",
       "    {'Timestamp': '2024-06-09T00:00:00', 'Value': 9.209549855609541},\n",
       "    {'Timestamp': '2024-06-10T00:00:00', 'Value': 8.895066871916878},\n",
       "    {'Timestamp': '2024-06-11T00:00:00', 'Value': 8.831885932669259},\n",
       "    {'Timestamp': '2024-06-12T00:00:00', 'Value': 8.565141579644678}],\n",
       "   'p50': [{'Timestamp': '2024-05-14T00:00:00', 'Value': 9.735125270570169},\n",
       "    {'Timestamp': '2024-05-15T00:00:00', 'Value': 10.381533458445807},\n",
       "    {'Timestamp': '2024-05-16T00:00:00', 'Value': 9.803191765522676},\n",
       "    {'Timestamp': '2024-05-17T00:00:00', 'Value': 9.73755817484071},\n",
       "    {'Timestamp': '2024-05-18T00:00:00', 'Value': 10.48648267338199},\n",
       "    {'Timestamp': '2024-05-19T00:00:00', 'Value': 10.110829902398878},\n",
       "    {'Timestamp': '2024-05-20T00:00:00', 'Value': 10.638921931952439},\n",
       "    {'Timestamp': '2024-05-21T00:00:00', 'Value': 10.536458471981035},\n",
       "    {'Timestamp': '2024-05-22T00:00:00', 'Value': 10.197118437504685},\n",
       "    {'Timestamp': '2024-05-23T00:00:00', 'Value': 10.53141227125001},\n",
       "    {'Timestamp': '2024-05-24T00:00:00', 'Value': 9.790958348954895},\n",
       "    {'Timestamp': '2024-05-25T00:00:00', 'Value': 9.107993772260677},\n",
       "    {'Timestamp': '2024-05-26T00:00:00', 'Value': 8.725890283332493},\n",
       "    {'Timestamp': '2024-05-27T00:00:00', 'Value': 10.781317691556616},\n",
       "    {'Timestamp': '2024-05-28T00:00:00', 'Value': 9.639252016762244},\n",
       "    {'Timestamp': '2024-05-29T00:00:00', 'Value': 9.324211518974764},\n",
       "    {'Timestamp': '2024-05-30T00:00:00', 'Value': 9.355470325211344},\n",
       "    {'Timestamp': '2024-05-31T00:00:00', 'Value': 9.49361508345157},\n",
       "    {'Timestamp': '2024-06-01T00:00:00', 'Value': 9.340579308250549},\n",
       "    {'Timestamp': '2024-06-02T00:00:00', 'Value': 9.894591651668186},\n",
       "    {'Timestamp': '2024-06-03T00:00:00', 'Value': 9.571493221009003},\n",
       "    {'Timestamp': '2024-06-04T00:00:00', 'Value': 9.081540578119355},\n",
       "    {'Timestamp': '2024-06-05T00:00:00', 'Value': 9.183160714840707},\n",
       "    {'Timestamp': '2024-06-06T00:00:00', 'Value': 9.689011633598312},\n",
       "    {'Timestamp': '2024-06-07T00:00:00', 'Value': 9.735896692010948},\n",
       "    {'Timestamp': '2024-06-08T00:00:00', 'Value': 9.940144745578142},\n",
       "    {'Timestamp': '2024-06-09T00:00:00', 'Value': 10.576458378527866},\n",
       "    {'Timestamp': '2024-06-10T00:00:00', 'Value': 10.168399729480413},\n",
       "    {'Timestamp': '2024-06-11T00:00:00', 'Value': 10.090183787097535},\n",
       "    {'Timestamp': '2024-06-12T00:00:00', 'Value': 9.863158435547057}],\n",
       "   'p90': [{'Timestamp': '2024-05-14T00:00:00', 'Value': 10.070984572751446},\n",
       "    {'Timestamp': '2024-05-15T00:00:00', 'Value': 11.17378084102157},\n",
       "    {'Timestamp': '2024-05-16T00:00:00', 'Value': 10.927289197380325},\n",
       "    {'Timestamp': '2024-05-17T00:00:00', 'Value': 10.722352252498403},\n",
       "    {'Timestamp': '2024-05-18T00:00:00', 'Value': 11.09943921006975},\n",
       "    {'Timestamp': '2024-05-19T00:00:00', 'Value': 10.780163817929353},\n",
       "    {'Timestamp': '2024-05-20T00:00:00', 'Value': 11.351407295484666},\n",
       "    {'Timestamp': '2024-05-21T00:00:00', 'Value': 11.326922026084086},\n",
       "    {'Timestamp': '2024-05-22T00:00:00', 'Value': 11.435304688070525},\n",
       "    {'Timestamp': '2024-05-23T00:00:00', 'Value': 11.736060534385249},\n",
       "    {'Timestamp': '2024-05-24T00:00:00', 'Value': 10.667060918743072},\n",
       "    {'Timestamp': '2024-05-25T00:00:00', 'Value': 10.005724219503538},\n",
       "    {'Timestamp': '2024-05-26T00:00:00', 'Value': 9.715146662730255},\n",
       "    {'Timestamp': '2024-05-27T00:00:00', 'Value': 12.010655966008752},\n",
       "    {'Timestamp': '2024-05-28T00:00:00', 'Value': 10.563071247121716},\n",
       "    {'Timestamp': '2024-05-29T00:00:00', 'Value': 10.316224658415782},\n",
       "    {'Timestamp': '2024-05-30T00:00:00', 'Value': 10.322230689432486},\n",
       "    {'Timestamp': '2024-05-31T00:00:00', 'Value': 10.641597257837454},\n",
       "    {'Timestamp': '2024-06-01T00:00:00', 'Value': 10.339379419979732},\n",
       "    {'Timestamp': '2024-06-02T00:00:00', 'Value': 10.866015365541253},\n",
       "    {'Timestamp': '2024-06-03T00:00:00', 'Value': 10.636648157886757},\n",
       "    {'Timestamp': '2024-06-04T00:00:00', 'Value': 10.180964234473148},\n",
       "    {'Timestamp': '2024-06-05T00:00:00', 'Value': 10.303607557182119},\n",
       "    {'Timestamp': '2024-06-06T00:00:00', 'Value': 10.839856282086554},\n",
       "    {'Timestamp': '2024-06-07T00:00:00', 'Value': 10.88955421811475},\n",
       "    {'Timestamp': '2024-06-08T00:00:00', 'Value': 11.1226222941492},\n",
       "    {'Timestamp': '2024-06-09T00:00:00', 'Value': 11.753996867247407},\n",
       "    {'Timestamp': '2024-06-10T00:00:00', 'Value': 11.38694907205642},\n",
       "    {'Timestamp': '2024-06-11T00:00:00', 'Value': 11.349123473861612},\n",
       "    {'Timestamp': '2024-06-12T00:00:00', 'Value': 11.166533556389034}]}},\n",
       " 'ResponseMetadata': {'RequestId': 'e3d098e3-2286-4742-8d3e-36a86865b0f0',\n",
       "  'HTTPStatusCode': 200,\n",
       "  'HTTPHeaders': {'date': 'Fri, 24 May 2024 19:34:51 GMT',\n",
       "   'content-type': 'application/x-amz-json-1.1',\n",
       "   'content-length': '5656',\n",
       "   'connection': 'keep-alive',\n",
       "   'x-amzn-requestid': 'e3d098e3-2286-4742-8d3e-36a86865b0f0'},\n",
       "  'RetryAttempts': 0}}"
      ]
     },
     "execution_count": 35,
     "metadata": {},
     "output_type": "execute_result"
    }
   ],
   "source": [
    "forecast_response_auto"
   ]
  },
  {
   "cell_type": "markdown",
   "metadata": {},
   "source": [
    "### Plot using default plot"
   ]
  },
  {
   "cell_type": "code",
   "execution_count": 40,
   "metadata": {
    "tags": []
   },
   "outputs": [
    {
     "data": {
      "text/plain": [
       "Text(0.5, 1.0, 'Auto Forecast')"
      ]
     },
     "execution_count": 40,
     "metadata": {},
     "output_type": "execute_result"
    },
    {
     "data": {
      "image/png": "[encoded data removed]",
      "text/plain": [
       "<Figure size 1500x500 with 1 Axes>"
      ]
     },
     "metadata": {},
     "output_type": "display_data"
    }
   ],
   "source": [
    "util.plot_forecasts(\n",
    "    forecast_response_auto,\n",
    "    exact,\n",
    "    freq=f'1{DATASET_FREQUENCY}',\n",
    "    forecastHorizon=FORECAST_LENGTH,\n",
    "    time_back=30,\n",
    "    future=future_df,\n",
    "    target_col_name=target_column_name,\n",
    "    reverse=True\n",
    ")\n",
    "plt.title(\"Auto Forecast\")"
   ]
  },
  {
   "cell_type": "markdown",
   "metadata": {},
   "source": [
    "### Plot using bokeh"
   ]
  },
  {
   "cell_type": "code",
   "execution_count": 41,
   "metadata": {
    "tags": []
   },
   "outputs": [
    {
     "data": {
      "text/html": [
       "\n",
       "  <div id=\"dafc92f7-2d10-4ba4-b858-6a293224e58b\" data-root-id=\"p1103\" style=\"display: contents;\"></div>\n"
      ]
     },
     "metadata": {},
     "output_type": "display_data"
    },
    {
     "data": {
      "application/javascript": [
       "(function(root) {\n",
       "  function embed_document(root) {\n",
       "  const docs_json = {\"66edaf01-3326-4e0d-afcc-975030bbe7e0\":{\"version\":\"3.4.0\",\"title\":\"Bokeh Application\",\"roots\":[{\"type\":\"object\",\"name\":\"Figure\",\"id\":\"p1103\",\"attributes\":{\"sizing_mode\":\"stretch_width\",\"x_range\":{\"type\":\"object\",\"name\":\"DataRange1d\",\"id\":\"p1104\"},\"y_range\":{\"type\":\"object\",\"name\":\"DataRange1d\",\"id\":\"p1105\"},\"x_scale\":{\"type\":\"object\",\"name\":\"LinearScale\",\"id\":\"p1113\"},\"y_scale\":{\"type\":\"object\",\"name\":\"LinearScale\",\"id\":\"p1114\"},\"title\":{\"type\":\"object\",\"name\":\"Title\",\"id\":\"p1106\",\"attributes\":{\"text\":\"Stock Price Forecast\"}},\"renderers\":[{\"type\":\"object\",\"name\":\"GlyphRenderer\",\"id\":\"p1142\",\"attributes\":{\"data_source\":{\"type\":\"object\",\"name\":\"ColumnDataSource\",\"id\":\"p1100\",\"attributes\":{\"selected\":{\"type\":\"object\",\"name\":\"Selection\",\"id\":\"p1101\",\"attributes\":{\"indices\":[],\"line_indices\":[]}},\"selection_policy\":{\"type\":\"object\",\"name\":\"UnionRenderers\",\"id\":\"p1102\"},\"data\":{\"type\":\"map\",\"entries\":[[\"index\",{\"type\":\"ndarray\",\"array\":{\"type\":\"bytes\",\"data\":\"AAAAAAEAAAACAAAAAwAAAAQAAAAFAAAABgAAAAcAAAAIAAAACQAAAAoAAAALAAAADAAAAA0AAAAOAAAADwAAABAAAAARAAAAEgAAABMAAAAUAAAAFQAAABYAAAAXAAAAGAAAABkAAAAaAAAAGwAAABwAAAAdAAAAHgAAAB8AAAAgAAAAIQAAACIAAAAjAAAAJAAAACUAAAAmAAAAJwAAACgAAAApAAAAKgAAACsAAAAsAAAALQAAAC4AAAAvAAAAMAAAADEAAAAyAAAAMwAAADQAAAA1AAAANgAAADcAAAA4AAAAOQAAADoAAAA7AAAA\"},\"shape\":[60],\"dtype\":\"int32\",\"order\":\"little\"}],[\"Timestamp\",{\"type\":\"ndarray\",\"array\":{\"type\":\"bytes\",\"data\":\"AABAdZ7teEIAAADb8O14QgAAwEBD7nhCAACAppXueEIAAEAM6O54QgAAAHI673hCAADA14zveEIAAIA93+94QgAAQKMx8HhCAAAACYTweEIAAMBu1vB4QgAAgNQo8XhCAABAOnvxeEIAAACgzfF4QgAAwAUg8nhCAACAa3LyeEIAAEDRxPJ4QgAAADcX83hCAADAnGnzeEIAAIACvPN4QgAAQGgO9HhCAAAAzmD0eEIAAMAzs/R4QgAAgJkF9XhCAABA/1f1eEIAAABlqvV4QgAAwMr89XhCAACAME/2eEIAAECWofZ4QgAAAPzz9nhCAADAYUb3eEIAAIDHmPd4QgAAQC3r93hCAAAAkz34eEIAAMD4j/h4QgAAgF7i+HhCAABAxDT5eEIAAAAqh/l4QgAAwI/Z+XhCAACA9Sv6eEIAAEBbfvp4QgAAAMHQ+nhCAADAJiP7eEIAAICMdft4QgAAQPLH+3hCAAAAWBr8eEIAAMC9bPx4QgAAgCO//HhCAABAiRH9eEIAAADvY/14QgAAwFS2/XhCAACAugj+eEIAAEAgW/54QgAAAIat/nhCAADA6//+eEIAAIBRUv94QgAAQLek/3hCAAAAHff/eEIAAMCCSQB5QgAAgOibAHlC\"},\"shape\":[60],\"dtype\":\"float64\",\"order\":\"little\"}],[\"Value\",{\"type\":\"ndarray\",\"array\":{\"type\":\"bytes\",\"data\":\"w/UoXI9CIkDNzMzMzMwgQOxRuB6FayFAexSuR+F6IUApXI/C9aghQMP1KFyPQiFAw/UoXI9CIUDD9Shcj0IhQBSuR+F6lCFAFK5H4XoUIkCuR+F6FK4hQArXo3A9CiFAFK5H4XoUIkAUrkfhehQiQBSuR+F6FCJAw/UoXI/CIkDNzMzMzMwhQOxRuB6FayJAKVyPwvWoI0CkcD0K1yMkQKRwPQrXIyRApHA9CtcjJEApXI/C9agkQAAAAAAAgCRACtejcD2KJEBxPQrXo3AkQHsUrkfh+iNAexSuR+H6I0B7FK5H4fojQM3MzMzMzCVAwh/nVmJ4I0CDtXxaWMMkQDysevM7myNANq2fOaF5I0AbfshBFPkkQLFxbLK+OCRAoN2ExiBHJUAwpFGvqhIlQOAKNbXsZCRAe2zrRBUQJUDUhCJ++JQjQAQQsPVKNyJAYssm5KdzIUA0C1rfCJAlQLHKUwpMRyNAWPddDf+lIkBh9to0ALYiQD55wB27/CJAxUI9aWCuIkAEYb7qB8ojQB49bMKaJCNAnqPIr78pIkA+TsA9x10iQJC8ASLGYCNA3deCc8d4I0Bah++mWuEjQJOQdo0lJyVAGIxFfThWJEA7bcCRLC4kQNzhB+fvuSNA\"},\"shape\":[60],\"dtype\":\"float64\",\"order\":\"little\"}]]}}},\"view\":{\"type\":\"object\",\"name\":\"CDSView\",\"id\":\"p1143\",\"attributes\":{\"filter\":{\"type\":\"object\",\"name\":\"AllIndices\",\"id\":\"p1144\"}}},\"glyph\":{\"type\":\"object\",\"name\":\"Line\",\"id\":\"p1139\",\"attributes\":{\"x\":{\"type\":\"field\",\"field\":\"Timestamp\"},\"y\":{\"type\":\"field\",\"field\":\"Value\"},\"line_color\":\"#1f77b4\",\"line_width\":2}},\"nonselection_glyph\":{\"type\":\"object\",\"name\":\"Line\",\"id\":\"p1140\",\"attributes\":{\"x\":{\"type\":\"field\",\"field\":\"Timestamp\"},\"y\":{\"type\":\"field\",\"field\":\"Value\"},\"line_color\":\"#1f77b4\",\"line_alpha\":0.1,\"line_width\":2}},\"muted_glyph\":{\"type\":\"object\",\"name\":\"Line\",\"id\":\"p1141\",\"attributes\":{\"x\":{\"type\":\"field\",\"field\":\"Timestamp\"},\"y\":{\"type\":\"field\",\"field\":\"Value\"},\"line_color\":\"#1f77b4\",\"line_alpha\":0.2,\"line_width\":2}}}},{\"type\":\"object\",\"name\":\"GlyphRenderer\",\"id\":\"p1153\",\"attributes\":{\"data_source\":{\"type\":\"object\",\"name\":\"ColumnDataSource\",\"id\":\"p1147\",\"attributes\":{\"selected\":{\"type\":\"object\",\"name\":\"Selection\",\"id\":\"p1148\",\"attributes\":{\"indices\":[],\"line_indices\":[]}},\"selection_policy\":{\"type\":\"object\",\"name\":\"UnionRenderers\",\"id\":\"p1149\"},\"data\":{\"type\":\"map\",\"entries\":[[\"x\",{\"type\":\"ndarray\",\"array\":{\"type\":\"bytes\",\"data\":\"AADAYUb3eEIAAIDHmPd4QgAAQC3r93hCAAAAkz34eEIAAMD4j/h4QgAAgF7i+HhCAABAxDT5eEIAAAAqh/l4QgAAwI/Z+XhCAACA9Sv6eEIAAEBbfvp4QgAAAMHQ+nhCAADAJiP7eEIAAICMdft4QgAAQPLH+3hCAAAAWBr8eEIAAMC9bPx4QgAAgCO//HhCAABAiRH9eEIAAADvY/14QgAAwFS2/XhCAACAugj+eEIAAEAgW/54QgAAAIat/nhCAADA6//+eEIAAIBRUv94QgAAQLek/3hCAAAAHff/eEIAAMCCSQB5QgAAgOibAHlC\"},\"shape\":[30],\"dtype\":\"float64\",\"order\":\"little\"}],[\"y1\",{\"type\":\"ndarray\",\"array\":{\"type\":\"bytes\",\"data\":\"t5+k4H69IkDnjlrJpdojQMSnP7WOjCJAAqPU1pnsIUC3XXXwiLUjQPxpETuk3iJAli0aULPgI0B5JfY8MYgjQPBwlAfHvSJAxPk75R9mI0DWBsfJkuEhQH1RtImuhSBA/7UdfYF/H0D0aBJEAc0jQGKtD5a+fCFA69Jugs7HIEBUVL+3BSQfQFVVatUCESFAQTLVm6GhIEDmh2bYXcUhQFi8PJkNACFAdw5FeQx1H0CPUcNToiogQD4ulNpTHyFAQqxrxn4iIUCvNpXGuEghQPJyYR5KayJAZjt9NEbKIUBEovXz7KkhQApetDxaISFA\"},\"shape\":[30],\"dtype\":\"float64\",\"order\":\"little\"}],[\"y2\",{\"type\":\"ndarray\",\"array\":{\"type\":\"bytes\",\"data\":\"2vkEF1gkJEDRt2nN+VgmQHxdUabF2iVAXFiJJ9hxJUAaYTay6TImQOIOx6FxjyVAal0zqOuzJkAVv+RSYqcmQOUdjkHg3iZAMh8m7dx4J0Dm4TwCiVUlQCog70juAiRAPIoQtCduI0CeB+OydAUoQFJp399KICVASyvMMuihJECXwsFr+6QkQPQ6j29/SCVALn+rI8OtJECVqrFdZrslQFJdUr/2RSVAnp0ZWKdcJEDQ1CFzcpskQMbNgaQBriVAtqSFpnPHJUA7Q25ZyD4mQGc6nOALgidAVmZTMB7GJkDJAN1PwLImQETB5OJDVSZA\"},\"shape\":[30],\"dtype\":\"float64\",\"order\":\"little\"}]]}}},\"view\":{\"type\":\"object\",\"name\":\"CDSView\",\"id\":\"p1154\",\"attributes\":{\"filter\":{\"type\":\"object\",\"name\":\"AllIndices\",\"id\":\"p1155\"}}},\"glyph\":{\"type\":\"object\",\"name\":\"VArea\",\"id\":\"p1150\",\"attributes\":{\"x\":{\"type\":\"field\",\"field\":\"x\"},\"y1\":{\"type\":\"field\",\"field\":\"y1\"},\"y2\":{\"type\":\"field\",\"field\":\"y2\"},\"fill_color\":\"blue\",\"fill_alpha\":0.3}},\"nonselection_glyph\":{\"type\":\"object\",\"name\":\"VArea\",\"id\":\"p1151\",\"attributes\":{\"x\":{\"type\":\"field\",\"field\":\"x\"},\"y1\":{\"type\":\"field\",\"field\":\"y1\"},\"y2\":{\"type\":\"field\",\"field\":\"y2\"},\"fill_color\":\"blue\",\"fill_alpha\":0.1,\"hatch_alpha\":{\"type\":\"value\",\"value\":0.1}}},\"muted_glyph\":{\"type\":\"object\",\"name\":\"VArea\",\"id\":\"p1152\",\"attributes\":{\"x\":{\"type\":\"field\",\"field\":\"x\"},\"y1\":{\"type\":\"field\",\"field\":\"y1\"},\"y2\":{\"type\":\"field\",\"field\":\"y2\"},\"fill_color\":\"blue\",\"fill_alpha\":0.2,\"hatch_alpha\":{\"type\":\"value\",\"value\":0.2}}}}},{\"type\":\"object\",\"name\":\"GlyphRenderer\",\"id\":\"p1162\",\"attributes\":{\"data_source\":{\"type\":\"object\",\"name\":\"ColumnDataSource\",\"id\":\"p1156\",\"attributes\":{\"selected\":{\"type\":\"object\",\"name\":\"Selection\",\"id\":\"p1157\",\"attributes\":{\"indices\":[],\"line_indices\":[]}},\"selection_policy\":{\"type\":\"object\",\"name\":\"UnionRenderers\",\"id\":\"p1158\"},\"data\":{\"type\":\"map\"}}},\"view\":{\"type\":\"object\",\"name\":\"CDSView\",\"id\":\"p1163\",\"attributes\":{\"filter\":{\"type\":\"object\",\"name\":\"AllIndices\",\"id\":\"p1164\"}}},\"glyph\":{\"type\":\"object\",\"name\":\"VSpan\",\"id\":\"p1159\",\"attributes\":{\"x\":{\"type\":\"value\",\"value\":1715644800000.0},\"line_color\":{\"type\":\"value\",\"value\":\"green\"},\"line_width\":{\"type\":\"value\",\"value\":3},\"line_dash\":{\"type\":\"value\",\"value\":\"dashed\"}}},\"nonselection_glyph\":{\"type\":\"object\",\"name\":\"VSpan\",\"id\":\"p1160\",\"attributes\":{\"x\":{\"type\":\"value\",\"value\":1715644800000.0},\"line_color\":{\"type\":\"value\",\"value\":\"green\"},\"line_alpha\":{\"type\":\"value\",\"value\":0.1},\"line_width\":{\"type\":\"value\",\"value\":3},\"line_dash\":{\"type\":\"value\",\"value\":\"dashed\"}}},\"muted_glyph\":{\"type\":\"object\",\"name\":\"VSpan\",\"id\":\"p1161\",\"attributes\":{\"x\":{\"type\":\"value\",\"value\":1715644800000.0},\"line_color\":{\"type\":\"value\",\"value\":\"green\"},\"line_alpha\":{\"type\":\"value\",\"value\":0.2},\"line_width\":{\"type\":\"value\",\"value\":3},\"line_dash\":{\"type\":\"value\",\"value\":\"dashed\"}}}}},{\"type\":\"object\",\"name\":\"GlyphRenderer\",\"id\":\"p1171\",\"attributes\":{\"data_source\":{\"type\":\"object\",\"name\":\"ColumnDataSource\",\"id\":\"p1165\",\"attributes\":{\"selected\":{\"type\":\"object\",\"name\":\"Selection\",\"id\":\"p1166\",\"attributes\":{\"indices\":[],\"line_indices\":[]}},\"selection_policy\":{\"type\":\"object\",\"name\":\"UnionRenderers\",\"id\":\"p1167\"},\"data\":{\"type\":\"map\"}}},\"view\":{\"type\":\"object\",\"name\":\"CDSView\",\"id\":\"p1172\",\"attributes\":{\"filter\":{\"type\":\"object\",\"name\":\"AllIndices\",\"id\":\"p1173\"}}},\"glyph\":{\"type\":\"object\",\"name\":\"VSpan\",\"id\":\"p1168\",\"attributes\":{\"x\":{\"type\":\"value\",\"value\":1718150400000.0},\"line_color\":{\"type\":\"value\",\"value\":\"green\"},\"line_width\":{\"type\":\"value\",\"value\":3},\"line_dash\":{\"type\":\"value\",\"value\":\"dashed\"}}},\"nonselection_glyph\":{\"type\":\"object\",\"name\":\"VSpan\",\"id\":\"p1169\",\"attributes\":{\"x\":{\"type\":\"value\",\"value\":1718150400000.0},\"line_color\":{\"type\":\"value\",\"value\":\"green\"},\"line_alpha\":{\"type\":\"value\",\"value\":0.1},\"line_width\":{\"type\":\"value\",\"value\":3},\"line_dash\":{\"type\":\"value\",\"value\":\"dashed\"}}},\"muted_glyph\":{\"type\":\"object\",\"name\":\"VSpan\",\"id\":\"p1170\",\"attributes\":{\"x\":{\"type\":\"value\",\"value\":1718150400000.0},\"line_color\":{\"type\":\"value\",\"value\":\"green\"},\"line_alpha\":{\"type\":\"value\",\"value\":0.2},\"line_width\":{\"type\":\"value\",\"value\":3},\"line_dash\":{\"type\":\"value\",\"value\":\"dashed\"}}}}},{\"type\":\"object\",\"name\":\"GlyphRenderer\",\"id\":\"p1183\",\"attributes\":{\"data_source\":{\"type\":\"object\",\"name\":\"ColumnDataSource\",\"id\":\"p1174\",\"attributes\":{\"selected\":{\"type\":\"object\",\"name\":\"Selection\",\"id\":\"p1175\",\"attributes\":{\"indices\":[],\"line_indices\":[]}},\"selection_policy\":{\"type\":\"object\",\"name\":\"UnionRenderers\",\"id\":\"p1176\"},\"data\":{\"type\":\"map\",\"entries\":[[\"index\",{\"type\":\"ndarray\",\"array\":{\"type\":\"bytes\",\"data\":\"AAAAAAEAAAACAAAAAwAAAAQAAAAFAAAABgAAAAcAAAAIAAAACQAAAAoAAAALAAAA\"},\"shape\":[12],\"dtype\":\"int32\",\"order\":\"little\"}],[\"Timestamp\",{\"type\":\"ndarray\",\"array\":{\"type\":\"bytes\",\"data\":\"AABAW376eEIAAID1K/p4QgAAwI/Z+XhCAAAAKof5eEIAAEDENPl4QgAAgF7i+HhCAADA+I/4eEIAAACTPfh4QgAAQC3r93hCAACAx5j3eEIAAMBhRvd4QgAAAPzz9nhC\"},\"shape\":[12],\"dtype\":\"float64\",\"order\":\"little\"}],[\"Value\",{\"type\":\"ndarray\",\"array\":{\"type\":\"bytes\",\"data\":\"w/UoXI/CJEBmZmZmZuYjQGZmZmZmZiVAmpmZmZkZJECPwvUoXI8kQAAAAAAAACVAAAAAAAAAJUAAAAAAAAAlQMP1KFyPQiRAZmZmZmZmJEDhehSuR2EmQM3MzMzMzCVA\"},\"shape\":[12],\"dtype\":\"float64\",\"order\":\"little\"}],[\"item_id\",{\"type\":\"ndarray\",\"array\":[\"RIVN\",\"RIVN\",\"RIVN\",\"RIVN\",\"RIVN\",\"RIVN\",\"RIVN\",\"RIVN\",\"RIVN\",\"RIVN\",\"RIVN\",\"RIVN\"],\"shape\":[12],\"dtype\":\"object\",\"order\":\"little\"}]]}}},\"view\":{\"type\":\"object\",\"name\":\"CDSView\",\"id\":\"p1184\",\"attributes\":{\"filter\":{\"type\":\"object\",\"name\":\"AllIndices\",\"id\":\"p1185\"}}},\"glyph\":{\"type\":\"object\",\"name\":\"Line\",\"id\":\"p1180\",\"attributes\":{\"x\":{\"type\":\"field\",\"field\":\"Timestamp\"},\"y\":{\"type\":\"field\",\"field\":\"Value\"},\"line_color\":\"red\",\"line_width\":2}},\"nonselection_glyph\":{\"type\":\"object\",\"name\":\"Line\",\"id\":\"p1181\",\"attributes\":{\"x\":{\"type\":\"field\",\"field\":\"Timestamp\"},\"y\":{\"type\":\"field\",\"field\":\"Value\"},\"line_color\":\"red\",\"line_alpha\":0.1,\"line_width\":2}},\"muted_glyph\":{\"type\":\"object\",\"name\":\"Line\",\"id\":\"p1182\",\"attributes\":{\"x\":{\"type\":\"field\",\"field\":\"Timestamp\"},\"y\":{\"type\":\"field\",\"field\":\"Value\"},\"line_color\":\"red\",\"line_alpha\":0.2,\"line_width\":2}}}}],\"toolbar\":{\"type\":\"object\",\"name\":\"Toolbar\",\"id\":\"p1112\",\"attributes\":{\"tools\":[{\"type\":\"object\",\"name\":\"PanTool\",\"id\":\"p1125\"},{\"type\":\"object\",\"name\":\"WheelZoomTool\",\"id\":\"p1126\",\"attributes\":{\"renderers\":\"auto\"}},{\"type\":\"object\",\"name\":\"BoxZoomTool\",\"id\":\"p1127\",\"attributes\":{\"overlay\":{\"type\":\"object\",\"name\":\"BoxAnnotation\",\"id\":\"p1128\",\"attributes\":{\"syncable\":false,\"level\":\"overlay\",\"visible\":false,\"left\":{\"type\":\"number\",\"value\":\"nan\"},\"right\":{\"type\":\"number\",\"value\":\"nan\"},\"top\":{\"type\":\"number\",\"value\":\"nan\"},\"bottom\":{\"type\":\"number\",\"value\":\"nan\"},\"left_units\":\"canvas\",\"right_units\":\"canvas\",\"top_units\":\"canvas\",\"bottom_units\":\"canvas\",\"line_color\":\"black\",\"line_alpha\":1.0,\"line_width\":2,\"line_dash\":[4,4],\"fill_color\":\"lightgrey\",\"fill_alpha\":0.5}}}},{\"type\":\"object\",\"name\":\"SaveTool\",\"id\":\"p1133\"},{\"type\":\"object\",\"name\":\"ResetTool\",\"id\":\"p1134\"},{\"type\":\"object\",\"name\":\"HelpTool\",\"id\":\"p1135\"},{\"type\":\"object\",\"name\":\"HoverTool\",\"id\":\"p1098\",\"attributes\":{\"renderers\":[{\"id\":\"p1142\"},{\"id\":\"p1183\"}],\"tooltips\":[[\"Timestamp\",\"@Timestamp{%F}\"],[\"Value\",\"$@Value{0,0.00}\"]],\"formatters\":{\"type\":\"map\",\"entries\":[[\"@Timestamp\",\"datetime\"]]},\"mode\":\"vline\"}},{\"type\":\"object\",\"name\":\"CrosshairTool\",\"id\":\"p1099\"}]}},\"left\":[{\"type\":\"object\",\"name\":\"LinearAxis\",\"id\":\"p1120\",\"attributes\":{\"ticker\":{\"type\":\"object\",\"name\":\"BasicTicker\",\"id\":\"p1121\",\"attributes\":{\"mantissas\":[1,2,5]}},\"formatter\":{\"type\":\"object\",\"name\":\"NumeralTickFormatter\",\"id\":\"p1145\",\"attributes\":{\"format\":\"$0.00\"}},\"axis_label\":\"Stock Value\",\"major_label_policy\":{\"type\":\"object\",\"name\":\"AllLabels\",\"id\":\"p1123\"}}}],\"below\":[{\"type\":\"object\",\"name\":\"LinearAxis\",\"id\":\"p1115\",\"attributes\":{\"ticker\":{\"type\":\"object\",\"name\":\"BasicTicker\",\"id\":\"p1116\",\"attributes\":{\"mantissas\":[1,2,5]}},\"formatter\":{\"type\":\"object\",\"name\":\"DatetimeTickFormatter\",\"id\":\"p1146\",\"attributes\":{\"hours\":\"%d %b %Y\",\"days\":\"%d %b %Y\",\"months\":\"%d %b %Y\",\"years\":\"%d %b %Y\"}},\"axis_label\":\"Timestamp\",\"major_label_orientation\":1.0471975511965976,\"major_label_policy\":{\"type\":\"object\",\"name\":\"AllLabels\",\"id\":\"p1118\"}}}],\"center\":[{\"type\":\"object\",\"name\":\"Grid\",\"id\":\"p1119\",\"attributes\":{\"axis\":{\"id\":\"p1115\"}}},{\"type\":\"object\",\"name\":\"Grid\",\"id\":\"p1124\",\"attributes\":{\"dimension\":1,\"axis\":{\"id\":\"p1120\"}}}]}}]}};\n",
       "  const render_items = [{\"docid\":\"66edaf01-3326-4e0d-afcc-975030bbe7e0\",\"roots\":{\"p1103\":\"dafc92f7-2d10-4ba4-b858-6a293224e58b\"},\"root_ids\":[\"p1103\"]}];\n",
       "  void root.Bokeh.embed.embed_items_notebook(docs_json, render_items);\n",
       "  }\n",
       "  if (root.Bokeh !== undefined) {\n",
       "    embed_document(root);\n",
       "  } else {\n",
       "    let attempts = 0;\n",
       "    const timer = setInterval(function(root) {\n",
       "      if (root.Bokeh !== undefined) {\n",
       "        clearInterval(timer);\n",
       "        embed_document(root);\n",
       "      } else {\n",
       "        attempts++;\n",
       "        if (attempts > 100) {\n",
       "          clearInterval(timer);\n",
       "          console.log(\"Bokeh: ERROR: Unable to run BokehJS code because BokehJS library is missing\");\n",
       "        }\n",
       "      }\n",
       "    }, 10, root)\n",
       "  }\n",
       "})(window);"
      ],
      "application/vnd.bokehjs_exec.v0+json": ""
     },
     "metadata": {
      "application/vnd.bokehjs_exec.v0+json": {
       "id": "p1103"
      }
     },
     "output_type": "display_data"
    }
   ],
   "source": [
    "auto_plot = util.plot_bokeh_forecasts(\n",
    "    forecast_response_auto,\n",
    "    exact,\n",
    "    freq=f'1{DATASET_FREQUENCY}',\n",
    "    forecastHorizon=FORECAST_LENGTH,\n",
    "    time_back=30,\n",
    "    future=future_df,\n",
    "    target_col_name=target_column_name,\n",
    "    reverse=True\n",
    ")\n",
    "show(auto_plot)"
   ]
  },
  {
   "cell_type": "markdown",
   "metadata": {},
   "source": [
    "# Cleanup"
   ]
  },
  {
   "cell_type": "markdown",
   "metadata": {},
   "source": [
    "## Datasets and Dataset Group"
   ]
  },
  {
   "cell_type": "code",
   "execution_count": 44,
   "metadata": {},
   "outputs": [],
   "source": [
    "util.delete_dataset_group(dataset_group_arn, forecast)\n",
    "# util.delete_dataset_group(\"arn:aws:forecast:us-east-1:275279264324:dataset-group/mac_training_rivn_forecast_2\", forecast)\n",
    "# util.delete_predictors(\"arn:aws:forecast:us-east-1:275279264324:dataset-group/mac_training_rivn_forecast_2\", forecast)"
   ]
  },
  {
   "cell_type": "code",
   "execution_count": null,
   "metadata": {},
   "outputs": [],
   "source": []
  }
 ],
 "metadata": {
  "kernelspec": {
   "display_name": "conda_python3",
   "language": "python",
   "name": "conda_python3"
  },
  "language_info": {
   "codemirror_mode": {
    "name": "ipython",
    "version": 3
   },
   "file_extension": ".py",
   "mimetype": "text/x-python",
   "name": "python",
   "nbconvert_exporter": "python",
   "pygments_lexer": "ipython3",
   "version": "3.10.14"
  }
 },
 "nbformat": 4,
 "nbformat_minor": 4
}
